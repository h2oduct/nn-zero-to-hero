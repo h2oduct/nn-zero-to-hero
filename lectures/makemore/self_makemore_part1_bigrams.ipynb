{
 "cells": [
  {
   "cell_type": "markdown",
   "id": "dfe9034f-c088-440b-8111-1c7d0da32d1d",
   "metadata": {},
   "source": [
    "### makemore: lect01"
   ]
  },
  {
   "cell_type": "markdown",
   "id": "1539557f-496e-48a2-9a48-212a09656eda",
   "metadata": {},
   "source": [
    "#### day0: \n",
    "- beg 20240227-061500\n",
    "- end 20240227-073000"
   ]
  },
  {
   "cell_type": "code",
   "execution_count": 14,
   "id": "2c2632ea-6176-4f78-9b2c-a0639705cdf2",
   "metadata": {},
   "outputs": [],
   "source": [
    "words = open(\"names.txt\", \"r\").read().splitlines()"
   ]
  },
  {
   "cell_type": "code",
   "execution_count": 15,
   "id": "2e34908e-fd4b-4602-9cf4-c9896576fcb0",
   "metadata": {},
   "outputs": [
    {
     "data": {
      "text/plain": [
       "['emma',\n",
       " 'olivia',\n",
       " 'ava',\n",
       " 'isabella',\n",
       " 'sophia',\n",
       " 'charlotte',\n",
       " 'mia',\n",
       " 'amelia',\n",
       " 'harper',\n",
       " 'evelyn']"
      ]
     },
     "execution_count": 15,
     "metadata": {},
     "output_type": "execute_result"
    }
   ],
   "source": [
    "words[:10]"
   ]
  },
  {
   "cell_type": "code",
   "execution_count": null,
   "id": "ca9bffc0-80d7-4a9e-8faf-0803ce73459e",
   "metadata": {},
   "outputs": [],
   "source": []
  },
  {
   "cell_type": "code",
   "execution_count": null,
   "id": "79807d25-adf0-4e50-9c22-f30a1d4b37e1",
   "metadata": {},
   "outputs": [],
   "source": []
  },
  {
   "cell_type": "code",
   "execution_count": 16,
   "id": "bb070f08-3cf0-4263-9d42-a0a4080f4902",
   "metadata": {},
   "outputs": [
    {
     "name": "stdout",
     "output_type": "stream",
     "text": [
      "--------------------------------------------------------------------------------\n",
      "<S> e\n",
      "e m\n",
      "m m\n",
      "m a\n",
      "a E\n",
      "--------------------------------------------------------------------------------\n",
      "<S> o\n",
      "o l\n",
      "l i\n",
      "i v\n",
      "v i\n",
      "i a\n",
      "a E\n",
      "--------------------------------------------------------------------------------\n",
      "<S> a\n",
      "a v\n",
      "v a\n",
      "a E\n"
     ]
    }
   ],
   "source": [
    "b = {}\n",
    "for w in words[:3]:\n",
    "    print(\"-\" * 80)\n",
    "    chs = [\"<S>\"] + list(w) + [\"E\"]\n",
    "    for ch1, ch2 in zip(chs, chs[1:]):\n",
    "        bigram = (ch1, ch2)\n",
    "        b[bigram] = b.get(bigram, 0) + 1\n",
    "        print(ch1, ch2)"
   ]
  },
  {
   "cell_type": "code",
   "execution_count": 17,
   "id": "e69b34f1-3333-407f-a539-c0f728b18daa",
   "metadata": {
    "scrolled": true
   },
   "outputs": [
    {
     "data": {
      "text/plain": [
       "{('<S>', 'e'): 1,\n",
       " ('e', 'm'): 1,\n",
       " ('m', 'm'): 1,\n",
       " ('m', 'a'): 1,\n",
       " ('a', 'E'): 3,\n",
       " ('<S>', 'o'): 1,\n",
       " ('o', 'l'): 1,\n",
       " ('l', 'i'): 1,\n",
       " ('i', 'v'): 1,\n",
       " ('v', 'i'): 1,\n",
       " ('i', 'a'): 1,\n",
       " ('<S>', 'a'): 1,\n",
       " ('a', 'v'): 1,\n",
       " ('v', 'a'): 1}"
      ]
     },
     "execution_count": 17,
     "metadata": {},
     "output_type": "execute_result"
    }
   ],
   "source": [
    "b"
   ]
  },
  {
   "cell_type": "markdown",
   "id": "12fc939c-e4d9-4046-9afa-8abc1adcc609",
   "metadata": {},
   "source": [
    "get all counts "
   ]
  },
  {
   "cell_type": "code",
   "execution_count": 18,
   "id": "4f80baf6-8f8a-4e19-8310-1d128eac234f",
   "metadata": {},
   "outputs": [],
   "source": [
    "b = {}\n",
    "for w in words:\n",
    "    chs = [\"<S>\"] + list(w) + [\"E\"]\n",
    "    for ch1, ch2 in zip(chs, chs[1:]):\n",
    "        bigram = (ch1, ch2)\n",
    "        b[bigram] = b.get(bigram, 0) + 1"
   ]
  },
  {
   "cell_type": "code",
   "execution_count": 19,
   "id": "f42a0bc0-06a2-4694-932f-c283db7fb341",
   "metadata": {},
   "outputs": [
    {
     "data": {
      "text/plain": [
       "[(('n', 'E'), 6763),\n",
       " (('a', 'E'), 6640),\n",
       " (('a', 'n'), 5438),\n",
       " (('<S>', 'a'), 4410),\n",
       " (('e', 'E'), 3983),\n",
       " (('a', 'r'), 3264),\n",
       " (('e', 'l'), 3248),\n",
       " (('r', 'i'), 3033),\n",
       " (('n', 'a'), 2977),\n",
       " (('<S>', 'k'), 2963)]"
      ]
     },
     "execution_count": 19,
     "metadata": {},
     "output_type": "execute_result"
    }
   ],
   "source": [
    "sorted(b.items(), key=lambda u: -u[1])[:10]"
   ]
  },
  {
   "cell_type": "code",
   "execution_count": null,
   "id": "a844826a-c4b0-4898-93c2-dc457af801d1",
   "metadata": {},
   "outputs": [],
   "source": []
  },
  {
   "cell_type": "code",
   "execution_count": 2,
   "id": "c866b43d-55fc-4216-997c-323fb59e69aa",
   "metadata": {},
   "outputs": [],
   "source": [
    "import torch"
   ]
  },
  {
   "cell_type": "code",
   "execution_count": 4,
   "id": "e9d3a899-9fc1-4ee0-9445-fb909d9d4456",
   "metadata": {},
   "outputs": [],
   "source": [
    "a = torch.zeros((3, 5))"
   ]
  },
  {
   "cell_type": "code",
   "execution_count": 5,
   "id": "c749d1ad-d351-4460-bbef-56e3c9b32c03",
   "metadata": {},
   "outputs": [
    {
     "data": {
      "text/plain": [
       "tensor([[0., 0., 0., 0., 0.],\n",
       "        [0., 0., 0., 0., 0.],\n",
       "        [0., 0., 0., 0., 0.]])"
      ]
     },
     "execution_count": 5,
     "metadata": {},
     "output_type": "execute_result"
    }
   ],
   "source": [
    "a"
   ]
  },
  {
   "cell_type": "code",
   "execution_count": 7,
   "id": "e618bdf6-3e67-45b5-9356-c2eb7ef736e7",
   "metadata": {},
   "outputs": [
    {
     "data": {
      "text/plain": [
       "torch.float32"
      ]
     },
     "execution_count": 7,
     "metadata": {},
     "output_type": "execute_result"
    }
   ],
   "source": [
    "a.dtype"
   ]
  },
  {
   "cell_type": "code",
   "execution_count": 8,
   "id": "ae90aa2a-aa94-4db5-896e-fee490e74aa9",
   "metadata": {},
   "outputs": [],
   "source": [
    "a = torch.zeros((3, 5), dtype=torch.int32)"
   ]
  },
  {
   "cell_type": "code",
   "execution_count": 9,
   "id": "06832f5d-d73a-4a31-a097-70f517bd42d8",
   "metadata": {},
   "outputs": [
    {
     "data": {
      "text/plain": [
       "tensor([[0, 0, 0, 0, 0],\n",
       "        [0, 0, 0, 0, 0],\n",
       "        [0, 0, 0, 0, 0]], dtype=torch.int32)"
      ]
     },
     "execution_count": 9,
     "metadata": {},
     "output_type": "execute_result"
    }
   ],
   "source": [
    "a"
   ]
  },
  {
   "cell_type": "code",
   "execution_count": 11,
   "id": "c1f8c558-b9ad-4399-972a-05ac6d9e112c",
   "metadata": {},
   "outputs": [],
   "source": [
    "a[1, 3] = 1"
   ]
  },
  {
   "cell_type": "code",
   "execution_count": 12,
   "id": "820c913b-4e45-4d9d-afdc-d345a3347634",
   "metadata": {},
   "outputs": [
    {
     "data": {
      "text/plain": [
       "tensor([[0, 0, 0, 0, 0],\n",
       "        [0, 0, 0, 1, 0],\n",
       "        [0, 0, 0, 0, 0]], dtype=torch.int32)"
      ]
     },
     "execution_count": 12,
     "metadata": {},
     "output_type": "execute_result"
    }
   ],
   "source": [
    "a"
   ]
  },
  {
   "cell_type": "code",
   "execution_count": 20,
   "id": "2882ecc5-1d79-402b-bd77-17c11682c7e2",
   "metadata": {},
   "outputs": [],
   "source": [
    "a[1, 3] += 1"
   ]
  },
  {
   "cell_type": "code",
   "execution_count": 21,
   "id": "87603127-b93f-484b-9a4b-4c4c0d8aa710",
   "metadata": {},
   "outputs": [
    {
     "data": {
      "text/plain": [
       "tensor([[0, 0, 0, 0, 0],\n",
       "        [0, 0, 0, 2, 0],\n",
       "        [0, 0, 0, 0, 0]], dtype=torch.int32)"
      ]
     },
     "execution_count": 21,
     "metadata": {},
     "output_type": "execute_result"
    }
   ],
   "source": [
    "a"
   ]
  },
  {
   "cell_type": "code",
   "execution_count": 28,
   "id": "fb7af22f-47b8-41e7-83ba-7a71bbec97c3",
   "metadata": {},
   "outputs": [],
   "source": [
    "# counts\n",
    "N = torch.zeros((28, 28), dtype=torch.int32)"
   ]
  },
  {
   "cell_type": "code",
   "execution_count": 33,
   "id": "46e71b00-1473-4fc7-8a46-5397e86a71fd",
   "metadata": {},
   "outputs": [
    {
     "data": {
      "text/plain": [
       "['a', 'b', 'c', 'd', 'e', 'f', 'g', 'h', 'i', 'j']"
      ]
     },
     "execution_count": 33,
     "metadata": {},
     "output_type": "execute_result"
    }
   ],
   "source": [
    "sorted(list(set(\"\".join(words))))[:10]"
   ]
  },
  {
   "cell_type": "code",
   "execution_count": 41,
   "id": "6609cba9-f645-4c0e-8332-032a6b473f5a",
   "metadata": {},
   "outputs": [],
   "source": [
    "chars = sorted(list(set(\"\".join(words))))\n",
    "stoi = {s: i for i, s in enumerate(chars)}\n",
    "stoi[\"<S>\"] = 26\n",
    "stoi[\"<E>\"] = 27"
   ]
  },
  {
   "cell_type": "code",
   "execution_count": 42,
   "id": "f217fb6f-05a0-47f7-b244-15045ff42437",
   "metadata": {},
   "outputs": [
    {
     "data": {
      "text/plain": [
       "{'a': 0,\n",
       " 'b': 1,\n",
       " 'c': 2,\n",
       " 'd': 3,\n",
       " 'e': 4,\n",
       " 'f': 5,\n",
       " 'g': 6,\n",
       " 'h': 7,\n",
       " 'i': 8,\n",
       " 'j': 9,\n",
       " 'k': 10,\n",
       " 'l': 11,\n",
       " 'm': 12,\n",
       " 'n': 13,\n",
       " 'o': 14,\n",
       " 'p': 15,\n",
       " 'q': 16,\n",
       " 'r': 17,\n",
       " 's': 18,\n",
       " 't': 19,\n",
       " 'u': 20,\n",
       " 'v': 21,\n",
       " 'w': 22,\n",
       " 'x': 23,\n",
       " 'y': 24,\n",
       " 'z': 25,\n",
       " '<S>': 26,\n",
       " '<E>': 27}"
      ]
     },
     "execution_count": 42,
     "metadata": {},
     "output_type": "execute_result"
    }
   ],
   "source": [
    "stoi"
   ]
  },
  {
   "cell_type": "code",
   "execution_count": 46,
   "id": "5a31f502-5ce8-427d-966b-90e50dd6e114",
   "metadata": {},
   "outputs": [],
   "source": [
    "# # counts\n",
    "# N = torch.zeros((28, 28), dtype=torch.int32)\n",
    "for w in words:\n",
    "    chs = [\"<S>\"] + list(w) + [\"<E>\"]\n",
    "    for ch1, ch2 in zip(chs, chs[1:]):\n",
    "        ix1, ix2 = stoi[ch1], stoi[ch2]\n",
    "        N[(ix1, ix2)] += 1"
   ]
  },
  {
   "cell_type": "code",
   "execution_count": 47,
   "id": "32377777-ffc2-4b22-a98a-b6e11c886c51",
   "metadata": {},
   "outputs": [
    {
     "data": {
      "text/plain": [
       "tensor([[ 1112,  1082,   940,  2084,  1384,   268,   336,  4664,  3300,   350,\n",
       "          1136,  5056,  3268, 10876,   126,   164,   120,  6528,  2236,  1374,\n",
       "           762,  1668,   322,   364,  4100,   870,     0, 13280],\n",
       "        [  642,    76,     2,   130,  1310,     0,     0,    82,   434,     2,\n",
       "             0,   206,     0,     8,   210,     0,     0,  1684,    16,     4,\n",
       "            90,     0,     0,     0,   166,     0,     0,   228],\n",
       "        [ 1630,     0,    84,     2,  1102,     0,     4,  1328,   542,     6,\n",
       "           632,   232,     0,     0,   760,     2,    22,   152,    10,    70,\n",
       "            70,     0,     0,     6,   208,     8,     0,   194],\n",
       "        [ 2606,     2,     6,   298,  2566,    10,    50,   236,  1348,    18,\n",
       "             6,   120,    60,    62,   756,     0,     2,   848,    58,     8,\n",
       "           184,    34,    46,     0,   634,     2,     0,  1032],\n",
       "        [ 1358,   242,   306,   768,  2542,   164,   250,   304,  1636,   110,\n",
       "           356,  6496,  1539,  5350,   538,   166,    28,  3916,  1722,  1160,\n",
       "           138,   926,   100,   264,  2140,   362,     0,  7966],\n",
       "        [  484,     0,     0,     0,   246,    88,     2,     2,   320,     0,\n",
       "             4,    40,     0,     8,   120,     0,     0,   228,    12,    36,\n",
       "            20,     0,     8,     0,    28,     4,     0,   160],\n",
       "        [  660,     6,     0,    38,   668,     2,    50,   720,   380,     6,\n",
       "             0,    64,    12,    54,   166,     0,     0,   402,    60,    62,\n",
       "           170,     2,    52,     0,    62,     2,     0,   216],\n",
       "        [ 4488,    16,     4,    48,  1348,     4,     4,     2,  1458,    18,\n",
       "            58,   370,   234,   276,   574,     2,     2,   408,    62,   142,\n",
       "           332,    78,    20,     0,   426,    40,     0,  4818],\n",
       "        [ 4890,   220,  1018,   880,  3306,   202,   856,   190,   164,   152,\n",
       "           890,  2690,   854,  4252,  1176,   106,   104,  1698,  2632,  1082,\n",
       "           218,   538,    16,   178,  1558,   554,     0,  4978],\n",
       "        [ 2946,     2,     8,     8,   880,     0,     0,    90,   238,     4,\n",
       "             4,    18,    10,     4,   958,     2,     0,    22,    14,     4,\n",
       "           404,    10,    12,     0,    20,     0,     0,   142],\n",
       "        [ 3462,     4,     4,     4,  1790,     2,     0,   614,  1018,     4,\n",
       "            40,   278,    18,    52,   688,     0,     0,   218,   190,    34,\n",
       "           100,     4,    68,     0,   758,     4,     0,   726],\n",
       "        [ 5246,   104,    50,   276,  5842,    44,    12,    38,  4960,    12,\n",
       "            48,  2690,   120,    28,  1384,    30,     6,    36,   188,   154,\n",
       "           648,   144,    32,     0,  3176,    20,     0,  2628],\n",
       "        [ 5181,   224,   102,    48,  1636,     2,     0,    10,  2512,    14,\n",
       "             2,    10,   337,    40,   904,    76,     0,   194,    70,     8,\n",
       "           278,     6,     4,     0,   574,    22,     0,  1032],\n",
       "        [ 5954,    16,   426,  1408,  2718,    22,   546,    52,  3450,    88,\n",
       "           116,   390,    38,  3812,   992,    10,     4,    88,   556,   886,\n",
       "           192,   110,    22,    12,   930,   290,     0, 13526],\n",
       "        [  298,   280,   228,   380,   264,    68,    88,   342,   138,    32,\n",
       "           136,  1238,   522,  4822,   230,   190,     6,  2118,  1008,   236,\n",
       "           550,   352,   228,    90,   206,   108,     0,  1710],\n",
       "        [  418,     4,     2,     0,   394,     2,     0,   408,   122,     2,\n",
       "             2,    32,     2,     2,   118,    78,     0,   302,    32,    34,\n",
       "             8,     0,     0,     0,    24,     0,     0,    66],\n",
       "        [   26,     0,     0,     0,     2,     0,     0,     0,    26,     0,\n",
       "             0,     2,     4,     0,     4,     0,     0,     2,     4,     0,\n",
       "           412,     0,     6,     0,     0,     0,     0,    56],\n",
       "        [ 4712,    82,   198,   374,  3394,    18,   152,   242,  6066,    50,\n",
       "           180,   826,   324,   280,  1738,    28,    32,   850,   380,   416,\n",
       "           504,   160,    42,     6,  1546,    46,     0,  2754],\n",
       "        [ 2402,    42,   120,    18,  1768,     4,     4,  2570,  1368,     4,\n",
       "           164,   558,   180,    48,  1062,   102,     2,   110,   922,  1530,\n",
       "           370,    28,    48,     0,   430,    20,     0,  2338],\n",
       "        [ 2054,     2,    34,     0,  1432,     4,     4,  1294,  1064,     6,\n",
       "             0,   268,     8,    44,  1334,     0,     0,   704,    70,   748,\n",
       "           156,    30,    22,     4,   682,   210,     0,   966],\n",
       "        [  326,   206,   206,   272,   338,    38,    94,   116,   242,    28,\n",
       "           186,   602,   308,   550,    20,    32,    20,   828,   948,   164,\n",
       "             6,    74,   172,    68,    26,    90,     0,   310],\n",
       "        [ 1284,     2,     0,     2,  1136,     0,     0,     2,  1822,     0,\n",
       "             6,    28,     0,    16,   306,     0,     0,    96,     0,     0,\n",
       "            14,    14,     0,     0,   242,     0,     0,   176],\n",
       "        [  560,     2,     0,    16,   298,     4,     2,    46,   296,     0,\n",
       "            12,    26,     4,   116,    72,     0,     0,    44,    40,    16,\n",
       "            50,     0,     4,     0,   146,     2,     0,   102],\n",
       "        [  206,     2,     8,    10,    72,     6,     0,     2,   204,     0,\n",
       "             0,    78,     2,     2,    82,     0,     0,     0,    62,   140,\n",
       "            10,     0,     6,    76,    60,    38,     0,   328],\n",
       "        [ 4286,    54,   230,   544,   602,    24,    60,    44,   384,    46,\n",
       "           172,  2208,   296,  3652,   542,    30,    12,   582,   802,   208,\n",
       "           282,   212,     8,    56,    46,   156,     0,  4014],\n",
       "        [ 1720,     8,     4,     4,   746,     0,     2,    86,   728,     4,\n",
       "             4,   246,    70,     8,   220,     4,     0,    64,     8,     8,\n",
       "           146,     4,     6,     2,   294,    90,     0,   320],\n",
       "        [ 8820,  2612,  3084,  3380,  3063,   834,  1338,  1748,  1182,  4844,\n",
       "          5926,  3144,  5076,  2292,   788,  1030,   184,  3278,  4110,  2616,\n",
       "           156,   752,   614,   268,  1070,  1858,     0,     0],\n",
       "        [    0,     0,     0,     0,     0,     0,     0,     0,     0,     0,\n",
       "             0,     0,     0,     0,     0,     0,     0,     0,     0,     0,\n",
       "             0,     0,     0,     0,     0,     0,     0,     0]],\n",
       "       dtype=torch.int32)"
      ]
     },
     "execution_count": 47,
     "metadata": {},
     "output_type": "execute_result"
    }
   ],
   "source": [
    "N"
   ]
  },
  {
   "cell_type": "code",
   "execution_count": 55,
   "id": "635b8346-19b6-4b91-8366-6f4262e68606",
   "metadata": {},
   "outputs": [],
   "source": [
    "import matplotlib.pyplot as plt\n",
    "%matplotlib inline"
   ]
  },
  {
   "cell_type": "code",
   "execution_count": 56,
   "id": "fac53eb8-2071-436f-99e5-9fdd0c6d5d0a",
   "metadata": {},
   "outputs": [
    {
     "data": {
      "text/plain": [
       "<matplotlib.image.AxesImage at 0x7f4e1535bc90>"
      ]
     },
     "execution_count": 56,
     "metadata": {},
     "output_type": "execute_result"
    },
    {
     "data": {
      "image/png": "[encoded data removed]",
      "text/plain": [
       "<Figure size 640x480 with 1 Axes>"
      ]
     },
     "metadata": {},
     "output_type": "display_data"
    }
   ],
   "source": [
    "plt.imshow(N)"
   ]
  },
  {
   "cell_type": "code",
   "execution_count": null,
   "id": "4ffdd804-bd74-4a0f-aae8-a4f58f66d051",
   "metadata": {},
   "outputs": [],
   "source": []
  }
 ],
 "metadata": {
  "kernelspec": {
   "display_name": "Python 3 (ipykernel)",
   "language": "python",
   "name": "python3"
  },
  "language_info": {
   "codemirror_mode": {
    "name": "ipython",
    "version": 3
   },
   "file_extension": ".py",
   "mimetype": "text/x-python",
   "name": "python",
   "nbconvert_exporter": "python",
   "pygments_lexer": "ipython3",
   "version": "3.11.7"
  }
 },
 "nbformat": 4,
 "nbformat_minor": 5
}
