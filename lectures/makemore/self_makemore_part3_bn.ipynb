{
 "cells": [
  {
   "cell_type": "markdown",
   "id": "881282e2-b034-4d09-bc98-97992195ccb4",
   "metadata": {},
   "source": [
    "### makemore: lect03"
   ]
  },
  {
   "cell_type": "markdown",
   "id": "28bf6f03-63a9-45e7-af95-610638eea665",
   "metadata": {},
   "source": [
    "\n",
    "### day14\n",
    "\n",
    "- 202403120630--202403120800\n",
    "- 202403122000--202403122100\n",
    "\n",
    "### day 15\n",
    "- 202403130845--202403131200\n",
    "  \n",
    "### day 16\n",
    "- 202403140630--202403140800\n",
    "\n",
    "### day 17\n",
    "- 202403152100--202403152130\n",
    "\n",
    "\n",
    "### day 18\n",
    "- 202403161300--202403161500\n",
    "\n",
    "  \n",
    "### day 19\n",
    "- 202403170900--202403171215\n",
    "- "
   ]
  },
  {
   "cell_type": "code",
   "execution_count": 1,
   "id": "e1b9b2ad-4271-410e-8e45-1becc1577c63",
   "metadata": {},
   "outputs": [],
   "source": [
    "import torch\n",
    "import torch.nn.functional as F\n",
    "import matplotlib.pyplot as plt\n",
    "%matplotlib inline\n",
    "\n",
    "from typing import List, Any"
   ]
  },
  {
   "cell_type": "markdown",
   "id": "4781e9ea-2a9f-4ee4-8454-05c0d30432ee",
   "metadata": {},
   "source": [
    "### Constants"
   ]
  },
  {
   "cell_type": "code",
   "execution_count": 2,
   "id": "9ffa18d3-cc30-4f5d-8ebd-78eb6e4c0c37",
   "metadata": {},
   "outputs": [],
   "source": [
    "RANDOM_SEED = 10\n",
    "NUM_BLOCKS = 3\n",
    "NUM_DIM_CHARS = 2\n",
    "NUM_HIDDEN = 20"
   ]
  },
  {
   "cell_type": "markdown",
   "id": "15eb4a44-dcde-4695-9ce7-2d054c8db5da",
   "metadata": {},
   "source": [
    "### Random Generator"
   ]
  },
  {
   "cell_type": "code",
   "execution_count": 3,
   "id": "89d72902-36c2-4caa-b39c-76c3c4884592",
   "metadata": {},
   "outputs": [],
   "source": [
    "import random\n",
    "import numpy as np\n",
    "\n",
    "rand_gen = torch.Generator().manual_seed(RANDOM_SEED)\n",
    "RAND_GEN = rand_gen\n",
    "\n",
    "torch.manual_seed(RANDOM_SEED)\n",
    "random.seed(RANDOM_SEED)\n",
    "np.random.seed(RANDOM_SEED)"
   ]
  },
  {
   "cell_type": "markdown",
   "id": "88cbf0e8-8a35-4e5a-beed-6a7dfd2880cc",
   "metadata": {},
   "source": [
    "### Read File"
   ]
  },
  {
   "cell_type": "code",
   "execution_count": 4,
   "id": "6f0ec892-6413-472e-b504-36196138b957",
   "metadata": {},
   "outputs": [
    {
     "data": {
      "text/plain": [
       "(32033, ['emma', 'olivia', 'ava', 'isabella', 'sophia'])"
      ]
     },
     "execution_count": 4,
     "metadata": {},
     "output_type": "execute_result"
    }
   ],
   "source": [
    "words = open(\"names.txt\").read().splitlines()\n",
    "len(words), words[:5]"
   ]
  },
  {
   "cell_type": "markdown",
   "id": "cd340835-ef13-4c2d-a575-a04bbc333e7e",
   "metadata": {},
   "source": [
    "### Make Mappings: `chr -> int` and `int -> chr`"
   ]
  },
  {
   "cell_type": "code",
   "execution_count": 5,
   "id": "1c124786-03ed-44d6-88ab-7a89865c5b8a",
   "metadata": {},
   "outputs": [
    {
     "data": {
      "text/plain": [
       "(97, 122, 26, 'a', 'z')"
      ]
     },
     "execution_count": 5,
     "metadata": {},
     "output_type": "execute_result"
    }
   ],
   "source": [
    "ord(\"a\"), ord(\"z\"), ord(\"z\") - ord(\"a\") + 1, chr(ord(\"a\")), chr(ord(\"z\"))"
   ]
  },
  {
   "cell_type": "code",
   "execution_count": 6,
   "id": "aca4e3b1-913a-457c-88cf-de5b998ac41f",
   "metadata": {},
   "outputs": [],
   "source": [
    "itos = {i - ord(\"a\") + 1: chr(i) for i in range(ord(\"a\"), ord(\"z\") + 1)}\n",
    "itos[0] = \".\"\n",
    "\n",
    "stoi = {s: i for i, s in itos.items()}\n",
    "\n",
    "# stoi\n",
    "# itos"
   ]
  },
  {
   "cell_type": "code",
   "execution_count": 7,
   "id": "681fa387-4fa5-43be-a7f6-26a7dfebe742",
   "metadata": {},
   "outputs": [
    {
     "data": {
      "text/plain": [
       "['a', 'b', 'c', 'd', 'e', 'f', 'g', 'h', 'i', 'j']"
      ]
     },
     "execution_count": 7,
     "metadata": {},
     "output_type": "execute_result"
    }
   ],
   "source": [
    "chars = sorted(list(set(\"\".join(words))))\n",
    "chars[:10]"
   ]
  },
  {
   "cell_type": "code",
   "execution_count": 8,
   "id": "6edfb969-b60b-46ff-aeeb-d275ed58de94",
   "metadata": {},
   "outputs": [],
   "source": [
    "stoi = {s: i + 1 for i, s in enumerate(chars)}\n",
    "stoi[\".\"] = 0\n",
    "itos = {i: s for s, i in stoi.items()}"
   ]
  },
  {
   "cell_type": "markdown",
   "id": "ec60defb-7bbc-4928-bb51-504a8c15adce",
   "metadata": {},
   "source": [
    "### Get Data"
   ]
  },
  {
   "cell_type": "code",
   "execution_count": 9,
   "id": "fe80c8c4-52da-4a00-9a5e-d0fba9579891",
   "metadata": {},
   "outputs": [],
   "source": [
    "def get_data(words: List[str], num_blocks: int = 3, stoi=stoi) -> (List[torch.tensor], List[torch.tensor]):\n",
    "    \"\"\"get data\"\"\"\n",
    "\n",
    "    X, Y = [], []\n",
    "\n",
    "\n",
    "    ### tese lines are for testing:\n",
    "    # for word in words[:5]:\n",
    "        # print(\"-\" * 80)\n",
    "\n",
    "    for word in words:\n",
    "        context = [0] * num_blocks\n",
    "        for ch in word + \".\":\n",
    "            i = stoi[ch]\n",
    "            # append the current char ch, i.e. the index i into Y;\n",
    "            # at the same time append the current context into X;\n",
    "            # (the context up to now) contains letters that preeced the char ch\n",
    "            # print(\" \".join((itos[ix] for ix in context)), \"--->\", ch)\n",
    "            X.append(context)\n",
    "            Y.append(i)\n",
    "            context = context[1: ] + [i]\n",
    "           \n",
    "\n",
    "    X = torch.tensor(X)\n",
    "    Y = torch.tensor(Y)\n",
    "    return X, Y"
   ]
  },
  {
   "cell_type": "code",
   "execution_count": 10,
   "id": "3cb05f04-a228-4879-9580-93c17110b11f",
   "metadata": {},
   "outputs": [
    {
     "data": {
      "text/plain": [
       "(tensor([[ 0,  0,  0],\n",
       "         [ 0,  0,  5],\n",
       "         [ 0,  5, 13],\n",
       "         ...,\n",
       "         [26, 26, 25],\n",
       "         [26, 25, 26],\n",
       "         [25, 26, 24]]),\n",
       " tensor([ 5, 13, 13,  ..., 26, 24,  0]))"
      ]
     },
     "execution_count": 10,
     "metadata": {},
     "output_type": "execute_result"
    }
   ],
   "source": [
    "get_data(words)"
   ]
  },
  {
   "cell_type": "code",
   "execution_count": 11,
   "id": "95f8e168-8b80-4966-8498-d20b2d43819f",
   "metadata": {
    "scrolled": true
   },
   "outputs": [],
   "source": [
    "num_blocks = NUM_BLOCKS\n",
    "X, Y = get_data(words, num_blocks=num_blocks)"
   ]
  },
  {
   "cell_type": "code",
   "execution_count": 12,
   "id": "2b9a36ba-227f-4bf4-b522-27a8b418dc67",
   "metadata": {},
   "outputs": [
    {
     "data": {
      "text/plain": [
       "tensor([[ 0,  0,  0],\n",
       "        [ 0,  0,  5],\n",
       "        [ 0,  5, 13],\n",
       "        [ 5, 13, 13],\n",
       "        [13, 13,  1],\n",
       "        [ 0,  0,  0],\n",
       "        [ 0,  0, 15],\n",
       "        [ 0, 15, 12],\n",
       "        [15, 12,  9],\n",
       "        [12,  9, 22]])"
      ]
     },
     "execution_count": 12,
     "metadata": {},
     "output_type": "execute_result"
    }
   ],
   "source": [
    "X[:10]"
   ]
  },
  {
   "cell_type": "code",
   "execution_count": 13,
   "id": "072e720e-e0fa-43d2-84f7-1ba47340ddee",
   "metadata": {},
   "outputs": [
    {
     "data": {
      "text/plain": [
       "tensor([ 5, 13, 13,  1,  0, 15, 12,  9, 22,  9])"
      ]
     },
     "execution_count": 13,
     "metadata": {},
     "output_type": "execute_result"
    }
   ],
   "source": [
    "Y[:10]"
   ]
  },
  {
   "cell_type": "code",
   "execution_count": null,
   "id": "dee258fe-f937-4333-b532-d92229366e02",
   "metadata": {},
   "outputs": [],
   "source": []
  },
  {
   "cell_type": "markdown",
   "id": "5ac45397-668b-4c28-953e-c6c7ff62c6e9",
   "metadata": {},
   "source": [
    "### Split Data: `train`, `val/dev`, and `test`"
   ]
  },
  {
   "cell_type": "code",
   "execution_count": 14,
   "id": "f35e9765-852e-4652-a2c8-5edfe62d6f4e",
   "metadata": {},
   "outputs": [
    {
     "data": {
      "text/plain": [
       "(torch.Size([228146, 3]), 228146)"
      ]
     },
     "execution_count": 14,
     "metadata": {},
     "output_type": "execute_result"
    }
   ],
   "source": [
    "X.shape, X.shape[0]"
   ]
  },
  {
   "cell_type": "code",
   "execution_count": 15,
   "id": "2a3bcc70-f974-449e-8ff8-977dd4033dc6",
   "metadata": {},
   "outputs": [
    {
     "data": {
      "text/plain": [
       "(torch.Size([228146]), 228146)"
      ]
     },
     "execution_count": 15,
     "metadata": {},
     "output_type": "execute_result"
    }
   ],
   "source": [
    "Y.shape, Y.shape[0]"
   ]
  },
  {
   "cell_type": "code",
   "execution_count": 16,
   "id": "24ab8c9d-1ee3-42d0-b288-7c9fe7b5896a",
   "metadata": {},
   "outputs": [
    {
     "data": {
      "text/plain": [
       "tensor([117017,  81926, 152774,   8097, 220660,  38770, 226753, 147220, 224337,\n",
       "        175417])"
      ]
     },
     "execution_count": 16,
     "metadata": {},
     "output_type": "execute_result"
    }
   ],
   "source": [
    "indexes = torch.randperm(X.shape[0], generator=rand_gen)\n",
    "indexes[:10]"
   ]
  },
  {
   "cell_type": "code",
   "execution_count": 17,
   "id": "b6af5db7-a9d7-4bd5-8bb6-cb500bbc1904",
   "metadata": {},
   "outputs": [
    {
     "data": {
      "text/plain": [
       "tensor([184694,  31158,  21725,  15842,   3894,  75184,  50599, 156241, 116075,\n",
       "         47106])"
      ]
     },
     "execution_count": 17,
     "metadata": {},
     "output_type": "execute_result"
    }
   ],
   "source": [
    "# this list changes over time?!\n",
    "torch.randperm(X.shape[0], generator=rand_gen)[:10]"
   ]
  },
  {
   "cell_type": "code",
   "execution_count": 18,
   "id": "d0bcc3d8-99cb-4fc9-ad3b-0f12687c6b37",
   "metadata": {},
   "outputs": [],
   "source": [
    "def split_data(X, y, split=0.8):\n",
    "    \n",
    "    \"\"\"split data into train, val, and test sets\"\"\"\n",
    "    \n",
    "    assert X.shape[0] == y.shape[0], \"input data X and Y sizes do not match.\"\n",
    "    assert (0 < split and split < 1), \"the split for training data should be within (0, 1).\"\n",
    "    \n",
    "    len_data = X.shape[0]\n",
    "    shuffled_indices = torch.randperm(X.shape[0], generator=rand_gen)\n",
    "\n",
    "    len_train = int(split * len_data)\n",
    "    len_val = (len_data - len_train) // 2\n",
    "    len_test = len_data - len_train - len_val\n",
    "    \n",
    "    \n",
    "    X_train = X[shuffled_indices][:len_train]\n",
    "    X_val = X[shuffled_indices][len_train: len_train + len_val]\n",
    "    X_test = X[shuffled_indices][- len_test:]\n",
    "    \n",
    "    y_train = Y[shuffled_indices][:len_train]\n",
    "    y_val = Y[shuffled_indices][len_train: len_train + len_val]\n",
    "    y_test = Y[shuffled_indices][- len_test:]\n",
    "\n",
    "    return X_train, X_val, X_test, y_train, y_val, y_test"
   ]
  },
  {
   "cell_type": "code",
   "execution_count": 19,
   "id": "22b3882d-ff13-4ebb-b6ac-1f0c3d970d92",
   "metadata": {},
   "outputs": [],
   "source": [
    "X_train, X_val, X_test, Y_train, Y_val, Y_test = split_data(X, Y)"
   ]
  },
  {
   "cell_type": "code",
   "execution_count": 20,
   "id": "80747879-d858-4f0d-a947-81052dfaed59",
   "metadata": {},
   "outputs": [
    {
     "data": {
      "text/plain": [
       "(torch.Size([182516, 3]),\n",
       " torch.Size([22815, 3]),\n",
       " torch.Size([22815, 3]),\n",
       " torch.Size([182516]),\n",
       " torch.Size([22815]),\n",
       " torch.Size([22815]))"
      ]
     },
     "execution_count": 20,
     "metadata": {},
     "output_type": "execute_result"
    }
   ],
   "source": [
    "X_train.shape, X_val.shape, X_test.shape, Y_train.shape, Y_val.shape, Y_test.shape"
   ]
  },
  {
   "cell_type": "markdown",
   "id": "8b6f9848-0db7-4f73-8fc8-646c8b2d1b4d",
   "metadata": {},
   "source": [
    "### MLP revisted"
   ]
  },
  {
   "cell_type": "code",
   "execution_count": null,
   "id": "59c58404-abf6-4d65-a8e3-ad262a959eb2",
   "metadata": {},
   "outputs": [],
   "source": []
  },
  {
   "cell_type": "markdown",
   "id": "fd56e886-39b2-4caa-9e92-3812d7e10352",
   "metadata": {},
   "source": [
    "### Develop Model\n",
    "\n",
    "- `C` is a mapping that translates `chars` into a `dim`-dimensional vector space;"
   ]
  },
  {
   "cell_type": "code",
   "execution_count": null,
   "id": "48a42452-2e10-4119-859d-620f29e15650",
   "metadata": {},
   "outputs": [],
   "source": []
  },
  {
   "cell_type": "code",
   "execution_count": 21,
   "id": "4379ef6f-cab7-4105-bd60-41560bff21cb",
   "metadata": {},
   "outputs": [],
   "source": [
    "### given the context X; \n",
    "### we predict the following char given in Y; \n",
    "### and the prediction belongs in one out of 27 classes; \n",
    "### i.e. there are 27 chars as a possibility for it. \n",
    "\n",
    "vocab_size = 27 "
   ]
  },
  {
   "cell_type": "code",
   "execution_count": 431,
   "id": "ef6fbc34-bf65-4bed-bc32-8cd920bc4ae6",
   "metadata": {},
   "outputs": [
    {
     "name": "stdout",
     "output_type": "stream",
     "text": [
      "12297\n"
     ]
    }
   ],
   "source": [
    "# MLP revisted\n",
    "n_embed = 10 # the dimensionality of the char. embedding \n",
    "n_hidden = 200 # the number of neurons in the hidden layers\n",
    "\n",
    "g = torch.Generator().manual_seed(2147483647)\n",
    "C = torch.randn((vocab_size, n_embed), generator=g)\n",
    "W1 = torch.randn((n_embed * num_blocks, n_hidden), generator=g) * (5 /3) / ((n_embed * num_blocks) ** 0.5)\n",
    "b1 = torch.randn(n_hidden, generator=g) * 0.01\n",
    "\n",
    "W2 = torch.randn((n_hidden, vocab_size), generator=g) * 0.2\n",
    "b2 = torch.randn(vocab_size, generator=g) * 0.01\n",
    "\n",
    "bngain = torch.ones((1, n_hidden))\n",
    "bnbias = torch.zeros((1, n_hidden))\n",
    "\n",
    "bnmean_running = torch.zeros((1, n_hidden))\n",
    "bnstd_running = torch.ones((1, n_hidden))\n",
    "\n",
    "parameters = [C, W1, b1, W2, b2, bngain, bnbias]\n",
    "print(sum(p.nelement() for p in parameters)) # number of parameters total\n",
    "for p in parameters:\n",
    "    p.requires_grad = True"
   ]
  },
  {
   "cell_type": "markdown",
   "id": "4017da4b-8aea-4c25-b9d0-7c353fbcaa11",
   "metadata": {},
   "source": [
    "### Pay attention about shapes"
   ]
  },
  {
   "cell_type": "code",
   "execution_count": 432,
   "id": "40cf1862-dd47-421b-9716-b9caddb0d025",
   "metadata": {},
   "outputs": [
    {
     "data": {
      "text/plain": [
       "torch.Size([182516, 200])"
      ]
     },
     "execution_count": 432,
     "metadata": {},
     "output_type": "execute_result"
    }
   ],
   "source": [
    "hpreact.shape"
   ]
  },
  {
   "cell_type": "code",
   "execution_count": 433,
   "id": "a7bd2d2f-86ab-4fd3-96ce-51d66d05fd5a",
   "metadata": {},
   "outputs": [
    {
     "data": {
      "text/plain": [
       "tensor([ 0.1145, -0.1649,  1.1871,  0.3593, -0.0366])"
      ]
     },
     "execution_count": 433,
     "metadata": {},
     "output_type": "execute_result"
    }
   ],
   "source": [
    "torch.randn((5, ), generator=rand_gen)"
   ]
  },
  {
   "cell_type": "code",
   "execution_count": 434,
   "id": "ee1bf84b-0979-48b2-a381-9f9ddcab2ddc",
   "metadata": {},
   "outputs": [
    {
     "data": {
      "text/plain": [
       "tensor([-1.7150,  0.1092,  0.6612,  1.4240,  0.7669])"
      ]
     },
     "execution_count": 434,
     "metadata": {},
     "output_type": "execute_result"
    }
   ],
   "source": [
    "torch.randn(5, generator=rand_gen)"
   ]
  },
  {
   "cell_type": "code",
   "execution_count": 435,
   "id": "7534bc9c-bf91-4daf-83b2-3e94f1958786",
   "metadata": {},
   "outputs": [
    {
     "data": {
      "text/plain": [
       "tensor([[ 0.1661],\n",
       "        [-0.5831],\n",
       "        [ 1.7616],\n",
       "        [ 0.7397],\n",
       "        [ 2.0806]])"
      ]
     },
     "execution_count": 435,
     "metadata": {},
     "output_type": "execute_result"
    }
   ],
   "source": [
    "torch.randn((5, 1), generator=rand_gen)"
   ]
  },
  {
   "cell_type": "markdown",
   "id": "b46f7031-bbd5-45cc-9768-84228feb3971",
   "metadata": {},
   "source": [
    "### Optimization"
   ]
  },
  {
   "cell_type": "code",
   "execution_count": 436,
   "id": "99b403a0-98a7-4ac9-9ad9-2745d375f8ef",
   "metadata": {},
   "outputs": [
    {
     "data": {
      "text/plain": [
       "182516"
      ]
     },
     "execution_count": 436,
     "metadata": {},
     "output_type": "execute_result"
    }
   ],
   "source": [
    "X_train.shape[0]"
   ]
  },
  {
   "cell_type": "code",
   "execution_count": 437,
   "id": "f58a519d-857c-49e5-94e1-991a1444ab4f",
   "metadata": {},
   "outputs": [
    {
     "data": {
      "text/plain": [
       "torch.Size([32, 3])"
      ]
     },
     "execution_count": 437,
     "metadata": {},
     "output_type": "execute_result"
    }
   ],
   "source": [
    "# mini-batch construct\n",
    "batch_size = 32\n",
    "ix = torch.randperm(X_train.shape[0], generator=rand_gen)[:batch_size]\n",
    "# print(i, ix)\n",
    "X_batch, Y_batch = X_train[ix], Y_train[ix]\n",
    "X_batch.shape"
   ]
  },
  {
   "cell_type": "code",
   "execution_count": 438,
   "id": "613962ba-d5b7-420c-b1fc-d95a289939cd",
   "metadata": {},
   "outputs": [
    {
     "data": {
      "text/plain": [
       "torch.Size([32, 3, 10])"
      ]
     },
     "execution_count": 438,
     "metadata": {},
     "output_type": "execute_result"
    }
   ],
   "source": [
    "# C: 27 x 10 \n",
    "# X_batch: 32 x 3 \n",
    "\n",
    "emb = C[X_batch]\n",
    "emb.shape"
   ]
  },
  {
   "cell_type": "code",
   "execution_count": 439,
   "id": "b1709332-0cdd-48d2-ba29-b284d12c9f0b",
   "metadata": {},
   "outputs": [
    {
     "data": {
      "text/plain": [
       "torch.Size([32, 30])"
      ]
     },
     "execution_count": 439,
     "metadata": {},
     "output_type": "execute_result"
    }
   ],
   "source": [
    "emb.view(emb.shape[0], -1).shape"
   ]
  },
  {
   "cell_type": "code",
   "execution_count": 440,
   "id": "e8fb84fc-b55e-44e4-8296-2b35cf399952",
   "metadata": {},
   "outputs": [
    {
     "data": {
      "text/plain": [
       "tensor([[18, 15, 19],\n",
       "        [ 1, 26,  1],\n",
       "        [ 9,  1, 14],\n",
       "        [ 8,  9,  1],\n",
       "        [ 0,  0, 26],\n",
       "        [ 0, 19,  8],\n",
       "        [ 9, 26, 26],\n",
       "        [ 0,  0, 18],\n",
       "        [ 0,  0,  0],\n",
       "        [ 0, 26, 15],\n",
       "        [ 0,  0, 14],\n",
       "        [ 1,  2, 18],\n",
       "        [ 8, 21,  7],\n",
       "        [ 0,  0,  5],\n",
       "        [18,  9, 25],\n",
       "        [15, 19,  5],\n",
       "        [18, 25,  9],\n",
       "        [ 0, 19,  1],\n",
       "        [ 0,  0,  0],\n",
       "        [ 0,  0, 10],\n",
       "        [ 0,  0, 16],\n",
       "        [ 0,  1,  4],\n",
       "        [ 0, 11,  1],\n",
       "        [12, 12,  9],\n",
       "        [ 0,  0,  0],\n",
       "        [13,  9,  5],\n",
       "        [14,  1, 22],\n",
       "        [ 0,  0,  0],\n",
       "        [ 0,  0, 11],\n",
       "        [12, 15, 18],\n",
       "        [ 0,  0,  0],\n",
       "        [ 0,  0, 26]])"
      ]
     },
     "execution_count": 440,
     "metadata": {},
     "output_type": "execute_result"
    }
   ],
   "source": [
    "X_batch"
   ]
  },
  {
   "cell_type": "code",
   "execution_count": 441,
   "id": "4e6911fa-a4f6-4fd2-acb5-73ad85c79331",
   "metadata": {},
   "outputs": [
    {
     "data": {
      "text/plain": [
       "torch.Size([27, 10])"
      ]
     },
     "execution_count": 441,
     "metadata": {},
     "output_type": "execute_result"
    }
   ],
   "source": [
    "C.shape"
   ]
  },
  {
   "cell_type": "code",
   "execution_count": 442,
   "id": "db55b3f1-23ce-41ca-8ce6-25368cdc2df2",
   "metadata": {},
   "outputs": [
    {
     "data": {
      "text/plain": [
       "torch.Size([10])"
      ]
     },
     "execution_count": 442,
     "metadata": {},
     "output_type": "execute_result"
    }
   ],
   "source": [
    "C[0].shape"
   ]
  },
  {
   "cell_type": "code",
   "execution_count": 443,
   "id": "9a31ed33-4791-4480-a110-57474b111b67",
   "metadata": {},
   "outputs": [
    {
     "data": {
      "text/plain": [
       "torch.Size([3, 10])"
      ]
     },
     "execution_count": 443,
     "metadata": {},
     "output_type": "execute_result"
    }
   ],
   "source": [
    "C[X_batch[2]].shape"
   ]
  },
  {
   "cell_type": "code",
   "execution_count": 444,
   "id": "84c6f6e4-9d04-4932-a641-b762674476dc",
   "metadata": {},
   "outputs": [
    {
     "data": {
      "text/plain": [
       "tensor([ 9,  1, 14])"
      ]
     },
     "execution_count": 444,
     "metadata": {},
     "output_type": "execute_result"
    }
   ],
   "source": [
    "X_batch[2]"
   ]
  },
  {
   "cell_type": "code",
   "execution_count": 445,
   "id": "de6ab3ff-a9bc-4ec9-b9d5-68eecf366c60",
   "metadata": {},
   "outputs": [
    {
     "data": {
      "text/plain": [
       "tensor([ 1.5674, -0.2373, -0.0274, -1.1008,  0.2859, -0.0296, -1.5471,  0.6049,\n",
       "         0.0791,  0.9046], grad_fn=<SelectBackward0>)"
      ]
     },
     "execution_count": 445,
     "metadata": {},
     "output_type": "execute_result"
    }
   ],
   "source": [
    "C[0]"
   ]
  },
  {
   "cell_type": "code",
   "execution_count": 446,
   "id": "49516b96-8e2d-444d-8875-2170644b297d",
   "metadata": {},
   "outputs": [
    {
     "data": {
      "text/plain": [
       "tensor([-0.2129,  0.5095,  0.3271,  1.9661, -0.2409, -0.7952,  0.2720, -1.1100,\n",
       "        -0.4528, -0.4958], grad_fn=<SelectBackward0>)"
      ]
     },
     "execution_count": 446,
     "metadata": {},
     "output_type": "execute_result"
    }
   ],
   "source": [
    "C[19]"
   ]
  },
  {
   "cell_type": "code",
   "execution_count": 447,
   "id": "ec5e9984-30a3-46fa-b314-feef3453274e",
   "metadata": {},
   "outputs": [
    {
     "data": {
      "text/plain": [
       "tensor([ 0.1156,  0.8032,  0.5411, -1.1646,  0.1476, -1.0006,  0.3801,  0.4733,\n",
       "        -0.9103, -0.7830], grad_fn=<SelectBackward0>)"
      ]
     },
     "execution_count": 447,
     "metadata": {},
     "output_type": "execute_result"
    }
   ],
   "source": [
    "C[5]"
   ]
  },
  {
   "cell_type": "code",
   "execution_count": 448,
   "id": "91180192-d049-4702-9873-dfa75e16a4b5",
   "metadata": {},
   "outputs": [
    {
     "data": {
      "text/plain": [
       "tensor([[ 1.5674, -0.2373, -0.0274, -1.1008,  0.2859, -0.0296, -1.5471,  0.6049,\n",
       "          0.0791,  0.9046],\n",
       "        [-0.2129,  0.5095,  0.3271,  1.9661, -0.2409, -0.7952,  0.2720, -1.1100,\n",
       "         -0.4528, -0.4958],\n",
       "        [ 0.1156,  0.8032,  0.5411, -1.1646,  0.1476, -1.0006,  0.3801,  0.4733,\n",
       "         -0.9103, -0.7830]], grad_fn=<IndexBackward0>)"
      ]
     },
     "execution_count": 448,
     "metadata": {},
     "output_type": "execute_result"
    }
   ],
   "source": [
    "C[[0, 19, 5]]"
   ]
  },
  {
   "cell_type": "code",
   "execution_count": 449,
   "id": "1f32edc7-e3d3-4d6d-b0bf-1d371eac4b45",
   "metadata": {},
   "outputs": [
    {
     "data": {
      "text/plain": [
       "tensor([[-1.3257e+00,  1.4670e-01,  1.6913e-01, -1.5397e+00, -7.2759e-01,\n",
       "          1.1491e+00, -8.7462e-01, -2.9771e-01, -1.3707e+00,  1.1500e-01],\n",
       "        [-4.7125e-01,  7.8682e-01, -3.2843e-01, -4.3297e-01,  1.3729e+00,\n",
       "          2.9334e+00,  1.5618e+00, -1.6261e+00,  6.7716e-01, -8.4039e-01],\n",
       "        [ 4.6827e-01, -6.5650e-01,  6.1662e-01, -6.2197e-01,  5.1007e-01,\n",
       "          1.3563e+00,  2.3445e-01, -4.5585e-01, -1.3132e-03, -5.1161e-01]],\n",
       "       grad_fn=<IndexBackward0>)"
      ]
     },
     "execution_count": 449,
     "metadata": {},
     "output_type": "execute_result"
    }
   ],
   "source": [
    "C[X_batch[2]]"
   ]
  },
  {
   "cell_type": "code",
   "execution_count": 450,
   "id": "7b4ea738-e6e8-42cb-b8fb-eabc33d5ae97",
   "metadata": {},
   "outputs": [
    {
     "data": {
      "text/plain": [
       "torch.Size([32, 3, 10])"
      ]
     },
     "execution_count": 450,
     "metadata": {},
     "output_type": "execute_result"
    }
   ],
   "source": [
    "emb = C[X_batch]\n",
    "emb.shape"
   ]
  },
  {
   "cell_type": "code",
   "execution_count": 451,
   "id": "bea550b7-28bc-48b7-b6d9-a7a4af611398",
   "metadata": {},
   "outputs": [
    {
     "data": {
      "text/plain": [
       "torch.Size([32, 30])"
      ]
     },
     "execution_count": 451,
     "metadata": {},
     "output_type": "execute_result"
    }
   ],
   "source": [
    "emb_cat = emb.view(emb.shape[0], -1)\n",
    "emb_cat.shape"
   ]
  },
  {
   "cell_type": "code",
   "execution_count": 452,
   "id": "becd79c5-5a7b-43d7-a6ac-f9d912342350",
   "metadata": {},
   "outputs": [
    {
     "data": {
      "text/plain": [
       "torch.Size([30, 200])"
      ]
     },
     "execution_count": 452,
     "metadata": {},
     "output_type": "execute_result"
    }
   ],
   "source": [
    "W1.shape"
   ]
  },
  {
   "cell_type": "code",
   "execution_count": 453,
   "id": "8ac96ef6-b839-46c0-9039-213c88591a60",
   "metadata": {},
   "outputs": [
    {
     "data": {
      "text/plain": [
       "torch.Size([32, 200])"
      ]
     },
     "execution_count": 453,
     "metadata": {},
     "output_type": "execute_result"
    }
   ],
   "source": [
    "h = emb_cat @ W1 + b1\n",
    "h.shape"
   ]
  },
  {
   "cell_type": "code",
   "execution_count": 454,
   "id": "52d7d1d5-7636-49fc-8ae3-7082506132c3",
   "metadata": {},
   "outputs": [
    {
     "data": {
      "text/plain": [
       "torch.Size([200, 27])"
      ]
     },
     "execution_count": 454,
     "metadata": {},
     "output_type": "execute_result"
    }
   ],
   "source": [
    "W2.shape"
   ]
  },
  {
   "cell_type": "code",
   "execution_count": 455,
   "id": "03527bc2-069c-4be6-8f90-d10e9a8da502",
   "metadata": {},
   "outputs": [
    {
     "data": {
      "text/plain": [
       "torch.Size([32, 27])"
      ]
     },
     "execution_count": 455,
     "metadata": {},
     "output_type": "execute_result"
    }
   ],
   "source": [
    "(h @ W2).shape"
   ]
  },
  {
   "cell_type": "code",
   "execution_count": 456,
   "id": "e8f35ae9-c18d-4731-afd6-524803fbaf68",
   "metadata": {},
   "outputs": [
    {
     "data": {
      "text/plain": [
       "torch.Size([27])"
      ]
     },
     "execution_count": 456,
     "metadata": {},
     "output_type": "execute_result"
    }
   ],
   "source": [
    "b2.shape"
   ]
  },
  {
   "cell_type": "code",
   "execution_count": 457,
   "id": "432ab008-9bc5-463f-9ddc-38caf9803467",
   "metadata": {},
   "outputs": [
    {
     "data": {
      "text/plain": [
       "torch.Size([32])"
      ]
     },
     "execution_count": 457,
     "metadata": {},
     "output_type": "execute_result"
    }
   ],
   "source": [
    "Y_batch.shape"
   ]
  },
  {
   "cell_type": "code",
   "execution_count": 458,
   "id": "7c7f2a7f-0ad4-447d-94ef-e190f8aee29b",
   "metadata": {},
   "outputs": [
    {
     "data": {
      "text/plain": [
       "torch.Size([228146, 3])"
      ]
     },
     "execution_count": 458,
     "metadata": {},
     "output_type": "execute_result"
    }
   ],
   "source": [
    "X.shape"
   ]
  },
  {
   "cell_type": "code",
   "execution_count": 459,
   "id": "9e24bdc7-94c5-4dc7-9a04-2d98aceb810c",
   "metadata": {},
   "outputs": [
    {
     "data": {
      "text/plain": [
       "(torch.Size([32, 3]),\n",
       " torch.Size([32, 3, 10]),\n",
       " torch.Size([32, 30]),\n",
       " torch.Size([30, 200]),\n",
       " torch.Size([182516, 200]),\n",
       " torch.Size([200, 27]),\n",
       " torch.Size([1, 27]))"
      ]
     },
     "execution_count": 459,
     "metadata": {},
     "output_type": "execute_result"
    }
   ],
   "source": [
    "X_batch.shape, emb.shape, emb_cat.shape, W1.shape, hpreact.shape, W2.shape, logits.shape"
   ]
  },
  {
   "cell_type": "code",
   "execution_count": 460,
   "id": "19ccb050-0551-4793-870c-a95f59671443",
   "metadata": {},
   "outputs": [
    {
     "data": {
      "text/plain": [
       "torch.Size([1, 200])"
      ]
     },
     "execution_count": 460,
     "metadata": {},
     "output_type": "execute_result"
    }
   ],
   "source": [
    "hpreact.mean(0, keepdim=True).shape"
   ]
  },
  {
   "cell_type": "code",
   "execution_count": 461,
   "id": "f9e5831c-5baf-4e87-8cf7-69a9504a8512",
   "metadata": {},
   "outputs": [
    {
     "data": {
      "text/plain": [
       "(tensor(-0.8593), tensor(-4901.3408))"
      ]
     },
     "execution_count": 461,
     "metadata": {},
     "output_type": "execute_result"
    }
   ],
   "source": [
    "hpreact.mean(0, keepdim=True)[0][0], hpreact[:,0].sum()/32"
   ]
  },
  {
   "cell_type": "code",
   "execution_count": 462,
   "id": "a4131ec4-fc68-40b9-b991-ebcb889129d8",
   "metadata": {},
   "outputs": [
    {
     "data": {
      "text/plain": [
       "torch.Size([182516, 1])"
      ]
     },
     "execution_count": 462,
     "metadata": {},
     "output_type": "execute_result"
    }
   ],
   "source": [
    "hpreact.mean(1, keepdim=True).shape"
   ]
  },
  {
   "cell_type": "code",
   "execution_count": 463,
   "id": "914ad354-1438-4f6d-81ef-2e61b58b4a39",
   "metadata": {},
   "outputs": [
    {
     "data": {
      "text/plain": [
       "(torch.Size([1, 200]), torch.Size([1, 200]))"
      ]
     },
     "execution_count": 463,
     "metadata": {},
     "output_type": "execute_result"
    }
   ],
   "source": [
    "hpreact.mean(0, keepdim=True).shape, hpreact.std(0, keepdim=True).shape"
   ]
  },
  {
   "cell_type": "code",
   "execution_count": 464,
   "id": "0353c9da-0171-4ea1-9507-ee2c0915059f",
   "metadata": {},
   "outputs": [
    {
     "data": {
      "text/plain": [
       "tensor([[-8.5934e-01, -2.2829e-01, -9.7306e-01,  6.8114e-01,  1.0235e+00,\n",
       "          7.0043e-01,  1.3809e+00, -5.7142e-01, -5.5921e-01,  5.4996e-01,\n",
       "         -7.6978e-01, -1.1545e+00, -7.6712e-02, -1.2152e-01, -3.9721e-02,\n",
       "          1.4989e-01,  4.0561e-01, -1.2669e+00, -3.7323e-01,  8.7749e-01,\n",
       "          5.9849e-01, -7.4120e-01,  1.9844e-02,  7.4820e-01,  2.7054e-01,\n",
       "          4.4662e-01,  5.8181e-01,  3.5715e-01, -2.0179e-01,  9.2697e-01,\n",
       "         -2.1541e-01, -7.7375e-01,  1.9306e-01,  3.5996e-01, -6.4779e-01,\n",
       "         -4.9322e-01, -6.5831e-01, -8.2278e-01, -2.0219e-01,  4.4800e-01,\n",
       "         -9.4763e-02, -1.0189e+00, -8.5653e-01, -2.5986e-01,  3.5506e-01,\n",
       "          2.6402e-01,  2.3694e-01, -5.7789e-01,  7.5859e-01,  1.4046e+00,\n",
       "          1.3081e-01,  2.3982e-01,  1.4423e+00,  1.2074e+00,  8.5862e-01,\n",
       "         -9.3923e-01,  8.6253e-03,  8.3219e-01,  1.1658e+00, -5.4997e-01,\n",
       "         -2.3117e-01,  1.8313e-02,  6.7621e-01,  2.9443e-01,  9.4078e-01,\n",
       "          6.3017e-01,  9.3428e-01,  3.4270e-01, -4.3971e-01, -6.2549e-02,\n",
       "         -5.7012e-01,  9.1597e-01,  8.7474e-01, -1.0390e+00, -1.2967e+00,\n",
       "          3.5323e-01,  9.8728e-01, -3.4366e-01,  2.2461e-01, -2.3053e-01,\n",
       "          6.7354e-01,  8.5800e-01,  9.3323e-01,  5.5073e-01,  2.0418e-01,\n",
       "         -2.7612e-01, -1.1020e+00, -2.2070e-01,  6.8520e-01, -4.3914e-01,\n",
       "          4.7669e-01,  5.3443e-01, -3.2669e-01, -2.7618e-01, -6.0795e-02,\n",
       "         -4.5616e-01, -8.5320e-01, -5.8389e-01,  1.7393e-01, -1.1061e+00,\n",
       "         -5.1834e-01,  1.1455e-01, -1.5968e+00,  1.7815e-01,  3.2115e-01,\n",
       "         -1.3085e-03, -1.3738e+00, -8.0763e-01,  2.5577e-01, -7.2252e-01,\n",
       "          1.2560e-01,  1.2077e+00, -4.2978e-01,  1.5536e+00,  5.0262e-01,\n",
       "          9.0810e-01,  2.3804e-01, -2.8518e-01,  2.5717e-01, -1.7102e-01,\n",
       "         -8.7575e-01, -1.7197e-01,  8.1562e-01,  1.0579e+00, -2.3019e-01,\n",
       "          2.7850e-01,  5.2501e-02, -1.2701e+00, -6.3544e-01,  1.4718e-02,\n",
       "          1.5964e+00, -9.8222e-02,  3.3911e-01, -1.7233e-02,  2.6269e-01,\n",
       "         -2.8767e-02,  1.1328e-01,  3.6248e-01,  4.2240e-01,  4.2104e-01,\n",
       "          4.9291e-01,  1.1418e-01,  2.2433e-01, -2.4757e-01,  1.3136e+00,\n",
       "         -1.2765e-01,  3.4744e-01,  1.5698e-01,  2.6884e-01,  4.1782e-01,\n",
       "          3.1147e-01,  2.1885e-01,  7.5925e-01,  1.2331e+00,  5.3138e-01,\n",
       "         -7.9902e-01,  7.8821e-01, -6.3149e-01, -4.3520e-01,  2.8303e-01,\n",
       "          6.5784e-01,  2.1003e-01, -5.1309e-01, -1.6972e+00, -6.1058e-01,\n",
       "         -3.7103e-01,  3.8923e-01, -4.9433e-02, -4.3177e-01,  1.3393e-01,\n",
       "          2.6089e-01, -4.5586e-01,  1.5020e-01,  3.1548e-01, -2.4069e-01,\n",
       "          1.0561e+00,  1.0997e+00, -9.1897e-01,  5.1869e-02, -7.6756e-01,\n",
       "          6.3898e-01,  2.6472e-01, -5.1985e-01,  7.3114e-01,  3.1797e-02,\n",
       "          7.8754e-01,  3.4419e-01, -3.0437e-01,  1.8096e+00,  7.9156e-01,\n",
       "          2.4018e-01,  1.3122e+00,  1.9504e-02,  8.9380e-01, -2.6666e-01,\n",
       "          3.2102e-01,  1.5332e+00, -5.1758e-01,  4.4419e-01,  7.9601e-01]])"
      ]
     },
     "execution_count": 464,
     "metadata": {},
     "output_type": "execute_result"
    }
   ],
   "source": [
    "hpreact.mean(0, keepdim=True)"
   ]
  },
  {
   "cell_type": "code",
   "execution_count": 465,
   "id": "3a8eed29-2de3-4902-88d7-5d2c2d2ac4da",
   "metadata": {},
   "outputs": [
    {
     "data": {
      "text/plain": [
       "tensor([[1.9127, 1.2459, 1.6960, 1.5999, 1.9830, 1.5172, 1.0682, 1.3011, 1.9946,\n",
       "         1.4146, 1.4274, 1.4871, 1.5401, 1.8841, 1.0950, 1.4377, 2.3105, 1.2911,\n",
       "         1.7277, 1.4859, 1.6052, 1.7051, 1.6890, 2.0257, 1.4468, 1.4851, 1.3675,\n",
       "         1.8539, 2.3452, 1.8379, 1.2552, 1.3913, 2.3138, 1.5492, 2.2597, 1.4294,\n",
       "         1.4064, 2.1484, 1.7973, 1.7957, 1.4887, 1.7705, 1.6949, 2.5000, 1.3886,\n",
       "         1.8427, 1.7176, 1.8264, 1.0928, 1.8051, 1.4477, 1.3427, 1.2655, 1.7253,\n",
       "         1.6964, 1.6586, 1.3287, 2.0135, 2.3133, 1.4696, 1.3669, 1.4738, 1.2364,\n",
       "         1.6346, 1.8472, 1.6426, 1.6592, 1.4436, 1.5710, 2.0068, 1.6982, 1.9293,\n",
       "         1.5190, 1.0212, 1.4308, 1.8253, 1.8615, 2.0381, 1.8228, 1.7395, 2.3447,\n",
       "         1.5184, 1.9786, 2.1650, 1.6923, 1.7369, 1.5085, 1.7032, 1.6512, 1.2833,\n",
       "         1.6467, 1.6584, 1.8646, 2.7080, 2.5322, 1.5031, 2.0989, 1.8840, 1.2425,\n",
       "         1.9241, 1.6230, 1.6583, 2.3617, 1.2006, 1.6344, 1.3616, 1.7978, 1.5494,\n",
       "         1.6984, 1.9502, 1.7386, 1.7563, 1.4806, 1.7911, 1.4974, 1.8424, 1.3239,\n",
       "         1.8628, 1.8447, 1.5771, 1.7012, 1.8346, 1.2738, 1.2854, 1.3048, 1.7746,\n",
       "         1.4844, 1.9769, 1.7177, 1.2936, 1.6049, 1.5737, 2.1549, 2.0214, 1.0958,\n",
       "         1.3681, 1.5290, 1.5390, 1.4759, 1.8437, 1.5535, 1.6630, 1.3959, 1.6401,\n",
       "         1.6061, 1.9735, 1.5380, 1.4018, 1.2968, 1.7736, 2.5030, 2.0756, 1.3481,\n",
       "         1.6639, 1.9376, 1.9732, 1.3957, 1.2417, 1.5763, 1.7995, 1.0993, 1.8498,\n",
       "         1.2039, 1.8462, 1.7103, 1.5377, 1.9604, 1.2502, 1.6695, 1.4504, 1.6831,\n",
       "         1.4592, 1.9841, 1.4421, 1.9464, 1.5346, 1.7809, 2.1549, 1.2661, 1.4011,\n",
       "         1.2980, 2.2064, 1.4408, 1.8300, 1.4811, 1.5367, 1.9219, 1.2421, 2.8881,\n",
       "         1.7356, 1.9715, 1.7736, 1.3740, 1.4918, 1.6629, 1.4791, 1.7248, 1.7719,\n",
       "         2.0670, 2.3347]])"
      ]
     },
     "execution_count": 465,
     "metadata": {},
     "output_type": "execute_result"
    }
   ],
   "source": [
    "hpreact.std(0, keepdim=True)"
   ]
  },
  {
   "cell_type": "code",
   "execution_count": 509,
   "id": "8172073b-e548-4da5-add4-413a6b922d2c",
   "metadata": {},
   "outputs": [
    {
     "name": "stdout",
     "output_type": "stream",
     "text": [
      "    200 /    5000; 2.0625\n",
      "    400 /    5000; 2.1460\n",
      "    600 /    5000; 2.4983\n",
      "    800 /    5000; 2.5171\n",
      "   1000 /    5000; 2.4101\n",
      "   1200 /    5000; 2.4402\n",
      "   1400 /    5000; 2.6703\n",
      "   1600 /    5000; 2.3663\n",
      "   1800 /    5000; 2.3102\n",
      "   2000 /    5000; 2.1802\n",
      "   2200 /    5000; 2.4930\n",
      "   2400 /    5000; 2.2018\n",
      "   2600 /    5000; 2.2536\n",
      "   2800 /    5000; 2.7150\n",
      "   3000 /    5000; 2.5342\n",
      "   3200 /    5000; 2.3258\n",
      "   3400 /    5000; 2.3800\n",
      "   3600 /    5000; 2.0183\n",
      "   3800 /    5000; 2.2321\n",
      "   4000 /    5000; 2.2051\n",
      "   4200 /    5000; 2.1671\n",
      "   4400 /    5000; 2.5083\n",
      "   4600 /    5000; 2.4294\n",
      "   4800 /    5000; 2.1458\n",
      "   5000 /    5000; 2.0257\n"
     ]
    }
   ],
   "source": [
    "max_steps = 5_000\n",
    "batch_size = 32\n",
    "lossi = []\n",
    "\n",
    "\n",
    "for i in range(max_steps):\n",
    "\n",
    "    # mini-batch construct\n",
    "    ix = torch.randperm(X_train.shape[0], generator=rand_gen)[:batch_size]\n",
    "    # print(i, ix)\n",
    "    X_batch, Y_batch = X_train[ix], Y_train[ix]\n",
    "\n",
    "    # forward pass    \n",
    "    emb = C[X_batch] # embed chars into vectors\n",
    "    emb_cat = emb.view(emb.shape[0], -1) # concatenate the vectors\n",
    "    hpreact = emb_cat @ W1 + b1 # hidden layer pre-activation\n",
    "\n",
    "    bnmeani = hpreact.mean(0, keepdim=True)\n",
    "    bnstdi = hpreact.std(0, keepdim=True)\n",
    "    hpreact = bngain * (hpreact - bnmeani) / bnstdi + bnbias\n",
    "    \n",
    "    with torch.no_grad():\n",
    "        bnmean_running = 0.999 * bnmean_running + 0.001 * bnmean\n",
    "        bnstd_running = 0.999 * bnstd_running + 0.001 * bnstdi\n",
    "        \n",
    "    h = torch.tanh(hpreact) # hidden layer\n",
    "    logits = h @ W2 + b2 # output layer\n",
    "    loss = F.cross_entropy(logits, Y_batch) # loss function\n",
    "\n",
    "    # backward pass: \n",
    "    for p in parameters:\n",
    "        p.grad = None\n",
    "        \n",
    "    loss.backward()\n",
    "\n",
    "    # update rule:\n",
    "    lr = 0.1 if (i < max_steps // 2) else 0.01\n",
    "    for p in parameters:\n",
    "        p.data += - lr * p.grad\n",
    "        \n",
    "    \n",
    "    # stats\n",
    "    if (i + 1) % (max_steps // 25) == 0:\n",
    "        print(f\"{i + 1:7d} / {max_steps:7d}; {loss.item():.4f}\")\n",
    "    \n",
    "    lossi.append(loss.item())\n",
    "    # break\n"
   ]
  },
  {
   "cell_type": "code",
   "execution_count": 510,
   "id": "f67523ac-b6c2-4180-b147-5cb7307643ce",
   "metadata": {},
   "outputs": [
    {
     "data": {
      "text/plain": [
       "[2.4006481170654297,\n",
       " 2.0948646068573,\n",
       " 2.595405340194702,\n",
       " 2.511444330215454,\n",
       " 2.3574178218841553,\n",
       " 2.483445644378662,\n",
       " 2.4836649894714355,\n",
       " 2.4073524475097656,\n",
       " 2.149617910385132,\n",
       " 2.2963943481445312]"
      ]
     },
     "execution_count": 510,
     "metadata": {},
     "output_type": "execute_result"
    }
   ],
   "source": [
    "lossi[:10]"
   ]
  },
  {
   "cell_type": "code",
   "execution_count": 511,
   "id": "e21db1e5-c85b-4bcc-930e-6e9294c6e9bc",
   "metadata": {},
   "outputs": [
    {
     "data": {
      "text/plain": [
       "(tensor([[-0.6940,  0.4685,  0.4606,  ..., -0.2928,  0.5866,  0.4497],\n",
       "         [ 0.3338, -0.5994,  0.4233,  ..., -0.7549,  0.6193,  0.4121],\n",
       "         [-0.6940,  0.4685,  0.4606,  ..., -0.2928,  0.5866,  0.4497],\n",
       "         ...,\n",
       "         [ 0.6418,  0.0401,  0.4474,  ..., -0.7159,  0.4233,  0.5112],\n",
       "         [ 0.8975, -0.9513, -0.2074,  ...,  0.8914, -0.7477, -0.9748],\n",
       "         [-0.6940,  0.4685,  0.4606,  ..., -0.2928,  0.5866,  0.4497]],\n",
       "        grad_fn=<TanhBackward0>),\n",
       " torch.Size([32, 200]))"
      ]
     },
     "execution_count": 511,
     "metadata": {},
     "output_type": "execute_result"
    }
   ],
   "source": [
    "h, h.shape"
   ]
  },
  {
   "cell_type": "code",
   "execution_count": 512,
   "id": "0b944514-8460-481d-85ef-9b15a418095d",
   "metadata": {},
   "outputs": [
    {
     "data": {
      "image/png": "[encoded data removed]",
      "text/plain": [
       "<Figure size 640x480 with 1 Axes>"
      ]
     },
     "metadata": {},
     "output_type": "display_data"
    }
   ],
   "source": [
    "plt.hist(h.view(-1).tolist(), 50);"
   ]
  },
  {
   "cell_type": "code",
   "execution_count": 513,
   "id": "28e455ba-be57-4350-84ff-d0bb3e3fb47c",
   "metadata": {},
   "outputs": [
    {
     "data": {
      "image/png": "[encoded data removed]",
      "text/plain": [
       "<Figure size 640x480 with 1 Axes>"
      ]
     },
     "metadata": {},
     "output_type": "display_data"
    }
   ],
   "source": [
    "plt.hist(hpreact.view(-1).tolist(), 50);"
   ]
  },
  {
   "cell_type": "code",
   "execution_count": 514,
   "id": "271dbe18-3db0-4a65-bc43-a90a617996cb",
   "metadata": {},
   "outputs": [
    {
     "data": {
      "text/plain": [
       "<matplotlib.image.AxesImage at 0x7efed72f0cd0>"
      ]
     },
     "execution_count": 514,
     "metadata": {},
     "output_type": "execute_result"
    },
    {
     "data": {
      "image/png": "[encoded data removed]",
      "text/plain": [
       "<Figure size 1000x2000 with 1 Axes>"
      ]
     },
     "metadata": {},
     "output_type": "display_data"
    }
   ],
   "source": [
    "plt.figure(figsize=(10, 20))\n",
    "plt.imshow(h.abs() >= 0.99, cmap=\"gray\", interpolation=\"nearest\")"
   ]
  },
  {
   "cell_type": "markdown",
   "id": "7a3cee70-9b18-4461-9de6-bb34bd2153de",
   "metadata": {},
   "source": [
    "### White = 1, True; and Black = 0 False;"
   ]
  },
  {
   "cell_type": "code",
   "execution_count": 515,
   "id": "72c68b69-2cb2-4f6d-968b-d397a4db067b",
   "metadata": {},
   "outputs": [
    {
     "data": {
      "text/plain": [
       "<matplotlib.image.AxesImage at 0x7efed7300cd0>"
      ]
     },
     "execution_count": 515,
     "metadata": {},
     "output_type": "execute_result"
    },
    {
     "data": {
      "image/png": "[encoded data removed]",
      "text/plain": [
       "<Figure size 1000x2000 with 1 Axes>"
      ]
     },
     "metadata": {},
     "output_type": "display_data"
    }
   ],
   "source": [
    "plt.figure(figsize=(10, 20))\n",
    "plt.imshow(0 * h.abs() >= 0.99, cmap=\"gray\", interpolation=\"nearest\")"
   ]
  },
  {
   "cell_type": "code",
   "execution_count": 516,
   "id": "0ab762d8-39d6-4098-bd45-ced5fe52500d",
   "metadata": {},
   "outputs": [
    {
     "data": {
      "text/plain": [
       "(torch.Size([32, 200]), torch.Size([32, 200]))"
      ]
     },
     "execution_count": 516,
     "metadata": {},
     "output_type": "execute_result"
    }
   ],
   "source": [
    "h.shape, hpreact.shape"
   ]
  },
  {
   "cell_type": "code",
   "execution_count": 517,
   "id": "a14a29d8-2cdc-4893-bc7b-76fb2597ac9c",
   "metadata": {},
   "outputs": [
    {
     "data": {
      "text/plain": [
       "[2.4006481170654297,\n",
       " 2.0948646068573,\n",
       " 2.595405340194702,\n",
       " 2.511444330215454,\n",
       " 2.3574178218841553,\n",
       " 2.483445644378662,\n",
       " 2.4836649894714355,\n",
       " 2.4073524475097656,\n",
       " 2.149617910385132,\n",
       " 2.2963943481445312]"
      ]
     },
     "execution_count": 517,
     "metadata": {},
     "output_type": "execute_result"
    }
   ],
   "source": [
    "lossi[:10]"
   ]
  },
  {
   "cell_type": "code",
   "execution_count": 518,
   "id": "ce2986d7-9344-4bcb-b197-5881962f47a6",
   "metadata": {},
   "outputs": [
    {
     "data": {
      "image/png": "[encoded data removed]",
      "text/plain": [
       "<Figure size 640x480 with 1 Axes>"
      ]
     },
     "metadata": {},
     "output_type": "display_data"
    }
   ],
   "source": [
    "plt.plot(lossi)\n",
    "plt.grid(True)"
   ]
  },
  {
   "cell_type": "code",
   "execution_count": null,
   "id": "bd8a9d61-6b4c-4e68-b339-7fe891f29592",
   "metadata": {},
   "outputs": [],
   "source": []
  },
  {
   "cell_type": "code",
   "execution_count": null,
   "id": "c2e63c79-4a3a-4c6f-bd0d-edda8d7d3fe9",
   "metadata": {},
   "outputs": [],
   "source": []
  },
  {
   "cell_type": "code",
   "execution_count": null,
   "id": "e8cb8180-6755-448b-a5af-a9385bbc13fe",
   "metadata": {},
   "outputs": [],
   "source": []
  },
  {
   "cell_type": "code",
   "execution_count": null,
   "id": "2edc3f69-199b-4693-94a5-f6a5c33742ba",
   "metadata": {},
   "outputs": [],
   "source": []
  },
  {
   "cell_type": "code",
   "execution_count": 519,
   "id": "a9a54ebd-0bec-4e58-a83d-1920d227591c",
   "metadata": {},
   "outputs": [
    {
     "data": {
      "text/plain": [
       "tensor([-2.3750,  1.3828,  0.1065, -0.0463,  0.4308,  0.7378, -0.9272, -1.1476,\n",
       "        -0.3639, -0.4305,  0.0930,  1.0307,  0.7192,  0.7509,  0.2047, -0.8465,\n",
       "        -0.6494, -2.5269,  0.1244,  0.8824,  0.1485, -1.6996, -1.1221, -1.2613,\n",
       "        -2.3822, -0.5597, -0.4369], grad_fn=<SelectBackward0>)"
      ]
     },
     "execution_count": 519,
     "metadata": {},
     "output_type": "execute_result"
    }
   ],
   "source": [
    "logits[0]"
   ]
  },
  {
   "cell_type": "code",
   "execution_count": 520,
   "id": "cf54c18c-9b8e-4a8d-9197-39eea1398066",
   "metadata": {},
   "outputs": [
    {
     "data": {
      "text/plain": [
       "tensor(1., grad_fn=<SumBackward0>)"
      ]
     },
     "execution_count": 520,
     "metadata": {},
     "output_type": "execute_result"
    }
   ],
   "source": [
    "probs = torch.softmax(logits[0], dim=0)\n",
    "probs.sum()\n",
    "# plt.imshow()"
   ]
  },
  {
   "cell_type": "code",
   "execution_count": 521,
   "id": "327f934b-adb1-4a76-a919-0de2b58c0d8a",
   "metadata": {},
   "outputs": [],
   "source": [
    "probs = torch.softmax(logits, dim=1)"
   ]
  },
  {
   "cell_type": "code",
   "execution_count": 522,
   "id": "7b1e496f-6362-4e0d-8947-0e8b3cab6ba4",
   "metadata": {},
   "outputs": [
    {
     "data": {
      "text/plain": [
       "torch.Size([32, 27])"
      ]
     },
     "execution_count": 522,
     "metadata": {},
     "output_type": "execute_result"
    }
   ],
   "source": [
    "probs.shape"
   ]
  },
  {
   "cell_type": "code",
   "execution_count": 523,
   "id": "af48fc69-dd96-4efd-bbf0-74c94a0721f4",
   "metadata": {},
   "outputs": [
    {
     "data": {
      "text/plain": [
       "(torch.Size([27]),\n",
       " tensor(1., grad_fn=<SumBackward0>),\n",
       " torch.Size([27]),\n",
       " tensor(1.0000, grad_fn=<SumBackward0>))"
      ]
     },
     "execution_count": 523,
     "metadata": {},
     "output_type": "execute_result"
    }
   ],
   "source": [
    "probs[0].shape, probs[0].sum(), probs[1].shape, probs[1].sum()"
   ]
  },
  {
   "cell_type": "code",
   "execution_count": null,
   "id": "2381effc-3442-4665-811b-81efed52f43a",
   "metadata": {},
   "outputs": [],
   "source": []
  },
  {
   "cell_type": "code",
   "execution_count": null,
   "id": "e2f99643-2b07-4846-b7b9-c5272b78cf46",
   "metadata": {},
   "outputs": [],
   "source": []
  },
  {
   "cell_type": "code",
   "execution_count": 524,
   "id": "919c8ca4-df26-4648-9b87-a02995043613",
   "metadata": {},
   "outputs": [],
   "source": [
    "with torch.no_grad():\n",
    "    emb = C[X_train]\n",
    "    emb_cat = emb.view(emb.shape[0], -1)\n",
    "    hpreact = emb_cat @ W1 + b1\n",
    "    \n",
    "    bnmean = hpreact.mean(0, keepdim=True)\n",
    "    bnstd = hpreact.std(0, keepdim=True)\n",
    "    "
   ]
  },
  {
   "cell_type": "code",
   "execution_count": 525,
   "id": "b98fd387-ae15-44a2-a64c-6baad0ed176b",
   "metadata": {},
   "outputs": [
    {
     "data": {
      "text/plain": [
       "tensor([[-8.5588e-01, -3.1819e-01, -1.1515e+00,  5.4808e-01,  8.9008e-01,\n",
       "          5.3835e-01,  1.6599e+00, -8.3008e-01, -3.8553e-01,  6.3006e-01,\n",
       "         -9.7298e-01, -1.3854e+00, -4.7046e-02, -3.4668e-02, -1.3464e-03,\n",
       "          4.5756e-01,  4.0053e-01, -1.6817e+00, -6.3156e-01,  7.7095e-01,\n",
       "          4.0143e-01, -7.9694e-01, -1.8117e-01,  8.2255e-01,  3.9119e-01,\n",
       "          7.8483e-02,  7.8003e-01,  1.7702e-01, -3.0180e-01,  8.3577e-01,\n",
       "         -1.4762e-01, -8.2360e-01,  3.9367e-01,  4.3398e-01, -6.8535e-01,\n",
       "         -5.6894e-01, -6.7478e-01, -1.0293e+00, -4.3422e-01,  5.0702e-01,\n",
       "         -1.4858e-01, -1.0628e+00, -7.7590e-01, -1.5759e-01,  3.6557e-01,\n",
       "          4.9887e-01, -2.0239e-02, -5.7479e-01,  8.8682e-01,  1.3525e+00,\n",
       "          3.3554e-01,  4.2722e-01,  1.5169e+00,  1.5196e+00,  1.0103e+00,\n",
       "         -1.3376e+00,  6.2047e-02,  6.2542e-01,  1.2514e+00, -7.6225e-01,\n",
       "         -1.7536e-01, -6.6204e-02,  9.1363e-01,  3.6952e-01,  8.3872e-01,\n",
       "          6.1196e-01,  1.0695e+00,  4.3517e-01, -1.2848e-01,  8.6578e-02,\n",
       "         -5.8693e-01,  7.9405e-01,  1.0193e+00, -1.1481e+00, -1.2282e+00,\n",
       "          2.0565e-01,  1.0730e+00, -3.2510e-01,  4.1485e-01, -2.4659e-01,\n",
       "          7.0226e-01,  8.7539e-01,  9.9142e-01,  5.6853e-01,  1.6815e-01,\n",
       "         -5.1662e-01, -1.1830e+00,  7.5135e-02,  6.9548e-01, -3.3574e-01,\n",
       "          5.9079e-01,  5.2954e-01, -6.0735e-01, -2.3360e-01,  2.3872e-02,\n",
       "         -3.9624e-01, -9.2912e-01, -7.1853e-01,  9.1816e-02, -1.3207e+00,\n",
       "         -4.0158e-01,  1.3026e-01, -1.6224e+00,  1.0361e-01,  3.5534e-01,\n",
       "          4.9187e-02, -1.0217e+00, -7.4476e-01,  4.8927e-01, -7.8167e-01,\n",
       "          1.7211e-01,  1.2537e+00, -6.8162e-01,  1.7007e+00,  7.3322e-01,\n",
       "          8.5823e-01, -2.0411e-01, -1.5242e-01,  2.6252e-01, -1.8858e-01,\n",
       "         -8.8122e-01, -1.9767e-01,  9.9388e-01,  1.0152e+00, -3.1350e-01,\n",
       "          2.4308e-01, -1.9596e-01, -1.1918e+00, -4.8579e-01, -3.7842e-01,\n",
       "          1.5029e+00, -4.2518e-01,  6.4411e-02,  1.6604e-01,  5.5848e-01,\n",
       "          3.1959e-01, -1.6448e-02,  4.7131e-01,  4.6222e-01,  4.0077e-01,\n",
       "          5.0107e-01,  2.8342e-01,  2.0004e-01, -4.7784e-01,  1.5827e+00,\n",
       "          1.5423e-01,  5.5243e-01,  1.0369e-01,  4.5348e-01,  5.4640e-01,\n",
       "          5.3099e-01,  3.8978e-01,  8.8690e-01,  1.3723e+00,  5.1619e-01,\n",
       "         -6.3183e-01,  8.1819e-01, -6.0425e-01, -4.5045e-01,  4.1682e-01,\n",
       "          7.4395e-01,  1.2303e-01, -7.9562e-01, -1.8465e+00, -5.2582e-01,\n",
       "         -5.8554e-01,  4.2650e-01, -1.0131e-01, -4.5306e-01,  1.3080e-01,\n",
       "          3.1335e-01, -5.4691e-01, -3.2650e-02,  3.4031e-01, -4.0676e-01,\n",
       "          9.3996e-01,  9.2006e-01, -8.4841e-01, -1.9239e-01, -7.5958e-01,\n",
       "          8.3251e-01,  3.3843e-01, -7.6354e-01,  7.1569e-01, -4.4513e-03,\n",
       "          9.8309e-01,  2.0335e-01, -4.8599e-01,  1.9122e+00,  7.5168e-01,\n",
       "          2.7326e-01,  1.1792e+00,  2.8116e-01,  8.1961e-01, -1.6704e-01,\n",
       "          2.0789e-01,  1.6650e+00, -4.6418e-01,  5.6228e-01,  8.4193e-01]])"
      ]
     },
     "execution_count": 525,
     "metadata": {},
     "output_type": "execute_result"
    }
   ],
   "source": [
    "bnmean"
   ]
  },
  {
   "cell_type": "code",
   "execution_count": 526,
   "id": "d3daf4eb-9519-4b06-ae06-7b373edbce53",
   "metadata": {},
   "outputs": [
    {
     "data": {
      "text/plain": [
       "tensor([[-0.8054, -0.3229, -1.1752,  0.5683,  0.8605,  0.6168,  1.5217, -0.5712,\n",
       "         -0.5924,  0.5369, -0.7971, -1.2548, -0.0721, -0.0548,  0.0433,  0.3647,\n",
       "          0.3636, -1.4131, -0.4950,  0.8964,  0.4003, -0.7552, -0.0864,  0.7323,\n",
       "          0.3558,  0.3519,  0.6412,  0.1759, -0.2393,  0.8789, -0.1993, -0.8119,\n",
       "          0.3454,  0.3788, -0.7024, -0.5392, -0.7097, -0.9168, -0.2208,  0.5208,\n",
       "         -0.1750, -1.0358, -0.7393, -0.2269,  0.4389,  0.3570, -0.0319, -0.5274,\n",
       "          0.7456,  1.3401,  0.2632,  0.3046,  1.5083,  1.3532,  0.9859, -1.0515,\n",
       "         -0.0370,  0.7227,  1.3417, -0.5797, -0.2146,  0.0224,  0.7288,  0.3407,\n",
       "          0.8629,  0.5223,  0.9711,  0.4083, -0.2797,  0.0365, -0.4813,  0.8339,\n",
       "          0.9554, -1.1928, -1.1312,  0.2731,  0.9970, -0.2824,  0.2872, -0.2817,\n",
       "          0.7316,  0.9043,  0.9528,  0.5364,  0.1765, -0.4977, -1.0848, -0.0029,\n",
       "          0.7624, -0.4722,  0.5834,  0.5653, -0.3918, -0.1552, -0.0130, -0.3686,\n",
       "         -0.9179, -0.7030,  0.1083, -1.1498, -0.4385,  0.0103, -1.5602,  0.1204,\n",
       "          0.3335,  0.1276, -1.0996, -0.7373,  0.4071, -0.7545,  0.2180,  1.3284,\n",
       "         -0.5052,  1.4937,  0.5231,  0.7670, -0.0244, -0.2276,  0.2848, -0.2035,\n",
       "         -1.0053, -0.1230,  0.9240,  1.1369, -0.3798,  0.2356, -0.0964, -1.1922,\n",
       "         -0.4607, -0.1763,  1.4689, -0.0792,  0.2411,  0.0342,  0.4243,  0.1355,\n",
       "          0.1799,  0.3461,  0.3557,  0.2768,  0.4909,  0.1540,  0.1913, -0.3960,\n",
       "          1.4733, -0.0074,  0.3687,  0.0559,  0.3867,  0.4671,  0.3046,  0.3649,\n",
       "          0.6353,  1.3438,  0.4287, -0.7159,  0.7579, -0.5865, -0.5534,  0.4094,\n",
       "          0.8812,  0.2010, -0.6499, -1.7322, -0.4902, -0.4377,  0.5005, -0.0959,\n",
       "         -0.4745,  0.1254,  0.2927, -0.4745,  0.0677,  0.2726, -0.2227,  1.0426,\n",
       "          1.0714, -0.8973, -0.1160, -0.6863,  0.7219,  0.3100, -0.7354,  0.7318,\n",
       "          0.1438,  0.8578,  0.3094, -0.4308,  1.8867,  0.8412,  0.2629,  1.2070,\n",
       "          0.2556,  0.8409, -0.2674,  0.3287,  1.5277, -0.3383,  0.4532,  0.8130]])"
      ]
     },
     "execution_count": 526,
     "metadata": {},
     "output_type": "execute_result"
    }
   ],
   "source": [
    "bnmean_running"
   ]
  },
  {
   "cell_type": "code",
   "execution_count": 527,
   "id": "1529b10e-c597-4b81-98de-ece489dca3b2",
   "metadata": {},
   "outputs": [
    {
     "data": {
      "text/plain": [
       "tensor([[1.8951, 1.2912, 1.5698, 1.5952, 1.8794, 1.7256, 1.2734, 1.4304, 1.9100,\n",
       "         1.4509, 1.5932, 1.5437, 1.5980, 1.8637, 1.1732, 1.5836, 2.3705, 1.3646,\n",
       "         1.7984, 1.7064, 1.6032, 1.8867, 1.7879, 2.0415, 1.5868, 1.5245, 1.5027,\n",
       "         1.6897, 2.3165, 1.9718, 1.3025, 1.3805, 2.4087, 1.5566, 2.2974, 1.5109,\n",
       "         1.4836, 2.0983, 1.7666, 1.7460, 1.5511, 1.7980, 1.7375, 2.3975, 1.4330,\n",
       "         2.1122, 1.7674, 2.0222, 1.1664, 1.8317, 1.4959, 1.4941, 1.3153, 1.8292,\n",
       "         1.8834, 1.7277, 1.3738, 2.0566, 2.3448, 1.4245, 1.4815, 1.5862, 1.3011,\n",
       "         1.6128, 1.9022, 1.6862, 1.7664, 1.4480, 1.7126, 1.9480, 1.7846, 1.8877,\n",
       "         1.5623, 1.1026, 1.4923, 1.8507, 1.9006, 2.0786, 1.9206, 1.8143, 2.3440,\n",
       "         1.5415, 1.6731, 2.0897, 1.8501, 1.6885, 1.5530, 1.6809, 1.8331, 1.5306,\n",
       "         1.5096, 1.7225, 1.8034, 2.8225, 2.3879, 1.6078, 2.1692, 2.0273, 1.2619,\n",
       "         1.9624, 1.5557, 1.7754, 2.2456, 1.2266, 1.5895, 1.3904, 1.6405, 1.5733,\n",
       "         1.7420, 1.9822, 1.8018, 1.7536, 1.6459, 1.9537, 1.5361, 1.8060, 1.5202,\n",
       "         1.7732, 1.7973, 1.6795, 1.8100, 1.9342, 1.2886, 1.3066, 1.2829, 1.6429,\n",
       "         1.5159, 1.8812, 1.7445, 1.3243, 1.6196, 1.7107, 2.0728, 2.0935, 1.1633,\n",
       "         1.5016, 1.4559, 1.7794, 1.4867, 1.9527, 1.6185, 1.6705, 1.4791, 1.7964,\n",
       "         1.7223, 1.9759, 1.5642, 1.4441, 1.4310, 1.7942, 2.5964, 2.0448, 1.4542,\n",
       "         1.7817, 1.9765, 1.9600, 1.4168, 1.3439, 1.6409, 1.7412, 1.2528, 1.6633,\n",
       "         1.4438, 1.8707, 1.7330, 1.6545, 1.8121, 1.3724, 1.8152, 1.5173, 1.6938,\n",
       "         1.5030, 1.9016, 1.5835, 1.9194, 1.6054, 1.6962, 2.0250, 1.5087, 1.4496,\n",
       "         1.4144, 2.0545, 1.7022, 1.7750, 1.5393, 1.6449, 2.0687, 1.4254, 2.9136,\n",
       "         1.8090, 2.1585, 1.7186, 1.5021, 1.6664, 1.8607, 1.4388, 1.8900, 1.8646,\n",
       "         2.0989, 2.2580]])"
      ]
     },
     "execution_count": 527,
     "metadata": {},
     "output_type": "execute_result"
    }
   ],
   "source": [
    "bnstd"
   ]
  },
  {
   "cell_type": "code",
   "execution_count": 528,
   "id": "e0f5b28e-5c09-41b8-9107-ffbae2e00c14",
   "metadata": {},
   "outputs": [
    {
     "data": {
      "text/plain": [
       "tensor([[1.8782, 1.2848, 1.5648, 1.5876, 1.8660, 1.7093, 1.2634, 1.4155, 1.9129,\n",
       "         1.4459, 1.5784, 1.5239, 1.5806, 1.8395, 1.1694, 1.5674, 2.3491, 1.3513,\n",
       "         1.7858, 1.6817, 1.5874, 1.8582, 1.7725, 2.0291, 1.5727, 1.5055, 1.4858,\n",
       "         1.6820, 2.3073, 1.9624, 1.2911, 1.3692, 2.4043, 1.5395, 2.2882, 1.4970,\n",
       "         1.4693, 2.1041, 1.7649, 1.7410, 1.5344, 1.7827, 1.7159, 2.3836, 1.4216,\n",
       "         2.0997, 1.7435, 2.0094, 1.1489, 1.8150, 1.4778, 1.4766, 1.3151, 1.8312,\n",
       "         1.8700, 1.7122, 1.3644, 2.0534, 2.3325, 1.4220, 1.4635, 1.5818, 1.2919,\n",
       "         1.5932, 1.8766, 1.6653, 1.7453, 1.4367, 1.6917, 1.9375, 1.7610, 1.8765,\n",
       "         1.5592, 1.0794, 1.4856, 1.8437, 1.8905, 2.0758, 1.9166, 1.7878, 2.3329,\n",
       "         1.5232, 1.6741, 2.0777, 1.8279, 1.6757, 1.5550, 1.6543, 1.8262, 1.5100,\n",
       "         1.5046, 1.7060, 1.7938, 2.8145, 2.3947, 1.5986, 2.1449, 2.0039, 1.2508,\n",
       "         1.9439, 1.5443, 1.7516, 2.2435, 1.2087, 1.5702, 1.3704, 1.6235, 1.5524,\n",
       "         1.7256, 1.9693, 1.7865, 1.7507, 1.6366, 1.9241, 1.5316, 1.7903, 1.5067,\n",
       "         1.7620, 1.7949, 1.6667, 1.8029, 1.9183, 1.2854, 1.2952, 1.2663, 1.6335,\n",
       "         1.4936, 1.8758, 1.7362, 1.3156, 1.6136, 1.7068, 2.0480, 2.0842, 1.1573,\n",
       "         1.4894, 1.4521, 1.7756, 1.4693, 1.9303, 1.5998, 1.6654, 1.4548, 1.7903,\n",
       "         1.7188, 1.9640, 1.5599, 1.4350, 1.4202, 1.7967, 2.5798, 2.0297, 1.4475,\n",
       "         1.7702, 1.9535, 1.9494, 1.3976, 1.3246, 1.6167, 1.7287, 1.2516, 1.6661,\n",
       "         1.4250, 1.8521, 1.7232, 1.6475, 1.8039, 1.3658, 1.7967, 1.4970, 1.6888,\n",
       "         1.4995, 1.8857, 1.5601, 1.9037, 1.5885, 1.6814, 2.0183, 1.4856, 1.4415,\n",
       "         1.4112, 2.0466, 1.6756, 1.7508, 1.5258, 1.6276, 2.0501, 1.4107, 2.9025,\n",
       "         1.8027, 2.1380, 1.7150, 1.4924, 1.6486, 1.8393, 1.4326, 1.8681, 1.8436,\n",
       "         2.0727, 2.2399]])"
      ]
     },
     "execution_count": 528,
     "metadata": {},
     "output_type": "execute_result"
    }
   ],
   "source": [
    "bnstd_running"
   ]
  },
  {
   "cell_type": "code",
   "execution_count": 482,
   "id": "c3e956e4-5839-429d-8746-3a8c4a3675fc",
   "metadata": {},
   "outputs": [],
   "source": [
    "@torch.no_grad()\n",
    "def evaluate(split: str):\n",
    "\n",
    "    data_map = {\n",
    "        \"train\": (X_train, Y_train),\n",
    "        \"val\": (X_val, Y_val),\n",
    "        \"test\": (X_test, Y_test),\n",
    "    }\n",
    "   \n",
    "    x, y = data_map[split]\n",
    "    emb = C[x]\n",
    "    emb_cat = emb.view(emb.shape[0], -1)\n",
    "    hpreact = emb_cat @ W1 + b1\n",
    "    hpreact = bngain * (hpreact - hpreact.mean(0, keepdim=True)) / hpreact.std(0, keepdim=True) + bnbias\n",
    "\n",
    "    h = torch.tanh(hpreact)\n",
    "    logits = h @ W2 + b2\n",
    "    loss = F.cross_entropy(logits, y)\n",
    "    \n",
    "    print(f\"{split = }, {loss.item() = }\")"
   ]
  },
  {
   "cell_type": "code",
   "execution_count": null,
   "id": "56de26e7-2843-4956-8a95-ad0967a9b4c1",
   "metadata": {},
   "outputs": [],
   "source": []
  },
  {
   "cell_type": "code",
   "execution_count": 423,
   "id": "97c6b784-5268-4311-9e86-6117bc045123",
   "metadata": {},
   "outputs": [
    {
     "name": "stdout",
     "output_type": "stream",
     "text": [
      "split = 'train', loss.item() = 2.368637800216675\n",
      "split = 'val', loss.item() = 2.3764233589172363\n",
      "split = 'test', loss.item() = 2.3675591945648193\n"
     ]
    }
   ],
   "source": [
    "evaluate(\"train\")    \n",
    "evaluate(\"val\")    \n",
    "evaluate(\"test\")    "
   ]
  },
  {
   "cell_type": "code",
   "execution_count": 424,
   "id": "df8be6c2-09b8-4aa0-babf-8a97b504c57f",
   "metadata": {},
   "outputs": [
    {
     "name": "stdout",
     "output_type": "stream",
     "text": [
      "0 kqkyrrinvemusuflgzgrdyizg.\n",
      "1 brcjikkygricthvumqeiznnv.\n",
      "2 vphaltc.\n",
      "3 jushhmith.\n",
      "4 kvovavpnoxvfnckovddvnoksqlezghstrnyvovwvlucewmaalxigdloryssavamshbronttol.\n",
      "5 chbrblxm.\n",
      "6 strixcinrnnxxnndlydh.\n",
      "7 rognnxqhrfbcklajlixxjjxxcgrdulso.\n",
      "8 ngulslrickfxsphepharonembryxzhvdtt.\n",
      "9 zyzckymqlijacslum.\n",
      "10 jlonnn.\n",
      "11 dabcamtellegujix.\n",
      "12 flsthrarwuukezgb.\n",
      "13 krkigkyxz.\n",
      "14 nbvr.\n",
      "15 dovk.\n",
      "16 qhwzmwyxsmigbhslymonblamajvaigfjjuxgddynn.\n",
      "17 lzxxflmqhzcerzxfiler.\n",
      "18 kmbbbrixqjuwnstgrixshoreyxnnuxjangusufgqynqq.\n",
      "19 jaxgrnyvaharisharbbtsonmaxrondishxrfxkks.\n"
     ]
    },
    {
     "name": "stderr",
     "output_type": "stream",
     "text": [
      "/tmp/ipykernel_29624/1897569945.py:12: UserWarning: Implicit dimension choice for softmax has been deprecated. Change the call to include dim=X as an argument.\n",
      "  probs_test = F.softmax(logits)\n"
     ]
    }
   ],
   "source": [
    "# sample from the model \n",
    "rg = torch.Generator().manual_seed(RANDOM_SEED + 10)\n",
    "\n",
    "for t in range(20):\n",
    "    out = []\n",
    "    context = [0] * NUM_BLOCKS\n",
    "    while True:\n",
    "        # emb = C[torch.tensor([context])]\n",
    "        emb = C[torch.tensor([context])]\n",
    "        h = torch.tanh(emb.view(1, -1) @ W1 + b1)\n",
    "        logits = h @ W2 + b2\n",
    "        probs_test = F.softmax(logits)\n",
    "        probs = F.softmax(logits, dim=1)\n",
    "    \n",
    "        ix = torch.multinomial(probs, num_samples=1, generator=rg)\n",
    "        ch = itos[ix.item()]\n",
    "        # print(ch)  \n",
    "        context = context[1:] + [ix]\n",
    "        out.append(ix)\n",
    "    \n",
    "        if ix == 0:\n",
    "            break\n",
    "    print(t, \"\".join(itos[i.item()] for i in out))\n",
    "    \n",
    "    # print(\"\".join()"
   ]
  },
  {
   "cell_type": "code",
   "execution_count": 94,
   "id": "a185b23f-0c21-462f-822f-e63b26c34a44",
   "metadata": {},
   "outputs": [],
   "source": [
    "emb = C[torch.tensor(context)]"
   ]
  },
  {
   "cell_type": "code",
   "execution_count": 64,
   "id": "104d3036-2b58-43a4-9c52-b977e93209b6",
   "metadata": {},
   "outputs": [
    {
     "data": {
      "text/plain": [
       "torch.Size([3, 10])"
      ]
     },
     "execution_count": 64,
     "metadata": {},
     "output_type": "execute_result"
    }
   ],
   "source": [
    "emb.shape"
   ]
  },
  {
   "cell_type": "code",
   "execution_count": 66,
   "id": "9ce52e8b-fdfd-446e-a65d-bb36f7433227",
   "metadata": {},
   "outputs": [
    {
     "data": {
      "text/plain": [
       "torch.Size([1, 30])"
      ]
     },
     "execution_count": 66,
     "metadata": {},
     "output_type": "execute_result"
    }
   ],
   "source": [
    "emb.view(1, -1).shape"
   ]
  },
  {
   "cell_type": "code",
   "execution_count": 63,
   "id": "acb6de7a-4d66-4f04-9d11-979e23714f2b",
   "metadata": {},
   "outputs": [
    {
     "data": {
      "text/plain": [
       "torch.Size([1, 3, 10])"
      ]
     },
     "execution_count": 63,
     "metadata": {},
     "output_type": "execute_result"
    }
   ],
   "source": [
    "C[torch.tensor([context])].shape"
   ]
  },
  {
   "cell_type": "code",
   "execution_count": 71,
   "id": "8ed89520-0a0d-435b-810c-fd11614e871c",
   "metadata": {},
   "outputs": [
    {
     "data": {
      "text/plain": [
       "torch.Size([1, 27])"
      ]
     },
     "execution_count": 71,
     "metadata": {},
     "output_type": "execute_result"
    }
   ],
   "source": [
    "probs_t.shape"
   ]
  },
  {
   "cell_type": "code",
   "execution_count": 72,
   "id": "0598ccb5-89ef-4c6d-bb43-321d27713c16",
   "metadata": {},
   "outputs": [
    {
     "data": {
      "text/plain": [
       "torch.Size([1, 27])"
      ]
     },
     "execution_count": 72,
     "metadata": {},
     "output_type": "execute_result"
    }
   ],
   "source": [
    "probs.shape"
   ]
  },
  {
   "cell_type": "code",
   "execution_count": 74,
   "id": "fe003939-bfbd-4195-85c4-4722ecc54c0c",
   "metadata": {},
   "outputs": [
    {
     "data": {
      "text/plain": [
       "tensor(1., grad_fn=<SumBackward0>)"
      ]
     },
     "execution_count": 74,
     "metadata": {},
     "output_type": "execute_result"
    }
   ],
   "source": [
    "probs_t.sum()"
   ]
  },
  {
   "cell_type": "code",
   "execution_count": 75,
   "id": "f8f086b5-cb1f-4642-b57d-b5184a9b3127",
   "metadata": {},
   "outputs": [
    {
     "data": {
      "text/plain": [
       "torch.Size([1, 27])"
      ]
     },
     "execution_count": 75,
     "metadata": {},
     "output_type": "execute_result"
    }
   ],
   "source": [
    "logits.shape"
   ]
  },
  {
   "cell_type": "code",
   "execution_count": 125,
   "id": "1dee59f0-3530-4714-8608-89874a30e9fe",
   "metadata": {},
   "outputs": [],
   "source": [
    "logits = torch.tensor([100.0, 0.0, 0.0, 0.0])\n",
    "logits = torch.rand(4) * 100\n",
    "probs = torch.softmax(logits, dim=0)"
   ]
  },
  {
   "cell_type": "code",
   "execution_count": 126,
   "id": "34505602-77ee-487d-98ba-dfc053acaf68",
   "metadata": {},
   "outputs": [
    {
     "data": {
      "text/plain": [
       "tensor([9.9908e-01, 3.2862e-13, 9.2450e-04, 2.8196e-08])"
      ]
     },
     "execution_count": 126,
     "metadata": {},
     "output_type": "execute_result"
    }
   ],
   "source": [
    "probs"
   ]
  },
  {
   "cell_type": "code",
   "execution_count": 127,
   "id": "77c47591-0207-4e87-81b3-cae107697c0f",
   "metadata": {},
   "outputs": [],
   "source": [
    "loss = - probs[2].log()"
   ]
  },
  {
   "cell_type": "code",
   "execution_count": 128,
   "id": "1c4d6993-b47b-48c0-aa76-24fb33e2c44f",
   "metadata": {},
   "outputs": [
    {
     "data": {
      "text/plain": [
       "(tensor([61.7796, 33.0366, 54.7942, 44.3964]),\n",
       " tensor([9.9908e-01, 3.2862e-13, 9.2450e-04, 2.8196e-08]),\n",
       " tensor(6.9863))"
      ]
     },
     "execution_count": 128,
     "metadata": {},
     "output_type": "execute_result"
    }
   ],
   "source": [
    "logits, probs, loss"
   ]
  },
  {
   "cell_type": "code",
   "execution_count": null,
   "id": "dfb633c1-2efd-45c7-9dd5-090b5c58ec45",
   "metadata": {},
   "outputs": [],
   "source": []
  },
  {
   "cell_type": "code",
   "execution_count": 313,
   "id": "7cb1b5ce-b112-4f6a-a022-faccd5232a3b",
   "metadata": {},
   "outputs": [
    {
     "data": {
      "text/plain": [
       "torch.Size([10])"
      ]
     },
     "execution_count": 313,
     "metadata": {},
     "output_type": "execute_result"
    }
   ],
   "source": [
    "torch.randn(10).shape"
   ]
  },
  {
   "cell_type": "code",
   "execution_count": 325,
   "id": "e83a3e2b-ccd1-418e-9253-70c87be30183",
   "metadata": {},
   "outputs": [
    {
     "name": "stdout",
     "output_type": "stream",
     "text": [
      "0.9087595343589783\n",
      "0.9427216053009033\n",
      "1.2110837697982788\n",
      "1.1623538732528687\n",
      "1.019275188446045\n",
      "1.0205391645431519\n",
      "1.1242066621780396\n",
      "1.078918695449829\n",
      "0.9643968343734741\n",
      "0.9453296065330505\n"
     ]
    }
   ],
   "source": [
    "for i in range(10):\n",
    "    r = torch.randn(100)\n",
    "    print(# r.mean().item(), \n",
    "          r.std().item())"
   ]
  },
  {
   "cell_type": "markdown",
   "id": "e0b726be-10a0-4732-a74f-c1f363cd5924",
   "metadata": {},
   "source": [
    "### day 17"
   ]
  },
  {
   "cell_type": "code",
   "execution_count": 642,
   "id": "1e929345-89e4-4a55-aa06-cdaeb3878147",
   "metadata": {},
   "outputs": [],
   "source": [
    "class Linear:\n",
    "        \n",
    "    def __init__(self, fan_in: int, fan_out: int, bias: bool = True):\n",
    "        self.weight = torch.randn((fan_in, fan_out), generator=g) / fan_in ** 0.5\n",
    "        self.bias = torch.randn(fan_out) if (bias is not None) else None\n",
    "\n",
    "    def __call__(self, x):\n",
    "        self.out = x @ self.weight\n",
    "        if self.bias is not None: \n",
    "            self.out += self.bias\n",
    "        return self.out\n",
    "    \n",
    "    def parameters(self):\n",
    "        return [self.weight] + ([] if self.bias is None else [self.bias])\n",
    "\n",
    "\n",
    "class BatchNorm1d:\n",
    "    def __init__(self, dim, eps=10**(-5), momentum=0.1):\n",
    "        self.eps = eps\n",
    "        self.momentum = momentum\n",
    "        self.training = True\n",
    "\n",
    "        self.gamma = torch.ones(dim)\n",
    "        self.beta = torch.zeros(dim)\n",
    "\n",
    "        self.running_mean = torch.zeros(dim)\n",
    "        self.running_var = torch.ones(dim)\n",
    "\n",
    "    def __call__(self, x):\n",
    "        if self.training: \n",
    "            xmean = x.mean(dim=0, keepdim=True)\n",
    "            xvar = x.var(dim=0, keepdim=True)\n",
    "        else:\n",
    "            xmean = self.running_mean\n",
    "            xvar = self.running_std\n",
    "\n",
    "        xhat = (x - xmean) / torch.sqrt(xvar + self.eps)\n",
    "\n",
    "        # print(\"-\" * 80)\n",
    "        # print(f\"{xhat.shape = }\")\n",
    "        # print(f\"{self.gamma.shape = }\")\n",
    "        # print(f\"{self.beta.shape = }\")\n",
    "        \n",
    "        \n",
    "        self.out = self.gamma * xhat + self.beta\n",
    "        \n",
    "        with torch.no_grad():\n",
    "            self.running_mean = self.momentum * self.running_mean + (1 - self.momentum) * xmean\n",
    "            self.running_var = self.momentum * self.running_var + (1 - self.momentum) * xvar\n",
    "    \n",
    "        return self.out\n",
    "\n",
    "    def parameters(self):\n",
    "        return [self.gamma, self.beta]\n",
    "\n",
    "class Tanh:\n",
    "    def __call__(self, x):\n",
    "        self.out = torch.tanh(x)\n",
    "        return self.out\n",
    "    \n",
    "    def parameters(self):\n",
    "        return []"
   ]
  },
  {
   "cell_type": "code",
   "execution_count": null,
   "id": "5b1259f9-f9d0-4dfb-b5c7-644599947995",
   "metadata": {},
   "outputs": [],
   "source": []
  },
  {
   "cell_type": "code",
   "execution_count": 643,
   "id": "e6d6207a-284b-4822-9989-8dce923ed3fe",
   "metadata": {},
   "outputs": [
    {
     "data": {
      "text/plain": [
       "(27, 10, 3)"
      ]
     },
     "execution_count": 643,
     "metadata": {},
     "output_type": "execute_result"
    }
   ],
   "source": [
    "vocab_size, n_embed, num_blocks"
   ]
  },
  {
   "cell_type": "code",
   "execution_count": 644,
   "id": "005754fa-41d8-4dad-b0bb-53bb71b8157b",
   "metadata": {},
   "outputs": [],
   "source": [
    "C = torch.randn((vocab_size, n_embed), generator=g)\n",
    "\n",
    "# this is without batch normalization\n",
    "layers = [\n",
    "    Linear(num_blocks * n_embed, n_hidden),\n",
    "    Tanh(),\n",
    "    Linear(n_hidden, n_hidden),\n",
    "    Tanh(),\n",
    "    Linear(n_hidden, n_hidden),\n",
    "    Tanh(),\n",
    "    Linear(n_hidden, n_hidden),\n",
    "    Tanh(),\n",
    "    Linear(n_hidden, n_hidden),\n",
    "    Tanh(),\n",
    "    Linear(n_hidden, vocab_size),\n",
    "]\n",
    "\n",
    "# this is with batch normalization\n",
    "layers = [\n",
    "    Linear(num_blocks * n_embed, n_hidden),\n",
    "    BatchNorm1d(n_hidden),\n",
    "    Tanh(),\n",
    "    Linear(n_hidden, n_hidden),\n",
    "    BatchNorm1d(n_hidden),\n",
    "    Tanh(),\n",
    "    Linear(n_hidden, n_hidden),\n",
    "    BatchNorm1d(n_hidden),\n",
    "    Tanh(),\n",
    "    Linear(n_hidden, n_hidden),\n",
    "    BatchNorm1d(n_hidden),\n",
    "    Tanh(),\n",
    "    Linear(n_hidden, n_hidden),\n",
    "    BatchNorm1d(n_hidden),\n",
    "    Tanh(),\n",
    "    Linear(n_hidden, vocab_size),\n",
    "    BatchNorm1d(vocab_size),\n",
    "]\n"
   ]
  },
  {
   "cell_type": "code",
   "execution_count": 645,
   "id": "f28f2400-dd17-4983-82eb-28acadf01cb6",
   "metadata": {},
   "outputs": [],
   "source": [
    "# layers[-1].weight *= 0.1\n",
    "layers[-1].gamma *= 0.1\n",
    "for layer in layers[:-1]:\n",
    "    if isinstance(layer, Linear):\n",
    "        layer.weight *= 0.75 # 5/3 # 1 # 3"
   ]
  },
  {
   "cell_type": "code",
   "execution_count": 646,
   "id": "5f126d3d-37e7-4c21-b1c3-ed5cb4e4b90a",
   "metadata": {},
   "outputs": [],
   "source": [
    "parameters = [C] + [p for layer in layers for p in layer.parameters()]\n",
    "\n",
    "for p in parameters:\n",
    "    p.requires_grad = True"
   ]
  },
  {
   "cell_type": "code",
   "execution_count": 647,
   "id": "1c25f6ce-329d-49a7-b209-94dfb27e901d",
   "metadata": {},
   "outputs": [
    {
     "data": {
      "text/plain": [
       "174751"
      ]
     },
     "execution_count": 647,
     "metadata": {},
     "output_type": "execute_result"
    }
   ],
   "source": [
    "sum(p.nelement() for p in parameters)"
   ]
  },
  {
   "cell_type": "markdown",
   "id": "d7b4507c-0ac3-40c8-8c7d-8dc2dfe51eff",
   "metadata": {},
   "source": [
    "### optimization"
   ]
  },
  {
   "cell_type": "code",
   "execution_count": 664,
   "id": "0005800b-4425-4d31-b9a9-866d64485c1f",
   "metadata": {},
   "outputs": [],
   "source": [
    "max_steps = 500\n",
    "batch_size = 32\n",
    "lossi = []\n",
    "ud = [] # update to data ratio\n",
    "\n",
    "for i in range(max_steps):\n",
    "\n",
    "    # mini-batch construct\n",
    "    ix = torch.randperm(X_train.shape[0], generator=rand_gen)[:batch_size]\n",
    "    # print(i, ix)\n",
    "    X_batch, Y_batch = X_train[ix], Y_train[ix]\n",
    "\n",
    "    # forward pass    \n",
    "    emb = C[X_batch] # embed chars into vectors\n",
    "    emb_cat = emb.view(emb.shape[0], -1) # concatenate the vectors\n",
    "\n",
    "    # forward pass\n",
    "    x = emb_cat\n",
    "    for layer in layers:\n",
    "        x = layer(x)\n",
    "\n",
    "    loss = F.cross_entropy(x, Y_batch) # loss function\n",
    "\n",
    "\n",
    "    # backward pass: \n",
    "    for layer in layers:\n",
    "        layer.out.retain_grad()\n",
    "        \n",
    "    for p in parameters:\n",
    "        p.grad = None\n",
    "        \n",
    "    loss.backward()\n",
    "\n",
    "    # update rule:\n",
    "    lr = 0.1 if (i < max_steps // 2) else 0.01\n",
    "    for p in parameters:\n",
    "        p.data += - lr * p.grad\n",
    "\n",
    "    with torch.no_grad():\n",
    "        ud.append(\n",
    "            [(lr * p.grad).std() / p.data.std().log10().item() for p in parameters]\n",
    "            # lr * p.grad / p.data\n",
    "        )\n",
    "        \n",
    "    # stats\n",
    "    if (i + 1) % (max_steps // 25) == 0:\n",
    "        print(f\"{i + 1:7d} / {max_steps:7d}; {loss.item():.4f}\")\n",
    "    \n",
    "    lossi.append(loss.item())\n",
    "    break\n"
   ]
  },
  {
   "cell_type": "code",
   "execution_count": 665,
   "id": "d7a95440-1842-41ab-a661-b47b8ae6a43c",
   "metadata": {},
   "outputs": [
    {
     "data": {
      "text/plain": [
       "tensor(3.2671, grad_fn=<NllLossBackward0>)"
      ]
     },
     "execution_count": 665,
     "metadata": {},
     "output_type": "execute_result"
    }
   ],
   "source": [
    "loss"
   ]
  },
  {
   "cell_type": "code",
   "execution_count": 666,
   "id": "f3cbc1ae-fe3e-49b0-a6c7-ad092c774bf9",
   "metadata": {},
   "outputs": [
    {
     "data": {
      "text/plain": [
       "torch.Size([32, 27])"
      ]
     },
     "execution_count": 666,
     "metadata": {},
     "output_type": "execute_result"
    }
   ],
   "source": [
    "x.shape"
   ]
  },
  {
   "cell_type": "code",
   "execution_count": 667,
   "id": "85f47147-9430-4114-9fb0-4ecf3c23431b",
   "metadata": {},
   "outputs": [
    {
     "name": "stdout",
     "output_type": "stream",
     "text": [
      "len(layers) = 17\n"
     ]
    },
    {
     "data": {
      "text/plain": [
       "[__main__.Linear,\n",
       " __main__.BatchNorm1d,\n",
       " __main__.Tanh,\n",
       " __main__.Linear,\n",
       " __main__.BatchNorm1d,\n",
       " __main__.Tanh,\n",
       " __main__.Linear,\n",
       " __main__.BatchNorm1d,\n",
       " __main__.Tanh,\n",
       " __main__.Linear,\n",
       " __main__.BatchNorm1d,\n",
       " __main__.Tanh,\n",
       " __main__.Linear,\n",
       " __main__.BatchNorm1d,\n",
       " __main__.Tanh,\n",
       " __main__.Linear,\n",
       " __main__.BatchNorm1d]"
      ]
     },
     "execution_count": 667,
     "metadata": {},
     "output_type": "execute_result"
    }
   ],
   "source": [
    "print(f\"{len(layers) = }\")\n",
    "[type(layer) for layer in layers]"
   ]
  },
  {
   "cell_type": "markdown",
   "id": "9108a7f2-d415-4379-aadb-ee6ea8769cf3",
   "metadata": {},
   "source": [
    "### Visualize Tanh Outs"
   ]
  },
  {
   "cell_type": "code",
   "execution_count": 668,
   "id": "5e28c28f-72c9-4175-8825-a6c378aa7bb0",
   "metadata": {},
   "outputs": [
    {
     "name": "stdout",
     "output_type": "stream",
     "text": [
      "layer 2; name: Tanh; mean 0.0021; std: 0.6314; saturated: 12.41%\n",
      "layer 5; name: Tanh; mean -0.0045; std: 0.6382; saturated: 12.20%\n",
      "layer 8; name: Tanh; mean -0.0044; std: 0.6373; saturated: 12.36%\n",
      "layer 11; name: Tanh; mean 0.0001; std: 0.6372; saturated: 12.11%\n",
      "layer 14; name: Tanh; mean 0.0032; std: 0.6355; saturated: 12.09%\n"
     ]
    },
    {
     "data": {
      "text/plain": [
       "<matplotlib.legend.Legend at 0x7f7695441790>"
      ]
     },
     "execution_count": 668,
     "metadata": {},
     "output_type": "execute_result"
    },
    {
     "data": {
      "image/png": "[encoded data removed]",
      "text/plain": [
       "<Figure size 640x480 with 1 Axes>"
      ]
     },
     "metadata": {},
     "output_type": "display_data"
    }
   ],
   "source": [
    "plt.close()\n",
    "plt.grid(True)\n",
    "for cnt, layer in enumerate(layers):\n",
    "    # print(cnt, layer.out.shape, isinstance(layer, Tanh))\n",
    "    if isinstance(layer, Tanh):\n",
    "        t = layer.out\n",
    "        saturated = (t.abs() > 0.90).float().mean()\n",
    "        name = layer.__class__.__name__\n",
    "        print(f\"layer {cnt}; name: {name}; mean {t.mean():0.4f}; std: {t.std():0.4f}; saturated: {100 * saturated:0.2f}%\")\n",
    "        hy, hx = torch.histogram(t, density=True)\n",
    "        # plt.hist(t.detach())\n",
    "        plt.title(\"Visualize Tanh Outs\")\n",
    "        plt.plot(hx[:-1].detach(), hy.detach(), label=f\"layer {cnt}\")\n",
    "        # break\n",
    "plt.legend()\n"
   ]
  },
  {
   "cell_type": "markdown",
   "id": "14f9db55-0923-4b94-9d05-30734076d440",
   "metadata": {},
   "source": [
    "### Visualize Tanh Grads"
   ]
  },
  {
   "cell_type": "code",
   "execution_count": 669,
   "id": "e28170b9-e0ba-4760-b1ed-1f9fc30bff64",
   "metadata": {},
   "outputs": [
    {
     "name": "stdout",
     "output_type": "stream",
     "text": [
      "layer 2; name: Tanh; mean -0.0000; std: 0.0007; saturated: 0.00%\n",
      "layer 5; name: Tanh; mean -0.0000; std: 0.0006; saturated: 0.00%\n",
      "layer 8; name: Tanh; mean 0.0000; std: 0.0005; saturated: 0.00%\n",
      "layer 11; name: Tanh; mean 0.0000; std: 0.0004; saturated: 0.00%\n",
      "layer 14; name: Tanh; mean -0.0000; std: 0.0004; saturated: 0.00%\n"
     ]
    },
    {
     "data": {
      "text/plain": [
       "<matplotlib.legend.Legend at 0x7f7695384250>"
      ]
     },
     "execution_count": 669,
     "metadata": {},
     "output_type": "execute_result"
    },
    {
     "data": {
      "image/png": "[encoded data removed]",
      "text/plain": [
       "<Figure size 640x480 with 1 Axes>"
      ]
     },
     "metadata": {},
     "output_type": "display_data"
    }
   ],
   "source": [
    "plt.close()\n",
    "plt.grid(True)\n",
    "for cnt, layer in enumerate(layers):\n",
    "    # print(cnt, layer.out.shape, isinstance(layer, Tanh))\n",
    "    if isinstance(layer, Tanh):\n",
    "        t = layer.out.grad\n",
    "        saturated = (t.abs() > 0.90).float().mean()\n",
    "        name = layer.__class__.__name__\n",
    "        print(f\"layer {cnt}; name: {name}; mean {t.mean():0.4f}; std: {t.std():0.4f}; saturated: {100 * saturated:0.2f}%\")\n",
    "        hy, hx = torch.histogram(t, density=True)\n",
    "        # plt.hist(t.detach())\n",
    "        plt.title(\"Visualize Tanh Grads\")\n",
    "        plt.plot(hx[:-1].detach(), hy.detach(), label=f\"layer {cnt}\")\n",
    "        # break\n",
    "plt.legend()"
   ]
  },
  {
   "cell_type": "code",
   "execution_count": 670,
   "id": "e496a748-452c-4250-9661-a5803b4764d4",
   "metadata": {},
   "outputs": [
    {
     "data": {
      "text/plain": [
       "tensor([[ 3.5820e-04, -5.4933e-04,  2.7699e-04,  ..., -1.7369e-04,\n",
       "          2.9606e-05,  7.8385e-05],\n",
       "        [-1.1245e-04, -4.4159e-04, -1.1476e-03,  ...,  5.3897e-04,\n",
       "         -2.8606e-04,  2.3376e-05],\n",
       "        [-2.0869e-04, -7.5892e-04, -1.3969e-04,  ...,  2.9959e-04,\n",
       "          3.7886e-04,  3.0306e-04],\n",
       "        ...,\n",
       "        [ 6.0846e-05,  4.5163e-04, -1.8054e-04,  ...,  1.6890e-04,\n",
       "         -8.1777e-04, -2.2436e-04],\n",
       "        [ 1.2245e-04, -3.8423e-04, -1.0653e-04,  ...,  5.6699e-05,\n",
       "         -9.7477e-05, -2.0536e-04],\n",
       "        [ 3.6152e-04, -3.1955e-04,  2.8783e-04,  ..., -1.4735e-04,\n",
       "          2.7807e-05,  6.7334e-05]])"
      ]
     },
     "execution_count": 670,
     "metadata": {},
     "output_type": "execute_result"
    }
   ],
   "source": [
    "t.detach()"
   ]
  },
  {
   "cell_type": "code",
   "execution_count": 671,
   "id": "4bbb7731-4a0b-4876-baa5-a705cdc5697c",
   "metadata": {},
   "outputs": [
    {
     "data": {
      "text/plain": [
       "tensor([[False, False, False,  ..., False, False, False],\n",
       "        [False, False, False,  ..., False, False, False],\n",
       "        [False, False, False,  ..., False, False, False],\n",
       "        ...,\n",
       "        [False, False, False,  ..., False, False, False],\n",
       "        [False, False, False,  ..., False, False, False],\n",
       "        [False, False, False,  ..., False, False, False]])"
      ]
     },
     "execution_count": 671,
     "metadata": {},
     "output_type": "execute_result"
    }
   ],
   "source": [
    "(t.abs() > 0.9)"
   ]
  },
  {
   "cell_type": "code",
   "execution_count": 672,
   "id": "11e785b1-fddb-44c1-b776-31e5b227d38a",
   "metadata": {},
   "outputs": [
    {
     "data": {
      "text/plain": [
       "tensor(0.)"
      ]
     },
     "execution_count": 672,
     "metadata": {},
     "output_type": "execute_result"
    }
   ],
   "source": [
    "(t.abs() > 0.9).float().mean()"
   ]
  },
  {
   "cell_type": "code",
   "execution_count": 673,
   "id": "baa5c0f3-220f-4325-bea5-f014b196fb28",
   "metadata": {},
   "outputs": [
    {
     "data": {
      "text/plain": [
       "\u001b[0;31mInit signature:\u001b[0m \u001b[0mlayer\u001b[0m\u001b[0;34m.\u001b[0m\u001b[0m__class__\u001b[0m\u001b[0;34m(\u001b[0m\u001b[0mdim\u001b[0m\u001b[0;34m,\u001b[0m \u001b[0meps\u001b[0m\u001b[0;34m=\u001b[0m\u001b[0;36m1e-05\u001b[0m\u001b[0;34m,\u001b[0m \u001b[0mmomentum\u001b[0m\u001b[0;34m=\u001b[0m\u001b[0;36m0.1\u001b[0m\u001b[0;34m)\u001b[0m\u001b[0;34m\u001b[0m\u001b[0;34m\u001b[0m\u001b[0m\n",
       "\u001b[0;31mDocstring:\u001b[0m      <no docstring>\n",
       "\u001b[0;31mType:\u001b[0m           type\n",
       "\u001b[0;31mSubclasses:\u001b[0m     "
      ]
     },
     "metadata": {},
     "output_type": "display_data"
    }
   ],
   "source": [
    "layer.__class__?"
   ]
  },
  {
   "cell_type": "code",
   "execution_count": 674,
   "id": "a6c450f2-62e2-4ecf-8f1e-6097354fe04a",
   "metadata": {},
   "outputs": [
    {
     "data": {
      "text/plain": [
       "mappingproxy({'__module__': '__main__',\n",
       "              '__init__': <function __main__.BatchNorm1d.__init__(self, dim, eps=1e-05, momentum=0.1)>,\n",
       "              '__call__': <function __main__.BatchNorm1d.__call__(self, x)>,\n",
       "              'parameters': <function __main__.BatchNorm1d.parameters(self)>,\n",
       "              '__dict__': <attribute '__dict__' of 'BatchNorm1d' objects>,\n",
       "              '__weakref__': <attribute '__weakref__' of 'BatchNorm1d' objects>,\n",
       "              '__doc__': None})"
      ]
     },
     "execution_count": 674,
     "metadata": {},
     "output_type": "execute_result"
    }
   ],
   "source": [
    "layer.__class__.__dict__"
   ]
  },
  {
   "cell_type": "code",
   "execution_count": 675,
   "id": "d24b2af8-98ee-4892-8199-5753af5b12f3",
   "metadata": {},
   "outputs": [
    {
     "data": {
      "text/plain": [
       "'BatchNorm1d'"
      ]
     },
     "execution_count": 675,
     "metadata": {},
     "output_type": "execute_result"
    }
   ],
   "source": [
    "layer.__class__.__name__"
   ]
  },
  {
   "cell_type": "markdown",
   "id": "98408bfa-ad55-4ebb-9fa7-ddca80eadb88",
   "metadata": {},
   "source": [
    "### Visualize Parameters: Grad to Data Ratio"
   ]
  },
  {
   "cell_type": "code",
   "execution_count": 676,
   "id": "f612cf7f-222b-4c0a-8505-d3951e2b2752",
   "metadata": {},
   "outputs": [
    {
     "name": "stdout",
     "output_type": "stream",
     "text": [
      "layer 0; name: BatchNorm1d; shape: torch.Size([27, 10]); mean -0.0636; std: 1.0111; grad:data ratio: 0.00%\n",
      "layer 1; name: BatchNorm1d; shape: torch.Size([30, 200]); mean -0.0005; std: 0.1389; grad:data ratio: -0.05%\n",
      "layer 5; name: BatchNorm1d; shape: torch.Size([200, 200]); mean -0.0000; std: 0.0529; grad:data ratio: -0.46%\n",
      "layer 9; name: BatchNorm1d; shape: torch.Size([200, 200]); mean 0.0001; std: 0.0532; grad:data ratio: 0.09%\n",
      "layer 13; name: BatchNorm1d; shape: torch.Size([200, 200]); mean 0.0006; std: 0.0528; grad:data ratio: 0.01%\n",
      "layer 17; name: BatchNorm1d; shape: torch.Size([200, 200]); mean 0.0001; std: 0.0529; grad:data ratio: 0.02%\n",
      "layer 21; name: BatchNorm1d; shape: torch.Size([200, 27]); mean 0.0001; std: 0.0522; grad:data ratio: -0.56%\n"
     ]
    }
   ],
   "source": [
    "# plt.close()\n",
    "\n",
    "for cnt, p in enumerate(parameters):\n",
    "    if p.dim() == 2:\n",
    "        t = p.grad.mean() / p.data.mean()\n",
    "        name = layer.__class__.__name__\n",
    "        print(f\"layer {cnt}; name: {name}; shape: {p.shape}; mean {p.mean():0.4f}; std: {p.std():0.4f}; grad:data ratio: {p.grad.mean() / p.data.mean():0.2f}%\")\n",
    "        # hy, hx = torch.histogram(t, density=True)\n",
    "        # plt.hist(t.detach())\n",
    "        # plt.title(\"Visualize Tanh Grads\")\n",
    "        # plt.plot(hx[:-1].detach(), hy.detach(), label=f\"layer {cnt}\")\n",
    "        # break\n",
    "\n",
    "# plt.grid(True)\n",
    "# plt.legend()\n"
   ]
  },
  {
   "cell_type": "code",
   "execution_count": 677,
   "id": "4283ed01-2a6c-45e4-916d-2e6098364e92",
   "metadata": {},
   "outputs": [
    {
     "data": {
      "text/plain": [
       "25"
      ]
     },
     "execution_count": 677,
     "metadata": {},
     "output_type": "execute_result"
    }
   ],
   "source": [
    "len(parameters)"
   ]
  },
  {
   "cell_type": "markdown",
   "id": "7a47e1fc-9277-4ea4-b336-829696c81a0d",
   "metadata": {},
   "source": [
    "### This is does not work!"
   ]
  },
  {
   "cell_type": "code",
   "execution_count": 678,
   "id": "7d5fa817-014c-46d7-b5e2-daefe1011608",
   "metadata": {},
   "outputs": [
    {
     "data": {
      "image/png": "[encoded data removed]",
      "text/plain": [
       "<Figure size 2000x400 with 1 Axes>"
      ]
     },
     "metadata": {},
     "output_type": "display_data"
    }
   ],
   "source": [
    "plt.figure(figsize=(20, 4))\n",
    "legends = []\n",
    "for i, p in enumerate(parameters):\n",
    "    if p.dim == 2:\n",
    "        # plt.plot([ud[j][i] for j in range(len(ud))])\n",
    "        plt.plot(ud[i])\n",
    "        \n",
    "    plt.plot([0, len(ud)], [-3, 3], \"k\")\n",
    "plt.show()"
   ]
  },
  {
   "cell_type": "code",
   "execution_count": null,
   "id": "06cd63a7-ce0d-4756-ab0f-49219ccc2cf6",
   "metadata": {},
   "outputs": [],
   "source": []
  },
  {
   "cell_type": "code",
   "execution_count": null,
   "id": "cc231d72-147b-4286-892a-eb2017007d82",
   "metadata": {},
   "outputs": [],
   "source": []
  }
 ],
 "metadata": {
  "kernelspec": {
   "display_name": "Python 3 (ipykernel)",
   "language": "python",
   "name": "python3"
  },
  "language_info": {
   "codemirror_mode": {
    "name": "ipython",
    "version": 3
   },
   "file_extension": ".py",
   "mimetype": "text/x-python",
   "name": "python",
   "nbconvert_exporter": "python",
   "pygments_lexer": "ipython3",
   "version": "3.11.7"
  }
 },
 "nbformat": 4,
 "nbformat_minor": 5
}
