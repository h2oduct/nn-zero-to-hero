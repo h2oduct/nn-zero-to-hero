{
 "cells": [
  {
   "cell_type": "markdown",
   "id": "881282e2-b034-4d09-bc98-97992195ccb4",
   "metadata": {},
   "source": [
    "### makemore: lect03"
   ]
  },
  {
   "cell_type": "markdown",
   "id": "28bf6f03-63a9-45e7-af95-610638eea665",
   "metadata": {},
   "source": [
    "\n",
    "### day14\n",
    "\n",
    "- 202403120630--202403120800\n",
    "- 202403122000--202403122100\n",
    "\n",
    "### day 15\n",
    "- 202403130845--202403131200\n",
    "  \n",
    "### day 16\n",
    "- 202403140630--20240314?"
   ]
  },
  {
   "cell_type": "code",
   "execution_count": 1,
   "id": "e1b9b2ad-4271-410e-8e45-1becc1577c63",
   "metadata": {},
   "outputs": [],
   "source": [
    "import torch\n",
    "import torch.nn.functional as F\n",
    "import matplotlib.pyplot as plt\n",
    "%matplotlib inline\n",
    "\n",
    "from typing import List, Any"
   ]
  },
  {
   "cell_type": "markdown",
   "id": "4781e9ea-2a9f-4ee4-8454-05c0d30432ee",
   "metadata": {},
   "source": [
    "### Constants"
   ]
  },
  {
   "cell_type": "code",
   "execution_count": 2,
   "id": "9ffa18d3-cc30-4f5d-8ebd-78eb6e4c0c37",
   "metadata": {},
   "outputs": [],
   "source": [
    "RANDOM_SEED = 10\n",
    "NUM_BLOCKS = 3\n",
    "NUM_DIM_CHARS = 2\n",
    "NUM_HIDDEN = 20"
   ]
  },
  {
   "cell_type": "markdown",
   "id": "15eb4a44-dcde-4695-9ce7-2d054c8db5da",
   "metadata": {},
   "source": [
    "### Random Generator"
   ]
  },
  {
   "cell_type": "code",
   "execution_count": 3,
   "id": "89d72902-36c2-4caa-b39c-76c3c4884592",
   "metadata": {},
   "outputs": [],
   "source": [
    "import random\n",
    "import numpy as np\n",
    "\n",
    "rand_gen = torch.Generator().manual_seed(RANDOM_SEED)\n",
    "RAND_GEN = rand_gen\n",
    "\n",
    "torch.manual_seed(RANDOM_SEED)\n",
    "random.seed(RANDOM_SEED)\n",
    "np.random.seed(RANDOM_SEED)"
   ]
  },
  {
   "cell_type": "markdown",
   "id": "88cbf0e8-8a35-4e5a-beed-6a7dfd2880cc",
   "metadata": {},
   "source": [
    "### Read File"
   ]
  },
  {
   "cell_type": "code",
   "execution_count": 4,
   "id": "6f0ec892-6413-472e-b504-36196138b957",
   "metadata": {},
   "outputs": [
    {
     "data": {
      "text/plain": [
       "(32033, ['emma', 'olivia', 'ava', 'isabella', 'sophia'])"
      ]
     },
     "execution_count": 4,
     "metadata": {},
     "output_type": "execute_result"
    }
   ],
   "source": [
    "words = open(\"names.txt\").read().splitlines()\n",
    "len(words), words[:5]"
   ]
  },
  {
   "cell_type": "markdown",
   "id": "cd340835-ef13-4c2d-a575-a04bbc333e7e",
   "metadata": {},
   "source": [
    "### Make Mappings: `chr -> int` and `int -> chr`"
   ]
  },
  {
   "cell_type": "code",
   "execution_count": 5,
   "id": "1c124786-03ed-44d6-88ab-7a89865c5b8a",
   "metadata": {},
   "outputs": [
    {
     "data": {
      "text/plain": [
       "(97, 122, 26, 'a', 'z')"
      ]
     },
     "execution_count": 5,
     "metadata": {},
     "output_type": "execute_result"
    }
   ],
   "source": [
    "ord(\"a\"), ord(\"z\"), ord(\"z\") - ord(\"a\") + 1, chr(ord(\"a\")), chr(ord(\"z\"))"
   ]
  },
  {
   "cell_type": "code",
   "execution_count": 6,
   "id": "aca4e3b1-913a-457c-88cf-de5b998ac41f",
   "metadata": {},
   "outputs": [],
   "source": [
    "itos = {i - ord(\"a\") + 1: chr(i) for i in range(ord(\"a\"), ord(\"z\") + 1)}\n",
    "itos[0] = \".\"\n",
    "\n",
    "stoi = {s: i for i, s in itos.items()}\n",
    "\n",
    "# stoi\n",
    "# itos"
   ]
  },
  {
   "cell_type": "code",
   "execution_count": 7,
   "id": "681fa387-4fa5-43be-a7f6-26a7dfebe742",
   "metadata": {},
   "outputs": [
    {
     "data": {
      "text/plain": [
       "['a', 'b', 'c', 'd', 'e', 'f', 'g', 'h', 'i', 'j']"
      ]
     },
     "execution_count": 7,
     "metadata": {},
     "output_type": "execute_result"
    }
   ],
   "source": [
    "chars = sorted(list(set(\"\".join(words))))\n",
    "chars[:10]"
   ]
  },
  {
   "cell_type": "code",
   "execution_count": 8,
   "id": "6edfb969-b60b-46ff-aeeb-d275ed58de94",
   "metadata": {},
   "outputs": [],
   "source": [
    "stoi = {s: i + 1 for i, s in enumerate(chars)}\n",
    "stoi[\".\"] = 0\n",
    "itos = {i: s for s, i in stoi.items()}"
   ]
  },
  {
   "cell_type": "markdown",
   "id": "ec60defb-7bbc-4928-bb51-504a8c15adce",
   "metadata": {},
   "source": [
    "### Get Data"
   ]
  },
  {
   "cell_type": "code",
   "execution_count": 9,
   "id": "fe80c8c4-52da-4a00-9a5e-d0fba9579891",
   "metadata": {},
   "outputs": [],
   "source": [
    "def get_data(words: List[str], num_blocks: int = 3, stoi=stoi) -> (List[torch.tensor], List[torch.tensor]):\n",
    "    \"\"\"get data\"\"\"\n",
    "\n",
    "    X, Y = [], []\n",
    "\n",
    "\n",
    "    ### tese lines are for testing:\n",
    "    # for word in words[:5]:\n",
    "        # print(\"-\" * 80)\n",
    "\n",
    "    for word in words:\n",
    "        context = [0] * num_blocks\n",
    "        for ch in word + \".\":\n",
    "            i = stoi[ch]\n",
    "            # append the current char ch, i.e. the index i into Y;\n",
    "            # at the same time append the current context into X;\n",
    "            # (the context up to now) contains letters that preeced the char ch\n",
    "            # print(\" \".join((itos[ix] for ix in context)), \"--->\", ch)\n",
    "            X.append(context)\n",
    "            Y.append(i)\n",
    "            context = context[1: ] + [i]\n",
    "           \n",
    "\n",
    "    X = torch.tensor(X)\n",
    "    Y = torch.tensor(Y)\n",
    "    return X, Y"
   ]
  },
  {
   "cell_type": "code",
   "execution_count": 10,
   "id": "3cb05f04-a228-4879-9580-93c17110b11f",
   "metadata": {},
   "outputs": [
    {
     "data": {
      "text/plain": [
       "(tensor([[ 0,  0,  0],\n",
       "         [ 0,  0,  5],\n",
       "         [ 0,  5, 13],\n",
       "         ...,\n",
       "         [26, 26, 25],\n",
       "         [26, 25, 26],\n",
       "         [25, 26, 24]]),\n",
       " tensor([ 5, 13, 13,  ..., 26, 24,  0]))"
      ]
     },
     "execution_count": 10,
     "metadata": {},
     "output_type": "execute_result"
    }
   ],
   "source": [
    "get_data(words)"
   ]
  },
  {
   "cell_type": "code",
   "execution_count": 11,
   "id": "95f8e168-8b80-4966-8498-d20b2d43819f",
   "metadata": {
    "scrolled": true
   },
   "outputs": [],
   "source": [
    "num_blocks = NUM_BLOCKS\n",
    "X, Y = get_data(words, num_blocks=num_blocks)"
   ]
  },
  {
   "cell_type": "code",
   "execution_count": 12,
   "id": "2b9a36ba-227f-4bf4-b522-27a8b418dc67",
   "metadata": {},
   "outputs": [
    {
     "data": {
      "text/plain": [
       "tensor([[ 0,  0,  0],\n",
       "        [ 0,  0,  5],\n",
       "        [ 0,  5, 13],\n",
       "        [ 5, 13, 13],\n",
       "        [13, 13,  1],\n",
       "        [ 0,  0,  0],\n",
       "        [ 0,  0, 15],\n",
       "        [ 0, 15, 12],\n",
       "        [15, 12,  9],\n",
       "        [12,  9, 22]])"
      ]
     },
     "execution_count": 12,
     "metadata": {},
     "output_type": "execute_result"
    }
   ],
   "source": [
    "X[:10]"
   ]
  },
  {
   "cell_type": "code",
   "execution_count": 13,
   "id": "072e720e-e0fa-43d2-84f7-1ba47340ddee",
   "metadata": {},
   "outputs": [
    {
     "data": {
      "text/plain": [
       "tensor([ 5, 13, 13,  1,  0, 15, 12,  9, 22,  9])"
      ]
     },
     "execution_count": 13,
     "metadata": {},
     "output_type": "execute_result"
    }
   ],
   "source": [
    "Y[:10]"
   ]
  },
  {
   "cell_type": "code",
   "execution_count": null,
   "id": "dee258fe-f937-4333-b532-d92229366e02",
   "metadata": {},
   "outputs": [],
   "source": []
  },
  {
   "cell_type": "markdown",
   "id": "5ac45397-668b-4c28-953e-c6c7ff62c6e9",
   "metadata": {},
   "source": [
    "### Split Data: `train`, `val/dev`, and `test`"
   ]
  },
  {
   "cell_type": "code",
   "execution_count": 14,
   "id": "f35e9765-852e-4652-a2c8-5edfe62d6f4e",
   "metadata": {},
   "outputs": [
    {
     "data": {
      "text/plain": [
       "(torch.Size([228146, 3]), 228146)"
      ]
     },
     "execution_count": 14,
     "metadata": {},
     "output_type": "execute_result"
    }
   ],
   "source": [
    "X.shape, X.shape[0]"
   ]
  },
  {
   "cell_type": "code",
   "execution_count": 15,
   "id": "2a3bcc70-f974-449e-8ff8-977dd4033dc6",
   "metadata": {},
   "outputs": [
    {
     "data": {
      "text/plain": [
       "(torch.Size([228146]), 228146)"
      ]
     },
     "execution_count": 15,
     "metadata": {},
     "output_type": "execute_result"
    }
   ],
   "source": [
    "Y.shape, Y.shape[0]"
   ]
  },
  {
   "cell_type": "code",
   "execution_count": 16,
   "id": "24ab8c9d-1ee3-42d0-b288-7c9fe7b5896a",
   "metadata": {},
   "outputs": [
    {
     "data": {
      "text/plain": [
       "tensor([117017,  81926, 152774,   8097, 220660,  38770, 226753, 147220, 224337,\n",
       "        175417])"
      ]
     },
     "execution_count": 16,
     "metadata": {},
     "output_type": "execute_result"
    }
   ],
   "source": [
    "indexes = torch.randperm(X.shape[0], generator=rand_gen)\n",
    "indexes[:10]"
   ]
  },
  {
   "cell_type": "code",
   "execution_count": 17,
   "id": "b6af5db7-a9d7-4bd5-8bb6-cb500bbc1904",
   "metadata": {},
   "outputs": [
    {
     "data": {
      "text/plain": [
       "tensor([184694,  31158,  21725,  15842,   3894,  75184,  50599, 156241, 116075,\n",
       "         47106])"
      ]
     },
     "execution_count": 17,
     "metadata": {},
     "output_type": "execute_result"
    }
   ],
   "source": [
    "# this list changes over time?!\n",
    "torch.randperm(X.shape[0], generator=rand_gen)[:10]"
   ]
  },
  {
   "cell_type": "code",
   "execution_count": 18,
   "id": "d0bcc3d8-99cb-4fc9-ad3b-0f12687c6b37",
   "metadata": {},
   "outputs": [],
   "source": [
    "def split_data(X, y, split=0.8):\n",
    "    \n",
    "    \"\"\"split data into train, val, and test sets\"\"\"\n",
    "    \n",
    "    assert X.shape[0] == y.shape[0], \"input data X and Y sizes do not match.\"\n",
    "    assert (0 < split and split < 1), \"the split for training data should be within (0, 1).\"\n",
    "    \n",
    "    len_data = X.shape[0]\n",
    "    shuffled_indices = torch.randperm(X.shape[0], generator=rand_gen)\n",
    "\n",
    "    len_train = int(split * len_data)\n",
    "    len_val = (len_data - len_train) // 2\n",
    "    len_test = len_data - len_train - len_val\n",
    "    \n",
    "    \n",
    "    X_train = X[shuffled_indices][:len_train]\n",
    "    X_val = X[shuffled_indices][len_train: len_train + len_val]\n",
    "    X_test = X[shuffled_indices][- len_test:]\n",
    "    \n",
    "    y_train = Y[shuffled_indices][:len_train]\n",
    "    y_val = Y[shuffled_indices][len_train: len_train + len_val]\n",
    "    y_test = Y[shuffled_indices][- len_test:]\n",
    "\n",
    "    return X_train, X_val, X_test, y_train, y_val, y_test"
   ]
  },
  {
   "cell_type": "code",
   "execution_count": 19,
   "id": "22b3882d-ff13-4ebb-b6ac-1f0c3d970d92",
   "metadata": {},
   "outputs": [],
   "source": [
    "X_train, X_val, X_test, Y_train, Y_val, Y_test = split_data(X, Y)"
   ]
  },
  {
   "cell_type": "code",
   "execution_count": 20,
   "id": "80747879-d858-4f0d-a947-81052dfaed59",
   "metadata": {},
   "outputs": [
    {
     "data": {
      "text/plain": [
       "(torch.Size([182516, 3]),\n",
       " torch.Size([22815, 3]),\n",
       " torch.Size([22815, 3]),\n",
       " torch.Size([182516]),\n",
       " torch.Size([22815]),\n",
       " torch.Size([22815]))"
      ]
     },
     "execution_count": 20,
     "metadata": {},
     "output_type": "execute_result"
    }
   ],
   "source": [
    "X_train.shape, X_val.shape, X_test.shape, Y_train.shape, Y_val.shape, Y_test.shape"
   ]
  },
  {
   "cell_type": "markdown",
   "id": "8b6f9848-0db7-4f73-8fc8-646c8b2d1b4d",
   "metadata": {},
   "source": [
    "### MLP revisted"
   ]
  },
  {
   "cell_type": "code",
   "execution_count": null,
   "id": "59c58404-abf6-4d65-a8e3-ad262a959eb2",
   "metadata": {},
   "outputs": [],
   "source": []
  },
  {
   "cell_type": "markdown",
   "id": "fd56e886-39b2-4caa-9e92-3812d7e10352",
   "metadata": {},
   "source": [
    "### Develop Model\n",
    "\n",
    "- `C` is a mapping that translates `chars` into a `dim`-dimensional vector space;"
   ]
  },
  {
   "cell_type": "code",
   "execution_count": null,
   "id": "48a42452-2e10-4119-859d-620f29e15650",
   "metadata": {},
   "outputs": [],
   "source": []
  },
  {
   "cell_type": "code",
   "execution_count": 21,
   "id": "4379ef6f-cab7-4105-bd60-41560bff21cb",
   "metadata": {},
   "outputs": [],
   "source": [
    "### given the context X; \n",
    "### we predict the following char given in Y; \n",
    "### and the prediction belongs in one out of 27 classes; \n",
    "### i.e. there are 27 chars as a possibility for it. \n",
    "\n",
    "vocab_size = 27 "
   ]
  },
  {
   "cell_type": "code",
   "execution_count": 392,
   "id": "ef6fbc34-bf65-4bed-bc32-8cd920bc4ae6",
   "metadata": {},
   "outputs": [
    {
     "name": "stdout",
     "output_type": "stream",
     "text": [
      "12297\n"
     ]
    }
   ],
   "source": [
    "# MLP revisted\n",
    "n_embed = 10 # the dimensionality of the char. embedding \n",
    "n_hidden = 200 # the number of neurons in the hidden layers\n",
    "\n",
    "g = torch.Generator().manual_seed(2147483647)\n",
    "C = torch.randn((vocab_size, n_embed), generator=g)\n",
    "W1 = torch.randn((n_embed * num_blocks, n_hidden), generator=g) * (5 /3) / ((n_embed * num_blocks) ** 0.5)\n",
    "b1 = torch.randn(n_hidden, generator=g) * 0.01\n",
    "\n",
    "W2 = torch.randn((n_hidden, vocab_size), generator=g) * 0.2\n",
    "b2 = torch.randn(vocab_size, generator=g) * 0.01\n",
    "\n",
    "bngain = torch.ones((1, n_hidden))\n",
    "bnbias = torch.zeros((1, n_hidden))\n",
    "\n",
    "parameters = [C, W1, b1, W2, b2, bngain, bnbias]\n",
    "print(sum(p.nelement() for p in parameters)) # number of parameters total\n",
    "for p in parameters:\n",
    "    p.requires_grad = True"
   ]
  },
  {
   "cell_type": "markdown",
   "id": "4017da4b-8aea-4c25-b9d0-7c353fbcaa11",
   "metadata": {},
   "source": [
    "### Pay attention about shapes"
   ]
  },
  {
   "cell_type": "code",
   "execution_count": 364,
   "id": "40cf1862-dd47-421b-9716-b9caddb0d025",
   "metadata": {},
   "outputs": [
    {
     "data": {
      "text/plain": [
       "torch.Size([32, 200])"
      ]
     },
     "execution_count": 364,
     "metadata": {},
     "output_type": "execute_result"
    }
   ],
   "source": [
    "hpreact.shape"
   ]
  },
  {
   "cell_type": "code",
   "execution_count": 327,
   "id": "a7bd2d2f-86ab-4fd3-96ce-51d66d05fd5a",
   "metadata": {},
   "outputs": [
    {
     "data": {
      "text/plain": [
       "tensor([1.0568, 0.1018, 0.7585, 0.7507, 2.6994])"
      ]
     },
     "execution_count": 327,
     "metadata": {},
     "output_type": "execute_result"
    }
   ],
   "source": [
    "torch.randn((5, ), generator=rand_gen)"
   ]
  },
  {
   "cell_type": "code",
   "execution_count": 328,
   "id": "ee1bf84b-0979-48b2-a381-9f9ddcab2ddc",
   "metadata": {},
   "outputs": [
    {
     "data": {
      "text/plain": [
       "tensor([-1.3669,  0.6406, -0.5534,  0.4189, -0.1302])"
      ]
     },
     "execution_count": 328,
     "metadata": {},
     "output_type": "execute_result"
    }
   ],
   "source": [
    "torch.randn(5, generator=rand_gen)"
   ]
  },
  {
   "cell_type": "code",
   "execution_count": 329,
   "id": "7534bc9c-bf91-4daf-83b2-3e94f1958786",
   "metadata": {},
   "outputs": [
    {
     "data": {
      "text/plain": [
       "tensor([[ 1.3098],\n",
       "        [-0.5295],\n",
       "        [ 0.5699],\n",
       "        [ 0.7339],\n",
       "        [ 0.7348]])"
      ]
     },
     "execution_count": 329,
     "metadata": {},
     "output_type": "execute_result"
    }
   ],
   "source": [
    "torch.randn((5, 1), generator=rand_gen)"
   ]
  },
  {
   "cell_type": "markdown",
   "id": "b46f7031-bbd5-45cc-9768-84228feb3971",
   "metadata": {},
   "source": [
    "### Optimization"
   ]
  },
  {
   "cell_type": "code",
   "execution_count": 330,
   "id": "99b403a0-98a7-4ac9-9ad9-2745d375f8ef",
   "metadata": {},
   "outputs": [
    {
     "data": {
      "text/plain": [
       "182516"
      ]
     },
     "execution_count": 330,
     "metadata": {},
     "output_type": "execute_result"
    }
   ],
   "source": [
    "X_train.shape[0]"
   ]
  },
  {
   "cell_type": "code",
   "execution_count": 331,
   "id": "f58a519d-857c-49e5-94e1-991a1444ab4f",
   "metadata": {},
   "outputs": [
    {
     "data": {
      "text/plain": [
       "torch.Size([32, 3])"
      ]
     },
     "execution_count": 331,
     "metadata": {},
     "output_type": "execute_result"
    }
   ],
   "source": [
    "# mini-batch construct\n",
    "batch_size = 32\n",
    "ix = torch.randperm(X_train.shape[0], generator=rand_gen)[:batch_size]\n",
    "# print(i, ix)\n",
    "X_batch, Y_batch = X_train[ix], Y_train[ix]\n",
    "X_batch.shape"
   ]
  },
  {
   "cell_type": "code",
   "execution_count": 332,
   "id": "613962ba-d5b7-420c-b1fc-d95a289939cd",
   "metadata": {},
   "outputs": [
    {
     "data": {
      "text/plain": [
       "torch.Size([32, 3, 10])"
      ]
     },
     "execution_count": 332,
     "metadata": {},
     "output_type": "execute_result"
    }
   ],
   "source": [
    "# C: 27 x 10 \n",
    "# X_batch: 32 x 3 \n",
    "\n",
    "emb = C[X_batch]\n",
    "emb.shape"
   ]
  },
  {
   "cell_type": "code",
   "execution_count": 333,
   "id": "b1709332-0cdd-48d2-ba29-b284d12c9f0b",
   "metadata": {},
   "outputs": [
    {
     "data": {
      "text/plain": [
       "torch.Size([32, 30])"
      ]
     },
     "execution_count": 333,
     "metadata": {},
     "output_type": "execute_result"
    }
   ],
   "source": [
    "emb.view(emb.shape[0], -1).shape"
   ]
  },
  {
   "cell_type": "code",
   "execution_count": 334,
   "id": "e8fb84fc-b55e-44e4-8296-2b35cf399952",
   "metadata": {},
   "outputs": [
    {
     "data": {
      "text/plain": [
       "tensor([[ 9,  1,  8],\n",
       "        [ 0,  0, 14],\n",
       "        [ 5,  2,  5],\n",
       "        [ 0,  0,  0],\n",
       "        [ 1, 14,  4],\n",
       "        [ 5, 18, 19],\n",
       "        [ 0,  0,  4],\n",
       "        [14,  5, 14],\n",
       "        [ 0,  0,  0],\n",
       "        [ 0,  0,  0],\n",
       "        [12,  5, 25],\n",
       "        [ 0,  0,  0],\n",
       "        [ 0,  0,  0],\n",
       "        [ 0, 25, 21],\n",
       "        [15, 14, 14],\n",
       "        [21, 19,  5],\n",
       "        [ 1, 12,  5],\n",
       "        [19, 25, 14],\n",
       "        [ 0,  0,  0],\n",
       "        [ 0,  0, 12],\n",
       "        [21, 13,  9],\n",
       "        [ 1, 18, 11],\n",
       "        [12,  9,  1],\n",
       "        [ 9, 14, 20],\n",
       "        [ 0,  0,  0],\n",
       "        [ 0,  0, 26],\n",
       "        [ 7, 18,  1],\n",
       "        [ 0,  0, 10],\n",
       "        [18,  1, 14],\n",
       "        [ 0,  3, 15],\n",
       "        [20,  9,  1],\n",
       "        [ 5,  1, 22]])"
      ]
     },
     "execution_count": 334,
     "metadata": {},
     "output_type": "execute_result"
    }
   ],
   "source": [
    "X_batch"
   ]
  },
  {
   "cell_type": "code",
   "execution_count": 335,
   "id": "4e6911fa-a4f6-4fd2-acb5-73ad85c79331",
   "metadata": {},
   "outputs": [
    {
     "data": {
      "text/plain": [
       "torch.Size([27, 10])"
      ]
     },
     "execution_count": 335,
     "metadata": {},
     "output_type": "execute_result"
    }
   ],
   "source": [
    "C.shape"
   ]
  },
  {
   "cell_type": "code",
   "execution_count": 336,
   "id": "db55b3f1-23ce-41ca-8ce6-25368cdc2df2",
   "metadata": {},
   "outputs": [
    {
     "data": {
      "text/plain": [
       "torch.Size([10])"
      ]
     },
     "execution_count": 336,
     "metadata": {},
     "output_type": "execute_result"
    }
   ],
   "source": [
    "C[0].shape"
   ]
  },
  {
   "cell_type": "code",
   "execution_count": 337,
   "id": "9a31ed33-4791-4480-a110-57474b111b67",
   "metadata": {},
   "outputs": [
    {
     "data": {
      "text/plain": [
       "torch.Size([3, 10])"
      ]
     },
     "execution_count": 337,
     "metadata": {},
     "output_type": "execute_result"
    }
   ],
   "source": [
    "C[X_batch[2]].shape"
   ]
  },
  {
   "cell_type": "code",
   "execution_count": 338,
   "id": "84c6f6e4-9d04-4932-a641-b762674476dc",
   "metadata": {},
   "outputs": [
    {
     "data": {
      "text/plain": [
       "tensor([5, 2, 5])"
      ]
     },
     "execution_count": 338,
     "metadata": {},
     "output_type": "execute_result"
    }
   ],
   "source": [
    "X_batch[2]"
   ]
  },
  {
   "cell_type": "code",
   "execution_count": 339,
   "id": "de6ab3ff-a9bc-4ec9-b9d5-68eecf366c60",
   "metadata": {},
   "outputs": [
    {
     "data": {
      "text/plain": [
       "tensor([ 1.5674, -0.2373, -0.0274, -1.1008,  0.2859, -0.0296, -1.5471,  0.6049,\n",
       "         0.0791,  0.9046], grad_fn=<SelectBackward0>)"
      ]
     },
     "execution_count": 339,
     "metadata": {},
     "output_type": "execute_result"
    }
   ],
   "source": [
    "C[0]"
   ]
  },
  {
   "cell_type": "code",
   "execution_count": 340,
   "id": "49516b96-8e2d-444d-8875-2170644b297d",
   "metadata": {},
   "outputs": [
    {
     "data": {
      "text/plain": [
       "tensor([-0.2129,  0.5095,  0.3271,  1.9661, -0.2409, -0.7952,  0.2720, -1.1100,\n",
       "        -0.4528, -0.4958], grad_fn=<SelectBackward0>)"
      ]
     },
     "execution_count": 340,
     "metadata": {},
     "output_type": "execute_result"
    }
   ],
   "source": [
    "C[19]"
   ]
  },
  {
   "cell_type": "code",
   "execution_count": 341,
   "id": "ec5e9984-30a3-46fa-b314-feef3453274e",
   "metadata": {},
   "outputs": [
    {
     "data": {
      "text/plain": [
       "tensor([ 0.1156,  0.8032,  0.5411, -1.1646,  0.1476, -1.0006,  0.3801,  0.4733,\n",
       "        -0.9103, -0.7830], grad_fn=<SelectBackward0>)"
      ]
     },
     "execution_count": 341,
     "metadata": {},
     "output_type": "execute_result"
    }
   ],
   "source": [
    "C[5]"
   ]
  },
  {
   "cell_type": "code",
   "execution_count": 342,
   "id": "91180192-d049-4702-9873-dfa75e16a4b5",
   "metadata": {},
   "outputs": [
    {
     "data": {
      "text/plain": [
       "tensor([[ 1.5674, -0.2373, -0.0274, -1.1008,  0.2859, -0.0296, -1.5471,  0.6049,\n",
       "          0.0791,  0.9046],\n",
       "        [-0.2129,  0.5095,  0.3271,  1.9661, -0.2409, -0.7952,  0.2720, -1.1100,\n",
       "         -0.4528, -0.4958],\n",
       "        [ 0.1156,  0.8032,  0.5411, -1.1646,  0.1476, -1.0006,  0.3801,  0.4733,\n",
       "         -0.9103, -0.7830]], grad_fn=<IndexBackward0>)"
      ]
     },
     "execution_count": 342,
     "metadata": {},
     "output_type": "execute_result"
    }
   ],
   "source": [
    "C[[0, 19, 5]]"
   ]
  },
  {
   "cell_type": "code",
   "execution_count": 343,
   "id": "1f32edc7-e3d3-4d6d-b0bf-1d371eac4b45",
   "metadata": {},
   "outputs": [
    {
     "data": {
      "text/plain": [
       "tensor([[ 0.1156,  0.8032,  0.5411, -1.1646,  0.1476, -1.0006,  0.3801,  0.4733,\n",
       "         -0.9103, -0.7830],\n",
       "        [ 0.9849, -0.1484, -1.4795,  0.4483, -0.0707,  2.4968,  2.4448, -0.6701,\n",
       "         -1.2199,  0.3031],\n",
       "        [ 0.1156,  0.8032,  0.5411, -1.1646,  0.1476, -1.0006,  0.3801,  0.4733,\n",
       "         -0.9103, -0.7830]], grad_fn=<IndexBackward0>)"
      ]
     },
     "execution_count": 343,
     "metadata": {},
     "output_type": "execute_result"
    }
   ],
   "source": [
    "C[X_batch[2]]"
   ]
  },
  {
   "cell_type": "code",
   "execution_count": 344,
   "id": "7b4ea738-e6e8-42cb-b8fb-eabc33d5ae97",
   "metadata": {},
   "outputs": [
    {
     "data": {
      "text/plain": [
       "torch.Size([32, 3, 10])"
      ]
     },
     "execution_count": 344,
     "metadata": {},
     "output_type": "execute_result"
    }
   ],
   "source": [
    "emb = C[X_batch]\n",
    "emb.shape"
   ]
  },
  {
   "cell_type": "code",
   "execution_count": 345,
   "id": "bea550b7-28bc-48b7-b6d9-a7a4af611398",
   "metadata": {},
   "outputs": [
    {
     "data": {
      "text/plain": [
       "torch.Size([32, 30])"
      ]
     },
     "execution_count": 345,
     "metadata": {},
     "output_type": "execute_result"
    }
   ],
   "source": [
    "emb_cat = emb.view(emb.shape[0], -1)\n",
    "emb_cat.shape"
   ]
  },
  {
   "cell_type": "code",
   "execution_count": 346,
   "id": "becd79c5-5a7b-43d7-a6ac-f9d912342350",
   "metadata": {},
   "outputs": [
    {
     "data": {
      "text/plain": [
       "torch.Size([30, 200])"
      ]
     },
     "execution_count": 346,
     "metadata": {},
     "output_type": "execute_result"
    }
   ],
   "source": [
    "W1.shape"
   ]
  },
  {
   "cell_type": "code",
   "execution_count": 347,
   "id": "8ac96ef6-b839-46c0-9039-213c88591a60",
   "metadata": {},
   "outputs": [
    {
     "data": {
      "text/plain": [
       "torch.Size([32, 200])"
      ]
     },
     "execution_count": 347,
     "metadata": {},
     "output_type": "execute_result"
    }
   ],
   "source": [
    "h = emb_cat @ W1 + b1\n",
    "h.shape"
   ]
  },
  {
   "cell_type": "code",
   "execution_count": 348,
   "id": "52d7d1d5-7636-49fc-8ae3-7082506132c3",
   "metadata": {},
   "outputs": [
    {
     "data": {
      "text/plain": [
       "torch.Size([200, 27])"
      ]
     },
     "execution_count": 348,
     "metadata": {},
     "output_type": "execute_result"
    }
   ],
   "source": [
    "W2.shape"
   ]
  },
  {
   "cell_type": "code",
   "execution_count": 349,
   "id": "03527bc2-069c-4be6-8f90-d10e9a8da502",
   "metadata": {},
   "outputs": [
    {
     "data": {
      "text/plain": [
       "torch.Size([32, 27])"
      ]
     },
     "execution_count": 349,
     "metadata": {},
     "output_type": "execute_result"
    }
   ],
   "source": [
    "(h @ W2).shape"
   ]
  },
  {
   "cell_type": "code",
   "execution_count": 350,
   "id": "e8f35ae9-c18d-4731-afd6-524803fbaf68",
   "metadata": {},
   "outputs": [
    {
     "data": {
      "text/plain": [
       "torch.Size([27])"
      ]
     },
     "execution_count": 350,
     "metadata": {},
     "output_type": "execute_result"
    }
   ],
   "source": [
    "b2.shape"
   ]
  },
  {
   "cell_type": "code",
   "execution_count": 351,
   "id": "432ab008-9bc5-463f-9ddc-38caf9803467",
   "metadata": {},
   "outputs": [
    {
     "data": {
      "text/plain": [
       "torch.Size([32])"
      ]
     },
     "execution_count": 351,
     "metadata": {},
     "output_type": "execute_result"
    }
   ],
   "source": [
    "Y_batch.shape"
   ]
  },
  {
   "cell_type": "code",
   "execution_count": 352,
   "id": "7c7f2a7f-0ad4-447d-94ef-e190f8aee29b",
   "metadata": {},
   "outputs": [
    {
     "data": {
      "text/plain": [
       "torch.Size([228146, 3])"
      ]
     },
     "execution_count": 352,
     "metadata": {},
     "output_type": "execute_result"
    }
   ],
   "source": [
    "X.shape"
   ]
  },
  {
   "cell_type": "code",
   "execution_count": 370,
   "id": "9e24bdc7-94c5-4dc7-9a04-2d98aceb810c",
   "metadata": {},
   "outputs": [
    {
     "data": {
      "text/plain": [
       "(torch.Size([32, 3]),\n",
       " torch.Size([32, 3, 10]),\n",
       " torch.Size([32, 30]),\n",
       " torch.Size([30, 200]),\n",
       " torch.Size([32, 200]),\n",
       " torch.Size([200, 27]),\n",
       " torch.Size([32, 27]))"
      ]
     },
     "execution_count": 370,
     "metadata": {},
     "output_type": "execute_result"
    }
   ],
   "source": [
    "X_batch.shape, emb.shape, emb_cat.shape, W1.shape, hpreact.shape, W2.shape, logits.shape"
   ]
  },
  {
   "cell_type": "code",
   "execution_count": 374,
   "id": "19ccb050-0551-4793-870c-a95f59671443",
   "metadata": {},
   "outputs": [
    {
     "data": {
      "text/plain": [
       "torch.Size([1, 200])"
      ]
     },
     "execution_count": 374,
     "metadata": {},
     "output_type": "execute_result"
    }
   ],
   "source": [
    "hpreact.mean(0, keepdim=True).shape"
   ]
  },
  {
   "cell_type": "code",
   "execution_count": 383,
   "id": "f9e5831c-5baf-4e87-8cf7-69a9504a8512",
   "metadata": {},
   "outputs": [
    {
     "data": {
      "text/plain": [
       "(tensor(-0.1230, grad_fn=<SelectBackward0>),\n",
       " tensor(-0.1230, grad_fn=<DivBackward0>))"
      ]
     },
     "execution_count": 383,
     "metadata": {},
     "output_type": "execute_result"
    }
   ],
   "source": [
    "hpreact.mean(0, keepdim=True)[0][0], hpreact[:,0].sum()/32"
   ]
  },
  {
   "cell_type": "code",
   "execution_count": 384,
   "id": "a4131ec4-fc68-40b9-b991-ebcb889129d8",
   "metadata": {},
   "outputs": [
    {
     "data": {
      "text/plain": [
       "torch.Size([32, 1])"
      ]
     },
     "execution_count": 384,
     "metadata": {},
     "output_type": "execute_result"
    }
   ],
   "source": [
    "hpreact.mean(1, keepdim=True).shape"
   ]
  },
  {
   "cell_type": "code",
   "execution_count": 387,
   "id": "914ad354-1438-4f6d-81ef-2e61b58b4a39",
   "metadata": {},
   "outputs": [
    {
     "data": {
      "text/plain": [
       "(torch.Size([1, 200]), torch.Size([1, 200]))"
      ]
     },
     "execution_count": 387,
     "metadata": {},
     "output_type": "execute_result"
    }
   ],
   "source": [
    "hpreact.mean(0, keepdim=True).shape, hpreact.std(0, keepdim=True).shape"
   ]
  },
  {
   "cell_type": "code",
   "execution_count": 388,
   "id": "0353c9da-0171-4ea1-9507-ee2c0915059f",
   "metadata": {},
   "outputs": [
    {
     "data": {
      "text/plain": [
       "tensor([[-0.1230, -0.5873, -0.8543,  0.5450,  0.6782,  0.4143,  1.2484, -0.7872,\n",
       "         -0.6211,  0.1020, -0.5287, -1.0402,  0.0771,  0.4690, -0.0138, -0.2756,\n",
       "          0.1982, -1.1569, -1.1289,  0.7166,  0.1459, -0.6268,  0.6169,  0.1708,\n",
       "          0.5244, -0.0482,  0.2954, -0.1689, -0.3929,  0.8022, -0.4908, -0.7372,\n",
       "         -0.1558,  0.1935, -0.4598, -0.7233, -0.3043, -0.5087, -0.7272,  0.3853,\n",
       "         -0.1598, -1.1077, -0.7300, -0.1692,  0.1821, -0.1266, -0.3834, -0.4358,\n",
       "          0.3095,  0.8430,  0.3897, -0.0781,  0.8120,  0.7437,  0.5612, -0.8401,\n",
       "         -0.2233,  1.2066,  0.7427, -0.3252, -0.3139,  0.5793,  0.3497, -0.1774,\n",
       "          1.0549,  0.6487,  0.5680, -0.1351, -0.3529,  0.4218, -0.8260,  1.0311,\n",
       "          0.7847, -0.3717, -0.9606, -0.4936,  0.9245, -0.0385, -0.0886, -0.1654,\n",
       "         -0.0898,  1.0482,  0.1119,  0.2480,  0.3371, -0.1919, -0.5748, -0.0329,\n",
       "          0.1840, -0.5366,  0.7334,  0.4897, -0.9554, -0.0518, -0.6660, -0.9959,\n",
       "         -0.7445, -0.1616, -0.3404, -0.5370, -0.5398,  0.1177, -0.9548, -0.4343,\n",
       "          0.2708,  0.2258, -1.3310, -0.6514, -0.0551, -0.7233,  0.2229,  1.3098,\n",
       "         -0.6029,  1.7390,  0.8001,  0.0725,  0.4152, -0.3440,  0.4145,  0.0429,\n",
       "         -0.6544,  0.4336,  0.1361,  1.4529,  0.0852,  0.8249, -0.1146, -0.5879,\n",
       "         -0.2304,  0.7016,  1.7126, -0.3033,  0.9269,  0.2210,  0.4407,  0.0445,\n",
       "         -0.0407,  0.9647,  0.3574,  0.2921,  0.3681, -0.4349,  0.3361, -0.3006,\n",
       "          0.9537,  0.0367,  0.2178, -0.3463, -0.0689,  0.3021, -0.4669,  1.0418,\n",
       "          0.2306,  1.2220,  0.0855, -0.3207,  0.3812, -1.2247, -0.3571,  0.6485,\n",
       "          0.4897,  0.1915,  0.2461, -1.5396, -0.7912,  0.0199, -0.0671,  0.4992,\n",
       "         -0.0058,  0.4113, -0.5310, -0.7611,  0.2404,  0.2752, -0.4937,  1.2231,\n",
       "          1.3169, -0.7533, -0.1231, -0.7226,  0.4741,  0.7489, -0.7940,  0.3155,\n",
       "         -0.1528,  0.9732,  0.3140, -0.1764,  1.9725,  0.2889,  0.4569,  1.3863,\n",
       "          0.3937,  0.8292,  0.0771, -0.3272,  1.2646, -0.2056,  0.0281,  0.6092]],\n",
       "       grad_fn=<MeanBackward1>)"
      ]
     },
     "execution_count": 388,
     "metadata": {},
     "output_type": "execute_result"
    }
   ],
   "source": [
    "hpreact.mean(0, keepdim=True)"
   ]
  },
  {
   "cell_type": "code",
   "execution_count": 389,
   "id": "3a8eed29-2de3-4902-88d7-5d2c2d2ac4da",
   "metadata": {},
   "outputs": [
    {
     "data": {
      "text/plain": [
       "tensor([[1.8069, 0.9428, 1.4674, 1.2714, 1.5799, 1.2015, 1.0440, 0.9566, 1.7329,\n",
       "         0.9726, 1.5896, 1.1925, 1.1497, 1.5780, 1.0579, 1.4973, 2.2707, 1.0362,\n",
       "         1.0632, 1.2428, 1.2259, 1.5688, 1.1214, 1.9241, 1.2268, 1.2892, 1.1865,\n",
       "         1.5352, 2.2300, 1.4074, 1.0902, 1.0301, 1.9646, 1.2645, 1.8769, 1.2006,\n",
       "         1.3213, 1.7574, 1.4629, 1.2667, 0.9733, 1.5178, 1.2917, 2.1447, 1.1661,\n",
       "         1.1086, 1.4272, 1.3864, 0.8441, 1.3798, 1.1551, 1.0146, 0.9473, 1.2784,\n",
       "         1.4341, 1.3234, 1.0804, 1.9139, 2.1588, 1.2108, 1.1653, 1.1095, 0.8624,\n",
       "         1.3413, 1.3956, 1.3323, 1.5515, 1.2580, 1.3223, 1.8983, 1.6233, 1.6244,\n",
       "         1.1667, 1.0162, 1.0142, 1.4580, 1.5888, 1.7145, 1.6259, 1.2756, 2.0895,\n",
       "         1.4544, 1.5600, 1.7993, 1.4331, 1.5498, 1.0237, 1.2297, 1.2409, 1.2752,\n",
       "         1.2051, 1.3977, 1.4640, 2.3779, 2.0947, 1.4357, 1.7304, 1.3945, 1.0062,\n",
       "         1.3557, 1.4847, 1.6872, 2.0325, 1.3610, 0.8818, 1.0810, 1.5025, 1.2762,\n",
       "         1.3235, 1.5059, 1.4325, 1.4410, 1.4504, 1.0827, 1.2790, 1.6235, 1.3030,\n",
       "         1.3462, 1.5469, 1.5046, 1.5072, 1.5465, 1.1505, 0.9434, 0.9384, 1.4242,\n",
       "         1.2475, 1.6905, 1.2272, 1.2146, 1.5301, 1.2740, 1.7385, 1.7665, 0.9361,\n",
       "         1.0174, 1.5390, 1.4699, 1.3564, 1.3308, 1.4139, 1.1516, 1.1590, 1.2387,\n",
       "         1.5047, 1.5773, 1.2649, 1.0986, 1.2355, 1.1681, 1.7063, 1.5104, 1.3068,\n",
       "         1.7581, 1.5039, 1.7212, 1.1157, 1.1420, 1.3366, 1.3827, 1.0207, 1.5426,\n",
       "         0.9654, 1.4079, 1.4899, 0.9674, 1.8462, 0.9623, 1.2519, 1.1475, 1.3731,\n",
       "         1.0040, 1.7159, 1.1628, 1.6189, 1.4501, 1.5657, 1.8339, 0.9091, 1.3985,\n",
       "         1.0134, 1.8935, 1.1599, 1.5141, 0.9434, 1.0219, 1.6140, 0.9400, 2.0429,\n",
       "         1.6294, 1.2372, 1.4814, 1.4326, 1.0944, 1.4847, 1.1712, 1.5021, 1.3383,\n",
       "         1.7076, 1.8617]], grad_fn=<StdBackward0>)"
      ]
     },
     "execution_count": 389,
     "metadata": {},
     "output_type": "execute_result"
    }
   ],
   "source": [
    "hpreact.std(0, keepdim=True)"
   ]
  },
  {
   "cell_type": "code",
   "execution_count": 353,
   "id": "8172073b-e548-4da5-add4-413a6b922d2c",
   "metadata": {},
   "outputs": [
    {
     "name": "stdout",
     "output_type": "stream",
     "text": [
      "     40 /    1000; 3.2325\n",
      "     80 /    1000; 2.6161\n",
      "    120 /    1000; 2.7384\n",
      "    160 /    1000; 2.7674\n",
      "    200 /    1000; 2.2351\n",
      "    240 /    1000; 2.9261\n",
      "    280 /    1000; 2.7155\n",
      "    320 /    1000; 2.6209\n",
      "    360 /    1000; 2.4392\n",
      "    400 /    1000; 3.0918\n",
      "    440 /    1000; 2.8006\n",
      "    480 /    1000; 2.6262\n",
      "    520 /    1000; 2.1993\n",
      "    560 /    1000; 2.4847\n",
      "    600 /    1000; 2.2694\n",
      "    640 /    1000; 2.4845\n",
      "    680 /    1000; 2.6063\n",
      "    720 /    1000; 2.5543\n",
      "    760 /    1000; 2.5359\n",
      "    800 /    1000; 2.1631\n",
      "    840 /    1000; 2.0999\n",
      "    880 /    1000; 2.4681\n",
      "    920 /    1000; 2.4787\n",
      "    960 /    1000; 2.4866\n",
      "   1000 /    1000; 2.3494\n"
     ]
    }
   ],
   "source": [
    "max_steps = 1000\n",
    "batch_size = 32\n",
    "lossi = []\n",
    "\n",
    "\n",
    "for i in range(max_steps):\n",
    "\n",
    "    # mini-batch construct\n",
    "    ix = torch.randperm(X_train.shape[0], generator=rand_gen)[:batch_size]\n",
    "    # print(i, ix)\n",
    "    X_batch, Y_batch = X_train[ix], Y_train[ix]\n",
    "\n",
    "    # forward pass    \n",
    "    emb = C[X_batch] # embed chars into vectors\n",
    "    emb_cat = emb.view(emb.shape[0], -1) # concatenate the vectors\n",
    "    hpreact = emb_cat @ W1 + b1 # hidden layer pre-activation\n",
    "\n",
    "    hpreact = bngain * (hpreact - hpreact.mean(0, keepdim=True)) / hpreact.std(0, keepdim=True) + bnbias\n",
    "\n",
    "    \n",
    "    h = torch.tanh(hpreact) # hidden layer\n",
    "    logits = h @ W2 + b2 # output layer\n",
    "    loss = F.cross_entropy(logits, Y_batch) # loss function\n",
    "\n",
    "    # backward pass: \n",
    "    for p in parameters:\n",
    "        p.grad = None\n",
    "        \n",
    "    loss.backward()\n",
    "\n",
    "    # update rule:\n",
    "    lr = 0.1 if (i < max_steps // 2) else 0.01\n",
    "    for p in parameters:\n",
    "        p.data += - lr * p.grad\n",
    "        \n",
    "    \n",
    "    # stats\n",
    "    if (i + 1) % (max_steps // 25) == 0:\n",
    "        print(f\"{i + 1:7d} / {max_steps:7d}; {loss.item():.4f}\")\n",
    "    \n",
    "    lossi.append(loss.item())\n",
    "    # break\n"
   ]
  },
  {
   "cell_type": "code",
   "execution_count": null,
   "id": "f67523ac-b6c2-4180-b147-5cb7307643ce",
   "metadata": {},
   "outputs": [],
   "source": []
  },
  {
   "cell_type": "code",
   "execution_count": 354,
   "id": "e21db1e5-c85b-4bcc-930e-6e9294c6e9bc",
   "metadata": {},
   "outputs": [
    {
     "data": {
      "text/plain": [
       "(tensor([[ 0.9024, -0.8630, -0.9727,  ..., -0.9592, -0.1367,  0.9597],\n",
       "         [-0.3740, -0.6643,  0.6896,  ..., -0.9793,  0.9633,  0.9995],\n",
       "         [ 0.1461, -0.7377, -0.9718,  ..., -0.9894,  0.9458,  0.9958],\n",
       "         ...,\n",
       "         [-0.8854,  0.0179, -0.9575,  ..., -0.8676,  0.8035,  0.3138],\n",
       "         [-0.0301, -0.9810, -0.9945,  ...,  0.7309,  0.2106, -0.6074],\n",
       "         [-0.9563,  0.2307, -0.5137,  ..., -0.3874,  0.9661,  0.9738]],\n",
       "        grad_fn=<TanhBackward0>),\n",
       " torch.Size([32, 200]))"
      ]
     },
     "execution_count": 354,
     "metadata": {},
     "output_type": "execute_result"
    }
   ],
   "source": [
    "h, h.shape"
   ]
  },
  {
   "cell_type": "code",
   "execution_count": 355,
   "id": "0b944514-8460-481d-85ef-9b15a418095d",
   "metadata": {},
   "outputs": [
    {
     "data": {
      "image/png": "[encoded data removed]",
      "text/plain": [
       "<Figure size 640x480 with 1 Axes>"
      ]
     },
     "metadata": {},
     "output_type": "display_data"
    }
   ],
   "source": [
    "plt.hist(h.view(-1).tolist(), 50);"
   ]
  },
  {
   "cell_type": "code",
   "execution_count": 356,
   "id": "28e455ba-be57-4350-84ff-d0bb3e3fb47c",
   "metadata": {},
   "outputs": [
    {
     "data": {
      "image/png": "[encoded data removed]",
      "text/plain": [
       "<Figure size 640x480 with 1 Axes>"
      ]
     },
     "metadata": {},
     "output_type": "display_data"
    }
   ],
   "source": [
    "plt.hist(hpreact.view(-1).tolist(), 50);"
   ]
  },
  {
   "cell_type": "code",
   "execution_count": 357,
   "id": "271dbe18-3db0-4a65-bc43-a90a617996cb",
   "metadata": {},
   "outputs": [
    {
     "data": {
      "text/plain": [
       "<matplotlib.image.AxesImage at 0x7efedc64ca10>"
      ]
     },
     "execution_count": 357,
     "metadata": {},
     "output_type": "execute_result"
    },
    {
     "data": {
      "image/png": "[encoded data removed]",
      "text/plain": [
       "<Figure size 1000x2000 with 1 Axes>"
      ]
     },
     "metadata": {},
     "output_type": "display_data"
    }
   ],
   "source": [
    "plt.figure(figsize=(10, 20))\n",
    "plt.imshow(h.abs() >= 0.99, cmap=\"gray\", interpolation=\"nearest\")"
   ]
  },
  {
   "cell_type": "markdown",
   "id": "7a3cee70-9b18-4461-9de6-bb34bd2153de",
   "metadata": {},
   "source": [
    "### White = 1, True; and Black = 0 False;"
   ]
  },
  {
   "cell_type": "code",
   "execution_count": 358,
   "id": "72c68b69-2cb2-4f6d-968b-d397a4db067b",
   "metadata": {},
   "outputs": [
    {
     "data": {
      "text/plain": [
       "<matplotlib.image.AxesImage at 0x7efedc6f7cd0>"
      ]
     },
     "execution_count": 358,
     "metadata": {},
     "output_type": "execute_result"
    },
    {
     "data": {
      "image/png": "[encoded data removed]",
      "text/plain": [
       "<Figure size 1000x2000 with 1 Axes>"
      ]
     },
     "metadata": {},
     "output_type": "display_data"
    }
   ],
   "source": [
    "plt.figure(figsize=(10, 20))\n",
    "plt.imshow(0 * h.abs() >= 0.99, cmap=\"gray\", interpolation=\"nearest\")"
   ]
  },
  {
   "cell_type": "code",
   "execution_count": 359,
   "id": "0ab762d8-39d6-4098-bd45-ced5fe52500d",
   "metadata": {},
   "outputs": [
    {
     "data": {
      "text/plain": [
       "(torch.Size([32, 200]), torch.Size([32, 200]))"
      ]
     },
     "execution_count": 359,
     "metadata": {},
     "output_type": "execute_result"
    }
   ],
   "source": [
    "h.shape, hpreact.shape"
   ]
  },
  {
   "cell_type": "code",
   "execution_count": 360,
   "id": "a14a29d8-2cdc-4893-bc7b-76fb2597ac9c",
   "metadata": {},
   "outputs": [
    {
     "data": {
      "text/plain": [
       "[5.22398567199707,\n",
       " 4.9029035568237305,\n",
       " 4.814296722412109,\n",
       " 4.871747016906738,\n",
       " 4.252354145050049,\n",
       " 3.7364706993103027,\n",
       " 3.9188549518585205,\n",
       " 3.957167148590088,\n",
       " 3.860842227935791,\n",
       " 3.8980870246887207]"
      ]
     },
     "execution_count": 360,
     "metadata": {},
     "output_type": "execute_result"
    }
   ],
   "source": [
    "lossi[:10]"
   ]
  },
  {
   "cell_type": "code",
   "execution_count": 361,
   "id": "ce2986d7-9344-4bcb-b197-5881962f47a6",
   "metadata": {},
   "outputs": [
    {
     "data": {
      "image/png": "[encoded data removed]",
      "text/plain": [
       "<Figure size 640x480 with 1 Axes>"
      ]
     },
     "metadata": {},
     "output_type": "display_data"
    }
   ],
   "source": [
    "plt.plot(lossi)\n",
    "plt.grid(True)"
   ]
  },
  {
   "cell_type": "code",
   "execution_count": 362,
   "id": "a9a54ebd-0bec-4e58-a83d-1920d227591c",
   "metadata": {},
   "outputs": [
    {
     "data": {
      "text/plain": [
       "tensor([ 0.4486,  2.5683, -1.2992, -1.2617, -0.7357,  3.0664, -2.8948, -0.4666,\n",
       "        -0.3286,  2.2480, -2.5368, -2.1696, -0.4548,  1.5566, -0.2071,  1.7689,\n",
       "         0.1650, -3.1802,  3.4540, -0.6641, -0.9446,  1.1028, -1.0540, -0.3115,\n",
       "        -3.7060,  1.2663, -1.5581], grad_fn=<SelectBackward0>)"
      ]
     },
     "execution_count": 362,
     "metadata": {},
     "output_type": "execute_result"
    }
   ],
   "source": [
    "logits[0]"
   ]
  },
  {
   "cell_type": "code",
   "execution_count": 296,
   "id": "cf54c18c-9b8e-4a8d-9197-39eea1398066",
   "metadata": {},
   "outputs": [
    {
     "data": {
      "text/plain": [
       "tensor(1., grad_fn=<SumBackward0>)"
      ]
     },
     "execution_count": 296,
     "metadata": {},
     "output_type": "execute_result"
    }
   ],
   "source": [
    "probs = torch.softmax(logits[0], dim=0)\n",
    "probs.sum()\n",
    "# plt.imshow()"
   ]
  },
  {
   "cell_type": "code",
   "execution_count": 297,
   "id": "327f934b-adb1-4a76-a919-0de2b58c0d8a",
   "metadata": {},
   "outputs": [],
   "source": [
    "probs = torch.softmax(logits, dim=1)"
   ]
  },
  {
   "cell_type": "code",
   "execution_count": 279,
   "id": "7b1e496f-6362-4e0d-8947-0e8b3cab6ba4",
   "metadata": {},
   "outputs": [
    {
     "data": {
      "text/plain": [
       "torch.Size([32, 27])"
      ]
     },
     "execution_count": 279,
     "metadata": {},
     "output_type": "execute_result"
    }
   ],
   "source": [
    "probs.shape"
   ]
  },
  {
   "cell_type": "code",
   "execution_count": 280,
   "id": "af48fc69-dd96-4efd-bbf0-74c94a0721f4",
   "metadata": {},
   "outputs": [
    {
     "data": {
      "text/plain": [
       "(torch.Size([27]),\n",
       " tensor(1., grad_fn=<SumBackward0>),\n",
       " torch.Size([27]),\n",
       " tensor(1.0000, grad_fn=<SumBackward0>))"
      ]
     },
     "execution_count": 280,
     "metadata": {},
     "output_type": "execute_result"
    }
   ],
   "source": [
    "probs[0].shape, probs[0].sum(), probs[1].shape, probs[1].sum()"
   ]
  },
  {
   "cell_type": "code",
   "execution_count": null,
   "id": "2381effc-3442-4665-811b-81efed52f43a",
   "metadata": {},
   "outputs": [],
   "source": []
  },
  {
   "cell_type": "code",
   "execution_count": null,
   "id": "e2f99643-2b07-4846-b7b9-c5272b78cf46",
   "metadata": {},
   "outputs": [],
   "source": []
  },
  {
   "cell_type": "code",
   "execution_count": 281,
   "id": "919c8ca4-df26-4648-9b87-a02995043613",
   "metadata": {},
   "outputs": [
    {
     "data": {
      "image/png": "[encoded data removed]",
      "text/plain": [
       "<Figure size 640x480 with 1 Axes>"
      ]
     },
     "metadata": {},
     "output_type": "display_data"
    }
   ],
   "source": []
  },
  {
   "cell_type": "code",
   "execution_count": 282,
   "id": "c3e956e4-5839-429d-8746-3a8c4a3675fc",
   "metadata": {},
   "outputs": [],
   "source": [
    "@torch.no_grad()\n",
    "def evaluate(split: str):\n",
    "\n",
    "    data_map = {\n",
    "        \"train\": (X_train, Y_train),\n",
    "        \"val\": (X_val, Y_val),\n",
    "        \"test\": (X_test, Y_test),\n",
    "    }\n",
    "\n",
    "    \n",
    "    x, y = data_map[split]\n",
    "    emb = C[x]\n",
    "    emb_cat = emb.view(emb.shape[0], -1)\n",
    "    h = torch.tanh(emb_cat @ W1 + b1)\n",
    "    logits = h @ W2 + b2\n",
    "    loss = F.cross_entropy(logits, y)\n",
    "    \n",
    "    print(f\"{split = }, {loss.item() = }\")"
   ]
  },
  {
   "cell_type": "code",
   "execution_count": 283,
   "id": "97c6b784-5268-4311-9e86-6117bc045123",
   "metadata": {},
   "outputs": [
    {
     "name": "stdout",
     "output_type": "stream",
     "text": [
      "split = 'train', loss.item() = 4.4398698806762695\n",
      "split = 'val', loss.item() = 4.44188928604126\n",
      "split = 'test', loss.item() = 4.441650390625\n"
     ]
    }
   ],
   "source": [
    "evaluate(\"train\")    \n",
    "evaluate(\"val\")    \n",
    "evaluate(\"test\")    "
   ]
  },
  {
   "cell_type": "code",
   "execution_count": 95,
   "id": "df8be6c2-09b8-4aa0-babf-8a97b504c57f",
   "metadata": {},
   "outputs": [
    {
     "name": "stdout",
     "output_type": "stream",
     "text": [
      "0 kerson.\n",
      "1 nesh.\n",
      "2 parlon.\n",
      "3 reni.\n",
      "4 kas.\n",
      "5 caifordri.\n",
      "6 fivia.\n",
      "7 eir.\n",
      "8 meani.\n",
      "9 altculeeghayni.\n",
      "10 kenaay.\n",
      "11 tor.\n",
      "12 fraexe.\n",
      "13 dianis.\n",
      "14 liziasganittewah.\n",
      "15 cedda.\n",
      "16 seid.\n",
      "17 amryssavalsyn.\n",
      "18 gettoldernille.\n",
      "19 asty.\n"
     ]
    },
    {
     "name": "stderr",
     "output_type": "stream",
     "text": [
      "/tmp/ipykernel_29624/1897569945.py:12: UserWarning: Implicit dimension choice for softmax has been deprecated. Change the call to include dim=X as an argument.\n",
      "  probs_test = F.softmax(logits)\n"
     ]
    }
   ],
   "source": [
    "# sample from the model \n",
    "rg = torch.Generator().manual_seed(RANDOM_SEED + 10)\n",
    "\n",
    "for t in range(20):\n",
    "    out = []\n",
    "    context = [0] * NUM_BLOCKS\n",
    "    while True:\n",
    "        # emb = C[torch.tensor([context])]\n",
    "        emb = C[torch.tensor([context])]\n",
    "        h = torch.tanh(emb.view(1, -1) @ W1 + b1)\n",
    "        logits = h @ W2 + b2\n",
    "        probs_test = F.softmax(logits)\n",
    "        probs = F.softmax(logits, dim=1)\n",
    "    \n",
    "        ix = torch.multinomial(probs, num_samples=1, generator=rg)\n",
    "        ch = itos[ix.item()]\n",
    "        # print(ch)  \n",
    "        context = context[1:] + [ix]\n",
    "        out.append(ix)\n",
    "    \n",
    "        if ix == 0:\n",
    "            break\n",
    "    print(t, \"\".join(itos[i.item()] for i in out))\n",
    "    \n",
    "    # print(\"\".join()"
   ]
  },
  {
   "cell_type": "code",
   "execution_count": 94,
   "id": "a185b23f-0c21-462f-822f-e63b26c34a44",
   "metadata": {},
   "outputs": [],
   "source": [
    "emb = C[torch.tensor(context)]"
   ]
  },
  {
   "cell_type": "code",
   "execution_count": 64,
   "id": "104d3036-2b58-43a4-9c52-b977e93209b6",
   "metadata": {},
   "outputs": [
    {
     "data": {
      "text/plain": [
       "torch.Size([3, 10])"
      ]
     },
     "execution_count": 64,
     "metadata": {},
     "output_type": "execute_result"
    }
   ],
   "source": [
    "emb.shape"
   ]
  },
  {
   "cell_type": "code",
   "execution_count": 66,
   "id": "9ce52e8b-fdfd-446e-a65d-bb36f7433227",
   "metadata": {},
   "outputs": [
    {
     "data": {
      "text/plain": [
       "torch.Size([1, 30])"
      ]
     },
     "execution_count": 66,
     "metadata": {},
     "output_type": "execute_result"
    }
   ],
   "source": [
    "emb.view(1, -1).shape"
   ]
  },
  {
   "cell_type": "code",
   "execution_count": 63,
   "id": "acb6de7a-4d66-4f04-9d11-979e23714f2b",
   "metadata": {},
   "outputs": [
    {
     "data": {
      "text/plain": [
       "torch.Size([1, 3, 10])"
      ]
     },
     "execution_count": 63,
     "metadata": {},
     "output_type": "execute_result"
    }
   ],
   "source": [
    "C[torch.tensor([context])].shape"
   ]
  },
  {
   "cell_type": "code",
   "execution_count": 71,
   "id": "8ed89520-0a0d-435b-810c-fd11614e871c",
   "metadata": {},
   "outputs": [
    {
     "data": {
      "text/plain": [
       "torch.Size([1, 27])"
      ]
     },
     "execution_count": 71,
     "metadata": {},
     "output_type": "execute_result"
    }
   ],
   "source": [
    "probs_t.shape"
   ]
  },
  {
   "cell_type": "code",
   "execution_count": 72,
   "id": "0598ccb5-89ef-4c6d-bb43-321d27713c16",
   "metadata": {},
   "outputs": [
    {
     "data": {
      "text/plain": [
       "torch.Size([1, 27])"
      ]
     },
     "execution_count": 72,
     "metadata": {},
     "output_type": "execute_result"
    }
   ],
   "source": [
    "probs.shape"
   ]
  },
  {
   "cell_type": "code",
   "execution_count": 74,
   "id": "fe003939-bfbd-4195-85c4-4722ecc54c0c",
   "metadata": {},
   "outputs": [
    {
     "data": {
      "text/plain": [
       "tensor(1., grad_fn=<SumBackward0>)"
      ]
     },
     "execution_count": 74,
     "metadata": {},
     "output_type": "execute_result"
    }
   ],
   "source": [
    "probs_t.sum()"
   ]
  },
  {
   "cell_type": "code",
   "execution_count": 75,
   "id": "f8f086b5-cb1f-4642-b57d-b5184a9b3127",
   "metadata": {},
   "outputs": [
    {
     "data": {
      "text/plain": [
       "torch.Size([1, 27])"
      ]
     },
     "execution_count": 75,
     "metadata": {},
     "output_type": "execute_result"
    }
   ],
   "source": [
    "logits.shape"
   ]
  },
  {
   "cell_type": "code",
   "execution_count": 125,
   "id": "1dee59f0-3530-4714-8608-89874a30e9fe",
   "metadata": {},
   "outputs": [],
   "source": [
    "logits = torch.tensor([100.0, 0.0, 0.0, 0.0])\n",
    "logits = torch.rand(4) * 100\n",
    "probs = torch.softmax(logits, dim=0)"
   ]
  },
  {
   "cell_type": "code",
   "execution_count": 126,
   "id": "34505602-77ee-487d-98ba-dfc053acaf68",
   "metadata": {},
   "outputs": [
    {
     "data": {
      "text/plain": [
       "tensor([9.9908e-01, 3.2862e-13, 9.2450e-04, 2.8196e-08])"
      ]
     },
     "execution_count": 126,
     "metadata": {},
     "output_type": "execute_result"
    }
   ],
   "source": [
    "probs"
   ]
  },
  {
   "cell_type": "code",
   "execution_count": 127,
   "id": "77c47591-0207-4e87-81b3-cae107697c0f",
   "metadata": {},
   "outputs": [],
   "source": [
    "loss = - probs[2].log()"
   ]
  },
  {
   "cell_type": "code",
   "execution_count": 128,
   "id": "1c4d6993-b47b-48c0-aa76-24fb33e2c44f",
   "metadata": {},
   "outputs": [
    {
     "data": {
      "text/plain": [
       "(tensor([61.7796, 33.0366, 54.7942, 44.3964]),\n",
       " tensor([9.9908e-01, 3.2862e-13, 9.2450e-04, 2.8196e-08]),\n",
       " tensor(6.9863))"
      ]
     },
     "execution_count": 128,
     "metadata": {},
     "output_type": "execute_result"
    }
   ],
   "source": [
    "logits, probs, loss"
   ]
  },
  {
   "cell_type": "code",
   "execution_count": null,
   "id": "dfb633c1-2efd-45c7-9dd5-090b5c58ec45",
   "metadata": {},
   "outputs": [],
   "source": []
  },
  {
   "cell_type": "code",
   "execution_count": 313,
   "id": "7cb1b5ce-b112-4f6a-a022-faccd5232a3b",
   "metadata": {},
   "outputs": [
    {
     "data": {
      "text/plain": [
       "torch.Size([10])"
      ]
     },
     "execution_count": 313,
     "metadata": {},
     "output_type": "execute_result"
    }
   ],
   "source": [
    "torch.randn(10).shape"
   ]
  },
  {
   "cell_type": "code",
   "execution_count": 325,
   "id": "e83a3e2b-ccd1-418e-9253-70c87be30183",
   "metadata": {},
   "outputs": [
    {
     "name": "stdout",
     "output_type": "stream",
     "text": [
      "0.9087595343589783\n",
      "0.9427216053009033\n",
      "1.2110837697982788\n",
      "1.1623538732528687\n",
      "1.019275188446045\n",
      "1.0205391645431519\n",
      "1.1242066621780396\n",
      "1.078918695449829\n",
      "0.9643968343734741\n",
      "0.9453296065330505\n"
     ]
    }
   ],
   "source": [
    "for i in range(10):\n",
    "    r = torch.randn(100)\n",
    "    print(# r.mean().item(), \n",
    "          r.std().item())"
   ]
  },
  {
   "cell_type": "code",
   "execution_count": null,
   "id": "ecc188d0-581c-48ad-bd84-dfc096b78327",
   "metadata": {},
   "outputs": [],
   "source": []
  }
 ],
 "metadata": {
  "kernelspec": {
   "display_name": "Python 3 (ipykernel)",
   "language": "python",
   "name": "python3"
  },
  "language_info": {
   "codemirror_mode": {
    "name": "ipython",
    "version": 3
   },
   "file_extension": ".py",
   "mimetype": "text/x-python",
   "name": "python",
   "nbconvert_exporter": "python",
   "pygments_lexer": "ipython3",
   "version": "3.11.7"
  }
 },
 "nbformat": 4,
 "nbformat_minor": 5
}
