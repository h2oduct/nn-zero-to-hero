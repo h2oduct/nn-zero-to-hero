{
 "cells": [
  {
   "cell_type": "markdown",
   "id": "881282e2-b034-4d09-bc98-97992195ccb4",
   "metadata": {},
   "source": [
    "### makemore: lect03"
   ]
  },
  {
   "cell_type": "markdown",
   "id": "28bf6f03-63a9-45e7-af95-610638eea665",
   "metadata": {},
   "source": [
    "\n",
    "### day14\n",
    "\n",
    "- 202403120630--202403120800\n",
    "- 202403122000--202403122100\n",
    "\n",
    "### day 15\n",
    "- 202403130845--202403131200\n",
    "  \n",
    "### day 16\n",
    "- 202403140630--202403140800\n",
    "\n",
    "### day 17\n",
    "- 202403152100--202403152130\n",
    "\n",
    "\n",
    "### day 18\n",
    "- 202403161300--202403161500\n",
    "\n",
    "  \n",
    "### day 19\n",
    "- 202403170900--202403171215\n",
    "- "
   ]
  },
  {
   "cell_type": "code",
   "execution_count": 162,
   "id": "e1b9b2ad-4271-410e-8e45-1becc1577c63",
   "metadata": {},
   "outputs": [],
   "source": [
    "import torch\n",
    "import torch.nn.functional as F\n",
    "import matplotlib.pyplot as plt\n",
    "%matplotlib inline\n",
    "\n",
    "from typing import List, Any"
   ]
  },
  {
   "cell_type": "markdown",
   "id": "4781e9ea-2a9f-4ee4-8454-05c0d30432ee",
   "metadata": {},
   "source": [
    "### Constants"
   ]
  },
  {
   "cell_type": "code",
   "execution_count": 1281,
   "id": "9ffa18d3-cc30-4f5d-8ebd-78eb6e4c0c37",
   "metadata": {},
   "outputs": [],
   "source": [
    "RANDOM_SEED = 10\n",
    "NUM_BLOCKS = 3\n",
    "NUM_DIM_CHARS = 2\n",
    "NUM_HIDDEN = 20"
   ]
  },
  {
   "cell_type": "markdown",
   "id": "15eb4a44-dcde-4695-9ce7-2d054c8db5da",
   "metadata": {},
   "source": [
    "### Random Generator"
   ]
  },
  {
   "cell_type": "code",
   "execution_count": 404,
   "id": "89d72902-36c2-4caa-b39c-76c3c4884592",
   "metadata": {},
   "outputs": [],
   "source": [
    "import random\n",
    "import numpy as np\n",
    "\n",
    "rand_gen = torch.Generator().manual_seed(RANDOM_SEED)\n",
    "RAND_GEN = rand_gen\n",
    "\n",
    "torch.manual_seed(RANDOM_SEED)\n",
    "random.seed(RANDOM_SEED)\n",
    "np.random.seed(RANDOM_SEED)"
   ]
  },
  {
   "cell_type": "markdown",
   "id": "88cbf0e8-8a35-4e5a-beed-6a7dfd2880cc",
   "metadata": {},
   "source": [
    "### Read File"
   ]
  },
  {
   "cell_type": "code",
   "execution_count": 405,
   "id": "6f0ec892-6413-472e-b504-36196138b957",
   "metadata": {},
   "outputs": [
    {
     "data": {
      "text/plain": [
       "(32033, ['emma', 'olivia', 'ava', 'isabella', 'sophia'])"
      ]
     },
     "execution_count": 405,
     "metadata": {},
     "output_type": "execute_result"
    }
   ],
   "source": [
    "words = open(\"names.txt\").read().splitlines()\n",
    "len(words), words[:5]"
   ]
  },
  {
   "cell_type": "markdown",
   "id": "cd340835-ef13-4c2d-a575-a04bbc333e7e",
   "metadata": {},
   "source": [
    "### Make Mappings: `chr -> int` and `int -> chr`"
   ]
  },
  {
   "cell_type": "code",
   "execution_count": 406,
   "id": "1c124786-03ed-44d6-88ab-7a89865c5b8a",
   "metadata": {},
   "outputs": [
    {
     "data": {
      "text/plain": [
       "(97, 122, 26, 'a', 'z')"
      ]
     },
     "execution_count": 406,
     "metadata": {},
     "output_type": "execute_result"
    }
   ],
   "source": [
    "ord(\"a\"), ord(\"z\"), ord(\"z\") - ord(\"a\") + 1, chr(ord(\"a\")), chr(ord(\"z\"))"
   ]
  },
  {
   "cell_type": "code",
   "execution_count": 407,
   "id": "aca4e3b1-913a-457c-88cf-de5b998ac41f",
   "metadata": {},
   "outputs": [],
   "source": [
    "itos = {i - ord(\"a\") + 1: chr(i) for i in range(ord(\"a\"), ord(\"z\") + 1)}\n",
    "itos[0] = \".\"\n",
    "\n",
    "stoi = {s: i for i, s in itos.items()}\n",
    "\n",
    "# stoi\n",
    "# itos"
   ]
  },
  {
   "cell_type": "code",
   "execution_count": 408,
   "id": "681fa387-4fa5-43be-a7f6-26a7dfebe742",
   "metadata": {},
   "outputs": [
    {
     "data": {
      "text/plain": [
       "['a', 'b', 'c', 'd', 'e', 'f', 'g', 'h', 'i', 'j']"
      ]
     },
     "execution_count": 408,
     "metadata": {},
     "output_type": "execute_result"
    }
   ],
   "source": [
    "chars = sorted(list(set(\"\".join(words))))\n",
    "chars[:10]"
   ]
  },
  {
   "cell_type": "code",
   "execution_count": 409,
   "id": "6edfb969-b60b-46ff-aeeb-d275ed58de94",
   "metadata": {},
   "outputs": [],
   "source": [
    "stoi = {s: i + 1 for i, s in enumerate(chars)}\n",
    "stoi[\".\"] = 0\n",
    "itos = {i: s for s, i in stoi.items()}"
   ]
  },
  {
   "cell_type": "markdown",
   "id": "ec60defb-7bbc-4928-bb51-504a8c15adce",
   "metadata": {},
   "source": [
    "### Get Data"
   ]
  },
  {
   "cell_type": "code",
   "execution_count": 410,
   "id": "fe80c8c4-52da-4a00-9a5e-d0fba9579891",
   "metadata": {},
   "outputs": [],
   "source": [
    "def get_data(words: List[str], num_blocks: int = 3, stoi=stoi) -> (List[torch.tensor], List[torch.tensor]):\n",
    "    \"\"\"get data\"\"\"\n",
    "\n",
    "    X, Y = [], []\n",
    "\n",
    "\n",
    "    # ## tese lines are for testing:\n",
    "    # for word in words[:5]:\n",
    "    #     print(\"-\" * 80)\n",
    "\n",
    "    for word in words:\n",
    "        context = [0] * num_blocks\n",
    "        for ch in word + \".\":\n",
    "            i = stoi[ch]\n",
    "            # append the current char ch, i.e. the index i into Y;\n",
    "            # at the same time append the current context into X;\n",
    "            # (the context up to now) contains letters that preeced the char ch\n",
    "            # print(\" \".join((itos[ix] for ix in context)), \"--->\", ch)\n",
    "            X.append(context)\n",
    "            Y.append(i)\n",
    "            context = context[1: ] + [i]\n",
    "           \n",
    "\n",
    "    X = torch.tensor(X)\n",
    "    Y = torch.tensor(Y)\n",
    "    return X, Y"
   ]
  },
  {
   "cell_type": "code",
   "execution_count": 411,
   "id": "3cb05f04-a228-4879-9580-93c17110b11f",
   "metadata": {},
   "outputs": [
    {
     "data": {
      "text/plain": [
       "(tensor([[ 0,  0,  0],\n",
       "         [ 0,  0,  5],\n",
       "         [ 0,  5, 13],\n",
       "         ...,\n",
       "         [26, 26, 25],\n",
       "         [26, 25, 26],\n",
       "         [25, 26, 24]]),\n",
       " tensor([ 5, 13, 13,  ..., 26, 24,  0]))"
      ]
     },
     "execution_count": 411,
     "metadata": {},
     "output_type": "execute_result"
    }
   ],
   "source": [
    "get_data(words)"
   ]
  },
  {
   "cell_type": "code",
   "execution_count": 412,
   "id": "95f8e168-8b80-4966-8498-d20b2d43819f",
   "metadata": {
    "scrolled": true
   },
   "outputs": [],
   "source": [
    "num_blocks = NUM_BLOCKS\n",
    "X, Y = get_data(words, num_blocks=num_blocks)"
   ]
  },
  {
   "cell_type": "code",
   "execution_count": 413,
   "id": "2b9a36ba-227f-4bf4-b522-27a8b418dc67",
   "metadata": {},
   "outputs": [
    {
     "data": {
      "text/plain": [
       "tensor([[ 0,  0,  0],\n",
       "        [ 0,  0,  5],\n",
       "        [ 0,  5, 13],\n",
       "        [ 5, 13, 13],\n",
       "        [13, 13,  1],\n",
       "        [ 0,  0,  0],\n",
       "        [ 0,  0, 15],\n",
       "        [ 0, 15, 12],\n",
       "        [15, 12,  9],\n",
       "        [12,  9, 22]])"
      ]
     },
     "execution_count": 413,
     "metadata": {},
     "output_type": "execute_result"
    }
   ],
   "source": [
    "X[:10]"
   ]
  },
  {
   "cell_type": "code",
   "execution_count": 414,
   "id": "072e720e-e0fa-43d2-84f7-1ba47340ddee",
   "metadata": {},
   "outputs": [
    {
     "data": {
      "text/plain": [
       "tensor([ 5, 13, 13,  1,  0, 15, 12,  9, 22,  9])"
      ]
     },
     "execution_count": 414,
     "metadata": {},
     "output_type": "execute_result"
    }
   ],
   "source": [
    "Y[:10]"
   ]
  },
  {
   "cell_type": "code",
   "execution_count": null,
   "id": "dee258fe-f937-4333-b532-d92229366e02",
   "metadata": {},
   "outputs": [],
   "source": []
  },
  {
   "cell_type": "markdown",
   "id": "5ac45397-668b-4c28-953e-c6c7ff62c6e9",
   "metadata": {},
   "source": [
    "### Split Data: `train`, `val/dev`, and `test`"
   ]
  },
  {
   "cell_type": "code",
   "execution_count": 415,
   "id": "f35e9765-852e-4652-a2c8-5edfe62d6f4e",
   "metadata": {},
   "outputs": [
    {
     "data": {
      "text/plain": [
       "(torch.Size([228146, 3]), 228146)"
      ]
     },
     "execution_count": 415,
     "metadata": {},
     "output_type": "execute_result"
    }
   ],
   "source": [
    "X.shape, X.shape[0]"
   ]
  },
  {
   "cell_type": "code",
   "execution_count": 416,
   "id": "2a3bcc70-f974-449e-8ff8-977dd4033dc6",
   "metadata": {},
   "outputs": [
    {
     "data": {
      "text/plain": [
       "(torch.Size([228146]), 228146)"
      ]
     },
     "execution_count": 416,
     "metadata": {},
     "output_type": "execute_result"
    }
   ],
   "source": [
    "Y.shape, Y.shape[0]"
   ]
  },
  {
   "cell_type": "code",
   "execution_count": 417,
   "id": "24ab8c9d-1ee3-42d0-b288-7c9fe7b5896a",
   "metadata": {},
   "outputs": [
    {
     "data": {
      "text/plain": [
       "tensor([117017,  81926, 152774,   8097, 220660,  38770, 226753, 147220, 224337,\n",
       "        175417])"
      ]
     },
     "execution_count": 417,
     "metadata": {},
     "output_type": "execute_result"
    }
   ],
   "source": [
    "indexes = torch.randperm(X.shape[0], generator=rand_gen)\n",
    "indexes[:10]"
   ]
  },
  {
   "cell_type": "code",
   "execution_count": 418,
   "id": "b6af5db7-a9d7-4bd5-8bb6-cb500bbc1904",
   "metadata": {},
   "outputs": [
    {
     "data": {
      "text/plain": [
       "tensor([184694,  31158,  21725,  15842,   3894,  75184,  50599, 156241, 116075,\n",
       "         47106])"
      ]
     },
     "execution_count": 418,
     "metadata": {},
     "output_type": "execute_result"
    }
   ],
   "source": [
    "# this list changes over time?!\n",
    "torch.randperm(X.shape[0], generator=rand_gen)[:10]"
   ]
  },
  {
   "cell_type": "code",
   "execution_count": 419,
   "id": "d0bcc3d8-99cb-4fc9-ad3b-0f12687c6b37",
   "metadata": {},
   "outputs": [],
   "source": [
    "def split_data(X, y, split=0.8):\n",
    "    \n",
    "    \"\"\"split data into train, val, and test sets\"\"\"\n",
    "    \n",
    "    assert X.shape[0] == y.shape[0], \"input data X and Y sizes do not match.\"\n",
    "    assert (0 < split and split < 1), \"the split for training data should be within (0, 1).\"\n",
    "    \n",
    "    len_data = X.shape[0]\n",
    "    shuffled_indices = torch.randperm(X.shape[0], generator=rand_gen)\n",
    "\n",
    "    len_train = int(split * len_data)\n",
    "    len_val = (len_data - len_train) // 2\n",
    "    len_test = len_data - len_train - len_val\n",
    "    \n",
    "    \n",
    "    X_train = X[shuffled_indices][:len_train]\n",
    "    X_val = X[shuffled_indices][len_train: len_train + len_val]\n",
    "    X_test = X[shuffled_indices][- len_test:]\n",
    "    \n",
    "    y_train = Y[shuffled_indices][:len_train]\n",
    "    y_val = Y[shuffled_indices][len_train: len_train + len_val]\n",
    "    y_test = Y[shuffled_indices][- len_test:]\n",
    "\n",
    "    return X_train, X_val, X_test, y_train, y_val, y_test"
   ]
  },
  {
   "cell_type": "code",
   "execution_count": 420,
   "id": "22b3882d-ff13-4ebb-b6ac-1f0c3d970d92",
   "metadata": {},
   "outputs": [],
   "source": [
    "X_train, X_val, X_test, Y_train, Y_val, Y_test = split_data(X, Y)"
   ]
  },
  {
   "cell_type": "code",
   "execution_count": 421,
   "id": "80747879-d858-4f0d-a947-81052dfaed59",
   "metadata": {},
   "outputs": [
    {
     "data": {
      "text/plain": [
       "(torch.Size([182516, 3]),\n",
       " torch.Size([22815, 3]),\n",
       " torch.Size([22815, 3]),\n",
       " torch.Size([182516]),\n",
       " torch.Size([22815]),\n",
       " torch.Size([22815]))"
      ]
     },
     "execution_count": 421,
     "metadata": {},
     "output_type": "execute_result"
    }
   ],
   "source": [
    "X_train.shape, X_val.shape, X_test.shape, Y_train.shape, Y_val.shape, Y_test.shape"
   ]
  },
  {
   "cell_type": "markdown",
   "id": "8b6f9848-0db7-4f73-8fc8-646c8b2d1b4d",
   "metadata": {},
   "source": [
    "### MLP revisted"
   ]
  },
  {
   "cell_type": "code",
   "execution_count": null,
   "id": "59c58404-abf6-4d65-a8e3-ad262a959eb2",
   "metadata": {},
   "outputs": [],
   "source": []
  },
  {
   "cell_type": "markdown",
   "id": "fd56e886-39b2-4caa-9e92-3812d7e10352",
   "metadata": {},
   "source": [
    "### Develop Model\n",
    "\n",
    "- `C` is a mapping that translates `chars` into a `dim`-dimensional vector space;"
   ]
  },
  {
   "cell_type": "code",
   "execution_count": null,
   "id": "48a42452-2e10-4119-859d-620f29e15650",
   "metadata": {},
   "outputs": [],
   "source": []
  },
  {
   "cell_type": "code",
   "execution_count": 422,
   "id": "4379ef6f-cab7-4105-bd60-41560bff21cb",
   "metadata": {},
   "outputs": [],
   "source": [
    "### given the context X; \n",
    "### we predict the following char given in Y; \n",
    "### and the prediction belongs in one out of 27 classes; \n",
    "### i.e. there are 27 chars as a possibility for it. \n",
    "\n",
    "vocab_size = 27 "
   ]
  },
  {
   "cell_type": "code",
   "execution_count": 423,
   "id": "ef6fbc34-bf65-4bed-bc32-8cd920bc4ae6",
   "metadata": {},
   "outputs": [
    {
     "name": "stdout",
     "output_type": "stream",
     "text": [
      "12297\n"
     ]
    }
   ],
   "source": [
    "# MLP revisted\n",
    "n_embed = 10 # the dimensionality of the char. embedding \n",
    "n_hidden = 200 # the number of neurons in the hidden layers\n",
    "\n",
    "g = torch.Generator().manual_seed(2147483647)\n",
    "C = torch.randn((vocab_size, n_embed), generator=g)\n",
    "W1 = torch.randn((n_embed * num_blocks, n_hidden), generator=g) * (5 /3) / ((n_embed * num_blocks) ** 0.5)\n",
    "b1 = torch.randn(n_hidden, generator=g) * 0.01\n",
    "\n",
    "W2 = torch.randn((n_hidden, vocab_size), generator=g) * 0.2\n",
    "b2 = torch.randn(vocab_size, generator=g) * 0.01\n",
    "\n",
    "bngain = torch.ones((1, n_hidden))\n",
    "bnbias = torch.zeros((1, n_hidden))\n",
    "\n",
    "bnmean_running = torch.zeros((1, n_hidden))\n",
    "bnstd_running = torch.ones((1, n_hidden))\n",
    "\n",
    "parameters = [C, W1, b1, W2, b2, bngain, bnbias]\n",
    "print(sum(p.nelement() for p in parameters)) # number of parameters total\n",
    "for p in parameters:\n",
    "    p.requires_grad = True"
   ]
  },
  {
   "cell_type": "markdown",
   "id": "4017da4b-8aea-4c25-b9d0-7c353fbcaa11",
   "metadata": {},
   "source": [
    "### Pay attention about shapes"
   ]
  },
  {
   "cell_type": "code",
   "execution_count": 424,
   "id": "40cf1862-dd47-421b-9716-b9caddb0d025",
   "metadata": {},
   "outputs": [
    {
     "data": {
      "text/plain": [
       "torch.Size([182516, 200])"
      ]
     },
     "execution_count": 424,
     "metadata": {},
     "output_type": "execute_result"
    }
   ],
   "source": [
    "hpreact.shape"
   ]
  },
  {
   "cell_type": "code",
   "execution_count": 425,
   "id": "a7bd2d2f-86ab-4fd3-96ce-51d66d05fd5a",
   "metadata": {},
   "outputs": [
    {
     "data": {
      "text/plain": [
       "tensor([-0.4777,  0.5704,  0.1981,  0.3437,  0.7030])"
      ]
     },
     "execution_count": 425,
     "metadata": {},
     "output_type": "execute_result"
    }
   ],
   "source": [
    "torch.randn((5, ), generator=rand_gen)"
   ]
  },
  {
   "cell_type": "code",
   "execution_count": 426,
   "id": "ee1bf84b-0979-48b2-a381-9f9ddcab2ddc",
   "metadata": {},
   "outputs": [
    {
     "data": {
      "text/plain": [
       "tensor([-1.0422, -0.6502, -0.3110,  1.1155, -0.2288])"
      ]
     },
     "execution_count": 426,
     "metadata": {},
     "output_type": "execute_result"
    }
   ],
   "source": [
    "torch.randn(5, generator=rand_gen)"
   ]
  },
  {
   "cell_type": "code",
   "execution_count": 427,
   "id": "7534bc9c-bf91-4daf-83b2-3e94f1958786",
   "metadata": {},
   "outputs": [
    {
     "data": {
      "text/plain": [
       "tensor([[-1.1359],\n",
       "        [ 0.2450],\n",
       "        [-0.9370],\n",
       "        [ 0.2569],\n",
       "        [ 0.0738]])"
      ]
     },
     "execution_count": 427,
     "metadata": {},
     "output_type": "execute_result"
    }
   ],
   "source": [
    "torch.randn((5, 1), generator=rand_gen)"
   ]
  },
  {
   "cell_type": "markdown",
   "id": "b46f7031-bbd5-45cc-9768-84228feb3971",
   "metadata": {},
   "source": [
    "### Optimization"
   ]
  },
  {
   "cell_type": "code",
   "execution_count": 428,
   "id": "99b403a0-98a7-4ac9-9ad9-2745d375f8ef",
   "metadata": {},
   "outputs": [
    {
     "data": {
      "text/plain": [
       "182516"
      ]
     },
     "execution_count": 428,
     "metadata": {},
     "output_type": "execute_result"
    }
   ],
   "source": [
    "X_train.shape[0]"
   ]
  },
  {
   "cell_type": "code",
   "execution_count": 429,
   "id": "f58a519d-857c-49e5-94e1-991a1444ab4f",
   "metadata": {},
   "outputs": [
    {
     "data": {
      "text/plain": [
       "(torch.Size([32, 3]), torch.Size([27, 10]))"
      ]
     },
     "execution_count": 429,
     "metadata": {},
     "output_type": "execute_result"
    }
   ],
   "source": [
    "# mini-batch construct\n",
    "batch_size = 32\n",
    "ix = torch.randperm(X_train.shape[0], generator=rand_gen)[:batch_size]\n",
    "# print(i, ix)\n",
    "X_batch, Y_batch = X_train[ix], Y_train[ix]\n",
    "X_batch.shape, C.shape"
   ]
  },
  {
   "cell_type": "code",
   "execution_count": 430,
   "id": "613962ba-d5b7-420c-b1fc-d95a289939cd",
   "metadata": {},
   "outputs": [
    {
     "data": {
      "text/plain": [
       "torch.Size([32, 3, 10])"
      ]
     },
     "execution_count": 430,
     "metadata": {},
     "output_type": "execute_result"
    }
   ],
   "source": [
    "# C: 27 x 10 \n",
    "# X_batch: 32 x 3 \n",
    "\n",
    "emb = C[X_batch]\n",
    "emb.shape"
   ]
  },
  {
   "cell_type": "code",
   "execution_count": 431,
   "id": "b1709332-0cdd-48d2-ba29-b284d12c9f0b",
   "metadata": {},
   "outputs": [
    {
     "data": {
      "text/plain": [
       "torch.Size([32, 30])"
      ]
     },
     "execution_count": 431,
     "metadata": {},
     "output_type": "execute_result"
    }
   ],
   "source": [
    "emb.view(emb.shape[0], -1).shape"
   ]
  },
  {
   "cell_type": "code",
   "execution_count": 432,
   "id": "e8fb84fc-b55e-44e4-8296-2b35cf399952",
   "metadata": {},
   "outputs": [
    {
     "data": {
      "text/plain": [
       "tensor([[ 8,  5, 14],\n",
       "        [ 0, 26, 21],\n",
       "        [ 0,  0, 11],\n",
       "        [12,  1, 25],\n",
       "        [ 0,  1, 13],\n",
       "        [ 3,  9,  1],\n",
       "        [ 9, 15, 12],\n",
       "        [ 0,  0,  0],\n",
       "        [19, 19,  1],\n",
       "        [10,  5,  4],\n",
       "        [ 8,  5, 12],\n",
       "        [18,  1, 14],\n",
       "        [15, 14,  4],\n",
       "        [14, 14,  1],\n",
       "        [12,  5, 24],\n",
       "        [ 5, 11,  5],\n",
       "        [ 0, 18,  5],\n",
       "        [20,  8, 15],\n",
       "        [ 0,  0, 20],\n",
       "        [ 1, 18,  9],\n",
       "        [15, 18,  5],\n",
       "        [12,  5,  5],\n",
       "        [ 0,  0,  0],\n",
       "        [25, 12,  1],\n",
       "        [ 9, 13,  5],\n",
       "        [13, 13, 25],\n",
       "        [19,  1,  3],\n",
       "        [ 1, 22,  9],\n",
       "        [11,  1, 13],\n",
       "        [19,  4, 18],\n",
       "        [13, 21, 14],\n",
       "        [ 0,  0,  4]])"
      ]
     },
     "execution_count": 432,
     "metadata": {},
     "output_type": "execute_result"
    }
   ],
   "source": [
    "X_batch"
   ]
  },
  {
   "cell_type": "code",
   "execution_count": 433,
   "id": "4e6911fa-a4f6-4fd2-acb5-73ad85c79331",
   "metadata": {},
   "outputs": [
    {
     "data": {
      "text/plain": [
       "torch.Size([27, 10])"
      ]
     },
     "execution_count": 433,
     "metadata": {},
     "output_type": "execute_result"
    }
   ],
   "source": [
    "C.shape"
   ]
  },
  {
   "cell_type": "code",
   "execution_count": 434,
   "id": "db55b3f1-23ce-41ca-8ce6-25368cdc2df2",
   "metadata": {},
   "outputs": [
    {
     "data": {
      "text/plain": [
       "torch.Size([10])"
      ]
     },
     "execution_count": 434,
     "metadata": {},
     "output_type": "execute_result"
    }
   ],
   "source": [
    "C[0].shape"
   ]
  },
  {
   "cell_type": "code",
   "execution_count": 435,
   "id": "9a31ed33-4791-4480-a110-57474b111b67",
   "metadata": {},
   "outputs": [
    {
     "data": {
      "text/plain": [
       "torch.Size([3, 10])"
      ]
     },
     "execution_count": 435,
     "metadata": {},
     "output_type": "execute_result"
    }
   ],
   "source": [
    "C[X_batch[2]].shape"
   ]
  },
  {
   "cell_type": "code",
   "execution_count": 436,
   "id": "84c6f6e4-9d04-4932-a641-b762674476dc",
   "metadata": {},
   "outputs": [
    {
     "data": {
      "text/plain": [
       "tensor([ 0,  0, 11])"
      ]
     },
     "execution_count": 436,
     "metadata": {},
     "output_type": "execute_result"
    }
   ],
   "source": [
    "X_batch[2]"
   ]
  },
  {
   "cell_type": "code",
   "execution_count": 437,
   "id": "de6ab3ff-a9bc-4ec9-b9d5-68eecf366c60",
   "metadata": {},
   "outputs": [
    {
     "data": {
      "text/plain": [
       "tensor([ 1.5674, -0.2373, -0.0274, -1.1008,  0.2859, -0.0296, -1.5471,  0.6049,\n",
       "         0.0791,  0.9046], grad_fn=<SelectBackward0>)"
      ]
     },
     "execution_count": 437,
     "metadata": {},
     "output_type": "execute_result"
    }
   ],
   "source": [
    "C[0]"
   ]
  },
  {
   "cell_type": "code",
   "execution_count": 438,
   "id": "49516b96-8e2d-444d-8875-2170644b297d",
   "metadata": {},
   "outputs": [
    {
     "data": {
      "text/plain": [
       "tensor([-0.2129,  0.5095,  0.3271,  1.9661, -0.2409, -0.7952,  0.2720, -1.1100,\n",
       "        -0.4528, -0.4958], grad_fn=<SelectBackward0>)"
      ]
     },
     "execution_count": 438,
     "metadata": {},
     "output_type": "execute_result"
    }
   ],
   "source": [
    "C[19]"
   ]
  },
  {
   "cell_type": "code",
   "execution_count": 439,
   "id": "ec5e9984-30a3-46fa-b314-feef3453274e",
   "metadata": {},
   "outputs": [
    {
     "data": {
      "text/plain": [
       "tensor([ 0.1156,  0.8032,  0.5411, -1.1646,  0.1476, -1.0006,  0.3801,  0.4733,\n",
       "        -0.9103, -0.7830], grad_fn=<SelectBackward0>)"
      ]
     },
     "execution_count": 439,
     "metadata": {},
     "output_type": "execute_result"
    }
   ],
   "source": [
    "C[5]"
   ]
  },
  {
   "cell_type": "code",
   "execution_count": 440,
   "id": "91180192-d049-4702-9873-dfa75e16a4b5",
   "metadata": {},
   "outputs": [
    {
     "data": {
      "text/plain": [
       "tensor([[ 1.5674, -0.2373, -0.0274, -1.1008,  0.2859, -0.0296, -1.5471,  0.6049,\n",
       "          0.0791,  0.9046],\n",
       "        [-0.2129,  0.5095,  0.3271,  1.9661, -0.2409, -0.7952,  0.2720, -1.1100,\n",
       "         -0.4528, -0.4958],\n",
       "        [ 0.1156,  0.8032,  0.5411, -1.1646,  0.1476, -1.0006,  0.3801,  0.4733,\n",
       "         -0.9103, -0.7830]], grad_fn=<IndexBackward0>)"
      ]
     },
     "execution_count": 440,
     "metadata": {},
     "output_type": "execute_result"
    }
   ],
   "source": [
    "C[[0, 19, 5]]"
   ]
  },
  {
   "cell_type": "code",
   "execution_count": 441,
   "id": "1f32edc7-e3d3-4d6d-b0bf-1d371eac4b45",
   "metadata": {},
   "outputs": [
    {
     "data": {
      "text/plain": [
       "tensor([[ 1.5674, -0.2373, -0.0274, -1.1008,  0.2859, -0.0296, -1.5471,  0.6049,\n",
       "          0.0791,  0.9046],\n",
       "        [ 1.5674, -0.2373, -0.0274, -1.1008,  0.2859, -0.0296, -1.5471,  0.6049,\n",
       "          0.0791,  0.9046],\n",
       "        [-0.5653,  0.5428,  0.1755, -2.2901, -0.7093, -0.2928, -2.1803,  0.0793,\n",
       "          0.9019,  1.2028]], grad_fn=<IndexBackward0>)"
      ]
     },
     "execution_count": 441,
     "metadata": {},
     "output_type": "execute_result"
    }
   ],
   "source": [
    "C[X_batch[2]]"
   ]
  },
  {
   "cell_type": "code",
   "execution_count": 442,
   "id": "7b4ea738-e6e8-42cb-b8fb-eabc33d5ae97",
   "metadata": {},
   "outputs": [
    {
     "data": {
      "text/plain": [
       "torch.Size([32, 3, 10])"
      ]
     },
     "execution_count": 442,
     "metadata": {},
     "output_type": "execute_result"
    }
   ],
   "source": [
    "emb = C[X_batch]\n",
    "emb.shape"
   ]
  },
  {
   "cell_type": "code",
   "execution_count": 443,
   "id": "bea550b7-28bc-48b7-b6d9-a7a4af611398",
   "metadata": {},
   "outputs": [
    {
     "data": {
      "text/plain": [
       "torch.Size([32, 30])"
      ]
     },
     "execution_count": 443,
     "metadata": {},
     "output_type": "execute_result"
    }
   ],
   "source": [
    "emb_cat = emb.view(emb.shape[0], -1)\n",
    "emb_cat.shape"
   ]
  },
  {
   "cell_type": "code",
   "execution_count": 444,
   "id": "becd79c5-5a7b-43d7-a6ac-f9d912342350",
   "metadata": {},
   "outputs": [
    {
     "data": {
      "text/plain": [
       "torch.Size([30, 200])"
      ]
     },
     "execution_count": 444,
     "metadata": {},
     "output_type": "execute_result"
    }
   ],
   "source": [
    "W1.shape"
   ]
  },
  {
   "cell_type": "code",
   "execution_count": 445,
   "id": "8ac96ef6-b839-46c0-9039-213c88591a60",
   "metadata": {},
   "outputs": [
    {
     "data": {
      "text/plain": [
       "torch.Size([32, 200])"
      ]
     },
     "execution_count": 445,
     "metadata": {},
     "output_type": "execute_result"
    }
   ],
   "source": [
    "h = emb_cat @ W1 + b1\n",
    "h.shape"
   ]
  },
  {
   "cell_type": "code",
   "execution_count": 446,
   "id": "52d7d1d5-7636-49fc-8ae3-7082506132c3",
   "metadata": {},
   "outputs": [
    {
     "data": {
      "text/plain": [
       "torch.Size([200, 27])"
      ]
     },
     "execution_count": 446,
     "metadata": {},
     "output_type": "execute_result"
    }
   ],
   "source": [
    "W2.shape"
   ]
  },
  {
   "cell_type": "code",
   "execution_count": 447,
   "id": "03527bc2-069c-4be6-8f90-d10e9a8da502",
   "metadata": {},
   "outputs": [
    {
     "data": {
      "text/plain": [
       "torch.Size([32, 27])"
      ]
     },
     "execution_count": 447,
     "metadata": {},
     "output_type": "execute_result"
    }
   ],
   "source": [
    "(h @ W2).shape"
   ]
  },
  {
   "cell_type": "code",
   "execution_count": 448,
   "id": "e8f35ae9-c18d-4731-afd6-524803fbaf68",
   "metadata": {},
   "outputs": [
    {
     "data": {
      "text/plain": [
       "torch.Size([27])"
      ]
     },
     "execution_count": 448,
     "metadata": {},
     "output_type": "execute_result"
    }
   ],
   "source": [
    "b2.shape"
   ]
  },
  {
   "cell_type": "code",
   "execution_count": 449,
   "id": "432ab008-9bc5-463f-9ddc-38caf9803467",
   "metadata": {},
   "outputs": [
    {
     "data": {
      "text/plain": [
       "torch.Size([32])"
      ]
     },
     "execution_count": 449,
     "metadata": {},
     "output_type": "execute_result"
    }
   ],
   "source": [
    "Y_batch.shape"
   ]
  },
  {
   "cell_type": "code",
   "execution_count": 450,
   "id": "7c7f2a7f-0ad4-447d-94ef-e190f8aee29b",
   "metadata": {},
   "outputs": [
    {
     "data": {
      "text/plain": [
       "torch.Size([228146, 3])"
      ]
     },
     "execution_count": 450,
     "metadata": {},
     "output_type": "execute_result"
    }
   ],
   "source": [
    "X.shape"
   ]
  },
  {
   "cell_type": "code",
   "execution_count": 451,
   "id": "9e24bdc7-94c5-4dc7-9a04-2d98aceb810c",
   "metadata": {},
   "outputs": [
    {
     "data": {
      "text/plain": [
       "(torch.Size([32, 3]),\n",
       " torch.Size([32, 3, 10]),\n",
       " torch.Size([32, 30]),\n",
       " torch.Size([30, 200]),\n",
       " torch.Size([182516, 200]),\n",
       " torch.Size([200, 27]),\n",
       " torch.Size([4]))"
      ]
     },
     "execution_count": 451,
     "metadata": {},
     "output_type": "execute_result"
    }
   ],
   "source": [
    "X_batch.shape, emb.shape, emb_cat.shape, W1.shape, hpreact.shape, W2.shape, logits.shape"
   ]
  },
  {
   "cell_type": "code",
   "execution_count": 452,
   "id": "19ccb050-0551-4793-870c-a95f59671443",
   "metadata": {},
   "outputs": [
    {
     "data": {
      "text/plain": [
       "torch.Size([1, 200])"
      ]
     },
     "execution_count": 452,
     "metadata": {},
     "output_type": "execute_result"
    }
   ],
   "source": [
    "hpreact.mean(0, keepdim=True).shape"
   ]
  },
  {
   "cell_type": "code",
   "execution_count": 453,
   "id": "f9e5831c-5baf-4e87-8cf7-69a9504a8512",
   "metadata": {},
   "outputs": [
    {
     "data": {
      "text/plain": [
       "(tensor(-0.9989), tensor(-5697.1841))"
      ]
     },
     "execution_count": 453,
     "metadata": {},
     "output_type": "execute_result"
    }
   ],
   "source": [
    "hpreact.mean(0, keepdim=True)[0][0], hpreact[:,0].sum()/32"
   ]
  },
  {
   "cell_type": "code",
   "execution_count": 454,
   "id": "a4131ec4-fc68-40b9-b991-ebcb889129d8",
   "metadata": {},
   "outputs": [
    {
     "data": {
      "text/plain": [
       "torch.Size([182516, 1])"
      ]
     },
     "execution_count": 454,
     "metadata": {},
     "output_type": "execute_result"
    }
   ],
   "source": [
    "hpreact.mean(1, keepdim=True).shape"
   ]
  },
  {
   "cell_type": "code",
   "execution_count": 455,
   "id": "914ad354-1438-4f6d-81ef-2e61b58b4a39",
   "metadata": {},
   "outputs": [
    {
     "data": {
      "text/plain": [
       "(torch.Size([1, 200]), torch.Size([1, 200]))"
      ]
     },
     "execution_count": 455,
     "metadata": {},
     "output_type": "execute_result"
    }
   ],
   "source": [
    "hpreact.mean(0, keepdim=True).shape, hpreact.std(0, keepdim=True).shape"
   ]
  },
  {
   "cell_type": "code",
   "execution_count": 456,
   "id": "0353c9da-0171-4ea1-9507-ee2c0915059f",
   "metadata": {},
   "outputs": [
    {
     "data": {
      "text/plain": [
       "tensor([[-9.9887e-01, -1.8329e-01, -1.1433e+00,  5.6621e-01,  9.7805e-01,\n",
       "          6.4823e-01,  1.5945e+00, -7.9978e-01, -3.1081e-01,  5.9067e-01,\n",
       "         -8.3885e-01, -1.2084e+00, -6.8020e-02, -3.0545e-02, -1.6788e-01,\n",
       "          2.7226e-01,  3.9010e-01, -1.6930e+00, -4.3225e-01,  7.0700e-01,\n",
       "          4.8594e-01, -8.6084e-01,  2.1570e-02,  8.8921e-01,  3.5603e-01,\n",
       "          3.4840e-01,  7.6621e-01,  2.5047e-01, -2.5232e-01,  1.0309e+00,\n",
       "         -7.7984e-02, -9.0223e-01,  2.7511e-01,  3.4681e-01, -7.1472e-01,\n",
       "         -5.7751e-01, -5.5666e-01, -9.2207e-01, -3.4140e-01,  4.8140e-01,\n",
       "          1.8645e-01, -1.1088e+00, -9.1647e-01, -2.9286e-01,  3.8051e-01,\n",
       "          4.7191e-01,  1.3767e-01, -6.9014e-01,  8.2005e-01,  1.3721e+00,\n",
       "          6.1427e-02,  2.9183e-01,  1.5726e+00,  1.3158e+00,  9.3567e-01,\n",
       "         -1.0939e+00,  5.5737e-02,  6.5574e-01,  1.1979e+00, -6.6507e-01,\n",
       "         -1.8612e-01, -2.5319e-01,  7.3957e-01,  3.1094e-01,  8.8855e-01,\n",
       "          7.4198e-01,  1.0127e+00,  4.2055e-01, -2.7568e-01, -2.1124e-02,\n",
       "         -6.2995e-01,  9.0579e-01,  9.5056e-01, -9.9411e-01, -1.2357e+00,\n",
       "          2.6460e-01,  1.1459e+00, -3.6209e-01,  3.7898e-01, -1.7379e-01,\n",
       "          7.4210e-01,  8.1772e-01,  1.0989e+00,  5.9966e-01,  2.9304e-01,\n",
       "         -4.0792e-01, -1.2969e+00, -5.3393e-02,  7.8045e-01, -5.0677e-01,\n",
       "          6.4234e-01,  5.2686e-01, -3.8377e-01, -3.6481e-01, -1.8736e-02,\n",
       "         -3.7459e-01, -1.0311e+00, -6.4825e-01, -3.6034e-02, -1.3569e+00,\n",
       "         -5.4144e-01,  1.1396e-01, -1.7118e+00,  2.5598e-01,  3.9639e-01,\n",
       "         -3.9472e-02, -1.3913e+00, -7.0994e-01,  4.6836e-01, -7.2743e-01,\n",
       "          1.0442e-01,  1.1953e+00, -4.1244e-01,  1.7665e+00,  4.7235e-01,\n",
       "          9.9352e-01, -3.5211e-02, -3.1932e-01,  2.4172e-01, -1.8014e-01,\n",
       "         -9.2626e-01, -1.6908e-01,  8.4596e-01,  1.0772e+00, -3.1004e-01,\n",
       "          2.9086e-01, -1.7062e-02, -1.3809e+00, -7.5137e-01, -1.8734e-01,\n",
       "          1.6752e+00, -2.8606e-01,  2.6617e-01,  1.4373e-01,  3.9655e-01,\n",
       "          7.2678e-02, -6.6852e-04,  3.8492e-01,  3.9513e-01,  4.7229e-01,\n",
       "          4.5017e-01,  3.6894e-01,  2.1332e-01, -3.5209e-01,  1.4042e+00,\n",
       "          2.9529e-02,  3.9716e-01,  1.5146e-02,  4.7643e-01,  4.1423e-01,\n",
       "          5.7703e-01,  2.5064e-01,  1.1695e+00,  1.3356e+00,  6.0363e-01,\n",
       "         -7.8324e-01,  8.0016e-01, -6.5281e-01, -4.3883e-01,  3.9039e-01,\n",
       "          6.9299e-01,  1.7249e-01, -8.3771e-01, -1.6702e+00, -7.2120e-01,\n",
       "         -4.0689e-01,  5.2454e-01, -1.2366e-01, -4.9044e-01, -1.1205e-01,\n",
       "          2.4971e-01, -6.0793e-01,  3.7141e-02,  2.5456e-01, -4.7921e-01,\n",
       "          1.0516e+00,  1.1153e+00, -8.6713e-01, -2.0368e-01, -9.2445e-01,\n",
       "          8.2700e-01,  1.8947e-01, -5.6425e-01,  8.0099e-01, -9.0252e-03,\n",
       "          8.8804e-01,  4.0209e-01, -3.4368e-01,  1.8627e+00,  7.9937e-01,\n",
       "          2.9364e-01,  1.2462e+00,  4.8123e-02,  8.5483e-01, -1.4564e-01,\n",
       "          2.5396e-01,  1.7636e+00, -5.4706e-01,  4.4194e-01,  8.9212e-01]])"
      ]
     },
     "execution_count": 456,
     "metadata": {},
     "output_type": "execute_result"
    }
   ],
   "source": [
    "hpreact.mean(0, keepdim=True)"
   ]
  },
  {
   "cell_type": "code",
   "execution_count": 457,
   "id": "3a8eed29-2de3-4902-88d7-5d2c2d2ac4da",
   "metadata": {},
   "outputs": [
    {
     "data": {
      "text/plain": [
       "tensor([[1.9995, 1.2675, 1.5950, 1.6113, 1.8897, 1.6295, 1.1355, 1.3359, 1.7991,\n",
       "         1.4293, 1.4820, 1.6339, 1.6347, 1.8880, 1.1168, 1.5588, 2.3405, 1.3529,\n",
       "         1.6875, 1.5661, 1.5978, 1.8278, 1.7543, 2.1450, 1.5181, 1.4544, 1.3805,\n",
       "         1.7051, 2.2965, 1.9299, 1.2911, 1.5209, 2.3757, 1.4275, 2.3276, 1.4533,\n",
       "         1.3971, 2.1254, 1.7170, 1.8066, 1.4096, 1.8005, 1.7134, 2.4926, 1.3841,\n",
       "         2.0919, 1.7980, 1.9985, 1.1684, 1.8402, 1.4068, 1.3264, 1.2931, 1.8524,\n",
       "         1.8313, 1.7460, 1.3743, 2.0908, 2.3346, 1.4236, 1.5077, 1.5714, 1.2346,\n",
       "         1.6053, 1.8385, 1.7161, 1.6900, 1.4562, 1.6463, 1.9368, 1.7630, 1.9361,\n",
       "         1.5478, 1.1225, 1.5237, 1.7943, 1.8790, 2.1204, 1.8952, 1.7660, 2.4125,\n",
       "         1.6388, 1.7713, 2.0973, 1.7737, 1.6914, 1.6149, 1.6390, 1.7942, 1.4224,\n",
       "         1.6519, 1.6552, 1.8678, 2.7755, 2.4232, 1.5751, 2.1565, 1.9939, 1.1930,\n",
       "         1.9975, 1.5969, 1.7625, 2.4413, 1.2349, 1.6391, 1.4210, 1.8485, 1.5322,\n",
       "         1.6732, 1.9670, 1.7770, 1.7129, 1.5690, 2.0425, 1.6469, 1.8808, 1.3417,\n",
       "         1.8393, 1.8086, 1.6585, 1.7673, 1.9222, 1.2503, 1.2970, 1.2820, 1.6177,\n",
       "         1.5918, 2.0176, 1.7511, 1.3333, 1.6596, 1.6753, 2.1557, 2.0698, 1.0940,\n",
       "         1.4567, 1.4553, 1.7137, 1.4940, 1.9609, 1.6154, 1.7881, 1.4658, 1.7715,\n",
       "         1.6567, 2.0060, 1.5601, 1.3929, 1.3950, 1.8620, 2.6020, 2.2159, 1.4359,\n",
       "         1.7462, 1.9204, 2.0146, 1.3376, 1.3210, 1.5573, 1.7912, 1.2662, 1.7699,\n",
       "         1.5071, 1.7553, 1.7795, 1.5472, 1.8431, 1.3795, 1.7403, 1.4090, 1.7486,\n",
       "         1.5537, 1.8837, 1.4960, 1.9602, 1.5981, 1.7991, 2.0615, 1.4402, 1.4914,\n",
       "         1.3624, 2.2244, 1.5708, 1.8588, 1.6100, 1.5759, 1.9410, 1.3769, 2.9132,\n",
       "         1.8070, 2.1446, 1.7768, 1.4813, 1.6763, 1.7049, 1.3682, 1.8035, 1.8410,\n",
       "         2.0191, 2.3625]])"
      ]
     },
     "execution_count": 457,
     "metadata": {},
     "output_type": "execute_result"
    }
   ],
   "source": [
    "hpreact.std(0, keepdim=True)"
   ]
  },
  {
   "cell_type": "code",
   "execution_count": 459,
   "id": "8172073b-e548-4da5-add4-413a6b922d2c",
   "metadata": {},
   "outputs": [
    {
     "name": "stdout",
     "output_type": "stream",
     "text": [
      "    200 /    5000; 2.3757\n",
      "    400 /    5000; 2.1496\n",
      "    600 /    5000; 2.7424\n",
      "    800 /    5000; 1.9865\n",
      "   1000 /    5000; 2.4246\n",
      "   1200 /    5000; 2.4148\n",
      "   1400 /    5000; 2.3028\n",
      "   1600 /    5000; 2.2446\n",
      "   1800 /    5000; 2.3273\n",
      "   2000 /    5000; 2.3911\n",
      "   2200 /    5000; 2.3945\n",
      "   2400 /    5000; 2.6197\n",
      "   2600 /    5000; 2.2767\n",
      "   2800 /    5000; 2.0008\n",
      "   3000 /    5000; 2.1800\n",
      "   3200 /    5000; 2.4440\n",
      "   3400 /    5000; 2.3578\n",
      "   3600 /    5000; 2.3341\n",
      "   3800 /    5000; 2.4496\n",
      "   4000 /    5000; 1.9611\n",
      "   4200 /    5000; 2.5516\n",
      "   4400 /    5000; 2.3729\n",
      "   4600 /    5000; 2.4792\n",
      "   4800 /    5000; 2.4506\n",
      "   5000 /    5000; 2.7129\n"
     ]
    }
   ],
   "source": [
    "max_steps = 5_000\n",
    "batch_size = 32\n",
    "lossi = []\n",
    "\n",
    "\n",
    "for i in range(max_steps):\n",
    "\n",
    "    # mini-batch construct\n",
    "    ix = torch.randperm(X_train.shape[0], generator=rand_gen)[:batch_size]\n",
    "    # print(i, ix)\n",
    "    X_batch, Y_batch = X_train[ix], Y_train[ix]\n",
    "\n",
    "    # forward pass    \n",
    "    emb = C[X_batch] # embed chars into vectors\n",
    "    emb_cat = emb.view(emb.shape[0], -1) # concatenate the vectors\n",
    "    hpreact = emb_cat @ W1 + b1 # hidden layer pre-activation\n",
    "\n",
    "    bnmeani = hpreact.mean(0, keepdim=True)\n",
    "    bnstdi = hpreact.std(0, keepdim=True)\n",
    "    hpreact = bngain * (hpreact - bnmeani) / bnstdi + bnbias\n",
    "    \n",
    "    with torch.no_grad():\n",
    "        bnmean_running = 0.999 * bnmean_running + 0.001 * bnmean\n",
    "        bnstd_running = 0.999 * bnstd_running + 0.001 * bnstdi\n",
    "        \n",
    "    h = torch.tanh(hpreact) # hidden layer\n",
    "    logits = h @ W2 + b2 # output layer\n",
    "    loss = F.cross_entropy(logits, Y_batch) # loss function\n",
    "\n",
    "    # backward pass: \n",
    "    for p in parameters:\n",
    "        p.grad = None\n",
    "        \n",
    "    loss.backward()\n",
    "\n",
    "    # update rule:\n",
    "    lr = 0.1 if (i < max_steps // 2) else 0.01\n",
    "    for p in parameters:\n",
    "        p.data += - lr * p.grad\n",
    "        \n",
    "    \n",
    "    # stats\n",
    "    if (i + 1) % (max_steps // 25) == 0:\n",
    "        print(f\"{i + 1:7d} / {max_steps:7d}; {loss.item():.4f}\")\n",
    "    \n",
    "    lossi.append(loss.item())\n",
    "    # break\n"
   ]
  },
  {
   "cell_type": "code",
   "execution_count": 460,
   "id": "f67523ac-b6c2-4180-b147-5cb7307643ce",
   "metadata": {},
   "outputs": [
    {
     "data": {
      "text/plain": [
       "[2.333235025405884,\n",
       " 2.313763380050659,\n",
       " 2.39801287651062,\n",
       " 2.634168863296509,\n",
       " 2.125823974609375,\n",
       " 2.204030752182007,\n",
       " 2.1245312690734863,\n",
       " 2.421417713165283,\n",
       " 2.6089954376220703,\n",
       " 2.3375353813171387]"
      ]
     },
     "execution_count": 460,
     "metadata": {},
     "output_type": "execute_result"
    }
   ],
   "source": [
    "lossi[:10]"
   ]
  },
  {
   "cell_type": "code",
   "execution_count": 461,
   "id": "e21db1e5-c85b-4bcc-930e-6e9294c6e9bc",
   "metadata": {},
   "outputs": [
    {
     "data": {
      "text/plain": [
       "(tensor([[ 0.6665, -0.9553, -0.4320,  ..., -0.9238, -0.5630, -0.4603],\n",
       "         [ 0.6611, -0.9314,  0.1337,  ..., -0.0710, -0.6726, -0.8771],\n",
       "         [-0.7518,  0.3584,  0.5607,  ..., -0.3646,  0.8167,  0.5329],\n",
       "         ...,\n",
       "         [-0.7518,  0.3584,  0.5607,  ..., -0.3646,  0.8167,  0.5329],\n",
       "         [-0.5121,  0.1154,  0.2454,  ...,  0.4095,  0.6562,  0.0010],\n",
       "         [ 0.6665, -0.9553, -0.4320,  ..., -0.9238, -0.5630, -0.4603]],\n",
       "        grad_fn=<TanhBackward0>),\n",
       " torch.Size([32, 200]))"
      ]
     },
     "execution_count": 461,
     "metadata": {},
     "output_type": "execute_result"
    }
   ],
   "source": [
    "h, h.shape"
   ]
  },
  {
   "cell_type": "code",
   "execution_count": 462,
   "id": "0b944514-8460-481d-85ef-9b15a418095d",
   "metadata": {},
   "outputs": [
    {
     "data": {
      "image/png": "[encoded data removed]",
      "text/plain": [
       "<Figure size 640x480 with 1 Axes>"
      ]
     },
     "metadata": {},
     "output_type": "display_data"
    }
   ],
   "source": [
    "plt.hist(h.view(-1).tolist(), 50);"
   ]
  },
  {
   "cell_type": "code",
   "execution_count": 463,
   "id": "28e455ba-be57-4350-84ff-d0bb3e3fb47c",
   "metadata": {},
   "outputs": [
    {
     "data": {
      "image/png": "[encoded data removed]",
      "text/plain": [
       "<Figure size 640x480 with 1 Axes>"
      ]
     },
     "metadata": {},
     "output_type": "display_data"
    }
   ],
   "source": [
    "plt.hist(hpreact.view(-1).tolist(), 50);"
   ]
  },
  {
   "cell_type": "code",
   "execution_count": 464,
   "id": "271dbe18-3db0-4a65-bc43-a90a617996cb",
   "metadata": {},
   "outputs": [
    {
     "data": {
      "text/plain": [
       "<matplotlib.image.AxesImage at 0x7f2703fa2cd0>"
      ]
     },
     "execution_count": 464,
     "metadata": {},
     "output_type": "execute_result"
    },
    {
     "data": {
      "image/png": "[encoded data removed]",
      "text/plain": [
       "<Figure size 1000x2000 with 1 Axes>"
      ]
     },
     "metadata": {},
     "output_type": "display_data"
    }
   ],
   "source": [
    "plt.figure(figsize=(10, 20))\n",
    "plt.imshow(h.abs() >= 0.99, cmap=\"gray\", interpolation=\"nearest\")"
   ]
  },
  {
   "cell_type": "markdown",
   "id": "7a3cee70-9b18-4461-9de6-bb34bd2153de",
   "metadata": {},
   "source": [
    "### White = 1, True; and Black = 0 False;"
   ]
  },
  {
   "cell_type": "code",
   "execution_count": null,
   "id": "72c68b69-2cb2-4f6d-968b-d397a4db067b",
   "metadata": {},
   "outputs": [],
   "source": [
    "plt.figure(figsize=(10, 20))\n",
    "plt.imshow(0 * h.abs() >= 0.99, cmap=\"gray\", interpolation=\"nearest\")"
   ]
  },
  {
   "cell_type": "code",
   "execution_count": null,
   "id": "0ab762d8-39d6-4098-bd45-ced5fe52500d",
   "metadata": {},
   "outputs": [],
   "source": [
    "h.shape, hpreact.shape"
   ]
  },
  {
   "cell_type": "code",
   "execution_count": null,
   "id": "a14a29d8-2cdc-4893-bc7b-76fb2597ac9c",
   "metadata": {},
   "outputs": [],
   "source": [
    "lossi[:10]"
   ]
  },
  {
   "cell_type": "code",
   "execution_count": null,
   "id": "ce2986d7-9344-4bcb-b197-5881962f47a6",
   "metadata": {},
   "outputs": [],
   "source": [
    "plt.plot(lossi)\n",
    "plt.grid(True)"
   ]
  },
  {
   "cell_type": "code",
   "execution_count": null,
   "id": "bd8a9d61-6b4c-4e68-b339-7fe891f29592",
   "metadata": {},
   "outputs": [],
   "source": []
  },
  {
   "cell_type": "code",
   "execution_count": null,
   "id": "c2e63c79-4a3a-4c6f-bd0d-edda8d7d3fe9",
   "metadata": {},
   "outputs": [],
   "source": []
  },
  {
   "cell_type": "code",
   "execution_count": null,
   "id": "e8cb8180-6755-448b-a5af-a9385bbc13fe",
   "metadata": {},
   "outputs": [],
   "source": []
  },
  {
   "cell_type": "code",
   "execution_count": null,
   "id": "2edc3f69-199b-4693-94a5-f6a5c33742ba",
   "metadata": {},
   "outputs": [],
   "source": []
  },
  {
   "cell_type": "code",
   "execution_count": null,
   "id": "a9a54ebd-0bec-4e58-a83d-1920d227591c",
   "metadata": {},
   "outputs": [],
   "source": [
    "logits[0]"
   ]
  },
  {
   "cell_type": "code",
   "execution_count": null,
   "id": "cf54c18c-9b8e-4a8d-9197-39eea1398066",
   "metadata": {},
   "outputs": [],
   "source": [
    "probs = torch.softmax(logits[0], dim=0)\n",
    "probs.sum()\n",
    "# plt.imshow()"
   ]
  },
  {
   "cell_type": "code",
   "execution_count": null,
   "id": "327f934b-adb1-4a76-a919-0de2b58c0d8a",
   "metadata": {},
   "outputs": [],
   "source": [
    "probs = torch.softmax(logits, dim=1)"
   ]
  },
  {
   "cell_type": "code",
   "execution_count": null,
   "id": "7b1e496f-6362-4e0d-8947-0e8b3cab6ba4",
   "metadata": {},
   "outputs": [],
   "source": [
    "probs.shape"
   ]
  },
  {
   "cell_type": "code",
   "execution_count": null,
   "id": "af48fc69-dd96-4efd-bbf0-74c94a0721f4",
   "metadata": {},
   "outputs": [],
   "source": [
    "probs[0].shape, probs[0].sum(), probs[1].shape, probs[1].sum()"
   ]
  },
  {
   "cell_type": "code",
   "execution_count": null,
   "id": "2381effc-3442-4665-811b-81efed52f43a",
   "metadata": {},
   "outputs": [],
   "source": []
  },
  {
   "cell_type": "code",
   "execution_count": null,
   "id": "e2f99643-2b07-4846-b7b9-c5272b78cf46",
   "metadata": {},
   "outputs": [],
   "source": []
  },
  {
   "cell_type": "code",
   "execution_count": null,
   "id": "919c8ca4-df26-4648-9b87-a02995043613",
   "metadata": {},
   "outputs": [],
   "source": [
    "with torch.no_grad():\n",
    "    emb = C[X_train]\n",
    "    emb_cat = emb.view(emb.shape[0], -1)\n",
    "    hpreact = emb_cat @ W1 + b1\n",
    "    \n",
    "    bnmean = hpreact.mean(0, keepdim=True)\n",
    "    bnstd = hpreact.std(0, keepdim=True)\n",
    "    "
   ]
  },
  {
   "cell_type": "code",
   "execution_count": null,
   "id": "b98fd387-ae15-44a2-a64c-6baad0ed176b",
   "metadata": {},
   "outputs": [],
   "source": [
    "bnmean"
   ]
  },
  {
   "cell_type": "code",
   "execution_count": null,
   "id": "d3daf4eb-9519-4b06-ae06-7b373edbce53",
   "metadata": {},
   "outputs": [],
   "source": [
    "bnmean_running"
   ]
  },
  {
   "cell_type": "code",
   "execution_count": null,
   "id": "1529b10e-c597-4b81-98de-ece489dca3b2",
   "metadata": {},
   "outputs": [],
   "source": [
    "bnstd"
   ]
  },
  {
   "cell_type": "code",
   "execution_count": null,
   "id": "e0f5b28e-5c09-41b8-9107-ffbae2e00c14",
   "metadata": {},
   "outputs": [],
   "source": [
    "bnstd_running"
   ]
  },
  {
   "cell_type": "code",
   "execution_count": null,
   "id": "c3e956e4-5839-429d-8746-3a8c4a3675fc",
   "metadata": {},
   "outputs": [],
   "source": [
    "@torch.no_grad()\n",
    "def evaluate(split: str):\n",
    "\n",
    "    data_map = {\n",
    "        \"train\": (X_train, Y_train),\n",
    "        \"val\": (X_val, Y_val),\n",
    "        \"test\": (X_test, Y_test),\n",
    "    }\n",
    "   \n",
    "    x, y = data_map[split]\n",
    "    emb = C[x]\n",
    "    emb_cat = emb.view(emb.shape[0], -1)\n",
    "    hpreact = emb_cat @ W1 + b1\n",
    "    hpreact = bngain * (hpreact - hpreact.mean(0, keepdim=True)) / hpreact.std(0, keepdim=True) + bnbias\n",
    "\n",
    "    h = torch.tanh(hpreact)\n",
    "    logits = h @ W2 + b2\n",
    "    loss = F.cross_entropy(logits, y)\n",
    "    \n",
    "    print(f\"{split = }, {loss.item() = }\")"
   ]
  },
  {
   "cell_type": "code",
   "execution_count": null,
   "id": "56de26e7-2843-4956-8a95-ad0967a9b4c1",
   "metadata": {},
   "outputs": [],
   "source": []
  },
  {
   "cell_type": "code",
   "execution_count": null,
   "id": "97c6b784-5268-4311-9e86-6117bc045123",
   "metadata": {},
   "outputs": [],
   "source": [
    "evaluate(\"train\")    \n",
    "evaluate(\"val\")    \n",
    "evaluate(\"test\")    "
   ]
  },
  {
   "cell_type": "code",
   "execution_count": 195,
   "id": "df8be6c2-09b8-4aa0-babf-8a97b504c57f",
   "metadata": {},
   "outputs": [
    {
     "name": "stdout",
     "output_type": "stream",
     "text": [
      "0 kgwyd.\n",
      "1 muckh.\n",
      "2 puxjazgrdxizk.\n",
      "3 brcjifjand.\n",
      "4 chivuh.\n",
      "5 embnth.\n",
      "6 vyzgltc.\n",
      "7 javghbgrigg.\n",
      "8 ffpfpttrvfxskxvzdinokbqobrixs.\n",
      "9 chpkmvwahn.\n",
      "10 bzmbacxiddopkyvskemmstqfivghnlengbbblxwisthvopklrnnxxnzhlyngerlynn.\n",
      "11 mardlynn.\n",
      "12 jlixxjjxxdirkkesz.\n",
      "13 ngulllmaczfxnngergxtomembryxghvdre.\n",
      "14 zyzclymqliggbrghigblorrandabcamtellegubrx.\n",
      "15 flsthradwovgengb.\n",
      "16 krkkjkyng.\n",
      "17 nbvr.\n",
      "18 dovkenghamwyxsmigbhslymonghbwllynn.\n",
      "19 frjixg.\n"
     ]
    },
    {
     "name": "stderr",
     "output_type": "stream",
     "text": [
      "/tmp/ipykernel_23055/1897569945.py:12: UserWarning: Implicit dimension choice for softmax has been deprecated. Change the call to include dim=X as an argument.\n",
      "  probs_test = F.softmax(logits)\n"
     ]
    }
   ],
   "source": [
    "# sample from the model \n",
    "rg = torch.Generator().manual_seed(RANDOM_SEED + 10)\n",
    "\n",
    "for t in range(20):\n",
    "    out = []\n",
    "    context = [0] * NUM_BLOCKS\n",
    "    while True:\n",
    "        # emb = C[torch.tensor([context])]\n",
    "        emb = C[torch.tensor([context])]\n",
    "        h = torch.tanh(emb.view(1, -1) @ W1 + b1)\n",
    "        logits = h @ W2 + b2\n",
    "        probs_test = F.softmax(logits)\n",
    "        probs = F.softmax(logits, dim=1)\n",
    "    \n",
    "        ix = torch.multinomial(probs, num_samples=1, generator=rg)\n",
    "        ch = itos[ix.item()]\n",
    "        # print(ch)  \n",
    "        context = context[1:] + [ix]\n",
    "        out.append(ix)\n",
    "    \n",
    "        if ix == 0:\n",
    "            break\n",
    "    print(t, \"\".join(itos[i.item()] for i in out))\n",
    "    \n",
    "    # print(\"\".join()"
   ]
  },
  {
   "cell_type": "code",
   "execution_count": 264,
   "id": "a185b23f-0c21-462f-822f-e63b26c34a44",
   "metadata": {},
   "outputs": [],
   "source": [
    "emb = C[torch.tensor(context)]"
   ]
  },
  {
   "cell_type": "code",
   "execution_count": 265,
   "id": "104d3036-2b58-43a4-9c52-b977e93209b6",
   "metadata": {},
   "outputs": [
    {
     "data": {
      "text/plain": [
       "torch.Size([3, 10])"
      ]
     },
     "execution_count": 265,
     "metadata": {},
     "output_type": "execute_result"
    }
   ],
   "source": [
    "emb.shape"
   ]
  },
  {
   "cell_type": "code",
   "execution_count": 266,
   "id": "9ce52e8b-fdfd-446e-a65d-bb36f7433227",
   "metadata": {},
   "outputs": [
    {
     "data": {
      "text/plain": [
       "torch.Size([1, 30])"
      ]
     },
     "execution_count": 266,
     "metadata": {},
     "output_type": "execute_result"
    }
   ],
   "source": [
    "emb.view(1, -1).shape"
   ]
  },
  {
   "cell_type": "code",
   "execution_count": 267,
   "id": "acb6de7a-4d66-4f04-9d11-979e23714f2b",
   "metadata": {},
   "outputs": [
    {
     "data": {
      "text/plain": [
       "torch.Size([1, 3, 10])"
      ]
     },
     "execution_count": 267,
     "metadata": {},
     "output_type": "execute_result"
    }
   ],
   "source": [
    "C[torch.tensor([context])].shape"
   ]
  },
  {
   "cell_type": "code",
   "execution_count": 268,
   "id": "8ed89520-0a0d-435b-810c-fd11614e871c",
   "metadata": {},
   "outputs": [
    {
     "ename": "NameError",
     "evalue": "name 'probs_t' is not defined",
     "output_type": "error",
     "traceback": [
      "\u001b[0;31m---------------------------------------------------------------------------\u001b[0m",
      "\u001b[0;31mNameError\u001b[0m                                 Traceback (most recent call last)",
      "Cell \u001b[0;32mIn[268], line 1\u001b[0m\n\u001b[0;32m----> 1\u001b[0m probs_t\u001b[38;5;241m.\u001b[39mshape\n",
      "\u001b[0;31mNameError\u001b[0m: name 'probs_t' is not defined"
     ]
    }
   ],
   "source": [
    "probs_t.shape"
   ]
  },
  {
   "cell_type": "code",
   "execution_count": 269,
   "id": "0598ccb5-89ef-4c6d-bb43-321d27713c16",
   "metadata": {},
   "outputs": [
    {
     "data": {
      "text/plain": [
       "torch.Size([4])"
      ]
     },
     "execution_count": 269,
     "metadata": {},
     "output_type": "execute_result"
    }
   ],
   "source": [
    "probs.shape"
   ]
  },
  {
   "cell_type": "code",
   "execution_count": 270,
   "id": "fe003939-bfbd-4195-85c4-4722ecc54c0c",
   "metadata": {},
   "outputs": [
    {
     "ename": "NameError",
     "evalue": "name 'probs_t' is not defined",
     "output_type": "error",
     "traceback": [
      "\u001b[0;31m---------------------------------------------------------------------------\u001b[0m",
      "\u001b[0;31mNameError\u001b[0m                                 Traceback (most recent call last)",
      "Cell \u001b[0;32mIn[270], line 1\u001b[0m\n\u001b[0;32m----> 1\u001b[0m probs_t\u001b[38;5;241m.\u001b[39msum()\n",
      "\u001b[0;31mNameError\u001b[0m: name 'probs_t' is not defined"
     ]
    }
   ],
   "source": [
    "probs_t.sum()"
   ]
  },
  {
   "cell_type": "code",
   "execution_count": 203,
   "id": "f8f086b5-cb1f-4642-b57d-b5184a9b3127",
   "metadata": {},
   "outputs": [
    {
     "data": {
      "text/plain": [
       "torch.Size([1, 27])"
      ]
     },
     "execution_count": 203,
     "metadata": {},
     "output_type": "execute_result"
    }
   ],
   "source": [
    "logits.shape"
   ]
  },
  {
   "cell_type": "code",
   "execution_count": 204,
   "id": "1dee59f0-3530-4714-8608-89874a30e9fe",
   "metadata": {},
   "outputs": [],
   "source": [
    "logits = torch.tensor([100.0, 0.0, 0.0, 0.0])\n",
    "logits = torch.rand(4) * 100\n",
    "probs = torch.softmax(logits, dim=0)"
   ]
  },
  {
   "cell_type": "code",
   "execution_count": 205,
   "id": "34505602-77ee-487d-98ba-dfc053acaf68",
   "metadata": {},
   "outputs": [
    {
     "data": {
      "text/plain": [
       "tensor([1.5287e-07, 1.8203e-06, 7.2707e-14, 1.0000e+00])"
      ]
     },
     "execution_count": 205,
     "metadata": {},
     "output_type": "execute_result"
    }
   ],
   "source": [
    "probs"
   ]
  },
  {
   "cell_type": "code",
   "execution_count": 206,
   "id": "77c47591-0207-4e87-81b3-cae107697c0f",
   "metadata": {},
   "outputs": [],
   "source": [
    "loss = - probs[2].log()"
   ]
  },
  {
   "cell_type": "code",
   "execution_count": 207,
   "id": "1c4d6993-b47b-48c0-aa76-24fb33e2c44f",
   "metadata": {},
   "outputs": [
    {
     "data": {
      "text/plain": [
       "(tensor([45.8085, 48.2857, 31.2498, 61.5022]),\n",
       " tensor([1.5287e-07, 1.8203e-06, 7.2707e-14, 1.0000e+00]),\n",
       " tensor(30.2523))"
      ]
     },
     "execution_count": 207,
     "metadata": {},
     "output_type": "execute_result"
    }
   ],
   "source": [
    "logits, probs, loss"
   ]
  },
  {
   "cell_type": "code",
   "execution_count": null,
   "id": "dfb633c1-2efd-45c7-9dd5-090b5c58ec45",
   "metadata": {},
   "outputs": [],
   "source": []
  },
  {
   "cell_type": "code",
   "execution_count": 208,
   "id": "7cb1b5ce-b112-4f6a-a022-faccd5232a3b",
   "metadata": {},
   "outputs": [
    {
     "data": {
      "text/plain": [
       "torch.Size([10])"
      ]
     },
     "execution_count": 208,
     "metadata": {},
     "output_type": "execute_result"
    }
   ],
   "source": [
    "torch.randn(10).shape"
   ]
  },
  {
   "cell_type": "code",
   "execution_count": 209,
   "id": "e83a3e2b-ccd1-418e-9253-70c87be30183",
   "metadata": {},
   "outputs": [
    {
     "name": "stdout",
     "output_type": "stream",
     "text": [
      "0.8959280252456665\n",
      "1.0698953866958618\n",
      "0.9664099812507629\n",
      "1.1011399030685425\n",
      "0.8539541959762573\n",
      "0.9838457107543945\n",
      "1.0581798553466797\n",
      "0.8983544111251831\n",
      "1.0232785940170288\n",
      "1.009940505027771\n"
     ]
    }
   ],
   "source": [
    "for i in range(10):\n",
    "    r = torch.randn(100)\n",
    "    print(# r.mean().item(), \n",
    "          r.std().item())"
   ]
  },
  {
   "cell_type": "markdown",
   "id": "e0b726be-10a0-4732-a74f-c1f363cd5924",
   "metadata": {},
   "source": [
    "### day 17"
   ]
  },
  {
   "cell_type": "code",
   "execution_count": 210,
   "id": "1e929345-89e4-4a55-aa06-cdaeb3878147",
   "metadata": {},
   "outputs": [],
   "source": [
    "class Linear:\n",
    "        \n",
    "    def __init__(self, fan_in: int, fan_out: int, bias: bool = True):\n",
    "        self.weight = torch.randn((fan_in, fan_out), generator=g) / fan_in ** 0.5\n",
    "        self.bias = torch.randn(fan_out) if (bias is not None) else None\n",
    "\n",
    "    def __call__(self, x):\n",
    "        self.out = x @ self.weight\n",
    "        if self.bias is not None: \n",
    "            self.out += self.bias\n",
    "        return self.out\n",
    "    \n",
    "    def parameters(self):\n",
    "        return [self.weight] + ([] if self.bias is None else [self.bias])\n",
    "\n",
    "\n",
    "class BatchNorm1d:\n",
    "    def __init__(self, dim, eps=10**(-5), momentum=0.1):\n",
    "        self.eps = eps\n",
    "        self.momentum = momentum\n",
    "        self.training = Trueself.dim = dim\n",
    "        \n",
    "\n",
    "        self.gamma = torch.ones(dim)\n",
    "        self.beta = torch.zeros(dim)\n",
    "\n",
    "        self.running_mean = torch.zeros(dim)\n",
    "        self.running_var = torch.ones(dim)\n",
    "\n",
    "    def __call__(self, x):\n",
    "        if self.training: \n",
    "            xmean = x.mean(dim=0, keepdim=True)\n",
    "            xvar = x.var(dim=0, keepdim=True)\n",
    "        else:\n",
    "            xmean = self.running_mean\n",
    "            xvar = self.running_std\n",
    "\n",
    "        xhat = (x - xmean) / torch.sqrt(xvar + self.eps)\n",
    "\n",
    "        # print(\"-\" * 80)\n",
    "        # print(f\"{xhat.shape = }\")\n",
    "        # print(f\"{self.gamma.shape = }\")\n",
    "        # print(f\"{self.beta.shape = }\")\n",
    "        \n",
    "        \n",
    "        self.out = self.gamma * xhat + self.beta\n",
    "        \n",
    "        with torch.no_grad():\n",
    "            self.running_mean = self.momentum * self.running_mean + (1 - self.momentum) * xmean\n",
    "            self.running_var = self.momentum * self.running_var + (1 - self.momentum) * xvar\n",
    "    \n",
    "        return self.out\n",
    "\n",
    "    def parameters(self):\n",
    "        return [self.gamma, self.beta]\n",
    "\n",
    "class Tanh:\n",
    "    def __call__(self, x):\n",
    "        self.out = torch.tanh(x)\n",
    "        return self.out\n",
    "    \n",
    "    def parameters(self):\n",
    "        return []"
   ]
  },
  {
   "cell_type": "code",
   "execution_count": null,
   "id": "5b1259f9-f9d0-4dfb-b5c7-644599947995",
   "metadata": {},
   "outputs": [],
   "source": []
  },
  {
   "cell_type": "code",
   "execution_count": 211,
   "id": "e6d6207a-284b-4822-9989-8dce923ed3fe",
   "metadata": {},
   "outputs": [
    {
     "data": {
      "text/plain": [
       "(27, 10, 3)"
      ]
     },
     "execution_count": 211,
     "metadata": {},
     "output_type": "execute_result"
    }
   ],
   "source": [
    "vocab_size, n_embed, num_blocks"
   ]
  },
  {
   "cell_type": "code",
   "execution_count": 212,
   "id": "005754fa-41d8-4dad-b0bb-53bb71b8157b",
   "metadata": {},
   "outputs": [],
   "source": [
    "C = torch.randn((vocab_size, n_embed), generator=g)\n",
    "\n",
    "# this is without batch normalization\n",
    "layers = [\n",
    "    Linear(num_blocks * n_embed, n_hidden),\n",
    "    Tanh(),\n",
    "    Linear(n_hidden, n_hidden),\n",
    "    Tanh(),\n",
    "    Linear(n_hidden, n_hidden),\n",
    "    Tanh(),\n",
    "    Linear(n_hidden, n_hidden),\n",
    "    Tanh(),\n",
    "    Linear(n_hidden, n_hidden),\n",
    "    Tanh(),\n",
    "    Linear(n_hidden, vocab_size),\n",
    "]\n",
    "\n",
    "# this is with batch normalization\n",
    "layers = [\n",
    "    Linear(num_blocks * n_embed, n_hidden),\n",
    "    BatchNorm1d(n_hidden),\n",
    "    Tanh(),\n",
    "    Linear(n_hidden, n_hidden),\n",
    "    BatchNorm1d(n_hidden),\n",
    "    Tanh(),\n",
    "    Linear(n_hidden, n_hidden),\n",
    "    BatchNorm1d(n_hidden),\n",
    "    Tanh(),\n",
    "    Linear(n_hidden, n_hidden),\n",
    "    BatchNorm1d(n_hidden),\n",
    "    Tanh(),\n",
    "    Linear(n_hidden, n_hidden),\n",
    "    BatchNorm1d(n_hidden),\n",
    "    Tanh(),\n",
    "    Linear(n_hidden, vocab_size),\n",
    "    BatchNorm1d(vocab_size),\n",
    "]\n"
   ]
  },
  {
   "cell_type": "code",
   "execution_count": 213,
   "id": "f28f2400-dd17-4983-82eb-28acadf01cb6",
   "metadata": {},
   "outputs": [],
   "source": [
    "# layers[-1].weight *= 0.1\n",
    "layers[-1].gamma *= 0.1\n",
    "for layer in layers[:-1]:\n",
    "    if isinstance(layer, Linear):\n",
    "        layer.weight *= 0.75 # 5/3 # 1 # 3"
   ]
  },
  {
   "cell_type": "code",
   "execution_count": 214,
   "id": "5f126d3d-37e7-4c21-b1c3-ed5cb4e4b90a",
   "metadata": {},
   "outputs": [],
   "source": [
    "parameters = [C] + [p for layer in layers for p in layer.parameters()]\n",
    "\n",
    "for p in parameters:\n",
    "    p.requires_grad = True"
   ]
  },
  {
   "cell_type": "code",
   "execution_count": 215,
   "id": "1c25f6ce-329d-49a7-b209-94dfb27e901d",
   "metadata": {},
   "outputs": [
    {
     "data": {
      "text/plain": [
       "174751"
      ]
     },
     "execution_count": 215,
     "metadata": {},
     "output_type": "execute_result"
    }
   ],
   "source": [
    "sum(p.nelement() for p in parameters)"
   ]
  },
  {
   "cell_type": "markdown",
   "id": "d7b4507c-0ac3-40c8-8c7d-8dc2dfe51eff",
   "metadata": {},
   "source": [
    "### optimization"
   ]
  },
  {
   "cell_type": "code",
   "execution_count": 216,
   "id": "0005800b-4425-4d31-b9a9-866d64485c1f",
   "metadata": {},
   "outputs": [],
   "source": [
    "max_steps = 500\n",
    "batch_size = 32\n",
    "lossi = []\n",
    "ud = [] # update to data ratio\n",
    "\n",
    "for i in range(max_steps):\n",
    "\n",
    "    # mini-batch construct\n",
    "    ix = torch.randperm(X_train.shape[0], generator=rand_gen)[:batch_size]\n",
    "    # print(i, ix)\n",
    "    X_batch, Y_batch = X_train[ix], Y_train[ix]\n",
    "\n",
    "    # forward pass    \n",
    "    emb = C[X_batch] # embed chars into vectors\n",
    "    emb_cat = emb.view(emb.shape[0], -1) # concatenate the vectors\n",
    "\n",
    "    # forward pass\n",
    "    x = emb_cat\n",
    "    for layer in layers:\n",
    "        x = layer(x)\n",
    "\n",
    "    loss = F.cross_entropy(x, Y_batch) # loss function\n",
    "\n",
    "\n",
    "    # backward pass: \n",
    "    for layer in layers:\n",
    "        layer.out.retain_grad()\n",
    "        \n",
    "    for p in parameters:\n",
    "        p.grad = None\n",
    "        \n",
    "    loss.backward()\n",
    "\n",
    "    # update rule:\n",
    "    lr = 0.1 if (i < max_steps // 2) else 0.01\n",
    "    for p in parameters:\n",
    "        p.data += - lr * p.grad\n",
    "\n",
    "    with torch.no_grad():\n",
    "        ud.append(\n",
    "            [(lr * p.grad).std() / p.data.std().log10().item() for p in parameters]\n",
    "            # lr * p.grad / p.data\n",
    "        )\n",
    "        \n",
    "    # stats\n",
    "    if (i + 1) % (max_steps // 25) == 0:\n",
    "        print(f\"{i + 1:7d} / {max_steps:7d}; {loss.item():.4f}\")\n",
    "    \n",
    "    lossi.append(loss.item())\n",
    "    break\n"
   ]
  },
  {
   "cell_type": "code",
   "execution_count": 217,
   "id": "d7a95440-1842-41ab-a661-b47b8ae6a43c",
   "metadata": {},
   "outputs": [
    {
     "data": {
      "text/plain": [
       "tensor(3.2791, grad_fn=<NllLossBackward0>)"
      ]
     },
     "execution_count": 217,
     "metadata": {},
     "output_type": "execute_result"
    }
   ],
   "source": [
    "loss"
   ]
  },
  {
   "cell_type": "code",
   "execution_count": 218,
   "id": "f3cbc1ae-fe3e-49b0-a6c7-ad092c774bf9",
   "metadata": {},
   "outputs": [
    {
     "data": {
      "text/plain": [
       "torch.Size([32, 27])"
      ]
     },
     "execution_count": 218,
     "metadata": {},
     "output_type": "execute_result"
    }
   ],
   "source": [
    "x.shape"
   ]
  },
  {
   "cell_type": "code",
   "execution_count": 219,
   "id": "85f47147-9430-4114-9fb0-4ecf3c23431b",
   "metadata": {},
   "outputs": [
    {
     "name": "stdout",
     "output_type": "stream",
     "text": [
      "len(layers) = 17\n"
     ]
    },
    {
     "data": {
      "text/plain": [
       "[__main__.Linear,\n",
       " __main__.BatchNorm1d,\n",
       " __main__.Tanh,\n",
       " __main__.Linear,\n",
       " __main__.BatchNorm1d,\n",
       " __main__.Tanh,\n",
       " __main__.Linear,\n",
       " __main__.BatchNorm1d,\n",
       " __main__.Tanh,\n",
       " __main__.Linear,\n",
       " __main__.BatchNorm1d,\n",
       " __main__.Tanh,\n",
       " __main__.Linear,\n",
       " __main__.BatchNorm1d,\n",
       " __main__.Tanh,\n",
       " __main__.Linear,\n",
       " __main__.BatchNorm1d]"
      ]
     },
     "execution_count": 219,
     "metadata": {},
     "output_type": "execute_result"
    }
   ],
   "source": [
    "print(f\"{len(layers) = }\")\n",
    "[type(layer) for layer in layers]"
   ]
  },
  {
   "cell_type": "markdown",
   "id": "9108a7f2-d415-4379-aadb-ee6ea8769cf3",
   "metadata": {},
   "source": [
    "### Visualize Tanh Outs"
   ]
  },
  {
   "cell_type": "code",
   "execution_count": 220,
   "id": "5e28c28f-72c9-4175-8825-a6c378aa7bb0",
   "metadata": {},
   "outputs": [
    {
     "name": "stdout",
     "output_type": "stream",
     "text": [
      "layer 2; name: Tanh; mean 0.0040; std: 0.6187; saturated: 14.05%\n",
      "layer 5; name: Tanh; mean -0.0022; std: 0.6247; saturated: 13.56%\n",
      "layer 8; name: Tanh; mean 0.0025; std: 0.6228; saturated: 13.41%\n",
      "layer 11; name: Tanh; mean 0.0021; std: 0.6308; saturated: 13.39%\n",
      "layer 14; name: Tanh; mean -0.0005; std: 0.6328; saturated: 12.77%\n"
     ]
    },
    {
     "data": {
      "text/plain": [
       "<matplotlib.legend.Legend at 0x7f26fa7e8610>"
      ]
     },
     "execution_count": 220,
     "metadata": {},
     "output_type": "execute_result"
    },
    {
     "data": {
      "image/png": "[encoded data removed]",
      "text/plain": [
       "<Figure size 640x480 with 1 Axes>"
      ]
     },
     "metadata": {},
     "output_type": "display_data"
    }
   ],
   "source": [
    "plt.close()\n",
    "plt.grid(True)\n",
    "for cnt, layer in enumerate(layers):\n",
    "    # print(cnt, layer.out.shape, isinstance(layer, Tanh))\n",
    "    if isinstance(layer, Tanh):\n",
    "        t = layer.out\n",
    "        saturated = (t.abs() > 0.90).float().mean()\n",
    "        name = layer.__class__.__name__\n",
    "        print(f\"layer {cnt}; name: {name}; mean {t.mean():0.4f}; std: {t.std():0.4f}; saturated: {100 * saturated:0.2f}%\")\n",
    "        hy, hx = torch.histogram(t, density=True)\n",
    "        # plt.hist(t.detach())\n",
    "        plt.title(\"Visualize Tanh Outs\")\n",
    "        plt.plot(hx[:-1].detach(), hy.detach(), label=f\"layer {cnt}\")\n",
    "        # break\n",
    "plt.legend()\n"
   ]
  },
  {
   "cell_type": "markdown",
   "id": "14f9db55-0923-4b94-9d05-30734076d440",
   "metadata": {},
   "source": [
    "### Visualize Tanh Grads"
   ]
  },
  {
   "cell_type": "code",
   "execution_count": 221,
   "id": "e28170b9-e0ba-4760-b1ed-1f9fc30bff64",
   "metadata": {},
   "outputs": [
    {
     "name": "stdout",
     "output_type": "stream",
     "text": [
      "layer 2; name: Tanh; mean -0.0000; std: 0.0008; saturated: 0.00%\n",
      "layer 5; name: Tanh; mean 0.0000; std: 0.0006; saturated: 0.00%\n",
      "layer 8; name: Tanh; mean 0.0000; std: 0.0005; saturated: 0.00%\n",
      "layer 11; name: Tanh; mean -0.0000; std: 0.0004; saturated: 0.00%\n",
      "layer 14; name: Tanh; mean 0.0000; std: 0.0004; saturated: 0.00%\n"
     ]
    },
    {
     "data": {
      "text/plain": [
       "<matplotlib.legend.Legend at 0x7f2700076f10>"
      ]
     },
     "execution_count": 221,
     "metadata": {},
     "output_type": "execute_result"
    },
    {
     "data": {
      "image/png": "[encoded data removed]",
      "text/plain": [
       "<Figure size 640x480 with 1 Axes>"
      ]
     },
     "metadata": {},
     "output_type": "display_data"
    }
   ],
   "source": [
    "plt.close()\n",
    "plt.grid(True)\n",
    "for cnt, layer in enumerate(layers):\n",
    "    # print(cnt, layer.out.shape, isinstance(layer, Tanh))\n",
    "    if isinstance(layer, Tanh):\n",
    "        t = layer.out.grad\n",
    "        saturated = (t.abs() > 0.90).float().mean()\n",
    "        name = layer.__class__.__name__\n",
    "        print(f\"layer {cnt}; name: {name}; mean {t.mean():0.4f}; std: {t.std():0.4f}; saturated: {100 * saturated:0.2f}%\")\n",
    "        hy, hx = torch.histogram(t, density=True)\n",
    "        # plt.hist(t.detach())\n",
    "        plt.title(\"Visualize Tanh Grads\")\n",
    "        plt.plot(hx[:-1].detach(), hy.detach(), label=f\"layer {cnt}\")\n",
    "        # break\n",
    "plt.legend()"
   ]
  },
  {
   "cell_type": "code",
   "execution_count": 222,
   "id": "e496a748-452c-4250-9661-a5803b4764d4",
   "metadata": {},
   "outputs": [
    {
     "data": {
      "text/plain": [
       "tensor([[-2.0547e-04, -4.0680e-04, -6.7861e-05,  ...,  1.1718e-04,\n",
       "         -7.0379e-04, -5.4079e-04],\n",
       "        [ 5.4703e-05,  3.7219e-04, -4.5058e-05,  ..., -6.5472e-05,\n",
       "         -3.9061e-04, -2.7716e-04],\n",
       "        [-4.6945e-04,  4.5559e-04, -2.6972e-04,  ..., -3.1105e-04,\n",
       "         -4.0902e-04, -8.9738e-05],\n",
       "        ...,\n",
       "        [ 1.3399e-04,  2.1683e-04,  5.4422e-06,  ..., -9.2973e-05,\n",
       "          4.3609e-04,  1.2280e-05],\n",
       "        [ 3.7871e-04,  1.0744e-04, -4.9032e-04,  ..., -6.6989e-05,\n",
       "          4.4023e-04, -5.8900e-04],\n",
       "        [-2.4130e-04,  1.7326e-04,  1.7649e-04,  ...,  4.6239e-04,\n",
       "         -4.6211e-04, -2.3370e-05]])"
      ]
     },
     "execution_count": 222,
     "metadata": {},
     "output_type": "execute_result"
    }
   ],
   "source": [
    "t.detach()"
   ]
  },
  {
   "cell_type": "code",
   "execution_count": 223,
   "id": "4bbb7731-4a0b-4876-baa5-a705cdc5697c",
   "metadata": {},
   "outputs": [
    {
     "data": {
      "text/plain": [
       "tensor([[False, False, False,  ..., False, False, False],\n",
       "        [False, False, False,  ..., False, False, False],\n",
       "        [False, False, False,  ..., False, False, False],\n",
       "        ...,\n",
       "        [False, False, False,  ..., False, False, False],\n",
       "        [False, False, False,  ..., False, False, False],\n",
       "        [False, False, False,  ..., False, False, False]])"
      ]
     },
     "execution_count": 223,
     "metadata": {},
     "output_type": "execute_result"
    }
   ],
   "source": [
    "(t.abs() > 0.9)"
   ]
  },
  {
   "cell_type": "code",
   "execution_count": 224,
   "id": "11e785b1-fddb-44c1-b776-31e5b227d38a",
   "metadata": {},
   "outputs": [
    {
     "data": {
      "text/plain": [
       "tensor(0.)"
      ]
     },
     "execution_count": 224,
     "metadata": {},
     "output_type": "execute_result"
    }
   ],
   "source": [
    "(t.abs() > 0.9).float().mean()"
   ]
  },
  {
   "cell_type": "code",
   "execution_count": 225,
   "id": "baa5c0f3-220f-4325-bea5-f014b196fb28",
   "metadata": {},
   "outputs": [
    {
     "data": {
      "text/plain": [
       "\u001b[0;31mInit signature:\u001b[0m \u001b[0mlayer\u001b[0m\u001b[0;34m.\u001b[0m\u001b[0m__class__\u001b[0m\u001b[0;34m(\u001b[0m\u001b[0mdim\u001b[0m\u001b[0;34m,\u001b[0m \u001b[0meps\u001b[0m\u001b[0;34m=\u001b[0m\u001b[0;36m1e-05\u001b[0m\u001b[0;34m,\u001b[0m \u001b[0mmomentum\u001b[0m\u001b[0;34m=\u001b[0m\u001b[0;36m0.1\u001b[0m\u001b[0;34m)\u001b[0m\u001b[0;34m\u001b[0m\u001b[0;34m\u001b[0m\u001b[0m\n",
       "\u001b[0;31mDocstring:\u001b[0m      <no docstring>\n",
       "\u001b[0;31mType:\u001b[0m           type\n",
       "\u001b[0;31mSubclasses:\u001b[0m     "
      ]
     },
     "metadata": {},
     "output_type": "display_data"
    }
   ],
   "source": [
    "layer.__class__?"
   ]
  },
  {
   "cell_type": "code",
   "execution_count": 226,
   "id": "a6c450f2-62e2-4ecf-8f1e-6097354fe04a",
   "metadata": {},
   "outputs": [
    {
     "data": {
      "text/plain": [
       "mappingproxy({'__module__': '__main__',\n",
       "              '__init__': <function __main__.BatchNorm1d.__init__(self, dim, eps=1e-05, momentum=0.1)>,\n",
       "              '__call__': <function __main__.BatchNorm1d.__call__(self, x)>,\n",
       "              'parameters': <function __main__.BatchNorm1d.parameters(self)>,\n",
       "              '__dict__': <attribute '__dict__' of 'BatchNorm1d' objects>,\n",
       "              '__weakref__': <attribute '__weakref__' of 'BatchNorm1d' objects>,\n",
       "              '__doc__': None})"
      ]
     },
     "execution_count": 226,
     "metadata": {},
     "output_type": "execute_result"
    }
   ],
   "source": [
    "layer.__class__.__dict__"
   ]
  },
  {
   "cell_type": "code",
   "execution_count": 227,
   "id": "d24b2af8-98ee-4892-8199-5753af5b12f3",
   "metadata": {},
   "outputs": [
    {
     "data": {
      "text/plain": [
       "'BatchNorm1d'"
      ]
     },
     "execution_count": 227,
     "metadata": {},
     "output_type": "execute_result"
    }
   ],
   "source": [
    "layer.__class__.__name__"
   ]
  },
  {
   "cell_type": "markdown",
   "id": "98408bfa-ad55-4ebb-9fa7-ddca80eadb88",
   "metadata": {},
   "source": [
    "### Visualize Parameters: Grad to Data Ratio"
   ]
  },
  {
   "cell_type": "code",
   "execution_count": 228,
   "id": "f612cf7f-222b-4c0a-8505-d3951e2b2752",
   "metadata": {},
   "outputs": [
    {
     "name": "stdout",
     "output_type": "stream",
     "text": [
      "layer 0; name: BatchNorm1d; shape: torch.Size([27, 10]); mean 0.0524; std: 1.0048; grad:data ratio: 0.00%\n",
      "layer 1; name: BatchNorm1d; shape: torch.Size([30, 200]); mean 0.0006; std: 0.1353; grad:data ratio: 0.01%\n",
      "layer 5; name: BatchNorm1d; shape: torch.Size([200, 200]); mean -0.0000; std: 0.0530; grad:data ratio: -0.59%\n",
      "layer 9; name: BatchNorm1d; shape: torch.Size([200, 200]); mean -0.0002; std: 0.0525; grad:data ratio: -0.03%\n",
      "layer 13; name: BatchNorm1d; shape: torch.Size([200, 200]); mean -0.0003; std: 0.0529; grad:data ratio: -0.06%\n",
      "layer 17; name: BatchNorm1d; shape: torch.Size([200, 200]); mean -0.0002; std: 0.0532; grad:data ratio: 0.06%\n",
      "layer 21; name: BatchNorm1d; shape: torch.Size([200, 27]); mean -0.0009; std: 0.0527; grad:data ratio: 0.02%\n"
     ]
    }
   ],
   "source": [
    "# plt.close()\n",
    "\n",
    "for cnt, p in enumerate(parameters):\n",
    "    if p.dim() == 2:\n",
    "        t = p.grad.mean() / p.data.mean()\n",
    "        name = layer.__class__.__name__\n",
    "        print(f\"layer {cnt}; name: {name}; shape: {p.shape}; mean {p.mean():0.4f}; std: {p.std():0.4f}; grad:data ratio: {p.grad.mean() / p.data.mean():0.2f}%\")\n",
    "        # hy, hx = torch.histogram(t, density=True)\n",
    "        # plt.hist(t.detach())\n",
    "        # plt.title(\"Visualize Tanh Grads\")\n",
    "        # plt.plot(hx[:-1].detach(), hy.detach(), label=f\"layer {cnt}\")\n",
    "        # break\n",
    "\n",
    "# plt.grid(True)\n",
    "# plt.legend()\n"
   ]
  },
  {
   "cell_type": "code",
   "execution_count": 229,
   "id": "4283ed01-2a6c-45e4-916d-2e6098364e92",
   "metadata": {},
   "outputs": [
    {
     "data": {
      "text/plain": [
       "25"
      ]
     },
     "execution_count": 229,
     "metadata": {},
     "output_type": "execute_result"
    }
   ],
   "source": [
    "len(parameters)"
   ]
  },
  {
   "cell_type": "markdown",
   "id": "7a47e1fc-9277-4ea4-b336-829696c81a0d",
   "metadata": {},
   "source": [
    "### This is does not work!"
   ]
  },
  {
   "cell_type": "code",
   "execution_count": 230,
   "id": "7d5fa817-014c-46d7-b5e2-daefe1011608",
   "metadata": {},
   "outputs": [
    {
     "data": {
      "image/png": "[encoded data removed]",
      "text/plain": [
       "<Figure size 2000x400 with 1 Axes>"
      ]
     },
     "metadata": {},
     "output_type": "display_data"
    }
   ],
   "source": [
    "plt.figure(figsize=(20, 4))\n",
    "legends = []\n",
    "for i, p in enumerate(parameters):\n",
    "    if p.dim == 2:\n",
    "        # plt.plot([ud[j][i] for j in range(len(ud))])\n",
    "        plt.plot(ud[i])\n",
    "        \n",
    "    plt.plot([0, len(ud)], [-3, 3], \"k\")\n",
    "plt.show()"
   ]
  },
  {
   "cell_type": "code",
   "execution_count": null,
   "id": "06cd63a7-ce0d-4756-ab0f-49219ccc2cf6",
   "metadata": {},
   "outputs": [],
   "source": []
  },
  {
   "cell_type": "markdown",
   "id": "9f8a1428-76ae-41b8-b83e-09011ce3cb0e",
   "metadata": {},
   "source": [
    "### 202404009072500--??"
   ]
  },
  {
   "cell_type": "code",
   "execution_count": 871,
   "id": "8a50eb17-2066-443e-b8fd-c6b425ca061a",
   "metadata": {},
   "outputs": [],
   "source": []
  },
  {
   "cell_type": "code",
   "execution_count": 1295,
   "id": "f9098be0-35e5-44e0-b3f9-8c2f20e9d7cf",
   "metadata": {},
   "outputs": [],
   "source": [
    "DEBUG = False\n",
    "# -------------------------------------------------\n",
    "class Linear:\n",
    "    def __init__(self, fan_in, fan_out, bias=True):\n",
    "        self.weights = torch.randn((fan_in, fan_out)) / (fan_in ** 0.5) ## kaiming init\n",
    "        self.bias = torch.randn(fan_out) if bias else None\n",
    "\n",
    "    def __call__(self, x):\n",
    "        self.out = x @ self.weights\n",
    "        if (self.bias is not None):\n",
    "            self.out += self.bias\n",
    "        return self.out\n",
    "\n",
    "    def parameters(self):\n",
    "        return [self.weights] + ([] if (self.bias is None) else [self.bias])\n",
    "\n",
    "# -------------------------------------------------\n",
    "class BatchNorm1d:\n",
    "    def __init__(self, dim, eps=10**(-5), momentum=0.1):\n",
    "        self.eps = eps\n",
    "        self.momentum = momentum\n",
    "        self.training = True\n",
    "\n",
    "        self.gamma = torch.ones(dim)\n",
    "        self.beta = torch.zeros(dim)\n",
    "\n",
    "        self.running_mean = torch.zeros(dim)\n",
    "        self.running_var = torch.ones(dim)\n",
    "\n",
    "    def __call__(self, x):\n",
    "        \n",
    "        if self.training:\n",
    "            xmean = x.mean(dim=0, keepdim=True)\n",
    "            xvar = x.var(dim=0, keepdim=True)\n",
    "        else:\n",
    "            xmean = self.running_mean\n",
    "            xvar = self.running_var\n",
    "\n",
    "        xhat = (x - xmean) / torch.sqrt(xvar + self.eps)\n",
    "        self.out = self.gamma * xhat + self.beta\n",
    "\n",
    "        if DEBUG:\n",
    "            zz = torch.sqrt(xvar) #  + self.eps)\n",
    "            \n",
    "            print(f\"{x.shape = }\")\n",
    "            print(f\"{xmean.shape = }\")\n",
    "            print(f\"{xvar.shape = }\")\n",
    "            print(f\"{xhat.shape = }\")\n",
    "            print(f\"{self.gamma.shape = }\")\n",
    "            print(f\"{self.beta.shape = }\")\n",
    "            print(f\"{self.out.shape = }\")\n",
    "            print(f\"{zz.shape = }\")\n",
    "            \n",
    "            print(f\"{self.eps = }\")\n",
    "            print(f\"{x = }\")\n",
    "            print(f\"{xmean = }\")\n",
    "            print(f\"{xvar = }\")\n",
    "            print(f\"{xhat = }\")\n",
    "            print(f\"{zz = }\")\n",
    "            print(f\"{self.gamma = }\")\n",
    "            print(f\"{self.beta = }\")\n",
    "            print(f\"{self.out = }\")\n",
    "\n",
    "        # update buffers: \n",
    "        if self.training:\n",
    "            with torch.no_grad():\n",
    "                self.running_mean = (1 - self.momentum) * self.running_mean + self.momentum * xmean\n",
    "                self.running_var = (1 - self.momentum) * self.running_var + self.momentum * xvar\n",
    "\n",
    "        return self.out\n",
    "\n",
    "    def parameters(self):\n",
    "        return [self.beta, self.gamma]\n",
    "\n",
    "\n",
    "# -------------------------------------------------\n",
    "class Tanh:\n",
    "    def __call__(self, x):\n",
    "        self.out = torch.tanh(x)\n",
    "        return self.out\n",
    "        \n",
    "    def parameters(self):\n",
    "        return []\n",
    "\n",
    "# -------------------------------------------------\n",
    "class Embedding:\n",
    "    # def __init__(self, vocab_size, n_embed):\n",
    "    def __init__(self, num_embeddings, embedding_dim):\n",
    "        self.weight = torch.randn((num_embeddings, embedding_dim))\n",
    "        \n",
    "    def __call__(self, indexes):\n",
    "        self.out = self.weight[indexes]\n",
    "        return self.out\n",
    "        \n",
    "    def parameters(self):\n",
    "        return [self.weight]\n",
    "\n",
    "# -------------------------------------------------\n",
    "class Flatten:\n",
    "    def __call__(self, x):\n",
    "        self.out = x.view(x.shape[0], -1)\n",
    "        return self.out\n",
    "        \n",
    "    def parameters(self):\n",
    "        return []\n",
    "\n",
    "\n",
    "# -------------------------------------------------\n",
    "class FlattenConsequtive:\n",
    "    def __init__(self, n):\n",
    "        self.n = n\n",
    "        \n",
    "    def __call__(self, x):\n",
    "        B, T, C = x.shape\n",
    "        self.out = x.view(B, T // self.n, C * self.n)\n",
    "        if T == 1:\n",
    "            self.out = x.sqeeze(dim=1)\n",
    "        return self.out\n",
    "        \n",
    "    def parameters(self):\n",
    "        return []\n",
    "\n",
    "\n",
    "# -------------------------------------------------\n",
    "class Sequential:\n",
    "    def __init__(self, layers):\n",
    "        self.layers = layers\n",
    "        \n",
    "    def __call__(self, x):\n",
    "        for layer in self.layers:\n",
    "            x = layer(x)\n",
    "        self.out = x\n",
    "        return self.out\n",
    "    \n",
    "    def parameters(self):\n",
    "        # return parameters\n",
    "        return [p for layer in self.layers for p in layer.parameters()]\n",
    "        "
   ]
  },
  {
   "cell_type": "code",
   "execution_count": 1180,
   "id": "ef570bdc-8b27-4b9e-993d-f0bdce151079",
   "metadata": {},
   "outputs": [
    {
     "data": {
      "text/plain": [
       "<torch._C.Generator at 0x7f27c0b40830>"
      ]
     },
     "execution_count": 1180,
     "metadata": {},
     "output_type": "execute_result"
    }
   ],
   "source": [
    "torch.manual_seed(42)"
   ]
  },
  {
   "cell_type": "markdown",
   "id": "6304f50c-5b3d-4b32-9324-a170f13353a9",
   "metadata": {},
   "source": [
    "### define a network as a list of layers:"
   ]
  },
  {
   "cell_type": "code",
   "execution_count": 1181,
   "id": "8f12b8d1-c310-4063-a818-9ae1e43597bc",
   "metadata": {},
   "outputs": [],
   "source": [
    "# MLP revisted\n",
    "n_embed = 10 # the dimensionality of the char. embedding \n",
    "n_hidden = 200 # the number of neurons in the hidden layers"
   ]
  },
  {
   "cell_type": "code",
   "execution_count": 1182,
   "id": "83d74436-0d18-4f81-a8f8-a98a7ba86c39",
   "metadata": {},
   "outputs": [],
   "source": [
    "C = torch.randn((vocab_size, n_embed))"
   ]
  },
  {
   "cell_type": "code",
   "execution_count": 1183,
   "id": "3bd6f765-ffef-4902-a850-339fd95c043a",
   "metadata": {},
   "outputs": [
    {
     "data": {
      "text/plain": [
       "torch.Size([27, 10])"
      ]
     },
     "execution_count": 1183,
     "metadata": {},
     "output_type": "execute_result"
    }
   ],
   "source": [
    "C.shape"
   ]
  },
  {
   "cell_type": "code",
   "execution_count": 1184,
   "id": "f0a683a7-979b-4e60-9a39-d0dd77d65256",
   "metadata": {},
   "outputs": [],
   "source": [
    "layers = [\n",
    "    Linear(fan_in=num_blocks * n_embed, fan_out=n_hidden, bias=True),\n",
    "    BatchNorm1d(dim=n_hidden),\n",
    "    Tanh(),\n",
    "    Linear(fan_in=n_hidden, fan_out=vocab_size, bias=True),    \n",
    "]"
   ]
  },
  {
   "cell_type": "code",
   "execution_count": 1185,
   "id": "47477278-02d5-472b-8ec9-c51d604ecff0",
   "metadata": {},
   "outputs": [
    {
     "data": {
      "text/plain": [
       "[<__main__.Linear at 0x7f26ebc514d0>,\n",
       " <__main__.BatchNorm1d at 0x7f26ebe2a950>,\n",
       " <__main__.Tanh at 0x7f26eccaced0>,\n",
       " <__main__.Linear at 0x7f26ebe28410>]"
      ]
     },
     "execution_count": 1185,
     "metadata": {},
     "output_type": "execute_result"
    }
   ],
   "source": [
    "layers"
   ]
  },
  {
   "cell_type": "code",
   "execution_count": 1186,
   "id": "ff2c73d1-bcb2-4385-95b6-6b4cfdcbca8e",
   "metadata": {},
   "outputs": [],
   "source": [
    "# make the last layer less confident\n",
    "with torch.no_grad():\n",
    "    layers[-1].weights *= 0.1"
   ]
  },
  {
   "cell_type": "code",
   "execution_count": 1187,
   "id": "5391bf24-80d3-459f-a9e2-43dca3ff5eb9",
   "metadata": {},
   "outputs": [],
   "source": [
    "# parameters = [C] + [p for p in layer for layer in layers]\n",
    "# parameters = [C] + [p for p in layer.paparameters() for layer in layers]\n",
    "\n",
    "parameters = [C] + [p for layer in layers for p in layer.parameters()]\n",
    "\n",
    "for p in parameters:\n",
    "    p.requires_grad = True"
   ]
  },
  {
   "cell_type": "code",
   "execution_count": 1188,
   "id": "417e06c5-82a9-4f85-a836-fe0d2d33ac49",
   "metadata": {},
   "outputs": [
    {
     "data": {
      "text/plain": [
       "7"
      ]
     },
     "execution_count": 1188,
     "metadata": {},
     "output_type": "execute_result"
    }
   ],
   "source": [
    "len(parameters)"
   ]
  },
  {
   "cell_type": "code",
   "execution_count": 1189,
   "id": "3d0c9147-7c91-410c-bb04-ef09c09ed8ee",
   "metadata": {},
   "outputs": [
    {
     "data": {
      "text/plain": [
       "[270, 6000, 200, 200, 200, 5400, 27]"
      ]
     },
     "execution_count": 1189,
     "metadata": {},
     "output_type": "execute_result"
    }
   ],
   "source": [
    "[p.nelement() for p in parameters]"
   ]
  },
  {
   "cell_type": "code",
   "execution_count": 1190,
   "id": "f5140fdf-07a6-428a-ad6e-a1fe5b1b3d1b",
   "metadata": {},
   "outputs": [
    {
     "data": {
      "text/plain": [
       "12297"
      ]
     },
     "execution_count": 1190,
     "metadata": {},
     "output_type": "execute_result"
    }
   ],
   "source": [
    "sum((p.nelement() for p in parameters))"
   ]
  },
  {
   "cell_type": "code",
   "execution_count": 1191,
   "id": "565b20e7-cf76-426a-bccd-5aed2144349b",
   "metadata": {},
   "outputs": [
    {
     "data": {
      "text/plain": [
       "[<__main__.Linear at 0x7f26ebc514d0>,\n",
       " <__main__.BatchNorm1d at 0x7f26ebe2a950>,\n",
       " <__main__.Tanh at 0x7f26eccaced0>,\n",
       " <__main__.Linear at 0x7f26ebe28410>]"
      ]
     },
     "execution_count": 1191,
     "metadata": {},
     "output_type": "execute_result"
    }
   ],
   "source": [
    "layers"
   ]
  },
  {
   "cell_type": "code",
   "execution_count": 1192,
   "id": "fbf35275-b255-4120-b619-cbf9b959fe48",
   "metadata": {},
   "outputs": [
    {
     "data": {
      "text/plain": [
       "<function Tensor.nelement>"
      ]
     },
     "execution_count": 1192,
     "metadata": {},
     "output_type": "execute_result"
    }
   ],
   "source": [
    "C.nelement"
   ]
  },
  {
   "cell_type": "code",
   "execution_count": null,
   "id": "88ca8725-027f-4870-a697-1fd3e5efb143",
   "metadata": {},
   "outputs": [],
   "source": []
  },
  {
   "cell_type": "code",
   "execution_count": 1193,
   "id": "48c79677-7046-4837-bc46-9808d407710c",
   "metadata": {},
   "outputs": [
    {
     "data": {
      "text/plain": [
       "<__main__.Linear at 0x7f26ebc514d0>"
      ]
     },
     "execution_count": 1193,
     "metadata": {},
     "output_type": "execute_result"
    }
   ],
   "source": [
    "layers[0]"
   ]
  },
  {
   "cell_type": "code",
   "execution_count": 1194,
   "id": "b9ff5ba9-cfa9-40da-9d98-f8f1cfe7fdde",
   "metadata": {},
   "outputs": [
    {
     "data": {
      "text/plain": [
       "(6000, 200)"
      ]
     },
     "execution_count": 1194,
     "metadata": {},
     "output_type": "execute_result"
    }
   ],
   "source": [
    "layers[0].weights.nelement(), layers[0].bias.nelement()"
   ]
  },
  {
   "cell_type": "code",
   "execution_count": 1195,
   "id": "f02708b5-a3af-455b-8915-ab651380a757",
   "metadata": {},
   "outputs": [
    {
     "data": {
      "text/plain": [
       "<__main__.BatchNorm1d at 0x7f26ebe2a950>"
      ]
     },
     "execution_count": 1195,
     "metadata": {},
     "output_type": "execute_result"
    }
   ],
   "source": [
    "layers[1]"
   ]
  },
  {
   "cell_type": "code",
   "execution_count": 1196,
   "id": "431e4929-fec0-4ab9-a157-41f947e3d21e",
   "metadata": {},
   "outputs": [
    {
     "data": {
      "text/plain": [
       "[tensor([0., 0., 0., 0., 0., 0., 0., 0., 0., 0., 0., 0., 0., 0., 0., 0., 0., 0., 0., 0., 0., 0., 0., 0.,\n",
       "         0., 0., 0., 0., 0., 0., 0., 0., 0., 0., 0., 0., 0., 0., 0., 0., 0., 0., 0., 0., 0., 0., 0., 0.,\n",
       "         0., 0., 0., 0., 0., 0., 0., 0., 0., 0., 0., 0., 0., 0., 0., 0., 0., 0., 0., 0., 0., 0., 0., 0.,\n",
       "         0., 0., 0., 0., 0., 0., 0., 0., 0., 0., 0., 0., 0., 0., 0., 0., 0., 0., 0., 0., 0., 0., 0., 0.,\n",
       "         0., 0., 0., 0., 0., 0., 0., 0., 0., 0., 0., 0., 0., 0., 0., 0., 0., 0., 0., 0., 0., 0., 0., 0.,\n",
       "         0., 0., 0., 0., 0., 0., 0., 0., 0., 0., 0., 0., 0., 0., 0., 0., 0., 0., 0., 0., 0., 0., 0., 0.,\n",
       "         0., 0., 0., 0., 0., 0., 0., 0., 0., 0., 0., 0., 0., 0., 0., 0., 0., 0., 0., 0., 0., 0., 0., 0.,\n",
       "         0., 0., 0., 0., 0., 0., 0., 0., 0., 0., 0., 0., 0., 0., 0., 0., 0., 0., 0., 0., 0., 0., 0., 0.,\n",
       "         0., 0., 0., 0., 0., 0., 0., 0.], requires_grad=True),\n",
       " tensor([1., 1., 1., 1., 1., 1., 1., 1., 1., 1., 1., 1., 1., 1., 1., 1., 1., 1.,\n",
       "         1., 1., 1., 1., 1., 1., 1., 1., 1., 1., 1., 1., 1., 1., 1., 1., 1., 1.,\n",
       "         1., 1., 1., 1., 1., 1., 1., 1., 1., 1., 1., 1., 1., 1., 1., 1., 1., 1.,\n",
       "         1., 1., 1., 1., 1., 1., 1., 1., 1., 1., 1., 1., 1., 1., 1., 1., 1., 1.,\n",
       "         1., 1., 1., 1., 1., 1., 1., 1., 1., 1., 1., 1., 1., 1., 1., 1., 1., 1.,\n",
       "         1., 1., 1., 1., 1., 1., 1., 1., 1., 1., 1., 1., 1., 1., 1., 1., 1., 1.,\n",
       "         1., 1., 1., 1., 1., 1., 1., 1., 1., 1., 1., 1., 1., 1., 1., 1., 1., 1.,\n",
       "         1., 1., 1., 1., 1., 1., 1., 1., 1., 1., 1., 1., 1., 1., 1., 1., 1., 1.,\n",
       "         1., 1., 1., 1., 1., 1., 1., 1., 1., 1., 1., 1., 1., 1., 1., 1., 1., 1.,\n",
       "         1., 1., 1., 1., 1., 1., 1., 1., 1., 1., 1., 1., 1., 1., 1., 1., 1., 1.,\n",
       "         1., 1., 1., 1., 1., 1., 1., 1., 1., 1., 1., 1., 1., 1., 1., 1., 1., 1.,\n",
       "         1., 1.], requires_grad=True)]"
      ]
     },
     "execution_count": 1196,
     "metadata": {},
     "output_type": "execute_result"
    }
   ],
   "source": [
    "layers[1].parameters()"
   ]
  },
  {
   "cell_type": "code",
   "execution_count": 1197,
   "id": "639ce992-1190-4594-8d16-2748f01245ac",
   "metadata": {},
   "outputs": [
    {
     "data": {
      "text/plain": [
       "(200, 200)"
      ]
     },
     "execution_count": 1197,
     "metadata": {},
     "output_type": "execute_result"
    }
   ],
   "source": [
    "layers[1].gamma.nelement(), layers[1].beta.nelement()"
   ]
  },
  {
   "cell_type": "code",
   "execution_count": 1198,
   "id": "3e92b162-5d18-4b27-ba2f-d2888fcdcd27",
   "metadata": {},
   "outputs": [
    {
     "data": {
      "text/plain": [
       "<__main__.Tanh at 0x7f26eccaced0>"
      ]
     },
     "execution_count": 1198,
     "metadata": {},
     "output_type": "execute_result"
    }
   ],
   "source": [
    "layers[2]"
   ]
  },
  {
   "cell_type": "code",
   "execution_count": 1199,
   "id": "fa47881c-50a3-4675-ab9a-3efd47f74ca9",
   "metadata": {},
   "outputs": [
    {
     "data": {
      "text/plain": [
       "[]"
      ]
     },
     "execution_count": 1199,
     "metadata": {},
     "output_type": "execute_result"
    }
   ],
   "source": [
    "layers[2].parameters()"
   ]
  },
  {
   "cell_type": "code",
   "execution_count": 1200,
   "id": "1af93b28-bd9a-4ffa-9a5c-6c1164abfdd1",
   "metadata": {},
   "outputs": [
    {
     "data": {
      "text/plain": [
       "<__main__.Linear at 0x7f26ebe28410>"
      ]
     },
     "execution_count": 1200,
     "metadata": {},
     "output_type": "execute_result"
    }
   ],
   "source": [
    "layers[3]"
   ]
  },
  {
   "cell_type": "code",
   "execution_count": 1201,
   "id": "8428eef6-775e-494d-bde3-634798dce645",
   "metadata": {},
   "outputs": [
    {
     "data": {
      "text/plain": [
       "tensor([[-0.0080,  0.0064,  0.0010,  ..., -0.0045, -0.0002, -0.0020],\n",
       "        [ 0.0027, -0.0224,  0.0074,  ..., -0.0008,  0.0044,  0.0087],\n",
       "        [ 0.0051, -0.0028, -0.0043,  ...,  0.0046, -0.0133,  0.0093],\n",
       "        ...,\n",
       "        [ 0.0025,  0.0041, -0.0002,  ...,  0.0081, -0.0119,  0.0004],\n",
       "        [-0.0051, -0.0019, -0.0107,  ...,  0.0088, -0.0016,  0.0158],\n",
       "        [ 0.0008,  0.0098, -0.0062,  ..., -0.0024,  0.0026,  0.0035]],\n",
       "       requires_grad=True)"
      ]
     },
     "execution_count": 1201,
     "metadata": {},
     "output_type": "execute_result"
    }
   ],
   "source": [
    "layers[3].weights"
   ]
  },
  {
   "cell_type": "code",
   "execution_count": 1202,
   "id": "01082bcd-a733-4779-b132-b129b765affd",
   "metadata": {},
   "outputs": [
    {
     "data": {
      "text/plain": [
       "(5400, 27)"
      ]
     },
     "execution_count": 1202,
     "metadata": {},
     "output_type": "execute_result"
    }
   ],
   "source": [
    "layers[3].weights.nelement(), layers[3].bias.nelement()"
   ]
  },
  {
   "cell_type": "markdown",
   "id": "aac6d020-bd01-48ce-93fe-089bce2be51e",
   "metadata": {},
   "source": [
    "### Training: "
   ]
  },
  {
   "cell_type": "code",
   "execution_count": 1131,
   "id": "495633b3-af9d-4188-96af-501005723ece",
   "metadata": {},
   "outputs": [
    {
     "data": {
      "text/plain": [
       "(torch.Size([182516, 3]), torch.Size([182516]))"
      ]
     },
     "execution_count": 1131,
     "metadata": {},
     "output_type": "execute_result"
    }
   ],
   "source": [
    "X_train.size(), Y_train.size()"
   ]
  },
  {
   "cell_type": "code",
   "execution_count": 1132,
   "id": "627a94cc-b8cf-410d-8cbf-c20866ef1f9f",
   "metadata": {},
   "outputs": [
    {
     "name": "stdout",
     "output_type": "stream",
     "text": [
      "182516\n"
     ]
    }
   ],
   "source": [
    "len_data = X_train.shape[0]\n",
    "print(len_data)"
   ]
  },
  {
   "cell_type": "code",
   "execution_count": 1133,
   "id": "49c10ce2-224a-4b58-baa3-9e568da93188",
   "metadata": {},
   "outputs": [
    {
     "name": "stdout",
     "output_type": "stream",
     "text": [
      "   1000 /   50000; 2.7374\n",
      "   2000 /   50000; 2.6684\n",
      "   3000 /   50000; 3.0901\n",
      "   4000 /   50000; 2.9993\n",
      "   5000 /   50000; 2.9326\n",
      "   6000 /   50000; 2.7863\n",
      "   7000 /   50000; 2.8386\n",
      "   8000 /   50000; 2.8697\n",
      "   9000 /   50000; 2.8211\n",
      "  10000 /   50000; 2.7355\n",
      "  11000 /   50000; 2.9011\n",
      "  12000 /   50000; 3.0264\n",
      "  13000 /   50000; 2.9008\n",
      "  14000 /   50000; 2.7727\n",
      "  15000 /   50000; 3.2716\n",
      "  16000 /   50000; 2.8626\n",
      "  17000 /   50000; 2.9956\n",
      "  18000 /   50000; 2.8496\n",
      "  19000 /   50000; 2.7313\n",
      "  20000 /   50000; 2.7132\n",
      "  21000 /   50000; 2.6927\n",
      "  22000 /   50000; 2.7556\n",
      "  23000 /   50000; 2.8122\n",
      "  24000 /   50000; 2.5856\n",
      "  25000 /   50000; 2.6126\n",
      "  26000 /   50000; 2.9475\n",
      "  27000 /   50000; 2.8699\n",
      "  28000 /   50000; 2.7920\n",
      "  29000 /   50000; 2.6999\n",
      "  30000 /   50000; 2.7225\n",
      "  31000 /   50000; 2.7575\n",
      "  32000 /   50000; 2.9353\n",
      "  33000 /   50000; 2.9250\n",
      "  34000 /   50000; 2.8323\n",
      "  35000 /   50000; 2.6894\n",
      "  36000 /   50000; 2.5903\n",
      "  37000 /   50000; 2.5235\n",
      "  38000 /   50000; 2.7795\n",
      "  39000 /   50000; 2.8311\n",
      "  40000 /   50000; 2.9190\n",
      "  41000 /   50000; 2.7137\n",
      "  42000 /   50000; 3.0047\n",
      "  43000 /   50000; 2.7450\n",
      "  44000 /   50000; 3.0041\n",
      "  45000 /   50000; 2.8932\n",
      "  46000 /   50000; 2.8681\n",
      "  47000 /   50000; 2.6363\n",
      "  48000 /   50000; 2.8124\n",
      "  49000 /   50000; 2.8054\n",
      "  50000 /   50000; 2.8449\n"
     ]
    }
   ],
   "source": [
    "max_steps = 50_000\n",
    "batch_size = 32\n",
    "lossi = []\n",
    "\n",
    "\n",
    "for i in range(max_steps):\n",
    "\n",
    "    # mini-batch construct\n",
    "    ix = torch.randperm(len_data)[:batch_size]\n",
    "    # print(f\"{ix = }\")\n",
    "    Xb, Yb = X_train[ix], Y_train[ix]\n",
    "\n",
    "    # forward pass\n",
    "    emb = C[X_batch]\n",
    "    emb_cat = emb.view(emb.shape[0], -1)\n",
    "    if DEBUG:\n",
    "        print(f\"{emb.shape = }\")\n",
    "        print(f\"{emb = }\")\n",
    "        print(f\"{emb_cat.shape = }\")\n",
    "        \n",
    "    x = emb_cat\n",
    "    for layer in layers:\n",
    "        x = layer(x)\n",
    "        if DEBUG:\n",
    "            print(\"-\" * 80)\n",
    "            print(f\"{layer = }\")\n",
    "            print(f\"{x.sxhape = }\")\n",
    "            print(f\"{x = }\")\n",
    "            \n",
    "    loss = F.cross_entropy(x, Yb)\n",
    "\n",
    "    \n",
    "    # backward pass\n",
    "    for p in parameters:\n",
    "        p.grad = None\n",
    "    \n",
    "    loss.backward()\n",
    "\n",
    "\n",
    "    # update rule: \n",
    "    lr = 0.1 if (i < max_steps * 0.5) else 0.01\n",
    "    for p in parameters:\n",
    "        p.data += - lr * p.grad\n",
    "\n",
    "    # stats\n",
    "    if (i + 1) % (max_steps // 50) == 0:\n",
    "        print(f\"{i + 1:7d} / {max_steps:7d}; {loss.item():.4f}\")\n",
    "        \n",
    "    # store loss\n",
    "    lossi.append(loss.detach().item())"
   ]
  },
  {
   "cell_type": "code",
   "execution_count": 1134,
   "id": "e2e5f88f-77d3-4ad5-aa3f-fb3bf73dd707",
   "metadata": {},
   "outputs": [
    {
     "data": {
      "image/png": "[encoded data removed]",
      "text/plain": [
       "<Figure size 640x480 with 1 Axes>"
      ]
     },
     "metadata": {},
     "output_type": "display_data"
    }
   ],
   "source": [
    "plt.plot(lossi)\n",
    "plt.grid(True)"
   ]
  },
  {
   "cell_type": "code",
   "execution_count": 1135,
   "id": "f3c299a1-4cf6-45ea-a60c-293eb4fb4a25",
   "metadata": {},
   "outputs": [
    {
     "data": {
      "image/png": "[encoded data removed]",
      "text/plain": [
       "<Figure size 640x480 with 1 Axes>"
      ]
     },
     "metadata": {},
     "output_type": "display_data"
    }
   ],
   "source": [
    "plt.plot(\n",
    "    torch.FloatTensor(lossi).view(-1, 1000).mean(dim=1)\n",
    ")\n",
    "plt.grid(True)"
   ]
  },
  {
   "cell_type": "markdown",
   "id": "8e0c0a1e-87c7-4965-b3db-1f5da697472f",
   "metadata": {},
   "source": [
    "### A second way after adding layers `Embedding` and `Flatten`"
   ]
  },
  {
   "cell_type": "code",
   "execution_count": 1153,
   "id": "06e64374-b9d6-4248-8e91-a1abd77c0dfd",
   "metadata": {},
   "outputs": [],
   "source": [
    "layers = [\n",
    "    Embedding(num_embeddings=vocab_size, embedding_dim=n_embed),\n",
    "    Flatten(),\n",
    "    Linear(fan_in=num_blocks * n_embed, fan_out=n_hidden, bias=True),\n",
    "    BatchNorm1d(dim=n_hidden),\n",
    "    Tanh(),\n",
    "    Linear(fan_in=n_hidden, fan_out=vocab_size, bias=True),    \n",
    "]"
   ]
  },
  {
   "cell_type": "code",
   "execution_count": 1154,
   "id": "315a8273-a8d3-4f35-a4cc-d11bfd204320",
   "metadata": {},
   "outputs": [],
   "source": [
    "parameters = [p for layer in layers for p in layer.parameters()]\n",
    "for p in parameters:\n",
    "    p.requires_grad = True"
   ]
  },
  {
   "cell_type": "code",
   "execution_count": 1155,
   "id": "de5635d7-3937-4389-9a9b-5bd699ce969e",
   "metadata": {},
   "outputs": [
    {
     "name": "stdout",
     "output_type": "stream",
     "text": [
      "   1000 /   50000; 2.2498\n",
      "   2000 /   50000; 2.3147\n",
      "   3000 /   50000; 2.0672\n",
      "   4000 /   50000; 2.0654\n",
      "   5000 /   50000; 2.0742\n",
      "   6000 /   50000; 2.3623\n",
      "   7000 /   50000; 2.3939\n",
      "   8000 /   50000; 2.3540\n",
      "   9000 /   50000; 2.2596\n",
      "  10000 /   50000; 2.1436\n",
      "  11000 /   50000; 2.5629\n",
      "  12000 /   50000; 2.0710\n",
      "  13000 /   50000; 2.3207\n",
      "  14000 /   50000; 2.3346\n",
      "  15000 /   50000; 2.1675\n",
      "  16000 /   50000; 2.4344\n",
      "  17000 /   50000; 2.6100\n",
      "  18000 /   50000; 1.9055\n",
      "  19000 /   50000; 2.1755\n",
      "  20000 /   50000; 2.0249\n",
      "  21000 /   50000; 2.1457\n",
      "  22000 /   50000; 2.3876\n",
      "  23000 /   50000; 2.4300\n",
      "  24000 /   50000; 1.8871\n",
      "  25000 /   50000; 2.1194\n",
      "  26000 /   50000; 2.1745\n",
      "  27000 /   50000; 2.1373\n",
      "  28000 /   50000; 1.9914\n",
      "  29000 /   50000; 2.0871\n",
      "  30000 /   50000; 2.3486\n",
      "  31000 /   50000; 2.1512\n",
      "  32000 /   50000; 2.1478\n",
      "  33000 /   50000; 2.0831\n",
      "  34000 /   50000; 1.8247\n",
      "  35000 /   50000; 2.0184\n",
      "  36000 /   50000; 2.2705\n",
      "  37000 /   50000; 2.0399\n",
      "  38000 /   50000; 2.2393\n",
      "  39000 /   50000; 2.2186\n",
      "  40000 /   50000; 1.8891\n",
      "  41000 /   50000; 2.2791\n",
      "  42000 /   50000; 2.2213\n",
      "  43000 /   50000; 2.3693\n",
      "  44000 /   50000; 2.0174\n",
      "  45000 /   50000; 2.2570\n",
      "  46000 /   50000; 2.2478\n",
      "  47000 /   50000; 1.8243\n",
      "  48000 /   50000; 2.2468\n",
      "  49000 /   50000; 1.6240\n",
      "  50000 /   50000; 2.2456\n"
     ]
    }
   ],
   "source": [
    "max_steps = 50_000\n",
    "batch_size = 32\n",
    "lossi = [] \n",
    "\n",
    "\n",
    "for i in range(max_steps):\n",
    "\n",
    "    # mini-batch construct\n",
    "    ix = torch.randperm(len_data)[:batch_size]\n",
    "    # print(f\"{ix = }\")\n",
    "    Xb, Yb = X_train[ix], Y_train[ix]\n",
    "\n",
    "    # forward pass\n",
    "    x = Xb\n",
    "    for layer in layers:\n",
    "        x = layer(x)    \n",
    "    loss = F.cross_entropy(x, Yb)\n",
    " \n",
    "    # backward pass\n",
    "    for p in parameters:\n",
    "        p.grad = None\n",
    "    \n",
    "    loss.backward()\n",
    "\n",
    "\n",
    "    # update rule: \n",
    "    lr = 0.1 if (i < max_steps * 0.5) else 0.01\n",
    "    for p in parameters:\n",
    "        p.data += - lr * p.grad\n",
    "\n",
    "    # stats\n",
    "    if (i + 1) % (max_steps // 50) == 0:\n",
    "        print(f\"{i + 1:7d} / {max_steps:7d}; {loss.item():.4f}\")\n",
    "        \n",
    "    # store loss\n",
    "    lossi.append(loss.detach().item())"
   ]
  },
  {
   "cell_type": "code",
   "execution_count": 1156,
   "id": "5bf0d8b4-1840-4130-9eaf-068bec5e76b0",
   "metadata": {},
   "outputs": [
    {
     "data": {
      "image/png": "[encoded data removed]",
      "text/plain": [
       "<Figure size 640x480 with 1 Axes>"
      ]
     },
     "metadata": {},
     "output_type": "display_data"
    }
   ],
   "source": [
    "plt.plot(lossi)\n",
    "plt.grid(True)"
   ]
  },
  {
   "cell_type": "code",
   "execution_count": 1157,
   "id": "1d4e2c03-f621-4556-9f59-dc03100c19d6",
   "metadata": {},
   "outputs": [
    {
     "data": {
      "image/png": "[encoded data removed]",
      "text/plain": [
       "<Figure size 640x480 with 1 Axes>"
      ]
     },
     "metadata": {},
     "output_type": "display_data"
    }
   ],
   "source": [
    "plt.plot(\n",
    "    torch.FloatTensor(lossi).view(-1, 1000).mean(dim=1)\n",
    ")\n",
    "plt.grid(True)"
   ]
  },
  {
   "cell_type": "markdown",
   "id": "14787e34-4657-4757-8a15-3fc7b53fc93b",
   "metadata": {},
   "source": [
    "### A third way with torch-countainers e.g. `Sequential`"
   ]
  },
  {
   "cell_type": "code",
   "execution_count": 1158,
   "id": "764513f6-d324-477d-b4de-2804243e82e8",
   "metadata": {},
   "outputs": [],
   "source": [
    "max_steps = 50_000\n",
    "batch_size = 32\n",
    "lossi = []"
   ]
  },
  {
   "cell_type": "code",
   "execution_count": 1206,
   "id": "109cee5b-5553-4a1b-9d49-c62b83ffa31b",
   "metadata": {},
   "outputs": [],
   "source": [
    "model = Sequential(\n",
    "        layers = [\n",
    "            Embedding(num_embeddings=vocab_size, embedding_dim=n_embed),\n",
    "            Flatten(),\n",
    "            Linear(fan_in=num_blocks * n_embed, fan_out=n_hidden, bias=True),\n",
    "            BatchNorm1d(dim=n_hidden),\n",
    "            Tanh(),\n",
    "            Linear(fan_in=n_hidden, fan_out=vocab_size, bias=True),    \n",
    "        ]\n",
    ")\n",
    "\n",
    "parameters = model.parameters()\n",
    "\n",
    "for p in parameters:\n",
    "    p.requires_grad = True"
   ]
  },
  {
   "cell_type": "code",
   "execution_count": 1211,
   "id": "18fada7b-0727-454b-a286-5c445571eed7",
   "metadata": {},
   "outputs": [
    {
     "data": {
      "text/plain": [
       "True"
      ]
     },
     "execution_count": 1211,
     "metadata": {},
     "output_type": "execute_result"
    }
   ],
   "source": [
    "# testing: \n",
    "u = [p for p in model.layers[-1].weights][0][0]\n",
    "u.requires_grad"
   ]
  },
  {
   "cell_type": "code",
   "execution_count": 1212,
   "id": "346919ea-560e-47d7-af30-35066011e64b",
   "metadata": {},
   "outputs": [
    {
     "data": {
      "text/plain": [
       "[<__main__.Embedding at 0x7f26ebb81610>,\n",
       " <__main__.Flatten at 0x7f26eb267650>,\n",
       " <__main__.Linear at 0x7f26ebc4d7d0>,\n",
       " <__main__.BatchNorm1d at 0x7f26eb3d4650>,\n",
       " <__main__.Tanh at 0x7f26ebc44a50>,\n",
       " <__main__.Linear at 0x7f26ebc4ea10>]"
      ]
     },
     "execution_count": 1212,
     "metadata": {},
     "output_type": "execute_result"
    }
   ],
   "source": [
    "model.layers"
   ]
  },
  {
   "cell_type": "code",
   "execution_count": 1213,
   "id": "66a9923f-be99-49e7-be9b-dcafd3f655df",
   "metadata": {},
   "outputs": [
    {
     "name": "stdout",
     "output_type": "stream",
     "text": [
      "   1000 /   50000; 2.6905\n",
      "   2000 /   50000; 2.3449\n",
      "   3000 /   50000; 2.0686\n",
      "   4000 /   50000; 2.6300\n",
      "   5000 /   50000; 2.7371\n",
      "   6000 /   50000; 2.1219\n",
      "   7000 /   50000; 2.1307\n",
      "   8000 /   50000; 2.1784\n",
      "   9000 /   50000; 2.4017\n",
      "  10000 /   50000; 2.2215\n",
      "  11000 /   50000; 1.9787\n",
      "  12000 /   50000; 2.3208\n",
      "  13000 /   50000; 2.1233\n",
      "  14000 /   50000; 2.1799\n",
      "  15000 /   50000; 2.2405\n",
      "  16000 /   50000; 2.6024\n",
      "  17000 /   50000; 2.1833\n",
      "  18000 /   50000; 2.0785\n",
      "  19000 /   50000; 2.2868\n",
      "  20000 /   50000; 2.4521\n",
      "  21000 /   50000; 2.4606\n",
      "  22000 /   50000; 2.3567\n",
      "  23000 /   50000; 1.9711\n",
      "  24000 /   50000; 2.0620\n",
      "  25000 /   50000; 2.2495\n",
      "  26000 /   50000; 2.1710\n",
      "  27000 /   50000; 1.9289\n",
      "  28000 /   50000; 1.8492\n",
      "  29000 /   50000; 2.1119\n",
      "  30000 /   50000; 2.1343\n",
      "  31000 /   50000; 2.1679\n",
      "  32000 /   50000; 2.2174\n",
      "  33000 /   50000; 2.3947\n",
      "  34000 /   50000; 2.0638\n",
      "  35000 /   50000; 2.0325\n",
      "  36000 /   50000; 1.9678\n",
      "  37000 /   50000; 2.0964\n",
      "  38000 /   50000; 2.6057\n",
      "  39000 /   50000; 2.0922\n",
      "  40000 /   50000; 2.2857\n",
      "  41000 /   50000; 2.2151\n",
      "  42000 /   50000; 2.3498\n",
      "  43000 /   50000; 2.0598\n",
      "  44000 /   50000; 1.9745\n",
      "  45000 /   50000; 2.1731\n",
      "  46000 /   50000; 2.1618\n",
      "  47000 /   50000; 2.0097\n",
      "  48000 /   50000; 2.2064\n",
      "  49000 /   50000; 1.7800\n",
      "  50000 /   50000; 2.2176\n"
     ]
    }
   ],
   "source": [
    "for i in range(max_steps):\n",
    "\n",
    "    # mini-batch construct\n",
    "    ix = torch.randperm(len_data)[:batch_size]\n",
    "    # print(f\"{ix = }\")\n",
    "    Xb, Yb = X_train[ix], Y_train[ix]\n",
    "\n",
    "    # forward pass\n",
    "    logits = model(Xb)    \n",
    "    loss = F.cross_entropy(logits, Yb)\n",
    "\n",
    "    # backward pass\n",
    "    for p in parameters:\n",
    "        p.grad = None\n",
    "\n",
    "    loss.backward()\n",
    "\n",
    "    # update rule: \n",
    "    lr = 0.1 if (i < max_steps * 0.5) else 0.01\n",
    "    for p in parameters:\n",
    "        p.data += - lr * p.grad\n",
    "\n",
    "    # stats\n",
    "    if (i + 1) % (max_steps // 50) == 0:\n",
    "        print(f\"{i + 1:7d} / {max_steps:7d}; {loss.item():.4f}\")\n",
    "        \n",
    "    # store loss\n",
    "    lossi.append(loss.detach().item())\n"
   ]
  },
  {
   "cell_type": "code",
   "execution_count": 1216,
   "id": "3f2a4d62-388a-4a03-a2cd-ba5230905670",
   "metadata": {
    "scrolled": true
   },
   "outputs": [
    {
     "data": {
      "image/png": "[encoded data removed]",
      "text/plain": [
       "<Figure size 640x480 with 1 Axes>"
      ]
     },
     "metadata": {},
     "output_type": "display_data"
    }
   ],
   "source": [
    "plt.plot(lossi)\n",
    "plt.grid(True)"
   ]
  },
  {
   "cell_type": "code",
   "execution_count": 1224,
   "id": "7c408ef3-2ec7-43f0-9c2c-936b70b620ec",
   "metadata": {},
   "outputs": [
    {
     "data": {
      "image/png": "[encoded data removed]",
      "text/plain": [
       "<Figure size 640x480 with 1 Axes>"
      ]
     },
     "metadata": {},
     "output_type": "display_data"
    }
   ],
   "source": [
    "plt.plot(\n",
    "    torch.FloatTensor(lossi[:max_steps]).view(-1, 1000).mean(dim=1)\n",
    ")\n",
    "plt.grid(True)"
   ]
  },
  {
   "cell_type": "markdown",
   "id": "a1cef11a-f482-42bb-bea4-18bf77e8d6cb",
   "metadata": {},
   "source": [
    "### evaluate the model"
   ]
  },
  {
   "cell_type": "code",
   "execution_count": 1228,
   "id": "32623308-8bca-49b6-b478-f7b5d97c64d5",
   "metadata": {},
   "outputs": [],
   "source": [
    "for layer in model.layers:\n",
    "    layer.training = False"
   ]
  },
  {
   "cell_type": "code",
   "execution_count": 1316,
   "id": "d80f33eb-17e8-499b-a350-389718446937",
   "metadata": {},
   "outputs": [],
   "source": [
    "@torch.no_grad()\n",
    "def split_eval(split: str):\n",
    "\n",
    "    data_map = {\n",
    "        \"train\": (X_train, Y_train),\n",
    "        \"val\": (X_val, Y_val),\n",
    "        \"test\": (X_test, Y_test),\n",
    "    }\n",
    "\n",
    "\n",
    "    x, y = data_map[split]\n",
    "\n",
    "    logits = model(x)\n",
    "    loss = F.cross_entropy(logits, y)\n",
    "\n",
    "    return loss\n",
    "\n"
   ]
  },
  {
   "cell_type": "code",
   "execution_count": 1231,
   "id": "a3ce6dd7-97b1-42b3-9a81-f84ee14c5dd3",
   "metadata": {},
   "outputs": [
    {
     "data": {
      "text/plain": [
       "(tensor(2.1170), tensor(2.1478), tensor(2.1463))"
      ]
     },
     "execution_count": 1231,
     "metadata": {},
     "output_type": "execute_result"
    }
   ],
   "source": [
    "split_eval(\"train\"), split_eval(\"val\"), split_eval(\"test\")"
   ]
  },
  {
   "cell_type": "markdown",
   "id": "2db663ed-20bc-4c04-bed1-89affa97dae7",
   "metadata": {},
   "source": [
    "### sample from the model"
   ]
  },
  {
   "cell_type": "code",
   "execution_count": 1268,
   "id": "cd841892-4184-4bc1-b0dd-26e096279ac1",
   "metadata": {},
   "outputs": [
    {
     "name": "stdout",
     "output_type": "stream",
     "text": [
      "0 yeen.\n",
      "1 keyriqui.\n",
      "2 aleyn.\n",
      "3 ameightoperasyle.\n",
      "4 chellenid.\n",
      "5 pasyrian.\n",
      "6 ranc.\n",
      "7 taveryna.\n",
      "8 saymaraskylorio.\n",
      "9 aki.\n",
      "10 kal.\n",
      "11 conleedynna.\n",
      "12 bri.\n",
      "13 dela.\n",
      "14 kely.\n",
      "15 an.\n",
      "16 shaw.\n",
      "17 gatefsoelourk.\n",
      "18 arius.\n",
      "19 rigan.\n"
     ]
    }
   ],
   "source": [
    "for i in range(20):\n",
    "    out = []\n",
    "    \n",
    "    context = [0] * num_blocks\n",
    "    while True:\n",
    "        # x = torch.tensor(context).reshape(1, 3)\n",
    "        x = torch.tensor([context])\n",
    "        logits = model(x)\n",
    "        probs = F.softmax(logits, dim=1)\n",
    "        \n",
    "        ix = torch.multinomial(probs, num_samples=1, generator=rg)\n",
    "        ch = itos[ix.item()]\n",
    "        # print(ch)  \n",
    "        context = context[1:] + [ix]\n",
    "        out.append(ix)\n",
    "    \n",
    "        if ix == 0:\n",
    "            break\n",
    "    \n",
    "    print(i, \"\".join(itos[i.item()] for i in out))\n",
    "    "
   ]
  },
  {
   "cell_type": "code",
   "execution_count": 1269,
   "id": "cdf6af5e-fd71-42c8-bf39-3285e1757376",
   "metadata": {},
   "outputs": [
    {
     "data": {
      "text/plain": [
       "tensor([[ 2.6556,  2.8481,  0.3314, -0.3573,  1.0609,  3.8477, -1.6667, -0.3627,\n",
       "          1.9022,  2.9200, -1.6933,  0.0174,  0.0178, -1.1787, -0.4495,  0.7094,\n",
       "         -1.1237, -3.1629,  2.1305, -0.1946,  0.0454, -1.7614, -4.3293, -1.2463,\n",
       "         -1.9280,  2.0813, -1.2025]], grad_fn=<AddBackward0>)"
      ]
     },
     "execution_count": 1269,
     "metadata": {},
     "output_type": "execute_result"
    }
   ],
   "source": [
    "model(Xb[:1])"
   ]
  },
  {
   "cell_type": "code",
   "execution_count": 1270,
   "id": "b238c17e-efa0-433f-8674-64ab1416ff6c",
   "metadata": {},
   "outputs": [
    {
     "data": {
      "text/plain": [
       "torch.Size([1, 3])"
      ]
     },
     "execution_count": 1270,
     "metadata": {},
     "output_type": "execute_result"
    }
   ],
   "source": [
    "Xb[:1].shape"
   ]
  },
  {
   "cell_type": "code",
   "execution_count": 1271,
   "id": "c7bc7d4c-18e3-4b48-9098-db0ce84c4132",
   "metadata": {},
   "outputs": [
    {
     "data": {
      "text/plain": [
       "tensor([[ 1, 14,  0]])"
      ]
     },
     "execution_count": 1271,
     "metadata": {},
     "output_type": "execute_result"
    }
   ],
   "source": [
    "torch.tensor(context).reshape(1, 3)"
   ]
  },
  {
   "cell_type": "code",
   "execution_count": 1272,
   "id": "52446d9c-d410-4d8d-b6ad-46df11577873",
   "metadata": {},
   "outputs": [
    {
     "data": {
      "text/plain": [
       "torch.Size([1, 3])"
      ]
     },
     "execution_count": 1272,
     "metadata": {},
     "output_type": "execute_result"
    }
   ],
   "source": [
    "torch.tensor([context]).shape"
   ]
  },
  {
   "cell_type": "code",
   "execution_count": 1274,
   "id": "3d91f9d2-e563-4405-bc7f-6d66bef2fda5",
   "metadata": {},
   "outputs": [],
   "source": [
    "e = torch.randn((4, 8, 10)) # >> (4, 4, 20)"
   ]
  },
  {
   "cell_type": "code",
   "execution_count": 1277,
   "id": "23c0f11d-e015-42f3-b142-f409307038de",
   "metadata": {},
   "outputs": [
    {
     "data": {
      "text/plain": [
       "torch.Size([4, 4, 20])"
      ]
     },
     "execution_count": 1277,
     "metadata": {},
     "output_type": "execute_result"
    }
   ],
   "source": [
    "e.view(-1, e.shape[-2] // 2, e.shape[-1] * 2).shape"
   ]
  },
  {
   "cell_type": "code",
   "execution_count": 1282,
   "id": "f54aa308-05c0-42a1-96c9-2224bb2a64be",
   "metadata": {},
   "outputs": [],
   "source": [
    "NUM_BLOCKS = 8\n",
    "num_blocks = NUM_BLOCKS\n",
    "X, Y = get_data(words, num_blocks=num_blocks)"
   ]
  },
  {
   "cell_type": "code",
   "execution_count": 1319,
   "id": "93d5c617-03da-4533-8306-3541a556e5ae",
   "metadata": {},
   "outputs": [],
   "source": [
    "model = Sequential(\n",
    "        layers = [\n",
    "            Embedding(num_embeddings=vocab_size, embedding_dim=n_embed),\n",
    "            FlattenConsequtive(num_blocks),\n",
    "            Linear(fan_in=num_blocks * n_embed, fan_out=n_hidden, bias=True),\n",
    "            BatchNorm1d(dim=n_hidden),\n",
    "            Tanh(),\n",
    "            Linear(fan_in=n_hidden, fan_out=vocab_size, bias=True),    \n",
    "        ]\n",
    ")\n",
    "\n",
    "parameters = model.parameters()\n",
    "\n",
    "for p in parameters:\n",
    "    p.requires_grad = True"
   ]
  },
  {
   "cell_type": "code",
   "execution_count": 1320,
   "id": "468850d6-0565-4ec8-8c8b-d273ba072462",
   "metadata": {},
   "outputs": [
    {
     "ename": "RuntimeError",
     "evalue": "shape '[32, 0, 80]' is invalid for input of size 960",
     "output_type": "error",
     "traceback": [
      "\u001b[0;31m---------------------------------------------------------------------------\u001b[0m",
      "\u001b[0;31mRuntimeError\u001b[0m                              Traceback (most recent call last)",
      "Cell \u001b[0;32mIn[1320], line 9\u001b[0m\n\u001b[1;32m      6\u001b[0m Xb, Yb \u001b[38;5;241m=\u001b[39m X_train[ix], Y_train[ix]\n\u001b[1;32m      8\u001b[0m \u001b[38;5;66;03m# forward pass\u001b[39;00m\n\u001b[0;32m----> 9\u001b[0m logits \u001b[38;5;241m=\u001b[39m model(Xb)    \n\u001b[1;32m     10\u001b[0m loss \u001b[38;5;241m=\u001b[39m F\u001b[38;5;241m.\u001b[39mcross_entropy(logits, Yb)\n\u001b[1;32m     12\u001b[0m \u001b[38;5;28;01mbreak\u001b[39;00m\n",
      "Cell \u001b[0;32mIn[1295], line 131\u001b[0m, in \u001b[0;36mSequential.__call__\u001b[0;34m(self, x)\u001b[0m\n\u001b[1;32m    129\u001b[0m \u001b[38;5;28;01mdef\u001b[39;00m \u001b[38;5;21m__call__\u001b[39m(\u001b[38;5;28mself\u001b[39m, x):\n\u001b[1;32m    130\u001b[0m     \u001b[38;5;28;01mfor\u001b[39;00m layer \u001b[38;5;129;01min\u001b[39;00m \u001b[38;5;28mself\u001b[39m\u001b[38;5;241m.\u001b[39mlayers:\n\u001b[0;32m--> 131\u001b[0m         x \u001b[38;5;241m=\u001b[39m layer(x)\n\u001b[1;32m    132\u001b[0m     \u001b[38;5;28mself\u001b[39m\u001b[38;5;241m.\u001b[39mout \u001b[38;5;241m=\u001b[39m x\n\u001b[1;32m    133\u001b[0m     \u001b[38;5;28;01mreturn\u001b[39;00m \u001b[38;5;28mself\u001b[39m\u001b[38;5;241m.\u001b[39mout\n",
      "Cell \u001b[0;32mIn[1295], line 115\u001b[0m, in \u001b[0;36mFlattenConsequtive.__call__\u001b[0;34m(self, x)\u001b[0m\n\u001b[1;32m    113\u001b[0m \u001b[38;5;28;01mdef\u001b[39;00m \u001b[38;5;21m__call__\u001b[39m(\u001b[38;5;28mself\u001b[39m, x):\n\u001b[1;32m    114\u001b[0m     B, T, C \u001b[38;5;241m=\u001b[39m x\u001b[38;5;241m.\u001b[39mshape\n\u001b[0;32m--> 115\u001b[0m     \u001b[38;5;28mself\u001b[39m\u001b[38;5;241m.\u001b[39mout \u001b[38;5;241m=\u001b[39m x\u001b[38;5;241m.\u001b[39mview(B, T \u001b[38;5;241m/\u001b[39m\u001b[38;5;241m/\u001b[39m \u001b[38;5;28mself\u001b[39m\u001b[38;5;241m.\u001b[39mn, C \u001b[38;5;241m*\u001b[39m \u001b[38;5;28mself\u001b[39m\u001b[38;5;241m.\u001b[39mn)\n\u001b[1;32m    116\u001b[0m     \u001b[38;5;28;01mif\u001b[39;00m T \u001b[38;5;241m==\u001b[39m \u001b[38;5;241m1\u001b[39m:\n\u001b[1;32m    117\u001b[0m         \u001b[38;5;28mself\u001b[39m\u001b[38;5;241m.\u001b[39mout \u001b[38;5;241m=\u001b[39m x\u001b[38;5;241m.\u001b[39msqeeze(dim\u001b[38;5;241m=\u001b[39m\u001b[38;5;241m1\u001b[39m)\n",
      "\u001b[0;31mRuntimeError\u001b[0m: shape '[32, 0, 80]' is invalid for input of size 960"
     ]
    }
   ],
   "source": [
    "for i in range(max_steps):\n",
    "\n",
    "    # mini-batch construct\n",
    "    ix = torch.randperm(len_data)[:batch_size]\n",
    "    # print(f\"{ix = }\")\n",
    "    Xb, Yb = X_train[ix], Y_train[ix]\n",
    "\n",
    "    # forward pass\n",
    "    logits = model(Xb)    \n",
    "    loss = F.cross_entropy(logits, Yb)\n",
    "\n",
    "    break\n",
    "    \n",
    "    # backward pass\n",
    "    for p in parameters:\n",
    "        p.grad = None\n",
    "\n",
    "    loss.backward()\n",
    "\n",
    "    # update rule: \n",
    "    lr = 0.1 if (i < max_steps * 0.5) else 0.01\n",
    "    for p in parameters:\n",
    "        p.data += - lr * p.grad\n",
    "\n",
    "    # stats\n",
    "    if (i + 1) % (max_steps // 50) == 0:\n",
    "        print(f\"{i + 1:7d} / {max_steps:7d}; {loss.item():.4f}\")\n",
    "        \n",
    "    # store loss\n",
    "    lossi.append(loss.detach().item())\n",
    "    "
   ]
  },
  {
   "cell_type": "code",
   "execution_count": 1311,
   "id": "353fd2f9-c4ba-443a-ad8d-e3434525f28a",
   "metadata": {},
   "outputs": [
    {
     "name": "stdout",
     "output_type": "stream",
     "text": [
      "Linear <__main__.Linear object at 0x7f26eb9e3250>\n"
     ]
    }
   ],
   "source": [
    "for layer in model.layers[2:3]:\n",
    "    print(layer.__class__.__name__, layer..)"
   ]
  },
  {
   "cell_type": "code",
   "execution_count": 1301,
   "id": "61f71e00-affa-4f7f-89d3-3b5e0c0207af",
   "metadata": {},
   "outputs": [
    {
     "ename": "AttributeError",
     "evalue": "'Linear' object has no attribute 'out'",
     "output_type": "error",
     "traceback": [
      "\u001b[0;31m---------------------------------------------------------------------------\u001b[0m",
      "\u001b[0;31mAttributeError\u001b[0m                            Traceback (most recent call last)",
      "Cell \u001b[0;32mIn[1301], line 1\u001b[0m\n\u001b[0;32m----> 1\u001b[0m model\u001b[38;5;241m.\u001b[39mlayers[\u001b[38;5;241m2\u001b[39m]\u001b[38;5;241m.\u001b[39mout\n",
      "\u001b[0;31mAttributeError\u001b[0m: 'Linear' object has no attribute 'out'"
     ]
    }
   ],
   "source": [
    "model.layers[2].out"
   ]
  },
  {
   "cell_type": "code",
   "execution_count": 1315,
   "id": "98f8f538-fea9-4e05-a637-05047d734f7f",
   "metadata": {},
   "outputs": [
    {
     "data": {
      "text/plain": [
       "tensor([[ 0.0542, -0.0274,  0.0197,  ...,  0.1685,  0.0841,  0.1564],\n",
       "        [-0.1092, -0.1409,  0.1638,  ...,  0.0408,  0.0984,  0.0655],\n",
       "        [ 0.0581, -0.1893, -0.1184,  ..., -0.0265,  0.1685, -0.0997],\n",
       "        ...,\n",
       "        [ 0.1197, -0.0315, -0.1292,  ...,  0.0607,  0.1528, -0.0303],\n",
       "        [ 0.2443, -0.1367, -0.0463,  ..., -0.0782, -0.1264,  0.1091],\n",
       "        [-0.1746, -0.1945,  0.0669,  ..., -0.0619,  0.0791, -0.0485]],\n",
       "       requires_grad=True)"
      ]
     },
     "execution_count": 1315,
     "metadata": {},
     "output_type": "execute_result"
    }
   ],
   "source": []
  },
  {
   "cell_type": "code",
   "execution_count": null,
   "id": "d95227d7-b1b3-4ce1-9873-e764294491f8",
   "metadata": {},
   "outputs": [],
   "source": []
  }
 ],
 "metadata": {
  "kernelspec": {
   "display_name": "Python 3 (ipykernel)",
   "language": "python",
   "name": "python3"
  },
  "language_info": {
   "codemirror_mode": {
    "name": "ipython",
    "version": 3
   },
   "file_extension": ".py",
   "mimetype": "text/x-python",
   "name": "python",
   "nbconvert_exporter": "python",
   "pygments_lexer": "ipython3",
   "version": "3.11.7"
  }
 },
 "nbformat": 4,
 "nbformat_minor": 5
}
