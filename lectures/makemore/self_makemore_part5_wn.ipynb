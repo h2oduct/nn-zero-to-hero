{
 "cells": [
  {
   "cell_type": "markdown",
   "id": "881282e2-b034-4d09-bc98-97992195ccb4",
   "metadata": {},
   "source": [
    "### makemore: lect03"
   ]
  },
  {
   "cell_type": "markdown",
   "id": "28bf6f03-63a9-45e7-af95-610638eea665",
   "metadata": {},
   "source": [
    "\n",
    "### day14\n",
    "\n",
    "- 202403120630--202403120800\n",
    "- 202403122000--202403122100\n",
    "\n",
    "### day 15\n",
    "- 202403130845--202403131200\n",
    "  \n",
    "### day 16\n",
    "- 202403140630--202403140800\n",
    "\n",
    "### day 17\n",
    "- 202403152100--202403152130\n",
    "\n",
    "\n",
    "### day 18\n",
    "- 202403161300--202403161500\n",
    "\n",
    "  \n",
    "### day 19\n",
    "- 202403170900--202403171215\n",
    "- "
   ]
  },
  {
   "cell_type": "code",
   "execution_count": 63,
   "id": "e1b9b2ad-4271-410e-8e45-1becc1577c63",
   "metadata": {},
   "outputs": [],
   "source": [
    "import torch\n",
    "import torch.nn.functional as F\n",
    "import matplotlib.pyplot as plt\n",
    "%matplotlib inline\n",
    "\n",
    "from typing import List, Any"
   ]
  },
  {
   "cell_type": "markdown",
   "id": "4781e9ea-2a9f-4ee4-8454-05c0d30432ee",
   "metadata": {},
   "source": [
    "### Constants"
   ]
  },
  {
   "cell_type": "code",
   "execution_count": 64,
   "id": "9ffa18d3-cc30-4f5d-8ebd-78eb6e4c0c37",
   "metadata": {},
   "outputs": [],
   "source": [
    "RANDOM_SEED = 10\n",
    "NUM_BLOCKS = 3\n",
    "NUM_DIM_CHARS = 2\n",
    "NUM_HIDDEN = 20"
   ]
  },
  {
   "cell_type": "markdown",
   "id": "15eb4a44-dcde-4695-9ce7-2d054c8db5da",
   "metadata": {},
   "source": [
    "### Random Generator"
   ]
  },
  {
   "cell_type": "code",
   "execution_count": 65,
   "id": "89d72902-36c2-4caa-b39c-76c3c4884592",
   "metadata": {},
   "outputs": [],
   "source": [
    "import random\n",
    "import numpy as np\n",
    "\n",
    "rand_gen = torch.Generator().manual_seed(RANDOM_SEED)\n",
    "RAND_GEN = rand_gen\n",
    "\n",
    "torch.manual_seed(RANDOM_SEED)\n",
    "random.seed(RANDOM_SEED)\n",
    "np.random.seed(RANDOM_SEED)"
   ]
  },
  {
   "cell_type": "markdown",
   "id": "88cbf0e8-8a35-4e5a-beed-6a7dfd2880cc",
   "metadata": {},
   "source": [
    "### Read File"
   ]
  },
  {
   "cell_type": "code",
   "execution_count": 66,
   "id": "6f0ec892-6413-472e-b504-36196138b957",
   "metadata": {},
   "outputs": [
    {
     "data": {
      "text/plain": [
       "(32033, ['emma', 'olivia', 'ava', 'isabella', 'sophia'])"
      ]
     },
     "execution_count": 66,
     "metadata": {},
     "output_type": "execute_result"
    }
   ],
   "source": [
    "words = open(\"names.txt\").read().splitlines()\n",
    "len(words), words[:5]"
   ]
  },
  {
   "cell_type": "markdown",
   "id": "cd340835-ef13-4c2d-a575-a04bbc333e7e",
   "metadata": {},
   "source": [
    "### Make Mappings: `chr -> int` and `int -> chr`"
   ]
  },
  {
   "cell_type": "code",
   "execution_count": 67,
   "id": "1c124786-03ed-44d6-88ab-7a89865c5b8a",
   "metadata": {},
   "outputs": [
    {
     "data": {
      "text/plain": [
       "(97, 122, 26, 'a', 'z')"
      ]
     },
     "execution_count": 67,
     "metadata": {},
     "output_type": "execute_result"
    }
   ],
   "source": [
    "ord(\"a\"), ord(\"z\"), ord(\"z\") - ord(\"a\") + 1, chr(ord(\"a\")), chr(ord(\"z\"))"
   ]
  },
  {
   "cell_type": "code",
   "execution_count": 70,
   "id": "aca4e3b1-913a-457c-88cf-de5b998ac41f",
   "metadata": {},
   "outputs": [],
   "source": [
    "itos = {i - ord(\"a\") + 1: chr(i) for i in range(ord(\"a\"), ord(\"z\") + 1)}\n",
    "itos[0] = \".\"\n",
    "\n",
    "stoi = {s: i for i, s in itos.items()}\n",
    "\n",
    "# stoi\n",
    "# itos"
   ]
  },
  {
   "cell_type": "code",
   "execution_count": 71,
   "id": "681fa387-4fa5-43be-a7f6-26a7dfebe742",
   "metadata": {},
   "outputs": [
    {
     "data": {
      "text/plain": [
       "['a', 'b', 'c', 'd', 'e', 'f', 'g', 'h', 'i', 'j']"
      ]
     },
     "execution_count": 71,
     "metadata": {},
     "output_type": "execute_result"
    }
   ],
   "source": [
    "chars = sorted(list(set(\"\".join(words))))\n",
    "chars[:10]"
   ]
  },
  {
   "cell_type": "code",
   "execution_count": 72,
   "id": "6edfb969-b60b-46ff-aeeb-d275ed58de94",
   "metadata": {},
   "outputs": [],
   "source": [
    "stoi = {s: i + 1 for i, s in enumerate(chars)}\n",
    "stoi[\".\"] = 0\n",
    "itos = {i: s for s, i in stoi.items()}"
   ]
  },
  {
   "cell_type": "markdown",
   "id": "ec60defb-7bbc-4928-bb51-504a8c15adce",
   "metadata": {},
   "source": [
    "### Get Data"
   ]
  },
  {
   "cell_type": "code",
   "execution_count": 73,
   "id": "fe80c8c4-52da-4a00-9a5e-d0fba9579891",
   "metadata": {},
   "outputs": [],
   "source": [
    "def get_data(words: List[str], num_blocks: int = 3, stoi=stoi) -> (List[torch.tensor], List[torch.tensor]):\n",
    "    \"\"\"get data\"\"\"\n",
    "\n",
    "    X, Y = [], []\n",
    "\n",
    "\n",
    "    # ## tese lines are for testing:\n",
    "    # for word in words[:5]:\n",
    "    #     print(\"-\" * 80)\n",
    "\n",
    "    for word in words:\n",
    "        context = [0] * num_blocks\n",
    "        for ch in word + \".\":\n",
    "            i = stoi[ch]\n",
    "            # append the current char ch, i.e. the index i into Y;\n",
    "            # at the same time append the current context into X;\n",
    "            # (the context up to now) contains letters that preeced the char ch\n",
    "            # print(\" \".join((itos[ix] for ix in context)), \"--->\", ch)\n",
    "            X.append(context)\n",
    "            Y.append(i)\n",
    "            context = context[1: ] + [i]\n",
    "           \n",
    "\n",
    "    X = torch.tensor(X)\n",
    "    Y = torch.tensor(Y)\n",
    "    return X, Y"
   ]
  },
  {
   "cell_type": "code",
   "execution_count": 74,
   "id": "3cb05f04-a228-4879-9580-93c17110b11f",
   "metadata": {},
   "outputs": [
    {
     "data": {
      "text/plain": [
       "(tensor([[ 0,  0,  0],\n",
       "         [ 0,  0,  5],\n",
       "         [ 0,  5, 13],\n",
       "         ...,\n",
       "         [26, 26, 25],\n",
       "         [26, 25, 26],\n",
       "         [25, 26, 24]]),\n",
       " tensor([ 5, 13, 13,  ..., 26, 24,  0]))"
      ]
     },
     "execution_count": 74,
     "metadata": {},
     "output_type": "execute_result"
    }
   ],
   "source": [
    "get_data(words)"
   ]
  },
  {
   "cell_type": "code",
   "execution_count": 11,
   "id": "95f8e168-8b80-4966-8498-d20b2d43819f",
   "metadata": {
    "scrolled": true
   },
   "outputs": [],
   "source": [
    "num_blocks = NUM_BLOCKS\n",
    "X, Y = get_data(words, num_blocks=num_blocks)"
   ]
  },
  {
   "cell_type": "code",
   "execution_count": 12,
   "id": "2b9a36ba-227f-4bf4-b522-27a8b418dc67",
   "metadata": {},
   "outputs": [
    {
     "data": {
      "text/plain": [
       "tensor([[ 0,  0,  0],\n",
       "        [ 0,  0,  5],\n",
       "        [ 0,  5, 13],\n",
       "        [ 5, 13, 13],\n",
       "        [13, 13,  1],\n",
       "        [ 0,  0,  0],\n",
       "        [ 0,  0, 15],\n",
       "        [ 0, 15, 12],\n",
       "        [15, 12,  9],\n",
       "        [12,  9, 22]])"
      ]
     },
     "execution_count": 12,
     "metadata": {},
     "output_type": "execute_result"
    }
   ],
   "source": [
    "X[:10]"
   ]
  },
  {
   "cell_type": "code",
   "execution_count": 13,
   "id": "072e720e-e0fa-43d2-84f7-1ba47340ddee",
   "metadata": {},
   "outputs": [
    {
     "data": {
      "text/plain": [
       "tensor([ 5, 13, 13,  1,  0, 15, 12,  9, 22,  9])"
      ]
     },
     "execution_count": 13,
     "metadata": {},
     "output_type": "execute_result"
    }
   ],
   "source": [
    "Y[:10]"
   ]
  },
  {
   "cell_type": "code",
   "execution_count": null,
   "id": "dee258fe-f937-4333-b532-d92229366e02",
   "metadata": {},
   "outputs": [],
   "source": []
  },
  {
   "cell_type": "markdown",
   "id": "5ac45397-668b-4c28-953e-c6c7ff62c6e9",
   "metadata": {},
   "source": [
    "### Split Data: `train`, `val/dev`, and `test`"
   ]
  },
  {
   "cell_type": "code",
   "execution_count": 14,
   "id": "f35e9765-852e-4652-a2c8-5edfe62d6f4e",
   "metadata": {},
   "outputs": [
    {
     "data": {
      "text/plain": [
       "(torch.Size([228146, 3]), 228146)"
      ]
     },
     "execution_count": 14,
     "metadata": {},
     "output_type": "execute_result"
    }
   ],
   "source": [
    "X.shape, X.shape[0]"
   ]
  },
  {
   "cell_type": "code",
   "execution_count": 15,
   "id": "2a3bcc70-f974-449e-8ff8-977dd4033dc6",
   "metadata": {},
   "outputs": [
    {
     "data": {
      "text/plain": [
       "(torch.Size([228146]), 228146)"
      ]
     },
     "execution_count": 15,
     "metadata": {},
     "output_type": "execute_result"
    }
   ],
   "source": [
    "Y.shape, Y.shape[0]"
   ]
  },
  {
   "cell_type": "code",
   "execution_count": 16,
   "id": "24ab8c9d-1ee3-42d0-b288-7c9fe7b5896a",
   "metadata": {},
   "outputs": [
    {
     "data": {
      "text/plain": [
       "tensor([117017,  81926, 152774,   8097, 220660,  38770, 226753, 147220, 224337,\n",
       "        175417])"
      ]
     },
     "execution_count": 16,
     "metadata": {},
     "output_type": "execute_result"
    }
   ],
   "source": [
    "indexes = torch.randperm(X.shape[0], generator=rand_gen)\n",
    "indexes[:10]"
   ]
  },
  {
   "cell_type": "code",
   "execution_count": 17,
   "id": "b6af5db7-a9d7-4bd5-8bb6-cb500bbc1904",
   "metadata": {},
   "outputs": [
    {
     "data": {
      "text/plain": [
       "tensor([184694,  31158,  21725,  15842,   3894,  75184,  50599, 156241, 116075,\n",
       "         47106])"
      ]
     },
     "execution_count": 17,
     "metadata": {},
     "output_type": "execute_result"
    }
   ],
   "source": [
    "# this list changes over time?!\n",
    "torch.randperm(X.shape[0], generator=rand_gen)[:10]"
   ]
  },
  {
   "cell_type": "code",
   "execution_count": 75,
   "id": "d0bcc3d8-99cb-4fc9-ad3b-0f12687c6b37",
   "metadata": {},
   "outputs": [],
   "source": [
    "def split_data(X, y, split=0.8):\n",
    "    \n",
    "    \"\"\"split data into train, val, and test sets\"\"\"\n",
    "    \n",
    "    assert X.shape[0] == y.shape[0], \"input data X and Y sizes do not match.\"\n",
    "    assert (0 < split and split < 1), \"the split for training data should be within (0, 1).\"\n",
    "    \n",
    "    len_data = X.shape[0]\n",
    "    shuffled_indices = torch.randperm(X.shape[0], generator=rand_gen)\n",
    "\n",
    "    len_train = int(split * len_data)\n",
    "    len_val = (len_data - len_train) // 2\n",
    "    len_test = len_data - len_train - len_val\n",
    "    \n",
    "    \n",
    "    X_train = X[shuffled_indices][:len_train]\n",
    "    X_val = X[shuffled_indices][len_train: len_train + len_val]\n",
    "    X_test = X[shuffled_indices][- len_test:]\n",
    "    \n",
    "    y_train = Y[shuffled_indices][:len_train]\n",
    "    y_val = Y[shuffled_indices][len_train: len_train + len_val]\n",
    "    y_test = Y[shuffled_indices][- len_test:]\n",
    "\n",
    "    return X_train, X_val, X_test, y_train, y_val, y_test"
   ]
  },
  {
   "cell_type": "code",
   "execution_count": 76,
   "id": "22b3882d-ff13-4ebb-b6ac-1f0c3d970d92",
   "metadata": {},
   "outputs": [],
   "source": [
    "X_train, X_val, X_test, Y_train, Y_val, Y_test = split_data(X, Y)"
   ]
  },
  {
   "cell_type": "code",
   "execution_count": 77,
   "id": "80747879-d858-4f0d-a947-81052dfaed59",
   "metadata": {},
   "outputs": [
    {
     "data": {
      "text/plain": [
       "(torch.Size([182516, 3]),\n",
       " torch.Size([22815, 3]),\n",
       " torch.Size([22815, 3]),\n",
       " torch.Size([182516]),\n",
       " torch.Size([22815]),\n",
       " torch.Size([22815]))"
      ]
     },
     "execution_count": 77,
     "metadata": {},
     "output_type": "execute_result"
    }
   ],
   "source": [
    "X_train.shape, X_val.shape, X_test.shape, Y_train.shape, Y_val.shape, Y_test.shape"
   ]
  },
  {
   "cell_type": "markdown",
   "id": "8b6f9848-0db7-4f73-8fc8-646c8b2d1b4d",
   "metadata": {},
   "source": [
    "### MLP revisted"
   ]
  },
  {
   "cell_type": "code",
   "execution_count": null,
   "id": "59c58404-abf6-4d65-a8e3-ad262a959eb2",
   "metadata": {},
   "outputs": [],
   "source": []
  },
  {
   "cell_type": "markdown",
   "id": "fd56e886-39b2-4caa-9e92-3812d7e10352",
   "metadata": {},
   "source": [
    "### Develop Model\n",
    "\n",
    "- `C` is a mapping that translates `chars` into a `dim`-dimensional vector space;"
   ]
  },
  {
   "cell_type": "code",
   "execution_count": null,
   "id": "48a42452-2e10-4119-859d-620f29e15650",
   "metadata": {},
   "outputs": [],
   "source": []
  },
  {
   "cell_type": "code",
   "execution_count": 78,
   "id": "4379ef6f-cab7-4105-bd60-41560bff21cb",
   "metadata": {},
   "outputs": [],
   "source": [
    "### given the context X; \n",
    "### we predict the following char given in Y; \n",
    "### and the prediction belongs in one out of 27 classes; \n",
    "### i.e. there are 27 chars as a possibility for it. \n",
    "\n",
    "vocab_size = 27 "
   ]
  },
  {
   "cell_type": "code",
   "execution_count": 123,
   "id": "ef6fbc34-bf65-4bed-bc32-8cd920bc4ae6",
   "metadata": {},
   "outputs": [
    {
     "name": "stdout",
     "output_type": "stream",
     "text": [
      "12297\n"
     ]
    }
   ],
   "source": [
    "# MLP revisted\n",
    "n_embed = 10 # the dimensionality of the char. embedding \n",
    "n_hidden = 200 # the number of neurons in the hidden layers\n",
    "\n",
    "g = torch.Generator().manual_seed(2147483647)\n",
    "C = torch.randn((vocab_size, n_embed), generator=g)\n",
    "W1 = torch.randn((n_embed * num_blocks, n_hidden), generator=g) * (5 /3) / ((n_embed * num_blocks) ** 0.5)\n",
    "b1 = torch.randn(n_hidden, generator=g) * 0.01\n",
    "\n",
    "W2 = torch.randn((n_hidden, vocab_size), generator=g) * 0.2\n",
    "b2 = torch.randn(vocab_size, generator=g) * 0.01\n",
    "\n",
    "bngain = torch.ones((1, n_hidden))\n",
    "bnbias = torch.zeros((1, n_hidden))\n",
    "\n",
    "bnmean_running = torch.zeros((1, n_hidden))\n",
    "bnstd_running = torch.ones((1, n_hidden))\n",
    "\n",
    "parameters = [C, W1, b1, W2, b2, bngain, bnbias]\n",
    "print(sum(p.nelement() for p in parameters)) # number of parameters total\n",
    "for p in parameters:\n",
    "    p.requires_grad = True"
   ]
  },
  {
   "cell_type": "markdown",
   "id": "4017da4b-8aea-4c25-b9d0-7c353fbcaa11",
   "metadata": {},
   "source": [
    "### Pay attention about shapes"
   ]
  },
  {
   "cell_type": "code",
   "execution_count": 80,
   "id": "a7bd2d2f-86ab-4fd3-96ce-51d66d05fd5a",
   "metadata": {},
   "outputs": [
    {
     "data": {
      "text/plain": [
       "tensor([ 1.1329,  0.3249,  0.1838,  0.3746, -0.2744])"
      ]
     },
     "execution_count": 80,
     "metadata": {},
     "output_type": "execute_result"
    }
   ],
   "source": [
    "torch.randn((5, ), generator=rand_gen)"
   ]
  },
  {
   "cell_type": "code",
   "execution_count": 81,
   "id": "ee1bf84b-0979-48b2-a381-9f9ddcab2ddc",
   "metadata": {},
   "outputs": [
    {
     "data": {
      "text/plain": [
       "tensor([ 2.2780, -0.1322, -1.4547,  0.2755,  0.5909])"
      ]
     },
     "execution_count": 81,
     "metadata": {},
     "output_type": "execute_result"
    }
   ],
   "source": [
    "torch.randn(5, generator=rand_gen)"
   ]
  },
  {
   "cell_type": "code",
   "execution_count": 82,
   "id": "7534bc9c-bf91-4daf-83b2-3e94f1958786",
   "metadata": {},
   "outputs": [
    {
     "data": {
      "text/plain": [
       "tensor([[ 0.9375],\n",
       "        [ 1.5414],\n",
       "        [-1.5006],\n",
       "        [ 0.1918],\n",
       "        [ 0.9503]])"
      ]
     },
     "execution_count": 82,
     "metadata": {},
     "output_type": "execute_result"
    }
   ],
   "source": [
    "torch.randn((5, 1), generator=rand_gen)"
   ]
  },
  {
   "cell_type": "markdown",
   "id": "b46f7031-bbd5-45cc-9768-84228feb3971",
   "metadata": {},
   "source": [
    "### Optimization"
   ]
  },
  {
   "cell_type": "code",
   "execution_count": 83,
   "id": "99b403a0-98a7-4ac9-9ad9-2745d375f8ef",
   "metadata": {},
   "outputs": [
    {
     "data": {
      "text/plain": [
       "182516"
      ]
     },
     "execution_count": 83,
     "metadata": {},
     "output_type": "execute_result"
    }
   ],
   "source": [
    "X_train.shape[0]"
   ]
  },
  {
   "cell_type": "code",
   "execution_count": 84,
   "id": "f58a519d-857c-49e5-94e1-991a1444ab4f",
   "metadata": {},
   "outputs": [
    {
     "data": {
      "text/plain": [
       "(torch.Size([32, 3]), torch.Size([27, 10]))"
      ]
     },
     "execution_count": 84,
     "metadata": {},
     "output_type": "execute_result"
    }
   ],
   "source": [
    "# mini-batch construct\n",
    "batch_size = 32\n",
    "ix = torch.randperm(X_train.shape[0], generator=rand_gen)[:batch_size]\n",
    "# print(i, ix)\n",
    "X_batch, Y_batch = X_train[ix], Y_train[ix]\n",
    "X_batch.shape, C.shape"
   ]
  },
  {
   "cell_type": "code",
   "execution_count": 85,
   "id": "613962ba-d5b7-420c-b1fc-d95a289939cd",
   "metadata": {},
   "outputs": [
    {
     "data": {
      "text/plain": [
       "torch.Size([32, 3, 10])"
      ]
     },
     "execution_count": 85,
     "metadata": {},
     "output_type": "execute_result"
    }
   ],
   "source": [
    "# C: 27 x 10 \n",
    "# X_batch: 32 x 3 \n",
    "\n",
    "emb = C[X_batch]\n",
    "emb.shape"
   ]
  },
  {
   "cell_type": "code",
   "execution_count": 86,
   "id": "b1709332-0cdd-48d2-ba29-b284d12c9f0b",
   "metadata": {},
   "outputs": [
    {
     "data": {
      "text/plain": [
       "torch.Size([32, 30])"
      ]
     },
     "execution_count": 86,
     "metadata": {},
     "output_type": "execute_result"
    }
   ],
   "source": [
    "emb.view(emb.shape[0], -1).shape"
   ]
  },
  {
   "cell_type": "code",
   "execution_count": 87,
   "id": "e8fb84fc-b55e-44e4-8296-2b35cf399952",
   "metadata": {},
   "outputs": [
    {
     "data": {
      "text/plain": [
       "tensor([[18,  9, 20],\n",
       "        [ 0,  0,  5],\n",
       "        [ 1, 14, 25],\n",
       "        [ 0,  0, 10],\n",
       "        [22, 15, 14],\n",
       "        [11,  5, 14],\n",
       "        [ 0, 20,  1],\n",
       "        [14, 11,  9],\n",
       "        [ 0,  0,  0],\n",
       "        [ 0,  0, 11],\n",
       "        [ 0,  0,  0],\n",
       "        [ 1,  5,  8],\n",
       "        [ 0,  0,  0],\n",
       "        [ 0,  0,  1],\n",
       "        [19, 21, 11],\n",
       "        [22,  5, 14],\n",
       "        [20,  1, 12],\n",
       "        [ 4,  5,  5],\n",
       "        [12,  1, 14],\n",
       "        [ 1, 22,  5],\n",
       "        [ 0,  0,  0],\n",
       "        [ 0, 14,  1],\n",
       "        [12, 25,  1],\n",
       "        [12,  5,  5],\n",
       "        [ 4, 15, 18],\n",
       "        [ 0,  0,  5],\n",
       "        [ 0,  0, 18],\n",
       "        [ 5, 12,  1],\n",
       "        [13,  5, 12],\n",
       "        [ 5, 14,  3],\n",
       "        [11,  5,  9],\n",
       "        [10,  1,  8]])"
      ]
     },
     "execution_count": 87,
     "metadata": {},
     "output_type": "execute_result"
    }
   ],
   "source": [
    "X_batch"
   ]
  },
  {
   "cell_type": "code",
   "execution_count": 88,
   "id": "4e6911fa-a4f6-4fd2-acb5-73ad85c79331",
   "metadata": {},
   "outputs": [
    {
     "data": {
      "text/plain": [
       "torch.Size([27, 10])"
      ]
     },
     "execution_count": 88,
     "metadata": {},
     "output_type": "execute_result"
    }
   ],
   "source": [
    "C.shape"
   ]
  },
  {
   "cell_type": "code",
   "execution_count": 89,
   "id": "db55b3f1-23ce-41ca-8ce6-25368cdc2df2",
   "metadata": {},
   "outputs": [
    {
     "data": {
      "text/plain": [
       "torch.Size([10])"
      ]
     },
     "execution_count": 89,
     "metadata": {},
     "output_type": "execute_result"
    }
   ],
   "source": [
    "C[0].shape"
   ]
  },
  {
   "cell_type": "code",
   "execution_count": 90,
   "id": "9a31ed33-4791-4480-a110-57474b111b67",
   "metadata": {},
   "outputs": [
    {
     "data": {
      "text/plain": [
       "torch.Size([3, 10])"
      ]
     },
     "execution_count": 90,
     "metadata": {},
     "output_type": "execute_result"
    }
   ],
   "source": [
    "C[X_batch[2]].shape"
   ]
  },
  {
   "cell_type": "code",
   "execution_count": 91,
   "id": "84c6f6e4-9d04-4932-a641-b762674476dc",
   "metadata": {},
   "outputs": [
    {
     "data": {
      "text/plain": [
       "tensor([ 1, 14, 25])"
      ]
     },
     "execution_count": 91,
     "metadata": {},
     "output_type": "execute_result"
    }
   ],
   "source": [
    "X_batch[2]"
   ]
  },
  {
   "cell_type": "code",
   "execution_count": 92,
   "id": "de6ab3ff-a9bc-4ec9-b9d5-68eecf366c60",
   "metadata": {},
   "outputs": [
    {
     "data": {
      "text/plain": [
       "tensor([ 1.5674, -0.2373, -0.0274, -1.1008,  0.2859, -0.0296, -1.5471,  0.6049,\n",
       "         0.0791,  0.9046], grad_fn=<SelectBackward0>)"
      ]
     },
     "execution_count": 92,
     "metadata": {},
     "output_type": "execute_result"
    }
   ],
   "source": [
    "C[0]"
   ]
  },
  {
   "cell_type": "code",
   "execution_count": 93,
   "id": "49516b96-8e2d-444d-8875-2170644b297d",
   "metadata": {},
   "outputs": [
    {
     "data": {
      "text/plain": [
       "tensor([-0.2129,  0.5095,  0.3271,  1.9661, -0.2409, -0.7952,  0.2720, -1.1100,\n",
       "        -0.4528, -0.4958], grad_fn=<SelectBackward0>)"
      ]
     },
     "execution_count": 93,
     "metadata": {},
     "output_type": "execute_result"
    }
   ],
   "source": [
    "C[19]"
   ]
  },
  {
   "cell_type": "code",
   "execution_count": 94,
   "id": "ec5e9984-30a3-46fa-b314-feef3453274e",
   "metadata": {},
   "outputs": [
    {
     "data": {
      "text/plain": [
       "tensor([ 0.1156,  0.8032,  0.5411, -1.1646,  0.1476, -1.0006,  0.3801,  0.4733,\n",
       "        -0.9103, -0.7830], grad_fn=<SelectBackward0>)"
      ]
     },
     "execution_count": 94,
     "metadata": {},
     "output_type": "execute_result"
    }
   ],
   "source": [
    "C[5]"
   ]
  },
  {
   "cell_type": "code",
   "execution_count": 95,
   "id": "91180192-d049-4702-9873-dfa75e16a4b5",
   "metadata": {},
   "outputs": [
    {
     "data": {
      "text/plain": [
       "tensor([[ 1.5674, -0.2373, -0.0274, -1.1008,  0.2859, -0.0296, -1.5471,  0.6049,\n",
       "          0.0791,  0.9046],\n",
       "        [-0.2129,  0.5095,  0.3271,  1.9661, -0.2409, -0.7952,  0.2720, -1.1100,\n",
       "         -0.4528, -0.4958],\n",
       "        [ 0.1156,  0.8032,  0.5411, -1.1646,  0.1476, -1.0006,  0.3801,  0.4733,\n",
       "         -0.9103, -0.7830]], grad_fn=<IndexBackward0>)"
      ]
     },
     "execution_count": 95,
     "metadata": {},
     "output_type": "execute_result"
    }
   ],
   "source": [
    "C[[0, 19, 5]]"
   ]
  },
  {
   "cell_type": "code",
   "execution_count": 96,
   "id": "1f32edc7-e3d3-4d6d-b0bf-1d371eac4b45",
   "metadata": {},
   "outputs": [
    {
     "data": {
      "text/plain": [
       "tensor([[-4.7125e-01,  7.8682e-01, -3.2843e-01, -4.3297e-01,  1.3729e+00,\n",
       "          2.9334e+00,  1.5618e+00, -1.6261e+00,  6.7716e-01, -8.4039e-01],\n",
       "        [ 4.6827e-01, -6.5650e-01,  6.1662e-01, -6.2197e-01,  5.1007e-01,\n",
       "          1.3563e+00,  2.3445e-01, -4.5585e-01, -1.3132e-03, -5.1161e-01],\n",
       "        [-1.2801e+00,  9.2445e-02,  1.0526e-01, -3.9072e-01,  3.1723e-02,\n",
       "         -5.4753e-01,  8.1827e-01, -8.1628e-01, -3.9243e-01, -7.4521e-01]],\n",
       "       grad_fn=<IndexBackward0>)"
      ]
     },
     "execution_count": 96,
     "metadata": {},
     "output_type": "execute_result"
    }
   ],
   "source": [
    "C[X_batch[2]]"
   ]
  },
  {
   "cell_type": "code",
   "execution_count": 97,
   "id": "7b4ea738-e6e8-42cb-b8fb-eabc33d5ae97",
   "metadata": {},
   "outputs": [
    {
     "data": {
      "text/plain": [
       "torch.Size([32, 3, 10])"
      ]
     },
     "execution_count": 97,
     "metadata": {},
     "output_type": "execute_result"
    }
   ],
   "source": [
    "emb = C[X_batch]\n",
    "emb.shape"
   ]
  },
  {
   "cell_type": "code",
   "execution_count": 98,
   "id": "bea550b7-28bc-48b7-b6d9-a7a4af611398",
   "metadata": {},
   "outputs": [
    {
     "data": {
      "text/plain": [
       "torch.Size([32, 30])"
      ]
     },
     "execution_count": 98,
     "metadata": {},
     "output_type": "execute_result"
    }
   ],
   "source": [
    "emb_cat = emb.view(emb.shape[0], -1)\n",
    "emb_cat.shape"
   ]
  },
  {
   "cell_type": "code",
   "execution_count": 99,
   "id": "becd79c5-5a7b-43d7-a6ac-f9d912342350",
   "metadata": {},
   "outputs": [
    {
     "data": {
      "text/plain": [
       "torch.Size([30, 200])"
      ]
     },
     "execution_count": 99,
     "metadata": {},
     "output_type": "execute_result"
    }
   ],
   "source": [
    "W1.shape"
   ]
  },
  {
   "cell_type": "code",
   "execution_count": 100,
   "id": "8ac96ef6-b839-46c0-9039-213c88591a60",
   "metadata": {},
   "outputs": [
    {
     "data": {
      "text/plain": [
       "torch.Size([32, 200])"
      ]
     },
     "execution_count": 100,
     "metadata": {},
     "output_type": "execute_result"
    }
   ],
   "source": [
    "h = emb_cat @ W1 + b1\n",
    "h.shape"
   ]
  },
  {
   "cell_type": "code",
   "execution_count": 101,
   "id": "52d7d1d5-7636-49fc-8ae3-7082506132c3",
   "metadata": {},
   "outputs": [
    {
     "data": {
      "text/plain": [
       "torch.Size([200, 27])"
      ]
     },
     "execution_count": 101,
     "metadata": {},
     "output_type": "execute_result"
    }
   ],
   "source": [
    "W2.shape"
   ]
  },
  {
   "cell_type": "code",
   "execution_count": 102,
   "id": "03527bc2-069c-4be6-8f90-d10e9a8da502",
   "metadata": {},
   "outputs": [
    {
     "data": {
      "text/plain": [
       "torch.Size([32, 27])"
      ]
     },
     "execution_count": 102,
     "metadata": {},
     "output_type": "execute_result"
    }
   ],
   "source": [
    "(h @ W2).shape"
   ]
  },
  {
   "cell_type": "code",
   "execution_count": 103,
   "id": "e8f35ae9-c18d-4731-afd6-524803fbaf68",
   "metadata": {},
   "outputs": [
    {
     "data": {
      "text/plain": [
       "torch.Size([27])"
      ]
     },
     "execution_count": 103,
     "metadata": {},
     "output_type": "execute_result"
    }
   ],
   "source": [
    "b2.shape"
   ]
  },
  {
   "cell_type": "code",
   "execution_count": 104,
   "id": "432ab008-9bc5-463f-9ddc-38caf9803467",
   "metadata": {},
   "outputs": [
    {
     "data": {
      "text/plain": [
       "torch.Size([32])"
      ]
     },
     "execution_count": 104,
     "metadata": {},
     "output_type": "execute_result"
    }
   ],
   "source": [
    "Y_batch.shape"
   ]
  },
  {
   "cell_type": "code",
   "execution_count": 105,
   "id": "7c7f2a7f-0ad4-447d-94ef-e190f8aee29b",
   "metadata": {},
   "outputs": [
    {
     "data": {
      "text/plain": [
       "torch.Size([228146, 3])"
      ]
     },
     "execution_count": 105,
     "metadata": {},
     "output_type": "execute_result"
    }
   ],
   "source": [
    "X.shape"
   ]
  },
  {
   "cell_type": "code",
   "execution_count": 109,
   "id": "b18f710d-f3dd-48eb-a463-44d5f6a529e8",
   "metadata": {},
   "outputs": [
    {
     "name": "stderr",
     "output_type": "stream",
     "text": [
      "/tmp/ipykernel_80299/1051215198.py:2: UserWarning: Implicit dimension choice for softmax has been deprecated. Change the call to include dim=X as an argument.\n",
      "  probs_test = F.softmax(logits)\n"
     ]
    }
   ],
   "source": [
    "logits = h @ W2 + b2\n",
    "probs_test = F.softmax(logits)\n",
    "probs = F.softmax(logits, dim=1)"
   ]
  },
  {
   "cell_type": "code",
   "execution_count": 110,
   "id": "9e24bdc7-94c5-4dc7-9a04-2d98aceb810c",
   "metadata": {},
   "outputs": [
    {
     "data": {
      "text/plain": [
       "(torch.Size([32, 3]),\n",
       " torch.Size([32, 3, 10]),\n",
       " torch.Size([32, 30]),\n",
       " torch.Size([30, 200]),\n",
       " torch.Size([32, 200]),\n",
       " torch.Size([200, 27]),\n",
       " torch.Size([32, 27]))"
      ]
     },
     "execution_count": 110,
     "metadata": {},
     "output_type": "execute_result"
    }
   ],
   "source": [
    "X_batch.shape, emb.shape, emb_cat.shape, W1.shape, hpreact.shape, W2.shape, logits.shape"
   ]
  },
  {
   "cell_type": "code",
   "execution_count": 111,
   "id": "19ccb050-0551-4793-870c-a95f59671443",
   "metadata": {},
   "outputs": [
    {
     "data": {
      "text/plain": [
       "torch.Size([1, 200])"
      ]
     },
     "execution_count": 111,
     "metadata": {},
     "output_type": "execute_result"
    }
   ],
   "source": [
    "hpreact.mean(0, keepdim=True).shape"
   ]
  },
  {
   "cell_type": "code",
   "execution_count": 112,
   "id": "f9e5831c-5baf-4e87-8cf7-69a9504a8512",
   "metadata": {},
   "outputs": [
    {
     "data": {
      "text/plain": [
       "(tensor(1.4901e-08, grad_fn=<SelectBackward0>),\n",
       " tensor(-3.7253e-09, grad_fn=<DivBackward0>))"
      ]
     },
     "execution_count": 112,
     "metadata": {},
     "output_type": "execute_result"
    }
   ],
   "source": [
    "hpreact.mean(0, keepdim=True)[0][0], hpreact[:,0].sum()/32"
   ]
  },
  {
   "cell_type": "code",
   "execution_count": 113,
   "id": "a4131ec4-fc68-40b9-b991-ebcb889129d8",
   "metadata": {},
   "outputs": [
    {
     "data": {
      "text/plain": [
       "torch.Size([32, 1])"
      ]
     },
     "execution_count": 113,
     "metadata": {},
     "output_type": "execute_result"
    }
   ],
   "source": [
    "hpreact.mean(1, keepdim=True).shape"
   ]
  },
  {
   "cell_type": "code",
   "execution_count": 114,
   "id": "914ad354-1438-4f6d-81ef-2e61b58b4a39",
   "metadata": {},
   "outputs": [
    {
     "data": {
      "text/plain": [
       "(torch.Size([1, 200]), torch.Size([1, 200]))"
      ]
     },
     "execution_count": 114,
     "metadata": {},
     "output_type": "execute_result"
    }
   ],
   "source": [
    "hpreact.mean(0, keepdim=True).shape, hpreact.std(0, keepdim=True).shape"
   ]
  },
  {
   "cell_type": "code",
   "execution_count": 115,
   "id": "0353c9da-0171-4ea1-9507-ee2c0915059f",
   "metadata": {},
   "outputs": [
    {
     "data": {
      "text/plain": [
       "tensor([[ 1.4901e-08,  1.4901e-08,  0.0000e+00,  1.1176e-08, -4.4703e-08,\n",
       "         -1.4901e-08,  1.4901e-08, -2.9802e-08,  1.8626e-09, -2.9802e-08,\n",
       "         -5.9605e-08,  1.7695e-08, -3.3528e-08,  1.4901e-08, -6.7055e-08,\n",
       "          7.4506e-09,  7.4506e-09,  0.0000e+00,  3.7253e-08, -1.4901e-08,\n",
       "          1.4901e-08, -3.7253e-09,  4.4703e-08, -1.4901e-08, -1.4901e-08,\n",
       "         -4.4703e-08,  3.7253e-09,  7.4506e-09,  7.4506e-09,  6.7055e-08,\n",
       "         -3.7253e-08, -2.2352e-08,  7.4506e-09, -1.3039e-08, -1.4901e-08,\n",
       "         -3.7253e-09,  0.0000e+00,  3.7253e-08,  2.9802e-08, -1.4901e-08,\n",
       "         -2.9802e-08, -1.1176e-08,  0.0000e+00, -2.9802e-08,  0.0000e+00,\n",
       "          2.9802e-08,  3.7253e-08,  0.0000e+00,  0.0000e+00,  7.4506e-09,\n",
       "         -3.7253e-08,  7.4506e-09,  3.7253e-08, -2.9802e-08, -2.9802e-08,\n",
       "          4.4703e-08, -1.3039e-08,  2.9802e-08,  6.5193e-09, -1.1176e-08,\n",
       "          2.9802e-08,  1.4901e-08,  2.9802e-08, -5.9605e-08,  0.0000e+00,\n",
       "         -1.4901e-08,  3.7253e-08,  2.9802e-08,  4.4703e-08,  2.9802e-08,\n",
       "          1.4901e-08,  0.0000e+00,  1.2107e-08, -5.2154e-08,  2.9802e-08,\n",
       "         -5.4017e-08,  1.5832e-08,  1.1176e-08, -1.1176e-08, -6.5193e-09,\n",
       "          1.5832e-08, -1.8626e-08, -6.7055e-08,  2.9802e-08, -2.9802e-08,\n",
       "         -3.7253e-08,  0.0000e+00,  5.9605e-08, -3.7253e-09,  4.4703e-08,\n",
       "          7.4506e-09,  0.0000e+00,  3.7253e-09,  2.9802e-08,  4.4703e-08,\n",
       "         -2.9802e-08, -1.4901e-08,  3.7253e-09,  0.0000e+00,  4.4703e-08,\n",
       "         -2.9802e-08, -1.4901e-08, -7.4506e-09, -2.9802e-08,  2.9802e-08,\n",
       "         -5.5879e-09, -7.4506e-09, -4.4703e-08,  4.4703e-08,  5.9605e-08,\n",
       "          3.7253e-08,  0.0000e+00,  1.4901e-08, -9.3132e-09, -4.4703e-08,\n",
       "          1.4901e-08,  1.4901e-08, -2.2352e-08,  2.9802e-08, -3.7253e-08,\n",
       "         -1.0431e-07,  2.9802e-08,  1.4901e-08,  4.4703e-08,  4.4703e-08,\n",
       "          1.3039e-08, -7.4506e-09,  1.4901e-08,  4.4703e-08,  2.9802e-08,\n",
       "          2.2352e-08, -2.9802e-08, -3.7253e-09, -2.2352e-08, -2.2352e-08,\n",
       "         -2.9802e-08,  0.0000e+00, -3.7253e-09,  0.0000e+00, -1.4901e-08,\n",
       "         -7.4506e-09, -7.4506e-09,  1.4901e-08, -1.4901e-08,  2.2352e-08,\n",
       "         -5.2154e-08, -5.2154e-08, -1.4901e-08,  1.4901e-08, -1.4901e-08,\n",
       "          3.9116e-08, -5.5879e-09,  1.4901e-08, -1.4901e-08, -1.4901e-08,\n",
       "         -1.4901e-08, -7.4506e-09,  2.9802e-08, -4.1910e-09,  2.2352e-08,\n",
       "          1.6764e-08, -9.3132e-10,  1.4901e-08, -3.7253e-08, -3.7253e-09,\n",
       "         -2.9802e-08, -2.2352e-08, -2.2352e-08,  1.4901e-08,  1.4901e-08,\n",
       "         -2.9802e-08,  0.0000e+00,  0.0000e+00,  1.6764e-08, -1.8626e-09,\n",
       "          0.0000e+00, -2.9802e-08,  7.4506e-09,  1.4901e-08, -2.9802e-08,\n",
       "          1.8626e-08,  3.7253e-09,  1.4901e-08, -2.9802e-08,  4.2841e-08,\n",
       "          8.9407e-08,  4.0978e-08,  2.2352e-08, -1.4901e-08, -1.4901e-08,\n",
       "          3.3528e-08, -9.3132e-09,  1.1176e-08, -4.0047e-08,  0.0000e+00,\n",
       "          1.4901e-08,  7.4506e-09,  5.5879e-08,  1.4901e-08,  0.0000e+00]],\n",
       "       grad_fn=<MeanBackward1>)"
      ]
     },
     "execution_count": 115,
     "metadata": {},
     "output_type": "execute_result"
    }
   ],
   "source": [
    "hpreact.mean(0, keepdim=True)"
   ]
  },
  {
   "cell_type": "code",
   "execution_count": 116,
   "id": "3a8eed29-2de3-4902-88d7-5d2c2d2ac4da",
   "metadata": {},
   "outputs": [
    {
     "data": {
      "text/plain": [
       "tensor([[1.0000, 1.0000, 1.0000, 1.0000, 1.0000, 1.0000, 1.0000, 1.0000, 1.0000,\n",
       "         1.0000, 1.0000, 1.0000, 1.0000, 1.0000, 1.0000, 1.0000, 1.0000, 1.0000,\n",
       "         1.0000, 1.0000, 1.0000, 1.0000, 1.0000, 1.0000, 1.0000, 1.0000, 1.0000,\n",
       "         1.0000, 1.0000, 1.0000, 1.0000, 1.0000, 1.0000, 1.0000, 1.0000, 1.0000,\n",
       "         1.0000, 1.0000, 1.0000, 1.0000, 1.0000, 1.0000, 1.0000, 1.0000, 1.0000,\n",
       "         1.0000, 1.0000, 1.0000, 1.0000, 1.0000, 1.0000, 1.0000, 1.0000, 1.0000,\n",
       "         1.0000, 1.0000, 1.0000, 1.0000, 1.0000, 1.0000, 1.0000, 1.0000, 1.0000,\n",
       "         1.0000, 1.0000, 1.0000, 1.0000, 1.0000, 1.0000, 1.0000, 1.0000, 1.0000,\n",
       "         1.0000, 1.0000, 1.0000, 1.0000, 1.0000, 1.0000, 1.0000, 1.0000, 1.0000,\n",
       "         1.0000, 1.0000, 1.0000, 1.0000, 1.0000, 1.0000, 1.0000, 1.0000, 1.0000,\n",
       "         1.0000, 1.0000, 1.0000, 1.0000, 1.0000, 1.0000, 1.0000, 1.0000, 1.0000,\n",
       "         1.0000, 1.0000, 1.0000, 1.0000, 1.0000, 1.0000, 1.0000, 1.0000, 1.0000,\n",
       "         1.0000, 1.0000, 1.0000, 1.0000, 1.0000, 1.0000, 1.0000, 1.0000, 1.0000,\n",
       "         1.0000, 1.0000, 1.0000, 1.0000, 1.0000, 1.0000, 1.0000, 1.0000, 1.0000,\n",
       "         1.0000, 1.0000, 1.0000, 1.0000, 1.0000, 1.0000, 1.0000, 1.0000, 1.0000,\n",
       "         1.0000, 1.0000, 1.0000, 1.0000, 1.0000, 1.0000, 1.0000, 1.0000, 1.0000,\n",
       "         1.0000, 1.0000, 1.0000, 1.0000, 1.0000, 1.0000, 1.0000, 1.0000, 1.0000,\n",
       "         1.0000, 1.0000, 1.0000, 1.0000, 1.0000, 1.0000, 1.0000, 1.0000, 1.0000,\n",
       "         1.0000, 1.0000, 1.0000, 1.0000, 1.0000, 1.0000, 1.0000, 1.0000, 1.0000,\n",
       "         1.0000, 1.0000, 1.0000, 1.0000, 1.0000, 1.0000, 1.0000, 1.0000, 1.0000,\n",
       "         1.0000, 1.0000, 1.0000, 1.0000, 1.0000, 1.0000, 1.0000, 1.0000, 1.0000,\n",
       "         1.0000, 1.0000, 1.0000, 1.0000, 1.0000, 1.0000, 1.0000, 1.0000, 1.0000,\n",
       "         1.0000, 1.0000]], grad_fn=<StdBackward0>)"
      ]
     },
     "execution_count": 116,
     "metadata": {},
     "output_type": "execute_result"
    }
   ],
   "source": [
    "hpreact.std(0, keepdim=True)"
   ]
  },
  {
   "cell_type": "code",
   "execution_count": 125,
   "id": "8172073b-e548-4da5-add4-413a6b922d2c",
   "metadata": {},
   "outputs": [
    {
     "name": "stdout",
     "output_type": "stream",
     "text": [
      "    200 /    5000; 2.0967\n",
      "    400 /    5000; 2.2503\n",
      "    600 /    5000; 2.2082\n",
      "    800 /    5000; 2.2965\n",
      "   1000 /    5000; 2.5740\n",
      "   1200 /    5000; 2.3457\n",
      "   1400 /    5000; 2.6500\n",
      "   1600 /    5000; 2.5167\n",
      "   1800 /    5000; 2.1632\n",
      "   2000 /    5000; 2.5433\n",
      "   2200 /    5000; 2.3982\n",
      "   2400 /    5000; 2.5609\n",
      "   2600 /    5000; 2.4234\n",
      "   2800 /    5000; 1.7956\n",
      "   3000 /    5000; 2.7836\n",
      "   3200 /    5000; 2.2964\n",
      "   3400 /    5000; 2.1916\n",
      "   3600 /    5000; 2.2808\n",
      "   3800 /    5000; 1.9137\n",
      "   4000 /    5000; 2.7400\n",
      "   4200 /    5000; 2.1141\n",
      "   4400 /    5000; 2.2793\n",
      "   4600 /    5000; 2.0592\n",
      "   4800 /    5000; 2.3175\n",
      "   5000 /    5000; 2.0436\n"
     ]
    }
   ],
   "source": [
    "max_steps = 5_000\n",
    "batch_size = 32\n",
    "lossi = []\n",
    "\n",
    "\n",
    "for i in range(max_steps):\n",
    "\n",
    "    # mini-batch construct\n",
    "    ix = torch.randperm(X_train.shape[0], generator=rand_gen)[:batch_size]\n",
    "    # print(i, ix)\n",
    "    X_batch, Y_batch = X_train[ix], Y_train[ix]\n",
    "\n",
    "    # forward pass    \n",
    "    emb = C[X_batch] # embed chars into vectors\n",
    "    emb_cat = emb.view(emb.shape[0], -1) # concatenate the vectors\n",
    "    hpreact = emb_cat @ W1 + b1 # hidden layer pre-activation\n",
    "\n",
    "    bnmean = hpreact.mean(0, keepdim=True)\n",
    "    bnstd = hpreact.std(0, keepdim=True)\n",
    "    hpreact = bngain * (hpreact - bnmean) / bnstd + bnbias\n",
    "    \n",
    "    with torch.no_grad():\n",
    "        bnmean_running = 0.999 * bnmean_running + 0.001 * bnmean\n",
    "        bnstd_running = 0.999 * bnstd_running + 0.001 * bnstdi\n",
    "        \n",
    "    h = torch.tanh(hpreact) # hidden layer\n",
    "    logits = h @ W2 + b2 # output layer\n",
    "    loss = F.cross_entropy(logits, Y_batch) # loss function\n",
    "\n",
    "    # backward pass: \n",
    "    for p in parameters:\n",
    "        p.grad = None\n",
    "        \n",
    "    loss.backward()\n",
    "\n",
    "    # update rule:\n",
    "    lr = 0.1 if (i < max_steps // 2) else 0.01\n",
    "    for p in parameters:\n",
    "        p.data += - lr * p.grad\n",
    "        \n",
    "    \n",
    "    # stats\n",
    "    if (i + 1) % (max_steps // 25) == 0:\n",
    "        print(f\"{i + 1:7d} / {max_steps:7d}; {loss.item():.4f}\")\n",
    "    \n",
    "    lossi.append(loss.item())\n",
    "    # break\n"
   ]
  },
  {
   "cell_type": "code",
   "execution_count": 127,
   "id": "f67523ac-b6c2-4180-b147-5cb7307643ce",
   "metadata": {},
   "outputs": [
    {
     "data": {
      "text/plain": [
       "[2.628807783126831,\n",
       " 2.1486830711364746,\n",
       " 2.1276841163635254,\n",
       " 2.475005865097046,\n",
       " 2.5804107189178467,\n",
       " 2.095093011856079,\n",
       " 2.4205150604248047,\n",
       " 2.280073404312134,\n",
       " 2.1078922748565674,\n",
       " 2.5922131538391113]"
      ]
     },
     "execution_count": 127,
     "metadata": {},
     "output_type": "execute_result"
    }
   ],
   "source": [
    "lossi[:10]"
   ]
  },
  {
   "cell_type": "code",
   "execution_count": 128,
   "id": "e21db1e5-c85b-4bcc-930e-6e9294c6e9bc",
   "metadata": {},
   "outputs": [
    {
     "data": {
      "text/plain": [
       "(tensor([[ 0.5721, -0.6423,  0.0697,  ..., -0.6236,  0.3060,  0.5941],\n",
       "         [-0.6726, -0.6732, -0.7369,  ...,  0.7530,  0.0398,  0.0166],\n",
       "         [-0.9343,  0.7571, -0.3538,  ...,  0.5831, -0.3091, -0.4019],\n",
       "         ...,\n",
       "         [ 0.8903, -0.4310, -0.6672,  ...,  0.4802, -0.2618,  0.0731],\n",
       "         [ 0.4658,  0.6119,  0.7533,  ..., -0.1675, -0.2714, -0.1648],\n",
       "         [ 0.9282,  0.2848,  0.5427,  ..., -0.9293,  0.8182,  0.7009]],\n",
       "        grad_fn=<TanhBackward0>),\n",
       " torch.Size([32, 200]))"
      ]
     },
     "execution_count": 128,
     "metadata": {},
     "output_type": "execute_result"
    }
   ],
   "source": [
    "h, h.shape"
   ]
  },
  {
   "cell_type": "code",
   "execution_count": 129,
   "id": "0b944514-8460-481d-85ef-9b15a418095d",
   "metadata": {},
   "outputs": [
    {
     "data": {
      "image/png": "[encoded data removed]",
      "text/plain": [
       "<Figure size 640x480 with 1 Axes>"
      ]
     },
     "metadata": {},
     "output_type": "display_data"
    }
   ],
   "source": [
    "plt.hist(h.view(-1).tolist(), 50);"
   ]
  },
  {
   "cell_type": "code",
   "execution_count": 130,
   "id": "28e455ba-be57-4350-84ff-d0bb3e3fb47c",
   "metadata": {},
   "outputs": [
    {
     "data": {
      "image/png": "[encoded data removed]",
      "text/plain": [
       "<Figure size 640x480 with 1 Axes>"
      ]
     },
     "metadata": {},
     "output_type": "display_data"
    }
   ],
   "source": [
    "plt.hist(hpreact.view(-1).tolist(), 50);"
   ]
  },
  {
   "cell_type": "code",
   "execution_count": 133,
   "id": "271dbe18-3db0-4a65-bc43-a90a617996cb",
   "metadata": {},
   "outputs": [
    {
     "data": {
      "text/plain": [
       "<matplotlib.image.AxesImage at 0x7f8579387f50>"
      ]
     },
     "execution_count": 133,
     "metadata": {},
     "output_type": "execute_result"
    },
    {
     "data": {
      "image/png": "[encoded data removed]",
      "text/plain": [
       "<Figure size 1000x2000 with 1 Axes>"
      ]
     },
     "metadata": {},
     "output_type": "display_data"
    }
   ],
   "source": [
    "plt.figure(figsize=(10, 20))\n",
    "plt.imshow(h.abs() >= 0.99, cmap=\"gray\", interpolation=\"nearest\")"
   ]
  },
  {
   "cell_type": "markdown",
   "id": "7a3cee70-9b18-4461-9de6-bb34bd2153de",
   "metadata": {},
   "source": [
    "### White = 1, True; and Black = 0 False;"
   ]
  },
  {
   "cell_type": "code",
   "execution_count": 134,
   "id": "72c68b69-2cb2-4f6d-968b-d397a4db067b",
   "metadata": {},
   "outputs": [
    {
     "data": {
      "text/plain": [
       "<matplotlib.image.AxesImage at 0x7f85796735d0>"
      ]
     },
     "execution_count": 134,
     "metadata": {},
     "output_type": "execute_result"
    },
    {
     "data": {
      "image/png": "[encoded data removed]",
      "text/plain": [
       "<Figure size 1000x2000 with 1 Axes>"
      ]
     },
     "metadata": {},
     "output_type": "display_data"
    }
   ],
   "source": [
    "plt.figure(figsize=(10, 20))\n",
    "plt.imshow(0 * h.abs() >= 0.99, cmap=\"gray\", interpolation=\"nearest\")"
   ]
  },
  {
   "cell_type": "code",
   "execution_count": 135,
   "id": "0ab762d8-39d6-4098-bd45-ced5fe52500d",
   "metadata": {},
   "outputs": [
    {
     "data": {
      "text/plain": [
       "(torch.Size([32, 200]), torch.Size([32, 200]))"
      ]
     },
     "execution_count": 135,
     "metadata": {},
     "output_type": "execute_result"
    }
   ],
   "source": [
    "h.shape, hpreact.shape"
   ]
  },
  {
   "cell_type": "code",
   "execution_count": 136,
   "id": "a14a29d8-2cdc-4893-bc7b-76fb2597ac9c",
   "metadata": {},
   "outputs": [
    {
     "data": {
      "text/plain": [
       "[2.628807783126831,\n",
       " 2.1486830711364746,\n",
       " 2.1276841163635254,\n",
       " 2.475005865097046,\n",
       " 2.5804107189178467,\n",
       " 2.095093011856079,\n",
       " 2.4205150604248047,\n",
       " 2.280073404312134,\n",
       " 2.1078922748565674,\n",
       " 2.5922131538391113]"
      ]
     },
     "execution_count": 136,
     "metadata": {},
     "output_type": "execute_result"
    }
   ],
   "source": [
    "lossi[:10]"
   ]
  },
  {
   "cell_type": "code",
   "execution_count": 137,
   "id": "ce2986d7-9344-4bcb-b197-5881962f47a6",
   "metadata": {},
   "outputs": [
    {
     "data": {
      "image/png": "[encoded data removed]",
      "text/plain": [
       "<Figure size 640x480 with 1 Axes>"
      ]
     },
     "metadata": {},
     "output_type": "display_data"
    }
   ],
   "source": [
    "plt.plot(lossi)\n",
    "plt.grid(True)"
   ]
  },
  {
   "cell_type": "code",
   "execution_count": 138,
   "id": "a9a54ebd-0bec-4e58-a83d-1920d227591c",
   "metadata": {},
   "outputs": [
    {
     "data": {
      "text/plain": [
       "tensor([-2.2121,  2.8644, -0.5815, -1.6433, -1.1423,  2.5667, -1.3098, -1.8520,\n",
       "         1.5163,  1.6451, -2.3154, -0.8356,  0.5088, -0.8477, -1.7514,  1.4575,\n",
       "        -1.6509, -3.1851,  3.5115, -0.3805, -1.8211,  1.4851, -1.2376,  0.1413,\n",
       "        -4.1027,  1.2074, -1.5471], grad_fn=<SelectBackward0>)"
      ]
     },
     "execution_count": 138,
     "metadata": {},
     "output_type": "execute_result"
    }
   ],
   "source": [
    "logits[0]"
   ]
  },
  {
   "cell_type": "code",
   "execution_count": 141,
   "id": "cf54c18c-9b8e-4a8d-9197-39eea1398066",
   "metadata": {},
   "outputs": [
    {
     "data": {
      "text/plain": [
       "tensor(1.0000, grad_fn=<SumBackward0>)"
      ]
     },
     "execution_count": 141,
     "metadata": {},
     "output_type": "execute_result"
    }
   ],
   "source": [
    "probs = torch.softmax(logits[0], dim=0)\n",
    "probs.sum()"
   ]
  },
  {
   "cell_type": "code",
   "execution_count": 142,
   "id": "327f934b-adb1-4a76-a919-0de2b58c0d8a",
   "metadata": {},
   "outputs": [],
   "source": [
    "probs = torch.softmax(logits, dim=1)"
   ]
  },
  {
   "cell_type": "code",
   "execution_count": 143,
   "id": "7b1e496f-6362-4e0d-8947-0e8b3cab6ba4",
   "metadata": {},
   "outputs": [
    {
     "data": {
      "text/plain": [
       "torch.Size([32, 27])"
      ]
     },
     "execution_count": 143,
     "metadata": {},
     "output_type": "execute_result"
    }
   ],
   "source": [
    "probs.shape"
   ]
  },
  {
   "cell_type": "code",
   "execution_count": 144,
   "id": "af48fc69-dd96-4efd-bbf0-74c94a0721f4",
   "metadata": {},
   "outputs": [
    {
     "data": {
      "text/plain": [
       "(torch.Size([27]),\n",
       " tensor(1.0000, grad_fn=<SumBackward0>),\n",
       " torch.Size([27]),\n",
       " tensor(1.0000, grad_fn=<SumBackward0>))"
      ]
     },
     "execution_count": 144,
     "metadata": {},
     "output_type": "execute_result"
    }
   ],
   "source": [
    "probs[0].shape, probs[0].sum(), probs[1].shape, probs[1].sum()"
   ]
  },
  {
   "cell_type": "code",
   "execution_count": 148,
   "id": "919c8ca4-df26-4648-9b87-a02995043613",
   "metadata": {},
   "outputs": [],
   "source": [
    "with torch.no_grad():\n",
    "    emb = C[X_train]\n",
    "    emb_cat = emb.view(emb.shape[0], -1)\n",
    "    hpreact = emb_cat @ W1 + b1\n",
    "    \n",
    "    bnmean = hpreact.mean(0, keepdim=True)\n",
    "    bnstd = hpreact.std(0, keepdim=True)\n",
    "    "
   ]
  },
  {
   "cell_type": "code",
   "execution_count": 149,
   "id": "b98fd387-ae15-44a2-a64c-6baad0ed176b",
   "metadata": {},
   "outputs": [
    {
     "data": {
      "text/plain": [
       "tensor([[-0.9199, -0.3744, -1.1589,  0.7552,  0.9783,  0.4880,  1.6982, -0.8925,\n",
       "         -0.1764,  0.7415, -0.9607, -1.3209, -0.0451, -0.1160, -0.1815,  0.4014,\n",
       "          0.4220, -1.8760, -0.5117,  0.7324,  0.3257, -0.7424, -0.1377,  0.9897,\n",
       "          0.3174,  0.0567,  0.7607,  0.2249, -0.2883,  1.0391,  0.0438, -0.8328,\n",
       "          0.3261,  0.4191, -0.6040, -0.6782, -0.5943, -1.0706, -0.3699,  0.5030,\n",
       "         -0.0827, -1.1216, -0.6653, -0.2443,  0.6788,  0.4853,  0.1985, -0.6306,\n",
       "          0.9417,  1.3717,  0.2813,  0.4529,  1.4997,  1.4659,  0.8565, -1.1765,\n",
       "          0.1499,  0.6055,  1.0270, -0.9159,  0.0289, -0.0991,  0.8428,  0.3499,\n",
       "          1.0785,  0.8444,  1.0215,  0.4200, -0.4730, -0.0900, -0.6067,  0.8772,\n",
       "          0.9187, -1.2243, -1.1374,  0.3582,  1.2062, -0.3729,  0.4206, -0.2413,\n",
       "          0.7549,  0.8799,  1.1714,  0.5627,  0.4025, -0.6107, -1.3927,  0.0253,\n",
       "          0.8182, -0.3332,  0.4655,  0.6180, -0.4756, -0.3513, -0.1275, -0.3301,\n",
       "         -0.8851, -0.6090,  0.0650, -1.1577, -0.4531,  0.2575, -1.6527,  0.3998,\n",
       "          0.2571,  0.1773, -1.4448, -0.8078,  0.5495, -0.7977,  0.1182,  1.2160,\n",
       "         -0.5643,  1.9058,  0.8546,  0.9701, -0.1429, -0.0978,  0.0815, -0.1172,\n",
       "         -0.7667, -0.3166,  0.9648,  1.0560, -0.3935,  0.2983, -0.1150, -1.1496,\n",
       "         -0.6996, -0.4180,  1.5296, -0.6877,  0.1626,  0.2334,  0.5769,  0.3829,\n",
       "         -0.0143,  0.5706,  0.4034,  0.6700,  0.5653,  0.3732,  0.3889, -0.4424,\n",
       "          1.5477,  0.2597,  0.7644,  0.2682,  0.4549,  0.5398,  0.6964,  0.3894,\n",
       "          1.0358,  1.2591,  0.6023, -0.5710,  0.7992, -0.7369, -0.3855,  0.4387,\n",
       "          0.4934,  0.0752, -0.7907, -1.6087, -0.8100, -0.2521,  0.3905,  0.0404,\n",
       "         -0.4970, -0.1040,  0.2306, -0.5601, -0.1843,  0.3914, -0.4477,  0.9344,\n",
       "          0.9890, -0.8271, -0.1197, -0.8509,  0.8157,  0.2277, -0.4794,  0.7301,\n",
       "          0.1240,  1.0392,  0.2585, -0.4125,  2.0142,  0.5892,  0.2704,  1.2291,\n",
       "          0.1359,  0.8676, -0.0474,  0.2402,  1.7602, -0.7044,  0.5080,  0.7909]])"
      ]
     },
     "execution_count": 149,
     "metadata": {},
     "output_type": "execute_result"
    }
   ],
   "source": [
    "bnmean"
   ]
  },
  {
   "cell_type": "code",
   "execution_count": 150,
   "id": "d3daf4eb-9519-4b06-ae06-7b373edbce53",
   "metadata": {},
   "outputs": [
    {
     "data": {
      "text/plain": [
       "tensor([[-0.9251, -0.3757, -1.1695,  0.7557,  0.9650,  0.4966,  1.7044, -0.9156,\n",
       "         -0.1973,  0.7270, -0.9449, -1.3270, -0.0518, -0.1165, -0.1745,  0.4039,\n",
       "          0.4147, -1.8732, -0.5148,  0.7616,  0.3264, -0.7475, -0.1217,  0.9957,\n",
       "          0.3281,  0.0639,  0.7695,  0.2338, -0.2932,  1.0471,  0.0389, -0.8268,\n",
       "          0.3385,  0.4273, -0.6064, -0.6847, -0.6041, -1.0842, -0.3641,  0.5076,\n",
       "         -0.0815, -1.1215, -0.6810, -0.2457,  0.6864,  0.4860,  0.1992, -0.6345,\n",
       "          0.9457,  1.3870,  0.2883,  0.4478,  1.5012,  1.4650,  0.8675, -1.1723,\n",
       "          0.1379,  0.6091,  1.0377, -0.9075,  0.0269, -0.0887,  0.8509,  0.3278,\n",
       "          1.0828,  0.8358,  1.0201,  0.4190, -0.4802, -0.0918, -0.5926,  0.8803,\n",
       "          0.9192, -1.2376, -1.1523,  0.3618,  1.2192, -0.3722,  0.4174, -0.2502,\n",
       "          0.7634,  0.8831,  1.1713,  0.5712,  0.4057, -0.6074, -1.3907,  0.0235,\n",
       "          0.8173, -0.3429,  0.4693,  0.6325, -0.4741, -0.3365, -0.1362, -0.3359,\n",
       "         -0.8871, -0.5949,  0.0637, -1.1623, -0.4562,  0.2523, -1.6690,  0.3973,\n",
       "          0.2598,  0.1698, -1.4437, -0.8141,  0.5431, -0.7951,  0.1154,  1.2275,\n",
       "         -0.5670,  1.9120,  0.8463,  0.9641, -0.1423, -0.0952,  0.0750, -0.1074,\n",
       "         -0.7798, -0.3127,  0.9646,  1.0730, -0.3848,  0.3034, -0.1163, -1.1631,\n",
       "         -0.6949, -0.4083,  1.5460, -0.6729,  0.1814,  0.2280,  0.5779,  0.3702,\n",
       "         -0.0121,  0.5682,  0.4062,  0.6650,  0.5608,  0.3658,  0.4011, -0.4522,\n",
       "          1.5526,  0.2536,  0.7552,  0.2744,  0.4547,  0.5352,  0.6900,  0.4038,\n",
       "          1.0343,  1.2678,  0.6060, -0.5872,  0.8038, -0.7469, -0.3993,  0.4393,\n",
       "          0.4993,  0.0864, -0.7907, -1.6025, -0.8064, -0.2523,  0.4007,  0.0401,\n",
       "         -0.4886, -0.0982,  0.2411, -0.5633, -0.1742,  0.3901, -0.4450,  0.9455,\n",
       "          0.9891, -0.8254, -0.1324, -0.8582,  0.8184,  0.2171, -0.4787,  0.7377,\n",
       "          0.1254,  1.0427,  0.2426, -0.4028,  2.0178,  0.6000,  0.2709,  1.2416,\n",
       "          0.1362,  0.8816, -0.0420,  0.2409,  1.7566, -0.6989,  0.5134,  0.7993]])"
      ]
     },
     "execution_count": 150,
     "metadata": {},
     "output_type": "execute_result"
    }
   ],
   "source": [
    "bnmean_running"
   ]
  },
  {
   "cell_type": "code",
   "execution_count": 151,
   "id": "1529b10e-c597-4b81-98de-ece489dca3b2",
   "metadata": {},
   "outputs": [
    {
     "data": {
      "text/plain": [
       "tensor([[1.9059, 1.3207, 1.5639, 1.6633, 1.8433, 1.7204, 1.2804, 1.5438, 1.7337,\n",
       "         1.3856, 1.6056, 1.6506, 1.6642, 2.0471, 1.1449, 1.5985, 2.3638, 1.3867,\n",
       "         1.7585, 1.7335, 1.6244, 1.9120, 1.7287, 2.0754, 1.6264, 1.5057, 1.4230,\n",
       "         1.5628, 2.2408, 2.0224, 1.2689, 1.5585, 2.3783, 1.5006, 2.1938, 1.4748,\n",
       "         1.5461, 2.1187, 1.8533, 1.6906, 1.5893, 1.8538, 1.7509, 2.5304, 1.4344,\n",
       "         2.1279, 1.7677, 2.0785, 1.3119, 1.9440, 1.4694, 1.5201, 1.3452, 1.7776,\n",
       "         1.7605, 1.6734, 1.4138, 2.0903, 2.2521, 1.4168, 1.5226, 1.7040, 1.3114,\n",
       "         1.6409, 1.9081, 1.8175, 1.7974, 1.4609, 1.6714, 1.9545, 1.8485, 1.8834,\n",
       "         1.6000, 1.1506, 1.4947, 1.9421, 1.9741, 2.0783, 2.1037, 1.8422, 2.4714,\n",
       "         1.5390, 1.6321, 2.0648, 1.9009, 1.7090, 1.6132, 1.6561, 1.8909, 1.6274,\n",
       "         1.5288, 1.6420, 1.9332, 2.8305, 2.2398, 1.6385, 2.1017, 2.0702, 1.2358,\n",
       "         1.7648, 1.6402, 1.8323, 2.4835, 1.2398, 1.6191, 1.4366, 1.7935, 1.7779,\n",
       "         1.7433, 2.0460, 1.8173, 1.7565, 1.6064, 2.0564, 1.5025, 1.8585, 1.5639,\n",
       "         1.7589, 1.7972, 1.7285, 1.5806, 1.9157, 1.2616, 1.3245, 1.3608, 1.6607,\n",
       "         1.5502, 1.9873, 1.7635, 1.3951, 1.6178, 1.5880, 2.1161, 2.0551, 1.2088,\n",
       "         1.5517, 1.5743, 1.7422, 1.5105, 2.0439, 1.6692, 1.8608, 1.5912, 1.7958,\n",
       "         1.7671, 1.9906, 1.5438, 1.4489, 1.4277, 1.8544, 2.5754, 2.0831, 1.5343,\n",
       "         1.7676, 1.9448, 1.8679, 1.2604, 1.3740, 1.6195, 1.7606, 1.2993, 1.5986,\n",
       "         1.4784, 1.7402, 1.8840, 1.4326, 1.8481, 1.3416, 1.8498, 1.5037, 1.6703,\n",
       "         1.5593, 1.9345, 1.5777, 1.9716, 1.5350, 1.7460, 1.9642, 1.5584, 1.5653,\n",
       "         1.3918, 2.1718, 1.5352, 1.7989, 1.4533, 1.6701, 2.0597, 1.4700, 3.0475,\n",
       "         1.8170, 2.1320, 1.8109, 1.5366, 1.7419, 1.8605, 1.5062, 1.9112, 1.9685,\n",
       "         2.2053, 2.2836]])"
      ]
     },
     "execution_count": 151,
     "metadata": {},
     "output_type": "execute_result"
    }
   ],
   "source": [
    "bnstd"
   ]
  },
  {
   "cell_type": "code",
   "execution_count": 152,
   "id": "e0f5b28e-5c09-41b8-9107-ffbae2e00c14",
   "metadata": {},
   "outputs": [
    {
     "data": {
      "text/plain": [
       "tensor([[1.7478, 1.1079, 1.8597, 1.6285, 1.8738, 1.3139, 1.3072, 1.2364, 2.1800,\n",
       "         1.4002, 1.7761, 1.6321, 1.4228, 1.4096, 1.0100, 1.2410, 2.1805, 1.5354,\n",
       "         1.6408, 1.4056, 1.3699, 1.7666, 1.6813, 2.1931, 1.3858, 1.4643, 1.3675,\n",
       "         1.4349, 1.7254, 1.6136, 1.4556, 1.0854, 1.8650, 1.4556, 1.7520, 1.4891,\n",
       "         1.3792, 2.0253, 1.2916, 1.8252, 1.2047, 1.9557, 1.5721, 2.3367, 1.1670,\n",
       "         1.1183, 1.2937, 1.5472, 0.9374, 1.5517, 1.3816, 0.9475, 1.3855, 1.6600,\n",
       "         1.7360, 1.5585, 1.4320, 1.9276, 2.5498, 1.2389, 1.1676, 1.2782, 1.3566,\n",
       "         1.4667, 2.1633, 1.4133, 1.5808, 1.2693, 1.5814, 1.8216, 1.3953, 1.9506,\n",
       "         1.4815, 0.8741, 1.2959, 1.3599, 1.4968, 1.3734, 1.6445, 1.3780, 1.5200,\n",
       "         1.7221, 1.7275, 1.8727, 1.5010, 1.6231, 1.2720, 1.4550, 1.3576, 1.1785,\n",
       "         1.4685, 1.5016, 1.7163, 2.3645, 1.7619, 1.4803, 1.9797, 1.6619, 1.2363,\n",
       "         1.3580, 1.3575, 1.3990, 1.7736, 1.1283, 1.7637, 0.9451, 1.8024, 1.4942,\n",
       "         1.6665, 2.0210, 1.2673, 1.9724, 1.6415, 1.6414, 1.3989, 1.2809, 1.0699,\n",
       "         1.5677, 1.7796, 1.2537, 1.2117, 1.8315, 0.9717, 1.2937, 1.1619, 1.6567,\n",
       "         1.1583, 1.6149, 2.1466, 1.4011, 1.6199, 1.2620, 2.0525, 1.5598, 1.0578,\n",
       "         1.1100, 1.6826, 1.2941, 1.5417, 1.3357, 1.3496, 1.1767, 1.0974, 1.3392,\n",
       "         1.3657, 1.6782, 1.5006, 1.4129, 1.3389, 1.3854, 1.5208, 1.5776, 1.4866,\n",
       "         1.5286, 1.8152, 1.3554, 1.0182, 1.4126, 1.2810, 1.8519, 0.9826, 1.7856,\n",
       "         1.0101, 2.1605, 1.7408, 1.1131, 1.8702, 0.7498, 1.5119, 1.2970, 1.3480,\n",
       "         1.5001, 1.9219, 1.0013, 1.6772, 1.6626, 2.1044, 2.1032, 1.2610, 1.6819,\n",
       "         1.3377, 1.9740, 1.4326, 1.9660, 1.1963, 1.4283, 1.6775, 1.3319, 2.5560,\n",
       "         1.6950, 1.6720, 1.3452, 1.2018, 1.6869, 1.5312, 0.8961, 1.8317, 1.5362,\n",
       "         1.4177, 2.0453]])"
      ]
     },
     "execution_count": 152,
     "metadata": {},
     "output_type": "execute_result"
    }
   ],
   "source": [
    "bnstd_running"
   ]
  },
  {
   "cell_type": "code",
   "execution_count": 153,
   "id": "c3e956e4-5839-429d-8746-3a8c4a3675fc",
   "metadata": {},
   "outputs": [],
   "source": [
    "@torch.no_grad()\n",
    "def evaluate(split: str):\n",
    "\n",
    "    data_map = {\n",
    "        \"train\": (X_train, Y_train),\n",
    "        \"val\": (X_val, Y_val),\n",
    "        \"test\": (X_test, Y_test),\n",
    "    }\n",
    "   \n",
    "    x, y = data_map[split]\n",
    "    emb = C[x]\n",
    "    emb_cat = emb.view(emb.shape[0], -1)\n",
    "    hpreact = emb_cat @ W1 + b1\n",
    "    hpreact = bngain * (hpreact - hpreact.mean(0, keepdim=True)) / hpreact.std(0, keepdim=True) + bnbias\n",
    "\n",
    "    h = torch.tanh(hpreact)\n",
    "    logits = h @ W2 + b2\n",
    "    loss = F.cross_entropy(logits, y)\n",
    "    \n",
    "    print(f\"{split = }, {loss.item() = }\")"
   ]
  },
  {
   "cell_type": "code",
   "execution_count": null,
   "id": "56de26e7-2843-4956-8a95-ad0967a9b4c1",
   "metadata": {},
   "outputs": [],
   "source": []
  },
  {
   "cell_type": "code",
   "execution_count": 154,
   "id": "97c6b784-5268-4311-9e86-6117bc045123",
   "metadata": {},
   "outputs": [
    {
     "name": "stdout",
     "output_type": "stream",
     "text": [
      "split = 'train', loss.item() = 2.2410805225372314\n",
      "split = 'val', loss.item() = 2.244424343109131\n",
      "split = 'test', loss.item() = 2.244248628616333\n"
     ]
    }
   ],
   "source": [
    "evaluate(\"train\")    \n",
    "evaluate(\"val\")    \n",
    "evaluate(\"test\")    "
   ]
  },
  {
   "cell_type": "code",
   "execution_count": 155,
   "id": "df8be6c2-09b8-4aa0-babf-8a97b504c57f",
   "metadata": {},
   "outputs": [
    {
     "name": "stdout",
     "output_type": "stream",
     "text": [
      "0 kgwydvand.\n",
      "1 gumbrwoxtrvwigs.\n",
      "2 brckiffylah.\n",
      "3 frvubder.\n",
      "4 fmbrdyndh.\n",
      "5 chllegghymbrkkovavphordvgbtxvfdgnovgqtizghstandylv.\n",
      "6 dhv.\n",
      "7 broxadviddopkyvskevdshdyngxhnlengbrulxxsstfvkcingtush.\n",
      "8 zhlyxxmolgwhmmprdvkulajlixxjdzedghkkess.\n",
      "9 ngulslmaczfxrngxrrckomerfuyxghvdrgjon.\n",
      "10 caqmylidgbstum.\n",
      "11 glorgjadduckatelle.\n",
      "12 ujckyslax.\n",
      "13 rmbrbugluckevzkkmkyling.\n",
      "14 grrynverlaxdlwyxsmigbhskhmordynghuvajlossidgnny.\n",
      "15 whlzex.\n",
      "16 bmbingbrcxfilandambbbbbdqduwnstgwiloh.\n",
      "17 degungbubhndussckqyndq.\n",
      "18 jaxxrzkgudah.\n",
      "19 sarvigghbrundrosdfffxchyl.\n"
     ]
    },
    {
     "name": "stderr",
     "output_type": "stream",
     "text": [
      "/tmp/ipykernel_80299/1897569945.py:12: UserWarning: Implicit dimension choice for softmax has been deprecated. Change the call to include dim=X as an argument.\n",
      "  probs_test = F.softmax(logits)\n"
     ]
    }
   ],
   "source": [
    "# sample from the model \n",
    "rg = torch.Generator().manual_seed(RANDOM_SEED + 10)\n",
    "\n",
    "for t in range(20):\n",
    "    out = []\n",
    "    context = [0] * NUM_BLOCKS\n",
    "    while True:\n",
    "        # emb = C[torch.tensor([context])]\n",
    "        emb = C[torch.tensor([context])]\n",
    "        h = torch.tanh(emb.view(1, -1) @ W1 + b1)\n",
    "        logits = h @ W2 + b2\n",
    "        probs_test = F.softmax(logits)\n",
    "        probs = F.softmax(logits, dim=1)\n",
    "    \n",
    "        ix = torch.multinomial(probs, num_samples=1, generator=rg)\n",
    "        ch = itos[ix.item()]\n",
    "        # print(ch)  \n",
    "        context = context[1:] + [ix]\n",
    "        out.append(ix)\n",
    "    \n",
    "        if ix == 0:\n",
    "            break\n",
    "    print(t, \"\".join(itos[i.item()] for i in out))\n",
    "    \n",
    "    # print(\"\".join()"
   ]
  },
  {
   "cell_type": "code",
   "execution_count": 156,
   "id": "a185b23f-0c21-462f-822f-e63b26c34a44",
   "metadata": {},
   "outputs": [],
   "source": [
    "emb = C[torch.tensor(context)]"
   ]
  },
  {
   "cell_type": "code",
   "execution_count": 157,
   "id": "104d3036-2b58-43a4-9c52-b977e93209b6",
   "metadata": {},
   "outputs": [
    {
     "data": {
      "text/plain": [
       "torch.Size([3, 10])"
      ]
     },
     "execution_count": 157,
     "metadata": {},
     "output_type": "execute_result"
    }
   ],
   "source": [
    "emb.shape"
   ]
  },
  {
   "cell_type": "code",
   "execution_count": 158,
   "id": "9ce52e8b-fdfd-446e-a65d-bb36f7433227",
   "metadata": {},
   "outputs": [
    {
     "data": {
      "text/plain": [
       "torch.Size([1, 30])"
      ]
     },
     "execution_count": 158,
     "metadata": {},
     "output_type": "execute_result"
    }
   ],
   "source": [
    "emb.view(1, -1).shape"
   ]
  },
  {
   "cell_type": "code",
   "execution_count": 159,
   "id": "acb6de7a-4d66-4f04-9d11-979e23714f2b",
   "metadata": {},
   "outputs": [
    {
     "data": {
      "text/plain": [
       "torch.Size([1, 3, 10])"
      ]
     },
     "execution_count": 159,
     "metadata": {},
     "output_type": "execute_result"
    }
   ],
   "source": [
    "C[torch.tensor([context])].shape"
   ]
  },
  {
   "cell_type": "code",
   "execution_count": 162,
   "id": "8ed89520-0a0d-435b-810c-fd11614e871c",
   "metadata": {},
   "outputs": [
    {
     "data": {
      "text/plain": [
       "torch.Size([1, 27])"
      ]
     },
     "execution_count": 162,
     "metadata": {},
     "output_type": "execute_result"
    }
   ],
   "source": [
    "probs.shape"
   ]
  },
  {
   "cell_type": "code",
   "execution_count": 163,
   "id": "0598ccb5-89ef-4c6d-bb43-321d27713c16",
   "metadata": {},
   "outputs": [
    {
     "data": {
      "text/plain": [
       "torch.Size([1, 27])"
      ]
     },
     "execution_count": 163,
     "metadata": {},
     "output_type": "execute_result"
    }
   ],
   "source": [
    "probs.shape"
   ]
  },
  {
   "cell_type": "code",
   "execution_count": 166,
   "id": "fe003939-bfbd-4195-85c4-4722ecc54c0c",
   "metadata": {},
   "outputs": [
    {
     "data": {
      "text/plain": [
       "tensor(1., grad_fn=<SumBackward0>)"
      ]
     },
     "execution_count": 166,
     "metadata": {},
     "output_type": "execute_result"
    }
   ],
   "source": [
    "probs.sum()"
   ]
  },
  {
   "cell_type": "code",
   "execution_count": 167,
   "id": "f8f086b5-cb1f-4642-b57d-b5184a9b3127",
   "metadata": {},
   "outputs": [
    {
     "data": {
      "text/plain": [
       "torch.Size([1, 27])"
      ]
     },
     "execution_count": 167,
     "metadata": {},
     "output_type": "execute_result"
    }
   ],
   "source": [
    "logits.shape"
   ]
  },
  {
   "cell_type": "code",
   "execution_count": 168,
   "id": "1dee59f0-3530-4714-8608-89874a30e9fe",
   "metadata": {},
   "outputs": [],
   "source": [
    "logits = torch.tensor([100.0, 0.0, 0.0, 0.0])\n",
    "logits = torch.rand(4) * 100\n",
    "probs = torch.softmax(logits, dim=0)"
   ]
  },
  {
   "cell_type": "code",
   "execution_count": 169,
   "id": "34505602-77ee-487d-98ba-dfc053acaf68",
   "metadata": {},
   "outputs": [
    {
     "data": {
      "text/plain": [
       "tensor([1.5287e-07, 1.8203e-06, 7.2707e-14, 1.0000e+00])"
      ]
     },
     "execution_count": 169,
     "metadata": {},
     "output_type": "execute_result"
    }
   ],
   "source": [
    "probs"
   ]
  },
  {
   "cell_type": "code",
   "execution_count": 170,
   "id": "77c47591-0207-4e87-81b3-cae107697c0f",
   "metadata": {},
   "outputs": [],
   "source": [
    "loss = - probs[2].log()"
   ]
  },
  {
   "cell_type": "code",
   "execution_count": 171,
   "id": "1c4d6993-b47b-48c0-aa76-24fb33e2c44f",
   "metadata": {},
   "outputs": [
    {
     "data": {
      "text/plain": [
       "(tensor([45.8085, 48.2857, 31.2498, 61.5022]),\n",
       " tensor([1.5287e-07, 1.8203e-06, 7.2707e-14, 1.0000e+00]),\n",
       " tensor(30.2523))"
      ]
     },
     "execution_count": 171,
     "metadata": {},
     "output_type": "execute_result"
    }
   ],
   "source": [
    "logits, probs, loss"
   ]
  },
  {
   "cell_type": "code",
   "execution_count": null,
   "id": "dfb633c1-2efd-45c7-9dd5-090b5c58ec45",
   "metadata": {},
   "outputs": [],
   "source": []
  },
  {
   "cell_type": "code",
   "execution_count": 172,
   "id": "7cb1b5ce-b112-4f6a-a022-faccd5232a3b",
   "metadata": {},
   "outputs": [
    {
     "data": {
      "text/plain": [
       "torch.Size([10])"
      ]
     },
     "execution_count": 172,
     "metadata": {},
     "output_type": "execute_result"
    }
   ],
   "source": [
    "torch.randn(10).shape"
   ]
  },
  {
   "cell_type": "code",
   "execution_count": 173,
   "id": "e83a3e2b-ccd1-418e-9253-70c87be30183",
   "metadata": {},
   "outputs": [
    {
     "name": "stdout",
     "output_type": "stream",
     "text": [
      "0.8959280252456665\n",
      "1.0698953866958618\n",
      "0.9664099812507629\n",
      "1.1011399030685425\n",
      "0.8539541959762573\n",
      "0.9838457107543945\n",
      "1.0581798553466797\n",
      "0.8983544111251831\n",
      "1.0232785940170288\n",
      "1.009940505027771\n"
     ]
    }
   ],
   "source": [
    "for i in range(10):\n",
    "    r = torch.randn(100)\n",
    "    print(# r.mean().item(), \n",
    "          r.std().item())"
   ]
  },
  {
   "cell_type": "markdown",
   "id": "e0b726be-10a0-4732-a74f-c1f363cd5924",
   "metadata": {},
   "source": [
    "### day 17"
   ]
  },
  {
   "cell_type": "code",
   "execution_count": 177,
   "id": "1e929345-89e4-4a55-aa06-cdaeb3878147",
   "metadata": {},
   "outputs": [],
   "source": [
    "class Linear:\n",
    "        \n",
    "    def __init__(self, fan_in: int, fan_out: int, bias: bool = True):\n",
    "        self.weight = torch.randn((fan_in, fan_out), generator=g) / fan_in ** 0.5\n",
    "        self.bias = torch.randn(fan_out) if (bias is not None) else None\n",
    "\n",
    "    def __call__(self, x):\n",
    "        self.out = x @ self.weight\n",
    "        if self.bias is not None: \n",
    "            self.out += self.bias\n",
    "        return self.out\n",
    "    \n",
    "    def parameters(self):\n",
    "        return [self.weight] + ([] if self.bias is None else [self.bias])\n",
    "\n",
    "\n",
    "class BatchNorm1d:\n",
    "    def __init__(self, dim, eps=10**(-5), momentum=0.1):\n",
    "        self.eps = eps\n",
    "        self.momentum = momentum\n",
    "        self.training = True\n",
    "        self.dim = dim\n",
    "\n",
    "        self.gamma = torch.ones(dim)\n",
    "        self.beta = torch.zeros(dim)\n",
    "\n",
    "        self.running_mean = torch.zeros(dim)\n",
    "        self.running_var = torch.ones(dim)\n",
    "\n",
    "    def __call__(self, x):\n",
    "        if self.training: \n",
    "            xmean = x.mean(dim=0, keepdim=True)\n",
    "            xvar = x.var(dim=0, keepdim=True)\n",
    "        else:\n",
    "            xmean = self.running_mean\n",
    "            xvar = self.running_std\n",
    "\n",
    "        xhat = (x - xmean) / torch.sqrt(xvar + self.eps)\n",
    "\n",
    "        # print(\"-\" * 80)\n",
    "        # print(f\"{xhat.shape = }\")\n",
    "        # print(f\"{self.gamma.shape = }\")\n",
    "        # print(f\"{self.beta.shape = }\")    \n",
    "        \n",
    "        self.out = self.gamma * xhat + self.beta\n",
    "        \n",
    "        with torch.no_grad():\n",
    "            self.running_mean = self.momentum * self.running_mean + (1 - self.momentum) * xmean\n",
    "            self.running_var = self.momentum * self.running_var + (1 - self.momentum) * xvar\n",
    "    \n",
    "        return self.out\n",
    "\n",
    "    def parameters(self):\n",
    "        return [self.gamma, self.beta]\n",
    "\n",
    "class Tanh:\n",
    "    def __call__(self, x):\n",
    "        self.out = torch.tanh(x)\n",
    "        return self.out\n",
    "    \n",
    "    def parameters(self):\n",
    "        return []"
   ]
  },
  {
   "cell_type": "code",
   "execution_count": 178,
   "id": "e6d6207a-284b-4822-9989-8dce923ed3fe",
   "metadata": {},
   "outputs": [
    {
     "data": {
      "text/plain": [
       "(27, 10, 3)"
      ]
     },
     "execution_count": 178,
     "metadata": {},
     "output_type": "execute_result"
    }
   ],
   "source": [
    "vocab_size, n_embed, num_blocks"
   ]
  },
  {
   "cell_type": "code",
   "execution_count": 179,
   "id": "005754fa-41d8-4dad-b0bb-53bb71b8157b",
   "metadata": {},
   "outputs": [],
   "source": [
    "C = torch.randn((vocab_size, n_embed), generator=g)\n",
    "\n",
    "# this is without batch normalization\n",
    "layers = [\n",
    "    Linear(num_blocks * n_embed, n_hidden),\n",
    "    Tanh(),\n",
    "    Linear(n_hidden, n_hidden),\n",
    "    Tanh(),\n",
    "    Linear(n_hidden, n_hidden),\n",
    "    Tanh(),\n",
    "    Linear(n_hidden, n_hidden),\n",
    "    Tanh(),\n",
    "    Linear(n_hidden, n_hidden),\n",
    "    Tanh(),\n",
    "    Linear(n_hidden, vocab_size),\n",
    "]\n",
    "\n",
    "# this is with batch normalization\n",
    "layers = [\n",
    "    Linear(num_blocks * n_embed, n_hidden),\n",
    "    BatchNorm1d(n_hidden),\n",
    "    Tanh(),\n",
    "    Linear(n_hidden, n_hidden),\n",
    "    BatchNorm1d(n_hidden),\n",
    "    Tanh(),\n",
    "    Linear(n_hidden, n_hidden),\n",
    "    BatchNorm1d(n_hidden),\n",
    "    Tanh(),\n",
    "    Linear(n_hidden, n_hidden),\n",
    "    BatchNorm1d(n_hidden),\n",
    "    Tanh(),\n",
    "    Linear(n_hidden, n_hidden),\n",
    "    BatchNorm1d(n_hidden),\n",
    "    Tanh(),\n",
    "    Linear(n_hidden, vocab_size),\n",
    "    BatchNorm1d(vocab_size),\n",
    "]\n"
   ]
  },
  {
   "cell_type": "code",
   "execution_count": 180,
   "id": "f28f2400-dd17-4983-82eb-28acadf01cb6",
   "metadata": {},
   "outputs": [],
   "source": [
    "# layers[-1].weight *= 0.1\n",
    "layers[-1].gamma *= 0.1\n",
    "for layer in layers[:-1]:\n",
    "    if isinstance(layer, Linear):\n",
    "        layer.weight *= 0.75 # 5/3 # 1 # 3"
   ]
  },
  {
   "cell_type": "code",
   "execution_count": 181,
   "id": "5f126d3d-37e7-4c21-b1c3-ed5cb4e4b90a",
   "metadata": {},
   "outputs": [],
   "source": [
    "parameters = [C] + [p for layer in layers for p in layer.parameters()]\n",
    "\n",
    "for p in parameters:\n",
    "    p.requires_grad = True"
   ]
  },
  {
   "cell_type": "code",
   "execution_count": 182,
   "id": "1c25f6ce-329d-49a7-b209-94dfb27e901d",
   "metadata": {},
   "outputs": [
    {
     "data": {
      "text/plain": [
       "174751"
      ]
     },
     "execution_count": 182,
     "metadata": {},
     "output_type": "execute_result"
    }
   ],
   "source": [
    "sum(p.nelement() for p in parameters)"
   ]
  },
  {
   "cell_type": "markdown",
   "id": "d7b4507c-0ac3-40c8-8c7d-8dc2dfe51eff",
   "metadata": {},
   "source": [
    "### optimization"
   ]
  },
  {
   "cell_type": "code",
   "execution_count": 183,
   "id": "0005800b-4425-4d31-b9a9-866d64485c1f",
   "metadata": {},
   "outputs": [],
   "source": [
    "max_steps = 500\n",
    "batch_size = 32\n",
    "lossi = []\n",
    "ud = [] # update to data ratio\n",
    "\n",
    "for i in range(max_steps):\n",
    "\n",
    "    # mini-batch construct\n",
    "    ix = torch.randperm(X_train.shape[0], generator=rand_gen)[:batch_size]\n",
    "    # print(i, ix)\n",
    "    X_batch, Y_batch = X_train[ix], Y_train[ix]\n",
    "\n",
    "    # forward pass    \n",
    "    emb = C[X_batch] # embed chars into vectors\n",
    "    emb_cat = emb.view(emb.shape[0], -1) # concatenate the vectors\n",
    "\n",
    "    # forward pass\n",
    "    x = emb_cat\n",
    "    for layer in layers:\n",
    "        x = layer(x)\n",
    "\n",
    "    loss = F.cross_entropy(x, Y_batch) # loss function\n",
    "\n",
    "\n",
    "    # backward pass: \n",
    "    for layer in layers:\n",
    "        layer.out.retain_grad()\n",
    "        \n",
    "    for p in parameters:\n",
    "        p.grad = None\n",
    "        \n",
    "    loss.backward()\n",
    "\n",
    "    # update rule:\n",
    "    lr = 0.1 if (i < max_steps // 2) else 0.01\n",
    "    for p in parameters:\n",
    "        p.data += - lr * p.grad\n",
    "\n",
    "    with torch.no_grad():\n",
    "        ud.append(\n",
    "            [(lr * p.grad).std() / p.data.std().log10().item() for p in parameters]\n",
    "            # lr * p.grad / p.data\n",
    "        )\n",
    "        \n",
    "    # stats\n",
    "    if (i + 1) % (max_steps // 25) == 0:\n",
    "        print(f\"{i + 1:7d} / {max_steps:7d}; {loss.item():.4f}\")\n",
    "    \n",
    "    lossi.append(loss.item())\n",
    "    break\n"
   ]
  },
  {
   "cell_type": "code",
   "execution_count": 184,
   "id": "d7a95440-1842-41ab-a661-b47b8ae6a43c",
   "metadata": {},
   "outputs": [
    {
     "data": {
      "text/plain": [
       "tensor(3.2939, grad_fn=<NllLossBackward0>)"
      ]
     },
     "execution_count": 184,
     "metadata": {},
     "output_type": "execute_result"
    }
   ],
   "source": [
    "loss"
   ]
  },
  {
   "cell_type": "code",
   "execution_count": 185,
   "id": "f3cbc1ae-fe3e-49b0-a6c7-ad092c774bf9",
   "metadata": {},
   "outputs": [
    {
     "data": {
      "text/plain": [
       "torch.Size([32, 27])"
      ]
     },
     "execution_count": 185,
     "metadata": {},
     "output_type": "execute_result"
    }
   ],
   "source": [
    "x.shape"
   ]
  },
  {
   "cell_type": "code",
   "execution_count": 186,
   "id": "85f47147-9430-4114-9fb0-4ecf3c23431b",
   "metadata": {},
   "outputs": [
    {
     "name": "stdout",
     "output_type": "stream",
     "text": [
      "len(layers) = 17\n"
     ]
    },
    {
     "data": {
      "text/plain": [
       "[__main__.Linear,\n",
       " __main__.BatchNorm1d,\n",
       " __main__.Tanh,\n",
       " __main__.Linear,\n",
       " __main__.BatchNorm1d,\n",
       " __main__.Tanh,\n",
       " __main__.Linear,\n",
       " __main__.BatchNorm1d,\n",
       " __main__.Tanh,\n",
       " __main__.Linear,\n",
       " __main__.BatchNorm1d,\n",
       " __main__.Tanh,\n",
       " __main__.Linear,\n",
       " __main__.BatchNorm1d,\n",
       " __main__.Tanh,\n",
       " __main__.Linear,\n",
       " __main__.BatchNorm1d]"
      ]
     },
     "execution_count": 186,
     "metadata": {},
     "output_type": "execute_result"
    }
   ],
   "source": [
    "print(f\"{len(layers) = }\")\n",
    "[type(layer) for layer in layers]"
   ]
  },
  {
   "cell_type": "markdown",
   "id": "9108a7f2-d415-4379-aadb-ee6ea8769cf3",
   "metadata": {},
   "source": [
    "### Visualize Tanh Outs"
   ]
  },
  {
   "cell_type": "code",
   "execution_count": 187,
   "id": "5e28c28f-72c9-4175-8825-a6c378aa7bb0",
   "metadata": {},
   "outputs": [
    {
     "name": "stdout",
     "output_type": "stream",
     "text": [
      "layer 2; name: Tanh; mean -0.0032; std: 0.6270; saturated: 13.27%\n",
      "layer 5; name: Tanh; mean 0.0007; std: 0.6312; saturated: 13.53%\n",
      "layer 8; name: Tanh; mean 0.0033; std: 0.6347; saturated: 13.45%\n",
      "layer 11; name: Tanh; mean 0.0004; std: 0.6342; saturated: 13.09%\n",
      "layer 14; name: Tanh; mean 0.0014; std: 0.6296; saturated: 13.78%\n"
     ]
    },
    {
     "data": {
      "text/plain": [
       "<matplotlib.legend.Legend at 0x7f8579022d90>"
      ]
     },
     "execution_count": 187,
     "metadata": {},
     "output_type": "execute_result"
    },
    {
     "data": {
      "image/png": "[encoded data removed]",
      "text/plain": [
       "<Figure size 640x480 with 1 Axes>"
      ]
     },
     "metadata": {},
     "output_type": "display_data"
    }
   ],
   "source": [
    "plt.close()\n",
    "plt.grid(True)\n",
    "for cnt, layer in enumerate(layers):\n",
    "    # print(cnt, layer.out.shape, isinstance(layer, Tanh))\n",
    "    if isinstance(layer, Tanh):\n",
    "        t = layer.out\n",
    "        saturated = (t.abs() > 0.90).float().mean()\n",
    "        name = layer.__class__.__name__\n",
    "        print(f\"layer {cnt}; name: {name}; mean {t.mean():0.4f}; std: {t.std():0.4f}; saturated: {100 * saturated:0.2f}%\")\n",
    "        hy, hx = torch.histogram(t, density=True)\n",
    "        # plt.hist(t.detach())\n",
    "        plt.title(\"Visualize Tanh Outs\")\n",
    "        plt.plot(hx[:-1].detach(), hy.detach(), label=f\"layer {cnt}\")\n",
    "        # break\n",
    "plt.legend()\n"
   ]
  },
  {
   "cell_type": "markdown",
   "id": "14f9db55-0923-4b94-9d05-30734076d440",
   "metadata": {},
   "source": [
    "### Visualize Tanh Grads"
   ]
  },
  {
   "cell_type": "code",
   "execution_count": 188,
   "id": "e28170b9-e0ba-4760-b1ed-1f9fc30bff64",
   "metadata": {},
   "outputs": [
    {
     "name": "stdout",
     "output_type": "stream",
     "text": [
      "layer 2; name: Tanh; mean -0.0000; std: 0.0006; saturated: 0.00%\n",
      "layer 5; name: Tanh; mean -0.0000; std: 0.0005; saturated: 0.00%\n",
      "layer 8; name: Tanh; mean 0.0000; std: 0.0004; saturated: 0.00%\n",
      "layer 11; name: Tanh; mean 0.0000; std: 0.0004; saturated: 0.00%\n",
      "layer 14; name: Tanh; mean 0.0000; std: 0.0003; saturated: 0.00%\n"
     ]
    },
    {
     "data": {
      "text/plain": [
       "<matplotlib.legend.Legend at 0x7f8578fd4dd0>"
      ]
     },
     "execution_count": 188,
     "metadata": {},
     "output_type": "execute_result"
    },
    {
     "data": {
      "image/png": "[encoded data removed]",
      "text/plain": [
       "<Figure size 640x480 with 1 Axes>"
      ]
     },
     "metadata": {},
     "output_type": "display_data"
    }
   ],
   "source": [
    "plt.close()\n",
    "plt.grid(True)\n",
    "for cnt, layer in enumerate(layers):\n",
    "    # print(cnt, layer.out.shape, isinstance(layer, Tanh))\n",
    "    if isinstance(layer, Tanh):\n",
    "        t = layer.out.grad\n",
    "        saturated = (t.abs() > 0.90).float().mean()\n",
    "        name = layer.__class__.__name__\n",
    "        print(f\"layer {cnt}; name: {name}; mean {t.mean():0.4f}; std: {t.std():0.4f}; saturated: {100 * saturated:0.2f}%\")\n",
    "        hy, hx = torch.histogram(t, density=True)\n",
    "        # plt.hist(t.detach())\n",
    "        plt.title(\"Visualize Tanh Grads\")\n",
    "        plt.plot(hx[:-1].detach(), hy.detach(), label=f\"layer {cnt}\")\n",
    "        # break\n",
    "plt.legend()"
   ]
  },
  {
   "cell_type": "code",
   "execution_count": 189,
   "id": "e496a748-452c-4250-9661-a5803b4764d4",
   "metadata": {},
   "outputs": [
    {
     "data": {
      "text/plain": [
       "tensor([[-8.7010e-05,  3.4312e-04, -4.0875e-04,  ...,  2.4329e-04,\n",
       "          2.6929e-04, -1.3697e-04],\n",
       "        [-2.4008e-04, -3.4270e-04, -1.1629e-04,  ..., -9.1072e-05,\n",
       "          6.3454e-05, -1.6036e-04],\n",
       "        [ 2.3777e-05, -9.8523e-05, -1.8669e-04,  ..., -3.9126e-04,\n",
       "         -1.5060e-04, -4.9062e-04],\n",
       "        ...,\n",
       "        [-1.4591e-04, -3.0147e-04, -4.5519e-05,  ..., -1.1977e-04,\n",
       "          7.5932e-05, -2.3239e-04],\n",
       "        [ 3.5743e-04, -3.0335e-04, -2.5830e-04,  ..., -3.8493e-04,\n",
       "          3.6907e-04,  1.1785e-04],\n",
       "        [-1.2125e-03,  2.0692e-04, -3.6615e-04,  ...,  1.7557e-04,\n",
       "          6.9335e-06, -4.5459e-04]])"
      ]
     },
     "execution_count": 189,
     "metadata": {},
     "output_type": "execute_result"
    }
   ],
   "source": [
    "t.detach()"
   ]
  },
  {
   "cell_type": "code",
   "execution_count": 190,
   "id": "4bbb7731-4a0b-4876-baa5-a705cdc5697c",
   "metadata": {},
   "outputs": [
    {
     "data": {
      "text/plain": [
       "tensor([[False, False, False,  ..., False, False, False],\n",
       "        [False, False, False,  ..., False, False, False],\n",
       "        [False, False, False,  ..., False, False, False],\n",
       "        ...,\n",
       "        [False, False, False,  ..., False, False, False],\n",
       "        [False, False, False,  ..., False, False, False],\n",
       "        [False, False, False,  ..., False, False, False]])"
      ]
     },
     "execution_count": 190,
     "metadata": {},
     "output_type": "execute_result"
    }
   ],
   "source": [
    "(t.abs() > 0.9)"
   ]
  },
  {
   "cell_type": "code",
   "execution_count": 191,
   "id": "11e785b1-fddb-44c1-b776-31e5b227d38a",
   "metadata": {},
   "outputs": [
    {
     "data": {
      "text/plain": [
       "tensor(0.)"
      ]
     },
     "execution_count": 191,
     "metadata": {},
     "output_type": "execute_result"
    }
   ],
   "source": [
    "(t.abs() > 0.9).float().mean()"
   ]
  },
  {
   "cell_type": "code",
   "execution_count": 192,
   "id": "baa5c0f3-220f-4325-bea5-f014b196fb28",
   "metadata": {},
   "outputs": [
    {
     "data": {
      "text/plain": [
       "\u001b[0;31mInit signature:\u001b[0m \u001b[0mlayer\u001b[0m\u001b[0;34m.\u001b[0m\u001b[0m__class__\u001b[0m\u001b[0;34m(\u001b[0m\u001b[0mdim\u001b[0m\u001b[0;34m,\u001b[0m \u001b[0meps\u001b[0m\u001b[0;34m=\u001b[0m\u001b[0;36m1e-05\u001b[0m\u001b[0;34m,\u001b[0m \u001b[0mmomentum\u001b[0m\u001b[0;34m=\u001b[0m\u001b[0;36m0.1\u001b[0m\u001b[0;34m)\u001b[0m\u001b[0;34m\u001b[0m\u001b[0;34m\u001b[0m\u001b[0m\n",
       "\u001b[0;31mDocstring:\u001b[0m      <no docstring>\n",
       "\u001b[0;31mType:\u001b[0m           type\n",
       "\u001b[0;31mSubclasses:\u001b[0m     "
      ]
     },
     "metadata": {},
     "output_type": "display_data"
    }
   ],
   "source": [
    "layer.__class__?"
   ]
  },
  {
   "cell_type": "code",
   "execution_count": 193,
   "id": "a6c450f2-62e2-4ecf-8f1e-6097354fe04a",
   "metadata": {},
   "outputs": [
    {
     "data": {
      "text/plain": [
       "mappingproxy({'__module__': '__main__',\n",
       "              '__init__': <function __main__.BatchNorm1d.__init__(self, dim, eps=1e-05, momentum=0.1)>,\n",
       "              '__call__': <function __main__.BatchNorm1d.__call__(self, x)>,\n",
       "              'parameters': <function __main__.BatchNorm1d.parameters(self)>,\n",
       "              '__dict__': <attribute '__dict__' of 'BatchNorm1d' objects>,\n",
       "              '__weakref__': <attribute '__weakref__' of 'BatchNorm1d' objects>,\n",
       "              '__doc__': None})"
      ]
     },
     "execution_count": 193,
     "metadata": {},
     "output_type": "execute_result"
    }
   ],
   "source": [
    "layer.__class__.__dict__"
   ]
  },
  {
   "cell_type": "code",
   "execution_count": 194,
   "id": "d24b2af8-98ee-4892-8199-5753af5b12f3",
   "metadata": {},
   "outputs": [
    {
     "data": {
      "text/plain": [
       "'BatchNorm1d'"
      ]
     },
     "execution_count": 194,
     "metadata": {},
     "output_type": "execute_result"
    }
   ],
   "source": [
    "layer.__class__.__name__"
   ]
  },
  {
   "cell_type": "markdown",
   "id": "98408bfa-ad55-4ebb-9fa7-ddca80eadb88",
   "metadata": {},
   "source": [
    "### Visualize Parameters: Grad to Data Ratio"
   ]
  },
  {
   "cell_type": "code",
   "execution_count": 198,
   "id": "f612cf7f-222b-4c0a-8505-d3951e2b2752",
   "metadata": {},
   "outputs": [
    {
     "name": "stdout",
     "output_type": "stream",
     "text": [
      "layer 0; name: BatchNorm1d; shape: torch.Size([27, 10]); mean -0.0105; std: 1.0342; grad:data ratio: 0.00%\n",
      "layer 1; name: BatchNorm1d; shape: torch.Size([30, 200]); mean 0.0006; std: 0.1384; grad:data ratio: -0.00%\n",
      "layer 5; name: BatchNorm1d; shape: torch.Size([200, 200]); mean 0.0000; std: 0.0533; grad:data ratio: -0.74%\n",
      "layer 9; name: BatchNorm1d; shape: torch.Size([200, 200]); mean 0.0003; std: 0.0528; grad:data ratio: -0.00%\n",
      "layer 13; name: BatchNorm1d; shape: torch.Size([200, 200]); mean -0.0003; std: 0.0531; grad:data ratio: -0.03%\n",
      "layer 17; name: BatchNorm1d; shape: torch.Size([200, 200]); mean -0.0000; std: 0.0532; grad:data ratio: 3.15%\n",
      "layer 21; name: BatchNorm1d; shape: torch.Size([200, 27]); mean -0.0011; std: 0.0537; grad:data ratio: 0.01%\n"
     ]
    }
   ],
   "source": [
    "# plt.close()\n",
    "\n",
    "for cnt, p in enumerate(parameters):\n",
    "    if p.dim() == 2:\n",
    "        t = p.grad.mean() / p.data.mean()\n",
    "        name = layer.__class__.__name__\n",
    "        print(f\"layer {cnt}; name: {name}; shape: {p.shape}; mean {p.mean():0.4f}; std: {p.std():0.4f}; grad:data ratio: {p.grad.mean() / p.data.mean():0.2f}%\")\n",
    "        # hy, hx = torch.histogram(t, density=True)\n",
    "        # plt.hist(t.detach())\n",
    "        # plt.title(\"Visualize Tanh Grads\")\n",
    "        # plt.plot(hx[:-1].detach(), hy.detach(), label=f\"layer {cnt}\")\n",
    "        # break\n",
    "\n",
    "# plt.grid(True)\n",
    "# plt.legend()\n"
   ]
  },
  {
   "cell_type": "code",
   "execution_count": 199,
   "id": "4283ed01-2a6c-45e4-916d-2e6098364e92",
   "metadata": {},
   "outputs": [
    {
     "data": {
      "text/plain": [
       "25"
      ]
     },
     "execution_count": 199,
     "metadata": {},
     "output_type": "execute_result"
    }
   ],
   "source": [
    "len(parameters)"
   ]
  },
  {
   "cell_type": "markdown",
   "id": "7a47e1fc-9277-4ea4-b336-829696c81a0d",
   "metadata": {},
   "source": [
    "### This does not work!"
   ]
  },
  {
   "cell_type": "code",
   "execution_count": 200,
   "id": "7d5fa817-014c-46d7-b5e2-daefe1011608",
   "metadata": {},
   "outputs": [
    {
     "data": {
      "image/png": "[encoded data removed]",
      "text/plain": [
       "<Figure size 2000x400 with 1 Axes>"
      ]
     },
     "metadata": {},
     "output_type": "display_data"
    }
   ],
   "source": [
    "plt.figure(figsize=(20, 4))\n",
    "legends = []\n",
    "for i, p in enumerate(parameters):\n",
    "    if p.dim == 2:\n",
    "        # plt.plot([ud[j][i] for j in range(len(ud))])\n",
    "        plt.plot(ud[i])\n",
    "        \n",
    "    plt.plot([0, len(ud)], [-3, 3], \"k\")\n",
    "plt.show()"
   ]
  },
  {
   "cell_type": "markdown",
   "id": "9f8a1428-76ae-41b8-b83e-09011ce3cb0e",
   "metadata": {},
   "source": [
    "### 202404009072500--??"
   ]
  },
  {
   "cell_type": "code",
   "execution_count": 203,
   "id": "f9098be0-35e5-44e0-b3f9-8c2f20e9d7cf",
   "metadata": {},
   "outputs": [],
   "source": [
    "DEBUG = False\n",
    "# -------------------------------------------------\n",
    "class Linear:\n",
    "    def __init__(self, fan_in, fan_out, bias=True):\n",
    "        self.weights = torch.randn((fan_in, fan_out)) / (fan_in ** 0.5) ## kaiming init\n",
    "        self.bias = torch.randn(fan_out) if bias else None\n",
    "\n",
    "    def __call__(self, x):\n",
    "        self.out = x @ self.weights\n",
    "        if (self.bias is not None):\n",
    "            self.out += self.bias\n",
    "        return self.out\n",
    "\n",
    "    def parameters(self):\n",
    "        return [self.weights] + ([] if (self.bias is None) else [self.bias])\n",
    "\n",
    "# -------------------------------------------------\n",
    "class BatchNorm1d:\n",
    "    def __init__(self, dim, eps=10**(-5), momentum=0.1):\n",
    "        self.eps = eps\n",
    "        self.momentum = momentum\n",
    "        self.training = True\n",
    "\n",
    "        self.gamma = torch.ones(dim)\n",
    "        self.beta = torch.zeros(dim)\n",
    "\n",
    "        self.running_mean = torch.zeros(dim)\n",
    "        self.running_var = torch.ones(dim)\n",
    "\n",
    "    def __call__(self, x):\n",
    "        if x.ndim == 2:\n",
    "            dim = 0\n",
    "        elif x.ndim == 3:\n",
    "            dim = (0, 1)\n",
    "        \n",
    "        if self.training:\n",
    "            xmean = x.mean(dim=dim, keepdim=True)\n",
    "            xvar = x.var(dim=dim, keepdim=True)\n",
    "        else:\n",
    "            xmean = self.running_mean\n",
    "            xvar = self.running_var\n",
    "\n",
    "        xhat = (x - xmean) / torch.sqrt(xvar + self.eps)\n",
    "        self.out = self.gamma * xhat + self.beta\n",
    "\n",
    "        if DEBUG:\n",
    "            zz = torch.sqrt(xvar) #  + self.eps)\n",
    "            \n",
    "            print(f\"{x.shape = }\")\n",
    "            print(f\"{xmean.shape = }\")\n",
    "            print(f\"{xvar.shape = }\")\n",
    "            print(f\"{xhat.shape = }\")\n",
    "            print(f\"{self.gamma.shape = }\")\n",
    "            print(f\"{self.beta.shape = }\")\n",
    "            print(f\"{self.out.shape = }\")\n",
    "            print(f\"{zz.shape = }\")\n",
    "            \n",
    "            print(f\"{self.eps = }\")\n",
    "            print(f\"{x = }\")\n",
    "            print(f\"{xmean = }\")\n",
    "            print(f\"{xvar = }\")\n",
    "            print(f\"{xhat = }\")\n",
    "            print(f\"{zz = }\")\n",
    "            print(f\"{self.gamma = }\")\n",
    "            print(f\"{self.beta = }\")\n",
    "            print(f\"{self.out = }\")\n",
    "\n",
    "        # update buffers: \n",
    "        if self.training:\n",
    "            with torch.no_grad():\n",
    "                self.running_mean = (1 - self.momentum) * self.running_mean + self.momentum * xmean\n",
    "                self.running_var = (1 - self.momentum) * self.running_var + self.momentum * xvar\n",
    "\n",
    "        return self.out\n",
    "\n",
    "    def parameters(self):\n",
    "        return [self.beta, self.gamma]\n",
    "\n",
    "\n",
    "# -------------------------------------------------\n",
    "class Tanh:\n",
    "    def __call__(self, x):\n",
    "        self.out = torch.tanh(x)\n",
    "        return self.out\n",
    "        \n",
    "    def parameters(self):\n",
    "        return []\n",
    "\n",
    "# -------------------------------------------------\n",
    "class Embedding:\n",
    "    # def __init__(self, vocab_size, n_embed):\n",
    "    def __init__(self, num_embeddings, embedding_dim):\n",
    "        self.weight = torch.randn((num_embeddings, embedding_dim))\n",
    "        \n",
    "    def __call__(self, indexes):\n",
    "        self.out = self.weight[indexes]\n",
    "        return self.out\n",
    "        \n",
    "    def parameters(self):\n",
    "        return [self.weight]\n",
    "\n",
    "# -------------------------------------------------\n",
    "class Flatten:\n",
    "    def __call__(self, x):\n",
    "        self.out = x.view(x.shape[0], -1)\n",
    "        return self.out\n",
    "        \n",
    "    def parameters(self):\n",
    "        return []\n",
    "\n",
    "\n",
    "# -------------------------------------------------\n",
    "class FlattenConsequtive:\n",
    "    def __init__(self, n):\n",
    "        self.n = n\n",
    "        \n",
    "    def __call__(self, x):\n",
    "        B, T, C = x.shape\n",
    "        x = x.view(B, T // self.n, C * self.n)\n",
    "        if x.shape[1] == 1:\n",
    "            x = x.squeeze(dim=1)\n",
    "        self.out = x\n",
    "        return self.out\n",
    "        \n",
    "    def parameters(self):\n",
    "        return []\n",
    "\n",
    "\n",
    "# -------------------------------------------------\n",
    "class Sequential:\n",
    "    def __init__(self, layers):\n",
    "        self.layers = layers\n",
    "        \n",
    "    def __call__(self, x):\n",
    "        for layer in self.layers:\n",
    "            x = layer(x)\n",
    "        self.out = x\n",
    "        return self.out\n",
    "    \n",
    "    def parameters(self):\n",
    "        # return parameters\n",
    "        return [p for layer in self.layers for p in layer.parameters()]\n",
    "        "
   ]
  },
  {
   "cell_type": "code",
   "execution_count": 204,
   "id": "ef570bdc-8b27-4b9e-993d-f0bdce151079",
   "metadata": {},
   "outputs": [
    {
     "data": {
      "text/plain": [
       "<torch._C.Generator at 0x7f8603e94870>"
      ]
     },
     "execution_count": 204,
     "metadata": {},
     "output_type": "execute_result"
    }
   ],
   "source": [
    "torch.manual_seed(42)"
   ]
  },
  {
   "cell_type": "markdown",
   "id": "6304f50c-5b3d-4b32-9324-a170f13353a9",
   "metadata": {},
   "source": [
    "### define a network as a list of layers:"
   ]
  },
  {
   "cell_type": "code",
   "execution_count": 205,
   "id": "8f12b8d1-c310-4063-a818-9ae1e43597bc",
   "metadata": {},
   "outputs": [],
   "source": [
    "# MLP revisted\n",
    "n_embed = 10 # the dimensionality of the char. embedding \n",
    "n_hidden = 200 # the number of neurons in the hidden layers"
   ]
  },
  {
   "cell_type": "code",
   "execution_count": 206,
   "id": "83d74436-0d18-4f81-a8f8-a98a7ba86c39",
   "metadata": {},
   "outputs": [],
   "source": [
    "C = torch.randn((vocab_size, n_embed))"
   ]
  },
  {
   "cell_type": "code",
   "execution_count": 207,
   "id": "3bd6f765-ffef-4902-a850-339fd95c043a",
   "metadata": {},
   "outputs": [
    {
     "data": {
      "text/plain": [
       "torch.Size([27, 10])"
      ]
     },
     "execution_count": 207,
     "metadata": {},
     "output_type": "execute_result"
    }
   ],
   "source": [
    "C.shape"
   ]
  },
  {
   "cell_type": "code",
   "execution_count": 208,
   "id": "f0a683a7-979b-4e60-9a39-d0dd77d65256",
   "metadata": {},
   "outputs": [],
   "source": [
    "layers = [\n",
    "    Linear(fan_in=num_blocks * n_embed, fan_out=n_hidden, bias=True),\n",
    "    BatchNorm1d(dim=n_hidden),\n",
    "    Tanh(),\n",
    "    Linear(fan_in=n_hidden, fan_out=vocab_size, bias=True),    \n",
    "]"
   ]
  },
  {
   "cell_type": "code",
   "execution_count": 209,
   "id": "47477278-02d5-472b-8ec9-c51d604ecff0",
   "metadata": {},
   "outputs": [
    {
     "data": {
      "text/plain": [
       "[<__main__.Linear at 0x7f8578f80150>,\n",
       " <__main__.BatchNorm1d at 0x7f8575eefe90>,\n",
       " <__main__.Tanh at 0x7f8578f81e90>,\n",
       " <__main__.Linear at 0x7f8578f37bd0>]"
      ]
     },
     "execution_count": 209,
     "metadata": {},
     "output_type": "execute_result"
    }
   ],
   "source": [
    "layers"
   ]
  },
  {
   "cell_type": "code",
   "execution_count": 210,
   "id": "ff2c73d1-bcb2-4385-95b6-6b4cfdcbca8e",
   "metadata": {},
   "outputs": [],
   "source": [
    "# make the last layer less confident\n",
    "with torch.no_grad():\n",
    "    layers[-1].weights *= 0.1"
   ]
  },
  {
   "cell_type": "code",
   "execution_count": 211,
   "id": "5391bf24-80d3-459f-a9e2-43dca3ff5eb9",
   "metadata": {},
   "outputs": [],
   "source": [
    "# parameters = [C] + [p for p in layer for layer in layers]\n",
    "# parameters = [C] + [p for p in layer.paparameters() for layer in layers]\n",
    "\n",
    "parameters = [C] + [p for layer in layers for p in layer.parameters()]\n",
    "\n",
    "for p in parameters:\n",
    "    p.requires_grad = True"
   ]
  },
  {
   "cell_type": "code",
   "execution_count": 212,
   "id": "417e06c5-82a9-4f85-a836-fe0d2d33ac49",
   "metadata": {},
   "outputs": [
    {
     "data": {
      "text/plain": [
       "7"
      ]
     },
     "execution_count": 212,
     "metadata": {},
     "output_type": "execute_result"
    }
   ],
   "source": [
    "len(parameters)"
   ]
  },
  {
   "cell_type": "code",
   "execution_count": 213,
   "id": "3d0c9147-7c91-410c-bb04-ef09c09ed8ee",
   "metadata": {},
   "outputs": [
    {
     "data": {
      "text/plain": [
       "[270, 6000, 200, 200, 200, 5400, 27]"
      ]
     },
     "execution_count": 213,
     "metadata": {},
     "output_type": "execute_result"
    }
   ],
   "source": [
    "[p.nelement() for p in parameters]"
   ]
  },
  {
   "cell_type": "code",
   "execution_count": 214,
   "id": "f5140fdf-07a6-428a-ad6e-a1fe5b1b3d1b",
   "metadata": {},
   "outputs": [
    {
     "data": {
      "text/plain": [
       "12297"
      ]
     },
     "execution_count": 214,
     "metadata": {},
     "output_type": "execute_result"
    }
   ],
   "source": [
    "sum((p.nelement() for p in parameters))"
   ]
  },
  {
   "cell_type": "code",
   "execution_count": 215,
   "id": "565b20e7-cf76-426a-bccd-5aed2144349b",
   "metadata": {},
   "outputs": [
    {
     "data": {
      "text/plain": [
       "[<__main__.Linear at 0x7f8578f80150>,\n",
       " <__main__.BatchNorm1d at 0x7f8575eefe90>,\n",
       " <__main__.Tanh at 0x7f8578f81e90>,\n",
       " <__main__.Linear at 0x7f8578f37bd0>]"
      ]
     },
     "execution_count": 215,
     "metadata": {},
     "output_type": "execute_result"
    }
   ],
   "source": [
    "layers"
   ]
  },
  {
   "cell_type": "code",
   "execution_count": 216,
   "id": "fbf35275-b255-4120-b619-cbf9b959fe48",
   "metadata": {},
   "outputs": [
    {
     "data": {
      "text/plain": [
       "<function Tensor.nelement>"
      ]
     },
     "execution_count": 216,
     "metadata": {},
     "output_type": "execute_result"
    }
   ],
   "source": [
    "C.nelement"
   ]
  },
  {
   "cell_type": "code",
   "execution_count": null,
   "id": "88ca8725-027f-4870-a697-1fd3e5efb143",
   "metadata": {},
   "outputs": [],
   "source": []
  },
  {
   "cell_type": "code",
   "execution_count": 217,
   "id": "48c79677-7046-4837-bc46-9808d407710c",
   "metadata": {},
   "outputs": [
    {
     "data": {
      "text/plain": [
       "<__main__.Linear at 0x7f8578f80150>"
      ]
     },
     "execution_count": 217,
     "metadata": {},
     "output_type": "execute_result"
    }
   ],
   "source": [
    "layers[0]"
   ]
  },
  {
   "cell_type": "code",
   "execution_count": 218,
   "id": "b9ff5ba9-cfa9-40da-9d98-f8f1cfe7fdde",
   "metadata": {},
   "outputs": [
    {
     "data": {
      "text/plain": [
       "(6000, 200)"
      ]
     },
     "execution_count": 218,
     "metadata": {},
     "output_type": "execute_result"
    }
   ],
   "source": [
    "layers[0].weights.nelement(), layers[0].bias.nelement()"
   ]
  },
  {
   "cell_type": "code",
   "execution_count": 219,
   "id": "f02708b5-a3af-455b-8915-ab651380a757",
   "metadata": {},
   "outputs": [
    {
     "data": {
      "text/plain": [
       "<__main__.BatchNorm1d at 0x7f8575eefe90>"
      ]
     },
     "execution_count": 219,
     "metadata": {},
     "output_type": "execute_result"
    }
   ],
   "source": [
    "layers[1]"
   ]
  },
  {
   "cell_type": "code",
   "execution_count": 220,
   "id": "431e4929-fec0-4ab9-a157-41f947e3d21e",
   "metadata": {},
   "outputs": [
    {
     "data": {
      "text/plain": [
       "[tensor([0., 0., 0., 0., 0., 0., 0., 0., 0., 0., 0., 0., 0., 0., 0., 0., 0., 0., 0., 0., 0., 0., 0., 0.,\n",
       "         0., 0., 0., 0., 0., 0., 0., 0., 0., 0., 0., 0., 0., 0., 0., 0., 0., 0., 0., 0., 0., 0., 0., 0.,\n",
       "         0., 0., 0., 0., 0., 0., 0., 0., 0., 0., 0., 0., 0., 0., 0., 0., 0., 0., 0., 0., 0., 0., 0., 0.,\n",
       "         0., 0., 0., 0., 0., 0., 0., 0., 0., 0., 0., 0., 0., 0., 0., 0., 0., 0., 0., 0., 0., 0., 0., 0.,\n",
       "         0., 0., 0., 0., 0., 0., 0., 0., 0., 0., 0., 0., 0., 0., 0., 0., 0., 0., 0., 0., 0., 0., 0., 0.,\n",
       "         0., 0., 0., 0., 0., 0., 0., 0., 0., 0., 0., 0., 0., 0., 0., 0., 0., 0., 0., 0., 0., 0., 0., 0.,\n",
       "         0., 0., 0., 0., 0., 0., 0., 0., 0., 0., 0., 0., 0., 0., 0., 0., 0., 0., 0., 0., 0., 0., 0., 0.,\n",
       "         0., 0., 0., 0., 0., 0., 0., 0., 0., 0., 0., 0., 0., 0., 0., 0., 0., 0., 0., 0., 0., 0., 0., 0.,\n",
       "         0., 0., 0., 0., 0., 0., 0., 0.], requires_grad=True),\n",
       " tensor([1., 1., 1., 1., 1., 1., 1., 1., 1., 1., 1., 1., 1., 1., 1., 1., 1., 1.,\n",
       "         1., 1., 1., 1., 1., 1., 1., 1., 1., 1., 1., 1., 1., 1., 1., 1., 1., 1.,\n",
       "         1., 1., 1., 1., 1., 1., 1., 1., 1., 1., 1., 1., 1., 1., 1., 1., 1., 1.,\n",
       "         1., 1., 1., 1., 1., 1., 1., 1., 1., 1., 1., 1., 1., 1., 1., 1., 1., 1.,\n",
       "         1., 1., 1., 1., 1., 1., 1., 1., 1., 1., 1., 1., 1., 1., 1., 1., 1., 1.,\n",
       "         1., 1., 1., 1., 1., 1., 1., 1., 1., 1., 1., 1., 1., 1., 1., 1., 1., 1.,\n",
       "         1., 1., 1., 1., 1., 1., 1., 1., 1., 1., 1., 1., 1., 1., 1., 1., 1., 1.,\n",
       "         1., 1., 1., 1., 1., 1., 1., 1., 1., 1., 1., 1., 1., 1., 1., 1., 1., 1.,\n",
       "         1., 1., 1., 1., 1., 1., 1., 1., 1., 1., 1., 1., 1., 1., 1., 1., 1., 1.,\n",
       "         1., 1., 1., 1., 1., 1., 1., 1., 1., 1., 1., 1., 1., 1., 1., 1., 1., 1.,\n",
       "         1., 1., 1., 1., 1., 1., 1., 1., 1., 1., 1., 1., 1., 1., 1., 1., 1., 1.,\n",
       "         1., 1.], requires_grad=True)]"
      ]
     },
     "execution_count": 220,
     "metadata": {},
     "output_type": "execute_result"
    }
   ],
   "source": [
    "layers[1].parameters()"
   ]
  },
  {
   "cell_type": "code",
   "execution_count": 225,
   "id": "639ce992-1190-4594-8d16-2748f01245ac",
   "metadata": {},
   "outputs": [
    {
     "data": {
      "text/plain": [
       "(200, 200)"
      ]
     },
     "execution_count": 225,
     "metadata": {},
     "output_type": "execute_result"
    }
   ],
   "source": [
    "layers[1].gamma.nelement(), layers[1].beta.nelement()"
   ]
  },
  {
   "cell_type": "code",
   "execution_count": 226,
   "id": "3e92b162-5d18-4b27-ba2f-d2888fcdcd27",
   "metadata": {},
   "outputs": [
    {
     "data": {
      "text/plain": [
       "<__main__.Tanh at 0x7f8578f81e90>"
      ]
     },
     "execution_count": 226,
     "metadata": {},
     "output_type": "execute_result"
    }
   ],
   "source": [
    "layers[2]"
   ]
  },
  {
   "cell_type": "code",
   "execution_count": 227,
   "id": "fa47881c-50a3-4675-ab9a-3efd47f74ca9",
   "metadata": {},
   "outputs": [
    {
     "data": {
      "text/plain": [
       "[]"
      ]
     },
     "execution_count": 227,
     "metadata": {},
     "output_type": "execute_result"
    }
   ],
   "source": [
    "layers[2].parameters()"
   ]
  },
  {
   "cell_type": "code",
   "execution_count": 228,
   "id": "1af93b28-bd9a-4ffa-9a5c-6c1164abfdd1",
   "metadata": {},
   "outputs": [
    {
     "data": {
      "text/plain": [
       "<__main__.Linear at 0x7f8578f37bd0>"
      ]
     },
     "execution_count": 228,
     "metadata": {},
     "output_type": "execute_result"
    }
   ],
   "source": [
    "layers[3]"
   ]
  },
  {
   "cell_type": "code",
   "execution_count": 229,
   "id": "8428eef6-775e-494d-bde3-634798dce645",
   "metadata": {},
   "outputs": [
    {
     "data": {
      "text/plain": [
       "tensor([[-0.0080,  0.0064,  0.0010,  ..., -0.0045, -0.0002, -0.0020],\n",
       "        [ 0.0027, -0.0224,  0.0074,  ..., -0.0008,  0.0044,  0.0087],\n",
       "        [ 0.0051, -0.0028, -0.0043,  ...,  0.0046, -0.0133,  0.0093],\n",
       "        ...,\n",
       "        [ 0.0025,  0.0041, -0.0002,  ...,  0.0081, -0.0119,  0.0004],\n",
       "        [-0.0051, -0.0019, -0.0107,  ...,  0.0088, -0.0016,  0.0158],\n",
       "        [ 0.0008,  0.0098, -0.0062,  ..., -0.0024,  0.0026,  0.0035]],\n",
       "       requires_grad=True)"
      ]
     },
     "execution_count": 229,
     "metadata": {},
     "output_type": "execute_result"
    }
   ],
   "source": [
    "layers[3].weights"
   ]
  },
  {
   "cell_type": "code",
   "execution_count": 230,
   "id": "01082bcd-a733-4779-b132-b129b765affd",
   "metadata": {},
   "outputs": [
    {
     "data": {
      "text/plain": [
       "(5400, 27)"
      ]
     },
     "execution_count": 230,
     "metadata": {},
     "output_type": "execute_result"
    }
   ],
   "source": [
    "layers[3].weights.nelement(), layers[3].bias.nelement()"
   ]
  },
  {
   "cell_type": "markdown",
   "id": "aac6d020-bd01-48ce-93fe-089bce2be51e",
   "metadata": {},
   "source": [
    "### Training: "
   ]
  },
  {
   "cell_type": "code",
   "execution_count": 231,
   "id": "495633b3-af9d-4188-96af-501005723ece",
   "metadata": {},
   "outputs": [
    {
     "data": {
      "text/plain": [
       "(torch.Size([182516, 3]), torch.Size([182516]))"
      ]
     },
     "execution_count": 231,
     "metadata": {},
     "output_type": "execute_result"
    }
   ],
   "source": [
    "X_train.size(), Y_train.size()"
   ]
  },
  {
   "cell_type": "code",
   "execution_count": 232,
   "id": "627a94cc-b8cf-410d-8cbf-c20866ef1f9f",
   "metadata": {},
   "outputs": [
    {
     "name": "stdout",
     "output_type": "stream",
     "text": [
      "182516\n"
     ]
    }
   ],
   "source": [
    "len_data = X_train.shape[0]\n",
    "print(len_data)"
   ]
  },
  {
   "cell_type": "code",
   "execution_count": 233,
   "id": "49c10ce2-224a-4b58-baa3-9e568da93188",
   "metadata": {},
   "outputs": [
    {
     "name": "stdout",
     "output_type": "stream",
     "text": [
      "   1000 /   50000; 3.2711\n",
      "   2000 /   50000; 2.6396\n",
      "   3000 /   50000; 2.9995\n",
      "   4000 /   50000; 2.9100\n",
      "   5000 /   50000; 3.0027\n",
      "   6000 /   50000; 2.9122\n",
      "   7000 /   50000; 2.9597\n",
      "   8000 /   50000; 2.8479\n",
      "   9000 /   50000; 2.8727\n",
      "  10000 /   50000; 2.7210\n",
      "  11000 /   50000; 3.1158\n",
      "  12000 /   50000; 2.7722\n",
      "  13000 /   50000; 3.0291\n",
      "  14000 /   50000; 2.6308\n",
      "  15000 /   50000; 2.7757\n",
      "  16000 /   50000; 2.8341\n",
      "  17000 /   50000; 2.9303\n",
      "  18000 /   50000; 2.6518\n",
      "  19000 /   50000; 2.6931\n",
      "  20000 /   50000; 2.8830\n",
      "  21000 /   50000; 2.5849\n",
      "  22000 /   50000; 2.7491\n",
      "  23000 /   50000; 2.7166\n",
      "  24000 /   50000; 2.9426\n",
      "  25000 /   50000; 2.7509\n",
      "  26000 /   50000; 2.5935\n",
      "  27000 /   50000; 2.7874\n",
      "  28000 /   50000; 2.6220\n",
      "  29000 /   50000; 2.7741\n",
      "  30000 /   50000; 2.8775\n",
      "  31000 /   50000; 2.9749\n",
      "  32000 /   50000; 2.9753\n",
      "  33000 /   50000; 2.6236\n",
      "  34000 /   50000; 2.8877\n",
      "  35000 /   50000; 2.7139\n",
      "  36000 /   50000; 2.8162\n",
      "  37000 /   50000; 2.8804\n",
      "  38000 /   50000; 2.5969\n",
      "  39000 /   50000; 3.0747\n",
      "  40000 /   50000; 2.6260\n",
      "  41000 /   50000; 2.7066\n",
      "  42000 /   50000; 3.1073\n",
      "  43000 /   50000; 2.8938\n",
      "  44000 /   50000; 2.8822\n",
      "  45000 /   50000; 3.0570\n",
      "  46000 /   50000; 2.9182\n",
      "  47000 /   50000; 2.8443\n",
      "  48000 /   50000; 3.0249\n",
      "  49000 /   50000; 2.7921\n",
      "  50000 /   50000; 2.5091\n"
     ]
    }
   ],
   "source": [
    "max_steps = 50_000\n",
    "batch_size = 32\n",
    "lossi = []\n",
    "\n",
    "\n",
    "for i in range(max_steps):\n",
    "\n",
    "    # mini-batch construct\n",
    "    ix = torch.randperm(len_data)[:batch_size]\n",
    "    # print(f\"{ix = }\")\n",
    "    Xb, Yb = X_train[ix], Y_train[ix]\n",
    "\n",
    "    # forward pass\n",
    "    emb = C[X_batch]\n",
    "    emb_cat = emb.view(emb.shape[0], -1)\n",
    "    if DEBUG:\n",
    "        print(f\"{emb.shape = }\")\n",
    "        print(f\"{emb = }\")\n",
    "        print(f\"{emb_cat.shape = }\")\n",
    "        \n",
    "    x = emb_cat\n",
    "    for layer in layers:\n",
    "        x = layer(x)\n",
    "        if DEBUG:\n",
    "            print(\"-\" * 80)\n",
    "            print(f\"{layer = }\")\n",
    "            print(f\"{x.sxhape = }\")\n",
    "            print(f\"{x = }\")\n",
    "            \n",
    "    loss = F.cross_entropy(x, Yb)\n",
    "\n",
    "    \n",
    "    # backward pass\n",
    "    for p in parameters:\n",
    "        p.grad = None\n",
    "    \n",
    "    loss.backward()\n",
    "\n",
    "\n",
    "    # update rule: \n",
    "    lr = 0.1 if (i < max_steps * 0.5) else 0.01\n",
    "    for p in parameters:\n",
    "        p.data += - lr * p.grad\n",
    "\n",
    "    # stats\n",
    "    if (i + 1) % (max_steps // 50) == 0:\n",
    "        print(f\"{i + 1:7d} / {max_steps:7d}; {loss.item():.4f}\")\n",
    "        \n",
    "    # store loss\n",
    "    lossi.append(loss.detach().item())"
   ]
  },
  {
   "cell_type": "code",
   "execution_count": 234,
   "id": "e2e5f88f-77d3-4ad5-aa3f-fb3bf73dd707",
   "metadata": {},
   "outputs": [
    {
     "data": {
      "image/png": "[encoded data removed]",
      "text/plain": [
       "<Figure size 640x480 with 1 Axes>"
      ]
     },
     "metadata": {},
     "output_type": "display_data"
    }
   ],
   "source": [
    "plt.plot(lossi)\n",
    "plt.grid(True)"
   ]
  },
  {
   "cell_type": "code",
   "execution_count": 235,
   "id": "f3c299a1-4cf6-45ea-a60c-293eb4fb4a25",
   "metadata": {},
   "outputs": [
    {
     "data": {
      "image/png": "[encoded data removed]",
      "text/plain": [
       "<Figure size 640x480 with 1 Axes>"
      ]
     },
     "metadata": {},
     "output_type": "display_data"
    }
   ],
   "source": [
    "plt.plot(\n",
    "    torch.FloatTensor(lossi).view(-1, 1000).mean(dim=1)\n",
    ")\n",
    "plt.grid(True)"
   ]
  },
  {
   "cell_type": "markdown",
   "id": "8e0c0a1e-87c7-4965-b3db-1f5da697472f",
   "metadata": {},
   "source": [
    "### A second way after adding layers `Embedding` and `Flatten`"
   ]
  },
  {
   "cell_type": "code",
   "execution_count": 236,
   "id": "06e64374-b9d6-4248-8e91-a1abd77c0dfd",
   "metadata": {},
   "outputs": [],
   "source": [
    "layers = [\n",
    "    Embedding(num_embeddings=vocab_size, embedding_dim=n_embed),\n",
    "    Flatten(),\n",
    "    Linear(fan_in=num_blocks * n_embed, fan_out=n_hidden, bias=True),\n",
    "    BatchNorm1d(dim=n_hidden),\n",
    "    Tanh(),\n",
    "    Linear(fan_in=n_hidden, fan_out=vocab_size, bias=True),    \n",
    "]"
   ]
  },
  {
   "cell_type": "code",
   "execution_count": 237,
   "id": "315a8273-a8d3-4f35-a4cc-d11bfd204320",
   "metadata": {},
   "outputs": [],
   "source": [
    "parameters = [p for layer in layers for p in layer.parameters()]\n",
    "for p in parameters:\n",
    "    p.requires_grad = True"
   ]
  },
  {
   "cell_type": "code",
   "execution_count": 238,
   "id": "de5635d7-3937-4389-9a9b-5bd699ce969e",
   "metadata": {},
   "outputs": [
    {
     "name": "stdout",
     "output_type": "stream",
     "text": [
      "   1000 /   50000; 2.5441\n",
      "   2000 /   50000; 2.3872\n",
      "   3000 /   50000; 2.3305\n",
      "   4000 /   50000; 2.7062\n",
      "   5000 /   50000; 2.1875\n",
      "   6000 /   50000; 2.2351\n",
      "   7000 /   50000; 2.1716\n",
      "   8000 /   50000; 1.7346\n",
      "   9000 /   50000; 2.2527\n",
      "  10000 /   50000; 2.1657\n",
      "  11000 /   50000; 2.1655\n",
      "  12000 /   50000; 2.4915\n",
      "  13000 /   50000; 2.5160\n",
      "  14000 /   50000; 1.9797\n",
      "  15000 /   50000; 2.2608\n",
      "  16000 /   50000; 1.9418\n",
      "  17000 /   50000; 2.2077\n",
      "  18000 /   50000; 1.9197\n",
      "  19000 /   50000; 2.5240\n",
      "  20000 /   50000; 2.5347\n",
      "  21000 /   50000; 2.2210\n",
      "  22000 /   50000; 1.9702\n",
      "  23000 /   50000; 1.8799\n",
      "  24000 /   50000; 2.0531\n",
      "  25000 /   50000; 2.0838\n",
      "  26000 /   50000; 2.1664\n",
      "  27000 /   50000; 2.1236\n",
      "  28000 /   50000; 1.9218\n",
      "  29000 /   50000; 2.3355\n",
      "  30000 /   50000; 2.0760\n",
      "  31000 /   50000; 1.9414\n",
      "  32000 /   50000; 2.2882\n",
      "  33000 /   50000; 2.1665\n",
      "  34000 /   50000; 2.1931\n",
      "  35000 /   50000; 2.3332\n",
      "  36000 /   50000; 2.5177\n",
      "  37000 /   50000; 2.2095\n",
      "  38000 /   50000; 1.9791\n",
      "  39000 /   50000; 2.0746\n",
      "  40000 /   50000; 1.8302\n",
      "  41000 /   50000; 1.9393\n",
      "  42000 /   50000; 2.0189\n",
      "  43000 /   50000; 2.4726\n",
      "  44000 /   50000; 2.0686\n",
      "  45000 /   50000; 1.8201\n",
      "  46000 /   50000; 1.8722\n",
      "  47000 /   50000; 1.9677\n",
      "  48000 /   50000; 1.8355\n",
      "  49000 /   50000; 2.2172\n",
      "  50000 /   50000; 2.1931\n"
     ]
    }
   ],
   "source": [
    "max_steps = 50_000\n",
    "batch_size = 32\n",
    "lossi = [] \n",
    "\n",
    "\n",
    "for i in range(max_steps):\n",
    "\n",
    "    # mini-batch construct\n",
    "    ix = torch.randperm(len_data)[:batch_size]\n",
    "    # print(f\"{ix = }\")\n",
    "    Xb, Yb = X_train[ix], Y_train[ix]\n",
    "\n",
    "    # forward pass\n",
    "    x = Xb\n",
    "    for layer in layers:\n",
    "        x = layer(x)    \n",
    "    loss = F.cross_entropy(x, Yb)\n",
    " \n",
    "    # backward pass\n",
    "    for p in parameters:\n",
    "        p.grad = None\n",
    "    \n",
    "    loss.backward()\n",
    "\n",
    "\n",
    "    # update rule: \n",
    "    lr = 0.1 if (i < max_steps * 0.5) else 0.01\n",
    "    for p in parameters:\n",
    "        p.data += - lr * p.grad\n",
    "\n",
    "    # stats\n",
    "    if (i + 1) % (max_steps // 50) == 0:\n",
    "        print(f\"{i + 1:7d} / {max_steps:7d}; {loss.item():.4f}\")\n",
    "        \n",
    "    # store loss\n",
    "    lossi.append(loss.detach().item())"
   ]
  },
  {
   "cell_type": "code",
   "execution_count": 239,
   "id": "5bf0d8b4-1840-4130-9eaf-068bec5e76b0",
   "metadata": {},
   "outputs": [
    {
     "data": {
      "image/png": "[encoded data removed]",
      "text/plain": [
       "<Figure size 640x480 with 1 Axes>"
      ]
     },
     "metadata": {},
     "output_type": "display_data"
    }
   ],
   "source": [
    "plt.plot(lossi)\n",
    "plt.grid(True)"
   ]
  },
  {
   "cell_type": "code",
   "execution_count": 240,
   "id": "1d4e2c03-f621-4556-9f59-dc03100c19d6",
   "metadata": {},
   "outputs": [
    {
     "data": {
      "image/png": "[encoded data removed]",
      "text/plain": [
       "<Figure size 640x480 with 1 Axes>"
      ]
     },
     "metadata": {},
     "output_type": "display_data"
    }
   ],
   "source": [
    "plt.plot(\n",
    "    torch.FloatTensor(lossi).view(-1, 1000).mean(dim=1)\n",
    ")\n",
    "plt.grid(True)"
   ]
  },
  {
   "cell_type": "markdown",
   "id": "14787e34-4657-4757-8a15-3fc7b53fc93b",
   "metadata": {},
   "source": [
    "### A third way with torch-countainers e.g. `Sequential`"
   ]
  },
  {
   "cell_type": "code",
   "execution_count": 241,
   "id": "764513f6-d324-477d-b4de-2804243e82e8",
   "metadata": {},
   "outputs": [],
   "source": [
    "max_steps = 50_000\n",
    "batch_size = 32\n",
    "lossi = []"
   ]
  },
  {
   "cell_type": "code",
   "execution_count": 242,
   "id": "109cee5b-5553-4a1b-9d49-c62b83ffa31b",
   "metadata": {},
   "outputs": [],
   "source": [
    "model = Sequential(\n",
    "        layers = [\n",
    "            Embedding(num_embeddings=vocab_size, embedding_dim=n_embed),\n",
    "            Flatten(),\n",
    "            Linear(fan_in=num_blocks * n_embed, fan_out=n_hidden, bias=True),\n",
    "            BatchNorm1d(dim=n_hidden),\n",
    "            Tanh(),\n",
    "            Linear(fan_in=n_hidden, fan_out=vocab_size, bias=True),    \n",
    "        ]\n",
    ")\n",
    "\n",
    "parameters = model.parameters()\n",
    "\n",
    "for p in parameters:\n",
    "    p.requires_grad = True"
   ]
  },
  {
   "cell_type": "code",
   "execution_count": 243,
   "id": "18fada7b-0727-454b-a286-5c445571eed7",
   "metadata": {},
   "outputs": [],
   "source": [
    "# # testing: \n",
    "# u = [p for p in model.layers[-1].weights][0][0]\n",
    "# u.requires_grad"
   ]
  },
  {
   "cell_type": "code",
   "execution_count": 244,
   "id": "346919ea-560e-47d7-af30-35066011e64b",
   "metadata": {},
   "outputs": [
    {
     "data": {
      "text/plain": [
       "[<__main__.Embedding at 0x7f8574ddb410>,\n",
       " <__main__.Flatten at 0x7f8575e6ec10>,\n",
       " <__main__.Linear at 0x7f8575e9ebd0>,\n",
       " <__main__.BatchNorm1d at 0x7f8578e2b410>,\n",
       " <__main__.Tanh at 0x7f8574de9e50>,\n",
       " <__main__.Linear at 0x7f8574e00050>]"
      ]
     },
     "execution_count": 244,
     "metadata": {},
     "output_type": "execute_result"
    }
   ],
   "source": [
    "model.layers"
   ]
  },
  {
   "cell_type": "code",
   "execution_count": 245,
   "id": "66a9923f-be99-49e7-be9b-dcafd3f655df",
   "metadata": {},
   "outputs": [
    {
     "name": "stdout",
     "output_type": "stream",
     "text": [
      "   1000 /   50000; 2.1744\n",
      "   2000 /   50000; 2.3153\n",
      "   3000 /   50000; 2.3325\n",
      "   4000 /   50000; 2.2376\n",
      "   5000 /   50000; 2.0982\n",
      "   6000 /   50000; 2.1318\n",
      "   7000 /   50000; 2.1048\n",
      "   8000 /   50000; 2.4964\n",
      "   9000 /   50000; 2.8310\n",
      "  10000 /   50000; 2.4731\n",
      "  11000 /   50000; 2.1941\n",
      "  12000 /   50000; 2.3048\n",
      "  13000 /   50000; 2.4038\n",
      "  14000 /   50000; 2.0569\n",
      "  15000 /   50000; 2.1795\n",
      "  16000 /   50000; 2.1415\n",
      "  17000 /   50000; 2.2142\n",
      "  18000 /   50000; 2.3112\n",
      "  19000 /   50000; 2.1593\n",
      "  20000 /   50000; 2.5096\n",
      "  21000 /   50000; 2.3521\n",
      "  22000 /   50000; 2.1481\n",
      "  23000 /   50000; 2.0136\n",
      "  24000 /   50000; 2.3121\n",
      "  25000 /   50000; 2.3230\n",
      "  26000 /   50000; 2.2941\n",
      "  27000 /   50000; 1.8849\n",
      "  28000 /   50000; 2.3125\n",
      "  29000 /   50000; 1.8158\n",
      "  30000 /   50000; 2.0769\n",
      "  31000 /   50000; 2.3559\n",
      "  32000 /   50000; 2.0836\n",
      "  33000 /   50000; 2.0505\n",
      "  34000 /   50000; 1.9411\n",
      "  35000 /   50000; 1.7328\n",
      "  36000 /   50000; 2.0102\n",
      "  37000 /   50000; 2.2210\n",
      "  38000 /   50000; 2.2322\n",
      "  39000 /   50000; 2.3238\n",
      "  40000 /   50000; 2.5233\n",
      "  41000 /   50000; 2.4180\n",
      "  42000 /   50000; 2.0332\n",
      "  43000 /   50000; 2.0261\n",
      "  44000 /   50000; 2.4471\n",
      "  45000 /   50000; 2.3908\n",
      "  46000 /   50000; 2.0810\n",
      "  47000 /   50000; 2.0854\n",
      "  48000 /   50000; 2.7504\n",
      "  49000 /   50000; 2.3940\n",
      "  50000 /   50000; 2.0202\n"
     ]
    }
   ],
   "source": [
    "for i in range(max_steps):\n",
    "\n",
    "    # mini-batch construct\n",
    "    ix = torch.randperm(len_data)[:batch_size]\n",
    "    # print(f\"{ix = }\")\n",
    "    Xb, Yb = X_train[ix], Y_train[ix]\n",
    "\n",
    "    # forward pass\n",
    "    logits = model(Xb)    \n",
    "    loss = F.cross_entropy(logits, Yb)\n",
    "\n",
    "    # backward pass\n",
    "    for p in parameters:\n",
    "        p.grad = None\n",
    "\n",
    "    loss.backward()\n",
    "\n",
    "    # update rule: \n",
    "    lr = 0.1 if (i < max_steps * 0.5) else 0.01\n",
    "    for p in parameters:\n",
    "        p.data += - lr * p.grad\n",
    "\n",
    "    # stats\n",
    "    if (i + 1) % (max_steps // 50) == 0:\n",
    "        print(f\"{i + 1:7d} / {max_steps:7d}; {loss.item():.4f}\")\n",
    "        \n",
    "    # store loss\n",
    "    lossi.append(loss.detach().item())\n"
   ]
  },
  {
   "cell_type": "code",
   "execution_count": 246,
   "id": "3f2a4d62-388a-4a03-a2cd-ba5230905670",
   "metadata": {
    "scrolled": true
   },
   "outputs": [
    {
     "data": {
      "image/png": "[encoded data removed]",
      "text/plain": [
       "<Figure size 640x480 with 1 Axes>"
      ]
     },
     "metadata": {},
     "output_type": "display_data"
    }
   ],
   "source": [
    "plt.plot(lossi)\n",
    "plt.grid(True)"
   ]
  },
  {
   "cell_type": "code",
   "execution_count": 247,
   "id": "7c408ef3-2ec7-43f0-9c2c-936b70b620ec",
   "metadata": {},
   "outputs": [
    {
     "data": {
      "image/png": "[encoded data removed]",
      "text/plain": [
       "<Figure size 640x480 with 1 Axes>"
      ]
     },
     "metadata": {},
     "output_type": "display_data"
    }
   ],
   "source": [
    "plt.plot(\n",
    "    torch.FloatTensor(lossi[:max_steps]).view(-1, 1000).mean(dim=1)\n",
    ")\n",
    "plt.grid(True)"
   ]
  },
  {
   "cell_type": "markdown",
   "id": "a1cef11a-f482-42bb-bea4-18bf77e8d6cb",
   "metadata": {},
   "source": [
    "### evaluate the model"
   ]
  },
  {
   "cell_type": "code",
   "execution_count": 248,
   "id": "32623308-8bca-49b6-b478-f7b5d97c64d5",
   "metadata": {},
   "outputs": [],
   "source": [
    "for layer in model.layers:\n",
    "    layer.training = False"
   ]
  },
  {
   "cell_type": "code",
   "execution_count": 249,
   "id": "d80f33eb-17e8-499b-a350-389718446937",
   "metadata": {},
   "outputs": [],
   "source": [
    "@torch.no_grad()\n",
    "def split_eval(split: str, model):\n",
    "\n",
    "    _data_map = {\n",
    "        \"train\": (X_train, Y_train),\n",
    "        \"val\": (X_val, Y_val),\n",
    "        \"test\": (X_test, Y_test),\n",
    "    }\n",
    "\n",
    "\n",
    "    x, y = _data_map[split]\n",
    "\n",
    "    logits = model(x)\n",
    "    loss = F.cross_entropy(logits, y)\n",
    "\n",
    "    return loss"
   ]
  },
  {
   "cell_type": "code",
   "execution_count": 250,
   "id": "e10223a0-ce77-40ef-ba7a-a9bb55a46b6b",
   "metadata": {},
   "outputs": [
    {
     "name": "stdout",
     "output_type": "stream",
     "text": [
      "train: 2.121131658554077\n",
      "val: 2.1418724060058594\n",
      "test: 2.1484196186065674\n"
     ]
    }
   ],
   "source": [
    "for split in [\"train\", \"val\", \"test\"]:\n",
    "    print(f\"{split}: {split_eval(split, model)}\")"
   ]
  },
  {
   "cell_type": "markdown",
   "id": "2db663ed-20bc-4c04-bed1-89affa97dae7",
   "metadata": {},
   "source": [
    "### sample from the model"
   ]
  },
  {
   "cell_type": "code",
   "execution_count": 251,
   "id": "cd841892-4184-4bc1-b0dd-26e096279ac1",
   "metadata": {},
   "outputs": [
    {
     "name": "stdout",
     "output_type": "stream",
     "text": [
      "0 aryus.\n",
      "1 ven.\n",
      "2 kaylan.\n",
      "3 jassa.\n",
      "4 rexalivan.\n",
      "5 jashailari.\n",
      "6 criv.\n",
      "7 mikkalynd.\n",
      "8 jeian.\n",
      "9 emowthoh.\n",
      "10 sylia.\n",
      "11 aszi.\n",
      "12 mairichnya.\n",
      "13 julyn.\n",
      "14 kar.\n",
      "15 nakameem.\n",
      "16 breka.\n",
      "17 evanise.\n",
      "18 aarian.\n",
      "19 jazvita.\n"
     ]
    }
   ],
   "source": [
    "for i in range(20):\n",
    "    out = []\n",
    "    \n",
    "    context = [0] * num_blocks\n",
    "    while True:\n",
    "        # x = torch.tensor(context).reshape(1, 3)\n",
    "        x = torch.tensor([context])\n",
    "        logits = model(x)\n",
    "        probs = F.softmax(logits, dim=1)\n",
    "        \n",
    "        ix = torch.multinomial(probs, num_samples=1, generator=rg)\n",
    "        ch = itos[ix.item()]\n",
    "        # print(ch)  \n",
    "        context = context[1:] + [ix]\n",
    "        out.append(ix)\n",
    "    \n",
    "        if ix == 0:\n",
    "            break\n",
    "    \n",
    "    print(i, \"\".join(itos[i.item()] for i in out))\n",
    "    "
   ]
  },
  {
   "cell_type": "markdown",
   "id": "8545f02d-52ee-4928-a51c-33b92910e5a1",
   "metadata": {},
   "source": [
    "### `FlattenConsequtive` "
   ]
  },
  {
   "cell_type": "code",
   "execution_count": 252,
   "id": "2b16e6ae-3b68-4502-9432-b03de8cd5840",
   "metadata": {},
   "outputs": [],
   "source": [
    "# del model \n",
    "# del model_new"
   ]
  },
  {
   "cell_type": "code",
   "execution_count": 253,
   "id": "1e7f4514-583d-4a81-8c78-3a791ea68328",
   "metadata": {},
   "outputs": [
    {
     "name": "stdout",
     "output_type": "stream",
     "text": [
      "torch.Size([182516, 8]) torch.Size([182516])\n"
     ]
    }
   ],
   "source": [
    "NUM_BLOCKS = 8\n",
    "num_blocks = NUM_BLOCKS\n",
    "X, Y = get_data(words, num_blocks=num_blocks)\n",
    "X_train, X_val, X_test, Y_train, Y_val, Y_test = split_data(X, Y)\n",
    "print(X_train.shape, Y_train.shape)"
   ]
  },
  {
   "cell_type": "code",
   "execution_count": 254,
   "id": "b238c17e-efa0-433f-8674-64ab1416ff6c",
   "metadata": {},
   "outputs": [
    {
     "data": {
      "text/plain": [
       "torch.Size([1, 3])"
      ]
     },
     "execution_count": 254,
     "metadata": {},
     "output_type": "execute_result"
    }
   ],
   "source": [
    "Xb[:1].shape"
   ]
  },
  {
   "cell_type": "code",
   "execution_count": 255,
   "id": "c7bc7d4c-18e3-4b48-9098-db0ce84c4132",
   "metadata": {},
   "outputs": [
    {
     "data": {
      "text/plain": [
       "tensor([[20,  1,  0]])"
      ]
     },
     "execution_count": 255,
     "metadata": {},
     "output_type": "execute_result"
    }
   ],
   "source": [
    "torch.tensor(context).reshape(1, 3)"
   ]
  },
  {
   "cell_type": "code",
   "execution_count": 256,
   "id": "52446d9c-d410-4d8d-b6ad-46df11577873",
   "metadata": {},
   "outputs": [
    {
     "data": {
      "text/plain": [
       "torch.Size([1, 3])"
      ]
     },
     "execution_count": 256,
     "metadata": {},
     "output_type": "execute_result"
    }
   ],
   "source": [
    "torch.tensor([context]).shape"
   ]
  },
  {
   "cell_type": "code",
   "execution_count": 257,
   "id": "3d91f9d2-e563-4405-bc7f-6d66bef2fda5",
   "metadata": {},
   "outputs": [],
   "source": [
    "e = torch.randn((4, 8, 10)) # >> (4, 4, 20)"
   ]
  },
  {
   "cell_type": "code",
   "execution_count": 258,
   "id": "23c0f11d-e015-42f3-b142-f409307038de",
   "metadata": {},
   "outputs": [
    {
     "data": {
      "text/plain": [
       "torch.Size([4, 4, 20])"
      ]
     },
     "execution_count": 258,
     "metadata": {},
     "output_type": "execute_result"
    }
   ],
   "source": [
    "e.view(-1, e.shape[-2] // 2, e.shape[-1] * 2).shape"
   ]
  },
  {
   "cell_type": "code",
   "execution_count": 259,
   "id": "4aa62b89-f3ec-4f2c-a4ef-e82e76ce30ad",
   "metadata": {},
   "outputs": [
    {
     "data": {
      "text/plain": [
       "(10, 200)"
      ]
     },
     "execution_count": 259,
     "metadata": {},
     "output_type": "execute_result"
    }
   ],
   "source": [
    "n_embed, n_hidden"
   ]
  },
  {
   "cell_type": "code",
   "execution_count": 260,
   "id": "374565a2-1f6b-4449-bbc6-37e9a6b15896",
   "metadata": {},
   "outputs": [
    {
     "name": "stdout",
     "output_type": "stream",
     "text": [
      "number of params: 171497\n"
     ]
    }
   ],
   "source": [
    "num_var = 2\n",
    "\n",
    "model = Sequential(\n",
    "        layers = [\n",
    "            Embedding(num_embeddings=vocab_size, embedding_dim=n_embed),\n",
    "            \n",
    "            FlattenConsequtive(num_var),\n",
    "            Linear(fan_in=num_var * n_embed, fan_out=n_hidden, bias=True),\n",
    "            BatchNorm1d(dim=n_hidden),\n",
    "            Tanh(),\n",
    "\n",
    "            FlattenConsequtive(num_var),\n",
    "            Linear(fan_in=num_var * n_hidden, fan_out=n_hidden, bias=True),\n",
    "            BatchNorm1d(dim=n_hidden),\n",
    "            Tanh(),\n",
    "\n",
    "            \n",
    "            FlattenConsequtive(num_var),\n",
    "            Linear(fan_in=num_var * n_hidden, fan_out=n_hidden, bias=True),\n",
    "            BatchNorm1d(dim=n_hidden),\n",
    "            Tanh(),\n",
    "\n",
    "            \n",
    "            Linear(fan_in=n_hidden, fan_out=vocab_size, bias=True),    \n",
    "        ]\n",
    ")\n",
    "\n",
    "parameters = model.parameters()\n",
    "print(\"number of params:\", sum([p.nelement() for p in parameters]))\n",
    "for p in parameters:\n",
    "    p.requires_grad = True"
   ]
  },
  {
   "cell_type": "code",
   "execution_count": 261,
   "id": "787d785d-12b9-4abe-b22a-c7709efb2230",
   "metadata": {},
   "outputs": [
    {
     "name": "stdout",
     "output_type": "stream",
     "text": [
      "Xb.shape = torch.Size([32, 8])\n",
      "Yb.shape = torch.Size([32])\n",
      "pred.shape = torch.Size([32, 27])\n"
     ]
    }
   ],
   "source": [
    "# mini-batch construct\n",
    "ix = torch.randperm(len_data)[:batch_size]\n",
    "# print(f\"{ix = }\")\n",
    "Xb, Yb = X_train[ix], Y_train[ix]\n",
    "print(f\"{Xb.shape = }\")\n",
    "print(f\"{Yb.shape = }\")\n",
    "pred  = model(Xb)\n",
    "print(f\"{pred.shape = }\")"
   ]
  },
  {
   "cell_type": "code",
   "execution_count": 262,
   "id": "0db77ea5-c452-4c6e-94ff-30e1739ae50f",
   "metadata": {},
   "outputs": [
    {
     "name": "stdout",
     "output_type": "stream",
     "text": [
      "Embedding : (32, 8, 10)\n",
      "FlattenConsequtive : (32, 4, 20)\n",
      "Linear : (32, 4, 200)\n",
      "BatchNorm1d : (32, 4, 200)\n",
      "Tanh : (32, 4, 200)\n",
      "FlattenConsequtive : (32, 2, 400)\n",
      "Linear : (32, 2, 200)\n",
      "BatchNorm1d : (32, 2, 200)\n",
      "Tanh : (32, 2, 200)\n",
      "FlattenConsequtive : (32, 400)\n",
      "Linear : (32, 200)\n",
      "BatchNorm1d : (32, 200)\n",
      "Tanh : (32, 200)\n",
      "Linear : (32, 27)\n"
     ]
    }
   ],
   "source": [
    "for layer in model.layers:\n",
    "    print(layer.__class__.__name__, \":\", tuple(layer.out.shape))"
   ]
  },
  {
   "cell_type": "code",
   "execution_count": 263,
   "id": "468850d6-0565-4ec8-8c8b-d273ba072462",
   "metadata": {},
   "outputs": [
    {
     "name": "stdout",
     "output_type": "stream",
     "text": [
      "   1000 /   50000; 2.3336\n",
      "   2000 /   50000; 2.2504\n",
      "   3000 /   50000; 1.8998\n",
      "   4000 /   50000; 2.0437\n",
      "   5000 /   50000; 2.1696\n",
      "   6000 /   50000; 2.0973\n",
      "   7000 /   50000; 2.9646\n",
      "   8000 /   50000; 2.0549\n",
      "   9000 /   50000; 2.1954\n",
      "  10000 /   50000; 2.3330\n",
      "  11000 /   50000; 2.1790\n",
      "  12000 /   50000; 2.0063\n",
      "  13000 /   50000; 2.2696\n",
      "  14000 /   50000; 2.0964\n",
      "  15000 /   50000; 1.8965\n",
      "  16000 /   50000; 1.9680\n",
      "  17000 /   50000; 1.9722\n",
      "  18000 /   50000; 2.2885\n",
      "  19000 /   50000; 2.1842\n",
      "  20000 /   50000; 2.3697\n",
      "  21000 /   50000; 2.4158\n",
      "  22000 /   50000; 1.9604\n",
      "  23000 /   50000; 2.2763\n",
      "  24000 /   50000; 2.2805\n",
      "  25000 /   50000; 1.9590\n",
      "  26000 /   50000; 1.8178\n",
      "  27000 /   50000; 2.0093\n",
      "  28000 /   50000; 1.7634\n",
      "  29000 /   50000; 2.2420\n",
      "  30000 /   50000; 1.9183\n",
      "  31000 /   50000; 1.7797\n",
      "  32000 /   50000; 2.3280\n",
      "  33000 /   50000; 2.4761\n",
      "  34000 /   50000; 1.8583\n",
      "  35000 /   50000; 1.7638\n",
      "  36000 /   50000; 1.8600\n",
      "  37000 /   50000; 2.1052\n",
      "  38000 /   50000; 2.0819\n",
      "  39000 /   50000; 2.1335\n",
      "  40000 /   50000; 1.8196\n",
      "  41000 /   50000; 1.9531\n",
      "  42000 /   50000; 1.9488\n",
      "  43000 /   50000; 1.9245\n",
      "  44000 /   50000; 1.7959\n",
      "  45000 /   50000; 2.3108\n",
      "  46000 /   50000; 2.1071\n",
      "  47000 /   50000; 1.7765\n",
      "  48000 /   50000; 1.8600\n",
      "  49000 /   50000; 1.7271\n",
      "  50000 /   50000; 2.0604\n"
     ]
    }
   ],
   "source": [
    "max_steps = 50_000\n",
    "batch_size = 32\n",
    "lossi = []\n",
    "\n",
    "for i in range(max_steps):\n",
    "    \n",
    "    # mini-batch construct\n",
    "    ix = torch.randperm(len_data)[:batch_size]\n",
    "    # print(f\"{ix = }\")\n",
    "    Xb, Yb = X_train[ix], Y_train[ix]\n",
    "\n",
    "    # forward pass\n",
    "    logits = model(Xb)    \n",
    "    loss = F.cross_entropy(logits, Yb)\n",
    "\n",
    "    # backward pass\n",
    "    for p in parameters:\n",
    "        p.grad = None\n",
    "\n",
    "    loss.backward()\n",
    "\n",
    "    # update rule: \n",
    "    lr = 0.1 if (i < max_steps * 0.5) else 0.01\n",
    "    for p in parameters:\n",
    "        p.data += - lr * p.grad\n",
    "\n",
    "    # stats\n",
    "    if (i + 1) % (max_steps // 50) == 0:\n",
    "        print(f\"{i + 1:7d} / {max_steps:7d}; {loss.item():.4f}\")\n",
    "        \n",
    "    # store loss\n",
    "    lossi.append(loss.detach().item())\n"
   ]
  },
  {
   "cell_type": "code",
   "execution_count": 264,
   "id": "d95227d7-b1b3-4ce1-9873-e764294491f8",
   "metadata": {},
   "outputs": [
    {
     "data": {
      "image/png": "[encoded data removed]",
      "text/plain": [
       "<Figure size 640x480 with 1 Axes>"
      ]
     },
     "metadata": {},
     "output_type": "display_data"
    }
   ],
   "source": [
    "plt.plot(lossi)\n",
    "plt.grid(True)"
   ]
  },
  {
   "cell_type": "code",
   "execution_count": 265,
   "id": "1a236615-78bd-4634-8d5b-059565deb0a7",
   "metadata": {},
   "outputs": [
    {
     "data": {
      "image/png": "[encoded data removed]",
      "text/plain": [
       "<Figure size 640x480 with 1 Axes>"
      ]
     },
     "metadata": {},
     "output_type": "display_data"
    }
   ],
   "source": [
    "plt.plot(\n",
    "    torch.FloatTensor(lossi[:max_steps]).view(-1, 1000).mean(dim=1)\n",
    ")\n",
    "plt.grid(True)"
   ]
  },
  {
   "cell_type": "code",
   "execution_count": 266,
   "id": "42e97435-1aa1-4161-9a10-8bff5b449dae",
   "metadata": {},
   "outputs": [
    {
     "name": "stdout",
     "output_type": "stream",
     "text": [
      "train: 1.9101569652557373\n",
      "val: 2.028693675994873\n",
      "test: 2.0027260780334473\n"
     ]
    }
   ],
   "source": [
    "for split in [\"train\", \"val\", \"test\"]:\n",
    "    print(f\"{split}: {split_eval(split, model)}\")"
   ]
  },
  {
   "cell_type": "code",
   "execution_count": null,
   "id": "e7324984-0a94-4aad-8cfc-f5fb726deb3f",
   "metadata": {},
   "outputs": [],
   "source": []
  }
 ],
 "metadata": {
  "kernelspec": {
   "display_name": "Python 3 (ipykernel)",
   "language": "python",
   "name": "python3"
  },
  "language_info": {
   "codemirror_mode": {
    "name": "ipython",
    "version": 3
   },
   "file_extension": ".py",
   "mimetype": "text/x-python",
   "name": "python",
   "nbconvert_exporter": "python",
   "pygments_lexer": "ipython3",
   "version": "3.11.7"
  }
 },
 "nbformat": 4,
 "nbformat_minor": 5
}
